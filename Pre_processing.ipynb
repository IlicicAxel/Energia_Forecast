{
 "cells": [
  {
   "cell_type": "code",
   "execution_count": 211,
   "id": "163976e6-f992-474d-8e3d-5d433b8dfc45",
   "metadata": {
    "tags": []
   },
   "outputs": [],
   "source": [
    "#Importar librerias\n",
    "import pandas as pd\n",
    "import seaborn as sns\n",
    "import numpy as np\n",
    "import matplotlib.pyplot as plt"
   ]
  },
  {
   "cell_type": "code",
   "execution_count": 212,
   "id": "051aacbd-28b5-4c92-bc3c-7013fe99d0de",
   "metadata": {},
   "outputs": [
    {
     "data": {
      "text/html": [
       "<div>\n",
       "<style scoped>\n",
       "    .dataframe tbody tr th:only-of-type {\n",
       "        vertical-align: middle;\n",
       "    }\n",
       "\n",
       "    .dataframe tbody tr th {\n",
       "        vertical-align: top;\n",
       "    }\n",
       "\n",
       "    .dataframe thead th {\n",
       "        text-align: right;\n",
       "    }\n",
       "</style>\n",
       "<table border=\"1\" class=\"dataframe\">\n",
       "  <thead>\n",
       "    <tr style=\"text-align: right;\">\n",
       "      <th></th>\n",
       "      <th>Hora</th>\n",
       "      <th>Tipo Dia</th>\n",
       "      <th>Ciudad Buenos Aires</th>\n",
       "      <th>Clima Ciudad Buenos Aires</th>\n",
       "      <th>Año</th>\n",
       "      <th>Mes</th>\n",
       "    </tr>\n",
       "    <tr>\n",
       "      <th>Fecha</th>\n",
       "      <th></th>\n",
       "      <th></th>\n",
       "      <th></th>\n",
       "      <th></th>\n",
       "      <th></th>\n",
       "      <th></th>\n",
       "    </tr>\n",
       "  </thead>\n",
       "  <tbody>\n",
       "    <tr>\n",
       "      <th>2018-01-01 00:00:00</th>\n",
       "      <td>0</td>\n",
       "      <td>1</td>\n",
       "      <td>1544.873</td>\n",
       "      <td>19.2</td>\n",
       "      <td>2018</td>\n",
       "      <td>1</td>\n",
       "    </tr>\n",
       "    <tr>\n",
       "      <th>2018-01-01 01:00:00</th>\n",
       "      <td>1</td>\n",
       "      <td>1</td>\n",
       "      <td>1425.868</td>\n",
       "      <td>18.6</td>\n",
       "      <td>2018</td>\n",
       "      <td>1</td>\n",
       "    </tr>\n",
       "    <tr>\n",
       "      <th>2018-01-01 02:00:00</th>\n",
       "      <td>2</td>\n",
       "      <td>1</td>\n",
       "      <td>1387.791</td>\n",
       "      <td>18.5</td>\n",
       "      <td>2018</td>\n",
       "      <td>1</td>\n",
       "    </tr>\n",
       "    <tr>\n",
       "      <th>2018-01-01 03:00:00</th>\n",
       "      <td>3</td>\n",
       "      <td>1</td>\n",
       "      <td>1327.708</td>\n",
       "      <td>17.9</td>\n",
       "      <td>2018</td>\n",
       "      <td>1</td>\n",
       "    </tr>\n",
       "    <tr>\n",
       "      <th>2018-01-01 04:00:00</th>\n",
       "      <td>4</td>\n",
       "      <td>1</td>\n",
       "      <td>1268.554</td>\n",
       "      <td>17.5</td>\n",
       "      <td>2018</td>\n",
       "      <td>1</td>\n",
       "    </tr>\n",
       "    <tr>\n",
       "      <th>...</th>\n",
       "      <td>...</td>\n",
       "      <td>...</td>\n",
       "      <td>...</td>\n",
       "      <td>...</td>\n",
       "      <td>...</td>\n",
       "      <td>...</td>\n",
       "    </tr>\n",
       "    <tr>\n",
       "      <th>2021-07-31 19:00:00</th>\n",
       "      <td>19</td>\n",
       "      <td>7</td>\n",
       "      <td>1993.628</td>\n",
       "      <td>11.6</td>\n",
       "      <td>2021</td>\n",
       "      <td>7</td>\n",
       "    </tr>\n",
       "    <tr>\n",
       "      <th>2021-07-31 20:00:00</th>\n",
       "      <td>20</td>\n",
       "      <td>7</td>\n",
       "      <td>2179.763</td>\n",
       "      <td>9.9</td>\n",
       "      <td>2021</td>\n",
       "      <td>7</td>\n",
       "    </tr>\n",
       "    <tr>\n",
       "      <th>2021-07-31 21:00:00</th>\n",
       "      <td>21</td>\n",
       "      <td>7</td>\n",
       "      <td>2185.000</td>\n",
       "      <td>9.0</td>\n",
       "      <td>2021</td>\n",
       "      <td>7</td>\n",
       "    </tr>\n",
       "    <tr>\n",
       "      <th>2021-07-31 22:00:00</th>\n",
       "      <td>22</td>\n",
       "      <td>7</td>\n",
       "      <td>2128.403</td>\n",
       "      <td>8.3</td>\n",
       "      <td>2021</td>\n",
       "      <td>7</td>\n",
       "    </tr>\n",
       "    <tr>\n",
       "      <th>2021-07-31 23:00:00</th>\n",
       "      <td>23</td>\n",
       "      <td>7</td>\n",
       "      <td>2061.354</td>\n",
       "      <td>7.9</td>\n",
       "      <td>2021</td>\n",
       "      <td>7</td>\n",
       "    </tr>\n",
       "  </tbody>\n",
       "</table>\n",
       "<p>31392 rows × 6 columns</p>\n",
       "</div>"
      ],
      "text/plain": [
       "                     Hora  Tipo Dia  Ciudad Buenos Aires  \\\n",
       "Fecha                                                      \n",
       "2018-01-01 00:00:00     0         1             1544.873   \n",
       "2018-01-01 01:00:00     1         1             1425.868   \n",
       "2018-01-01 02:00:00     2         1             1387.791   \n",
       "2018-01-01 03:00:00     3         1             1327.708   \n",
       "2018-01-01 04:00:00     4         1             1268.554   \n",
       "...                   ...       ...                  ...   \n",
       "2021-07-31 19:00:00    19         7             1993.628   \n",
       "2021-07-31 20:00:00    20         7             2179.763   \n",
       "2021-07-31 21:00:00    21         7             2185.000   \n",
       "2021-07-31 22:00:00    22         7             2128.403   \n",
       "2021-07-31 23:00:00    23         7             2061.354   \n",
       "\n",
       "                     Clima Ciudad Buenos Aires   Año  Mes  \n",
       "Fecha                                                      \n",
       "2018-01-01 00:00:00                       19.2  2018    1  \n",
       "2018-01-01 01:00:00                       18.6  2018    1  \n",
       "2018-01-01 02:00:00                       18.5  2018    1  \n",
       "2018-01-01 03:00:00                       17.9  2018    1  \n",
       "2018-01-01 04:00:00                       17.5  2018    1  \n",
       "...                                        ...   ...  ...  \n",
       "2021-07-31 19:00:00                       11.6  2021    7  \n",
       "2021-07-31 20:00:00                        9.9  2021    7  \n",
       "2021-07-31 21:00:00                        9.0  2021    7  \n",
       "2021-07-31 22:00:00                        8.3  2021    7  \n",
       "2021-07-31 23:00:00                        7.9  2021    7  \n",
       "\n",
       "[31392 rows x 6 columns]"
      ]
     },
     "execution_count": 212,
     "metadata": {},
     "output_type": "execute_result"
    }
   ],
   "source": [
    "df = pd.read_csv(\"BASE.csv\", header = 0, parse_dates = [0], index_col = 0, dayfirst=True)\n",
    "df = df.iloc[:,:4]\n",
    "df['Año'] = pd. DatetimeIndex(df.index).year\n",
    "df['Mes'] = pd. DatetimeIndex(df.index).month\n",
    "df"
   ]
  },
  {
   "cell_type": "code",
   "execution_count": 213,
   "id": "dea884cf-d14d-4561-8277-775fb729a794",
   "metadata": {
    "tags": []
   },
   "outputs": [
    {
     "data": {
      "text/html": [
       "<div>\n",
       "<style scoped>\n",
       "    .dataframe tbody tr th:only-of-type {\n",
       "        vertical-align: middle;\n",
       "    }\n",
       "\n",
       "    .dataframe tbody tr th {\n",
       "        vertical-align: top;\n",
       "    }\n",
       "\n",
       "    .dataframe thead th {\n",
       "        text-align: right;\n",
       "    }\n",
       "</style>\n",
       "<table border=\"1\" class=\"dataframe\">\n",
       "  <thead>\n",
       "    <tr style=\"text-align: right;\">\n",
       "      <th></th>\n",
       "      <th>Hora</th>\n",
       "      <th>Tipo Dia</th>\n",
       "      <th>Ciudad Buenos Aires</th>\n",
       "      <th>Clima Ciudad Buenos Aires</th>\n",
       "      <th>Año</th>\n",
       "      <th>Mes</th>\n",
       "    </tr>\n",
       "  </thead>\n",
       "  <tbody>\n",
       "    <tr>\n",
       "      <th>count</th>\n",
       "      <td>31392.000000</td>\n",
       "      <td>31392.000000</td>\n",
       "      <td>31392.000000</td>\n",
       "      <td>31291.000000</td>\n",
       "      <td>31392.000000</td>\n",
       "      <td>31392.000000</td>\n",
       "    </tr>\n",
       "    <tr>\n",
       "      <th>mean</th>\n",
       "      <td>11.500000</td>\n",
       "      <td>3.902905</td>\n",
       "      <td>1711.380114</td>\n",
       "      <td>18.515474</td>\n",
       "      <td>2019.324924</td>\n",
       "      <td>6.116208</td>\n",
       "    </tr>\n",
       "    <tr>\n",
       "      <th>std</th>\n",
       "      <td>6.922297</td>\n",
       "      <td>2.068559</td>\n",
       "      <td>239.908452</td>\n",
       "      <td>6.414347</td>\n",
       "      <td>1.049593</td>\n",
       "      <td>3.386745</td>\n",
       "    </tr>\n",
       "    <tr>\n",
       "      <th>min</th>\n",
       "      <td>0.000000</td>\n",
       "      <td>1.000000</td>\n",
       "      <td>35.574000</td>\n",
       "      <td>0.000000</td>\n",
       "      <td>2018.000000</td>\n",
       "      <td>1.000000</td>\n",
       "    </tr>\n",
       "    <tr>\n",
       "      <th>25%</th>\n",
       "      <td>5.750000</td>\n",
       "      <td>2.000000</td>\n",
       "      <td>1542.132500</td>\n",
       "      <td>13.700000</td>\n",
       "      <td>2018.000000</td>\n",
       "      <td>3.000000</td>\n",
       "    </tr>\n",
       "    <tr>\n",
       "      <th>50%</th>\n",
       "      <td>11.500000</td>\n",
       "      <td>4.000000</td>\n",
       "      <td>1702.990000</td>\n",
       "      <td>18.600000</td>\n",
       "      <td>2019.000000</td>\n",
       "      <td>6.000000</td>\n",
       "    </tr>\n",
       "    <tr>\n",
       "      <th>75%</th>\n",
       "      <td>17.250000</td>\n",
       "      <td>6.000000</td>\n",
       "      <td>1868.775000</td>\n",
       "      <td>23.200000</td>\n",
       "      <td>2020.000000</td>\n",
       "      <td>9.000000</td>\n",
       "    </tr>\n",
       "    <tr>\n",
       "      <th>max</th>\n",
       "      <td>23.000000</td>\n",
       "      <td>7.000000</td>\n",
       "      <td>2591.461000</td>\n",
       "      <td>37.800000</td>\n",
       "      <td>2021.000000</td>\n",
       "      <td>12.000000</td>\n",
       "    </tr>\n",
       "  </tbody>\n",
       "</table>\n",
       "</div>"
      ],
      "text/plain": [
       "               Hora      Tipo Dia  Ciudad Buenos Aires  \\\n",
       "count  31392.000000  31392.000000         31392.000000   \n",
       "mean      11.500000      3.902905          1711.380114   \n",
       "std        6.922297      2.068559           239.908452   \n",
       "min        0.000000      1.000000            35.574000   \n",
       "25%        5.750000      2.000000          1542.132500   \n",
       "50%       11.500000      4.000000          1702.990000   \n",
       "75%       17.250000      6.000000          1868.775000   \n",
       "max       23.000000      7.000000          2591.461000   \n",
       "\n",
       "       Clima Ciudad Buenos Aires           Año           Mes  \n",
       "count               31291.000000  31392.000000  31392.000000  \n",
       "mean                   18.515474   2019.324924      6.116208  \n",
       "std                     6.414347      1.049593      3.386745  \n",
       "min                     0.000000   2018.000000      1.000000  \n",
       "25%                    13.700000   2018.000000      3.000000  \n",
       "50%                    18.600000   2019.000000      6.000000  \n",
       "75%                    23.200000   2020.000000      9.000000  \n",
       "max                    37.800000   2021.000000     12.000000  "
      ]
     },
     "execution_count": 213,
     "metadata": {},
     "output_type": "execute_result"
    }
   ],
   "source": [
    "df.describe()"
   ]
  },
  {
   "cell_type": "code",
   "execution_count": null,
   "id": "ceb60684-450b-4643-84f4-0244b47d9197",
   "metadata": {
    "tags": []
   },
   "outputs": [],
   "source": [
    "#Graficos de boxplot\n",
    "for column in df.columns[2:]:\n",
    "    plt.figure()\n",
    "    sns.boxplot(data=df[column], palette=\"Set2\").set_title(column)"
   ]
  },
  {
   "cell_type": "code",
   "execution_count": 214,
   "id": "299be5b5-d32a-438d-bf55-166b2a0cdee2",
   "metadata": {
    "tags": []
   },
   "outputs": [
    {
     "name": "stdout",
     "output_type": "stream",
     "text": [
      "Hora                          11.5000\n",
      "Tipo Dia                       4.0000\n",
      "Ciudad Buenos Aires          326.6425\n",
      "Clima Ciudad Buenos Aires      9.5000\n",
      "Año                            2.0000\n",
      "Mes                            6.0000\n",
      "dtype: float64\n"
     ]
    }
   ],
   "source": [
    "#Calculo del rango intercuartil\n",
    "Q1 = df.quantile(0.25)\n",
    "Q3 = df.quantile(0.75)\n",
    "IQR = Q3 - Q1\n",
    "print(IQR)"
   ]
  },
  {
   "cell_type": "code",
   "execution_count": 215,
   "id": "31bb5f00-9e1a-4892-8f77-1b02b9cf2493",
   "metadata": {
    "tags": []
   },
   "outputs": [
    {
     "name": "stdout",
     "output_type": "stream",
     "text": [
      "<class 'pandas.core.frame.DataFrame'>\n",
      "DatetimeIndex: 31392 entries, 2018-01-01 00:00:00 to 2021-07-31 23:00:00\n",
      "Data columns (total 6 columns):\n",
      " #   Column                     Non-Null Count  Dtype  \n",
      "---  ------                     --------------  -----  \n",
      " 0   Hora                       31392 non-null  int64  \n",
      " 1   Tipo Dia                   31392 non-null  int64  \n",
      " 2   Ciudad Buenos Aires        31200 non-null  float64\n",
      " 3   Clima Ciudad Buenos Aires  31289 non-null  float64\n",
      " 4   Año                        31392 non-null  int64  \n",
      " 5   Mes                        31392 non-null  int64  \n",
      "dtypes: float64(2), int64(4)\n",
      "memory usage: 1.7 MB\n"
     ]
    }
   ],
   "source": [
    "#Reemplazar outliers con NaN utilizando el IQR\n",
    "\n",
    "df = df.mask((df < (Q1 - 1.5 * IQR)) | (df > (Q3 + 1.5 * IQR)), np.nan)\n",
    "df.info()"
   ]
  },
  {
   "cell_type": "code",
   "execution_count": 216,
   "id": "cb0cdbdf-d755-4728-855f-4f41831a5b8f",
   "metadata": {
    "tags": []
   },
   "outputs": [
    {
     "name": "stdout",
     "output_type": "stream",
     "text": [
      "<class 'pandas.core.frame.DataFrame'>\n",
      "DatetimeIndex: 31392 entries, 2018-01-01 00:00:00 to 2021-07-31 23:00:00\n",
      "Data columns (total 6 columns):\n",
      " #   Column                     Non-Null Count  Dtype  \n",
      "---  ------                     --------------  -----  \n",
      " 0   Hora                       31392 non-null  int64  \n",
      " 1   Tipo Dia                   31392 non-null  int64  \n",
      " 2   Ciudad Buenos Aires        31392 non-null  float64\n",
      " 3   Clima Ciudad Buenos Aires  31392 non-null  float64\n",
      " 4   Año                        31392 non-null  int64  \n",
      " 5   Mes                        31392 non-null  int64  \n",
      "dtypes: float64(2), int64(4)\n",
      "memory usage: 1.7 MB\n"
     ]
    }
   ],
   "source": [
    "#Interpolar linealmente los valores NaN\n",
    "df = df.interpolate(method=\"linear\", limit_direction ='forward')\n",
    "df.info()"
   ]
  },
  {
   "cell_type": "code",
   "execution_count": 217,
   "id": "adca3bfb-d21d-408d-b8fd-449b1e189dfd",
   "metadata": {},
   "outputs": [
    {
     "data": {
      "image/png": "[encoded data removed]",
      "text/plain": [
       "<Figure size 432x288 with 1 Axes>"
      ]
     },
     "metadata": {
      "needs_background": "light"
     },
     "output_type": "display_data"
    },
    {
     "data": {
      "image/png": "[encoded data removed]",
      "text/plain": [
       "<Figure size 432x288 with 1 Axes>"
      ]
     },
     "metadata": {
      "needs_background": "light"
     },
     "output_type": "display_data"
    },
    {
     "data": {
      "image/png": "[encoded data removed]",
      "text/plain": [
       "<Figure size 432x288 with 1 Axes>"
      ]
     },
     "metadata": {
      "needs_background": "light"
     },
     "output_type": "display_data"
    },
    {
     "data": {
      "image/png": "[encoded data removed]",
      "text/plain": [
       "<Figure size 432x288 with 1 Axes>"
      ]
     },
     "metadata": {
      "needs_background": "light"
     },
     "output_type": "display_data"
    }
   ],
   "source": [
    "#Graficos de boxplot para comprobar que removi los outliers\n",
    "for column in df.columns[2:]:\n",
    "    plt.figure()\n",
    "    sns.boxplot(data=df[column], palette=\"Set2\").set_title(column)"
   ]
  },
  {
   "cell_type": "code",
   "execution_count": null,
   "id": "579b1cdc-30fa-4cbe-95ce-f4d5634f13c5",
   "metadata": {},
   "outputs": [],
   "source": []
  },
  {
   "cell_type": "code",
   "execution_count": 241,
   "id": "4c5c0698-5a85-4b33-b25d-9afca2db23d4",
   "metadata": {},
   "outputs": [
    {
     "data": {
      "image/png": "[encoded data removed]",
      "text/plain": [
       "<Figure size 864x504 with 1 Axes>"
      ]
     },
     "metadata": {
      "needs_background": "light"
     },
     "output_type": "display_data"
    }
   ],
   "source": [
    "\n",
    "df1 = df.loc[(df['Mes'] < 8) & (df['Mes'] > 6) ]\n",
    "for año in df1['Año'].unique():\n",
    "    df1[df1['Año'] == año]['Ciudad Buenos Aires'].plot(kind='density', figsize = (12,7), legend = True, label = año)\n",
    "    _ = plt.xlabel('Consumo de energia en MWH')\n",
    "    _ = plt.title('Variación en la distribucion del consumo de energia para el periodo 2018 - 2021')"
   ]
  },
  {
   "cell_type": "code",
   "execution_count": null,
   "id": "febda279-bf53-4f3c-9dbf-c10918630aaf",
   "metadata": {},
   "outputs": [],
   "source": [
    "#Exportar csv sin outliers\n",
    "df.to_csv(\"BASEo.csv\")"
   ]
  }
 ],
 "metadata": {
  "kernelspec": {
   "display_name": "Python 3",
   "language": "python",
   "name": "python3"
  },
  "language_info": {
   "codemirror_mode": {
    "name": "ipython",
    "version": 3
   },
   "file_extension": ".py",
   "mimetype": "text/x-python",
   "name": "python",
   "nbconvert_exporter": "python",
   "pygments_lexer": "ipython3",
   "version": "3.9.6"
  }
 },
 "nbformat": 4,
 "nbformat_minor": 5
}
