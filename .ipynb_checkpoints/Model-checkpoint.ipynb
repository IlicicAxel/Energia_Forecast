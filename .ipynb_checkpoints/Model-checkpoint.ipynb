{
 "cells": [
  {
   "cell_type": "code",
   "execution_count": 1,
   "metadata": {
    "colab": {
     "base_uri": "https://localhost:8080/"
    },
    "executionInfo": {
     "elapsed": 4204,
     "status": "ok",
     "timestamp": 1632074911079,
     "user": {
      "displayName": "Axel Ilicic",
      "photoUrl": "https://lh3.googleusercontent.com/a-/AOh14GhNtGq_FUazZvxgoyeY-OtOQpRTr-L-HY307XH3_0k=s64",
      "userId": "13005703852540572389"
     },
     "user_tz": 180
    },
    "id": "kdklSaC6NMMd",
    "outputId": "e5ec3911-1e1f-4778-a314-7dc8ee393a0f"
   },
   "outputs": [
    {
     "name": "stdout",
     "output_type": "stream",
     "text": [
      "Collecting autots\n",
      "  Downloading AutoTS-0.3.6-py3-none-any.whl (415 kB)\n",
      "Requirement already satisfied: numpy>=1.14.6 in c:\\users\\catalina\\appdata\\local\\programs\\python\\python39\\lib\\site-packages (from autots) (1.19.5)\n",
      "Requirement already satisfied: pandas>=0.25.* in c:\\users\\catalina\\appdata\\local\\programs\\python\\python39\\lib\\site-packages (from autots) (1.2.4)\n",
      "Requirement already satisfied: scikit-learn>=0.20.* in c:\\users\\catalina\\appdata\\local\\programs\\python\\python39\\lib\\site-packages (from autots) (0.24.2)\n",
      "Collecting statsmodels>=0.10.*\n",
      "  Downloading statsmodels-0.13.0rc0-cp39-none-win_amd64.whl (9.4 MB)\n",
      "Requirement already satisfied: python-dateutil>=2.7.3 in c:\\users\\catalina\\appdata\\local\\programs\\python\\python39\\lib\\site-packages (from pandas>=0.25.*->autots) (2.8.1)\n",
      "Requirement already satisfied: pytz>=2017.3 in c:\\users\\catalina\\appdata\\local\\programs\\python\\python39\\lib\\site-packages (from pandas>=0.25.*->autots) (2021.1)\n",
      "Requirement already satisfied: six>=1.5 in c:\\users\\catalina\\appdata\\local\\programs\\python\\python39\\lib\\site-packages (from python-dateutil>=2.7.3->pandas>=0.25.*->autots) (1.15.0)\n",
      "Requirement already satisfied: scipy>=0.19.1 in c:\\users\\catalina\\appdata\\local\\programs\\python\\python39\\lib\\site-packages (from scikit-learn>=0.20.*->autots) (1.6.3)\n",
      "Requirement already satisfied: joblib>=0.11 in c:\\users\\catalina\\appdata\\local\\programs\\python\\python39\\lib\\site-packages (from scikit-learn>=0.20.*->autots) (1.0.1)\n",
      "Requirement already satisfied: threadpoolctl>=2.0.0 in c:\\users\\catalina\\appdata\\local\\programs\\python\\python39\\lib\\site-packages (from scikit-learn>=0.20.*->autots) (2.1.0)\n",
      "Collecting patsy>=0.5.1\n",
      "  Downloading patsy-0.5.1-py2.py3-none-any.whl (231 kB)\n",
      "Installing collected packages: patsy, statsmodels, autots\n",
      "Successfully installed autots-0.3.6 patsy-0.5.1 statsmodels-0.13.0rc0\n",
      "Note: you may need to restart the kernel to use updated packages.\n"
     ]
    },
    {
     "name": "stderr",
     "output_type": "stream",
     "text": [
      "WARNING: You are using pip version 21.1.2; however, version 21.2.4 is available.\n",
      "You should consider upgrading via the 'c:\\users\\catalina\\appdata\\local\\programs\\python\\python39\\python.exe -m pip install --upgrade pip' command.\n"
     ]
    }
   ],
   "source": [
    "                                                                                        "
   ]
  },
  {
   "cell_type": "code",
   "execution_count": 92,
   "metadata": {
    "colab": {
     "base_uri": "https://localhost:8080/",
     "height": 287
    },
    "executionInfo": {
     "elapsed": 5206,
     "status": "ok",
     "timestamp": 1632074917479,
     "user": {
      "displayName": "Axel Ilicic",
      "photoUrl": "https://lh3.googleusercontent.com/a-/AOh14GhNtGq_FUazZvxgoyeY-OtOQpRTr-L-HY307XH3_0k=s64",
      "userId": "13005703852540572389"
     },
     "user_tz": 180
    },
    "id": "zxwKCpKePgsN",
    "outputId": "d1539398-4958-49b6-99d0-98b45c721ead"
   },
   "outputs": [
    {
     "data": {
      "text/html": [
       "<div>\n",
       "<style scoped>\n",
       "    .dataframe tbody tr th:only-of-type {\n",
       "        vertical-align: middle;\n",
       "    }\n",
       "\n",
       "    .dataframe tbody tr th {\n",
       "        vertical-align: top;\n",
       "    }\n",
       "\n",
       "    .dataframe thead th {\n",
       "        text-align: right;\n",
       "    }\n",
       "</style>\n",
       "<table border=\"1\" class=\"dataframe\">\n",
       "  <thead>\n",
       "    <tr style=\"text-align: right;\">\n",
       "      <th></th>\n",
       "      <th>Tipo</th>\n",
       "      <th>Consumo</th>\n",
       "      <th>Temperatura</th>\n",
       "    </tr>\n",
       "    <tr>\n",
       "      <th>Fecha</th>\n",
       "      <th></th>\n",
       "      <th></th>\n",
       "      <th></th>\n",
       "    </tr>\n",
       "  </thead>\n",
       "  <tbody>\n",
       "    <tr>\n",
       "      <th>2021-07-31 19:00:00</th>\n",
       "      <td>7</td>\n",
       "      <td>1993.628</td>\n",
       "      <td>11.6</td>\n",
       "    </tr>\n",
       "    <tr>\n",
       "      <th>2021-07-31 20:00:00</th>\n",
       "      <td>7</td>\n",
       "      <td>2179.763</td>\n",
       "      <td>9.9</td>\n",
       "    </tr>\n",
       "    <tr>\n",
       "      <th>2021-07-31 21:00:00</th>\n",
       "      <td>7</td>\n",
       "      <td>2185.000</td>\n",
       "      <td>9.0</td>\n",
       "    </tr>\n",
       "    <tr>\n",
       "      <th>2021-07-31 22:00:00</th>\n",
       "      <td>7</td>\n",
       "      <td>2128.403</td>\n",
       "      <td>8.3</td>\n",
       "    </tr>\n",
       "    <tr>\n",
       "      <th>2021-07-31 23:00:00</th>\n",
       "      <td>7</td>\n",
       "      <td>2061.354</td>\n",
       "      <td>7.9</td>\n",
       "    </tr>\n",
       "  </tbody>\n",
       "</table>\n",
       "</div>"
      ],
      "text/plain": [
       "                     Tipo   Consumo  Temperatura\n",
       "Fecha                                           \n",
       "2021-07-31 19:00:00     7  1993.628         11.6\n",
       "2021-07-31 20:00:00     7  2179.763          9.9\n",
       "2021-07-31 21:00:00     7  2185.000          9.0\n",
       "2021-07-31 22:00:00     7  2128.403          8.3\n",
       "2021-07-31 23:00:00     7  2061.354          7.9"
      ]
     },
     "execution_count": 92,
     "metadata": {},
     "output_type": "execute_result"
    }
   ],
   "source": [
    "from autots import AutoTS\n",
    "import pandas as pd\n",
    "import matplotlib.pyplot as plt\n",
    "\n",
    "long=False\n",
    "df_wide = pd.read_csv(\"BSASok.csv\", index_col=0, parse_dates=True, dayfirst=True)\n",
    "df_wide.tail()"
   ]
  },
  {
   "cell_type": "code",
   "execution_count": 93,
   "metadata": {
    "colab": {
     "base_uri": "https://localhost:8080/",
     "height": 234
    },
    "executionInfo": {
     "elapsed": 211,
     "status": "ok",
     "timestamp": 1632074920959,
     "user": {
      "displayName": "Axel Ilicic",
      "photoUrl": "https://lh3.googleusercontent.com/a-/AOh14GhNtGq_FUazZvxgoyeY-OtOQpRTr-L-HY307XH3_0k=s64",
      "userId": "13005703852540572389"
     },
     "user_tz": 180
    },
    "id": "-nGcJeBU6YYW",
    "outputId": "65be1853-ba95-4ee1-8cce-a619e8d2af2d"
   },
   "outputs": [
    {
     "data": {
      "text/html": [
       "<div>\n",
       "<style scoped>\n",
       "    .dataframe tbody tr th:only-of-type {\n",
       "        vertical-align: middle;\n",
       "    }\n",
       "\n",
       "    .dataframe tbody tr th {\n",
       "        vertical-align: top;\n",
       "    }\n",
       "\n",
       "    .dataframe thead th {\n",
       "        text-align: right;\n",
       "    }\n",
       "</style>\n",
       "<table border=\"1\" class=\"dataframe\">\n",
       "  <thead>\n",
       "    <tr style=\"text-align: right;\">\n",
       "      <th></th>\n",
       "      <th>Tipo</th>\n",
       "      <th>Consumo</th>\n",
       "      <th>Temperatura</th>\n",
       "    </tr>\n",
       "    <tr>\n",
       "      <th>Fecha</th>\n",
       "      <th></th>\n",
       "      <th></th>\n",
       "      <th></th>\n",
       "    </tr>\n",
       "  </thead>\n",
       "  <tbody>\n",
       "    <tr>\n",
       "      <th>2021-07-30 20:00:00</th>\n",
       "      <td>6</td>\n",
       "      <td>2334.596</td>\n",
       "      <td>13.0</td>\n",
       "    </tr>\n",
       "    <tr>\n",
       "      <th>2021-07-30 21:00:00</th>\n",
       "      <td>6</td>\n",
       "      <td>2359.873</td>\n",
       "      <td>12.8</td>\n",
       "    </tr>\n",
       "    <tr>\n",
       "      <th>2021-07-30 22:00:00</th>\n",
       "      <td>6</td>\n",
       "      <td>2312.078</td>\n",
       "      <td>12.3</td>\n",
       "    </tr>\n",
       "    <tr>\n",
       "      <th>2021-07-30 23:00:00</th>\n",
       "      <td>6</td>\n",
       "      <td>2225.528</td>\n",
       "      <td>11.8</td>\n",
       "    </tr>\n",
       "    <tr>\n",
       "      <th>2021-07-31 00:00:00</th>\n",
       "      <td>7</td>\n",
       "      <td>2148.515</td>\n",
       "      <td>11.2</td>\n",
       "    </tr>\n",
       "  </tbody>\n",
       "</table>\n",
       "</div>"
      ],
      "text/plain": [
       "                     Tipo   Consumo  Temperatura\n",
       "Fecha                                           \n",
       "2021-07-30 20:00:00     6  2334.596         13.0\n",
       "2021-07-30 21:00:00     6  2359.873         12.8\n",
       "2021-07-30 22:00:00     6  2312.078         12.3\n",
       "2021-07-30 23:00:00     6  2225.528         11.8\n",
       "2021-07-31 00:00:00     7  2148.515         11.2"
      ]
     },
     "execution_count": 93,
     "metadata": {},
     "output_type": "execute_result"
    }
   ],
   "source": [
    "train = df_wide.iloc[:32233]\n",
    "test = df_wide.iloc[len(train):]\n",
    "train.tail()"
   ]
  },
  {
   "cell_type": "code",
   "execution_count": 94,
   "metadata": {},
   "outputs": [],
   "source": [
    "import gluonts"
   ]
  },
  {
   "cell_type": "code",
   "execution_count": null,
   "metadata": {},
   "outputs": [],
   "source": []
  },
  {
   "cell_type": "code",
   "execution_count": 96,
   "metadata": {
    "colab": {
     "base_uri": "https://localhost:8080/"
    },
    "id": "wHOunRFCVyF3",
    "outputId": "748bc64b-1330-40ef-d6b2-b3c7fe562e73",
    "tags": []
   },
   "outputs": [
    {
     "name": "stdout",
     "output_type": "stream",
     "text": [
      "Model Number: 1 with model AverageValueNaive in generation 0 of 2\n",
      "Model Number: 2 with model AverageValueNaive in generation 0 of 2\n",
      "Model Number: 3 with model AverageValueNaive in generation 0 of 2\n",
      "Model Number: 4 with model DatepartRegression in generation 0 of 2\n",
      "Model Number: 5 with model DatepartRegression in generation 0 of 2\n"
     ]
    },
    {
     "name": "stderr",
     "output_type": "stream",
     "text": [
      "c:\\users\\catalina\\appdata\\local\\programs\\python\\python39\\lib\\site-packages\\sklearn\\svm\\_base.py:985: ConvergenceWarning:\n",
      "\n",
      "Liblinear failed to converge, increase the number of iterations.\n",
      "\n",
      "c:\\users\\catalina\\appdata\\local\\programs\\python\\python39\\lib\\site-packages\\sklearn\\svm\\_base.py:985: ConvergenceWarning:\n",
      "\n",
      "Liblinear failed to converge, increase the number of iterations.\n",
      "\n",
      "c:\\users\\catalina\\appdata\\local\\programs\\python\\python39\\lib\\site-packages\\sklearn\\svm\\_base.py:985: ConvergenceWarning:\n",
      "\n",
      "Liblinear failed to converge, increase the number of iterations.\n",
      "\n"
     ]
    },
    {
     "name": "stdout",
     "output_type": "stream",
     "text": [
      "Model Number: 6 with model DatepartRegression in generation 0 of 2\n"
     ]
    },
    {
     "name": "stderr",
     "output_type": "stream",
     "text": [
      "c:\\users\\catalina\\appdata\\local\\programs\\python\\python39\\lib\\site-packages\\sklearn\\neural_network\\_multilayer_perceptron.py:500: ConvergenceWarning:\n",
      "\n",
      "lbfgs failed to converge (status=1):\n",
      "STOP: TOTAL NO. of ITERATIONS REACHED LIMIT.\n",
      "\n",
      "Increase the number of iterations (max_iter) or scale the data as shown in:\n",
      "    https://scikit-learn.org/stable/modules/preprocessing.html\n",
      "\n"
     ]
    },
    {
     "name": "stdout",
     "output_type": "stream",
     "text": [
      "Model Number: 7 with model DatepartRegression in generation 0 of 2\n",
      "Epoch 1/50\n",
      "1007/1007 [==============================] - 7s 2ms/step - loss: 0.3119\n",
      "Epoch 2/50\n",
      "1007/1007 [==============================] - 2s 2ms/step - loss: 0.2541\n",
      "Epoch 3/50\n",
      "1007/1007 [==============================] - 2s 2ms/step - loss: 0.1965\n",
      "Epoch 4/50\n",
      "1007/1007 [==============================] - 2s 2ms/step - loss: 0.1662\n",
      "Epoch 5/50\n",
      "1007/1007 [==============================] - 2s 2ms/step - loss: 0.1559\n",
      "Epoch 6/50\n",
      "1007/1007 [==============================] - 2s 2ms/step - loss: 0.1490\n",
      "Epoch 7/50\n",
      "1007/1007 [==============================] - 2s 2ms/step - loss: 0.1448\n",
      "Epoch 8/50\n",
      "1007/1007 [==============================] - 2s 2ms/step - loss: 0.1426\n",
      "Epoch 9/50\n",
      "1007/1007 [==============================] - 2s 2ms/step - loss: 0.1402\n",
      "Epoch 10/50\n",
      "1007/1007 [==============================] - 2s 2ms/step - loss: 0.1400\n",
      "Epoch 11/50\n",
      "1007/1007 [==============================] - 2s 2ms/step - loss: 0.1374\n",
      "Epoch 12/50\n",
      "1007/1007 [==============================] - 2s 2ms/step - loss: 0.1372\n",
      "Epoch 13/50\n",
      "1007/1007 [==============================] - 2s 2ms/step - loss: 0.1360\n",
      "Epoch 14/50\n",
      "1007/1007 [==============================] - 2s 2ms/step - loss: 0.1353\n",
      "Epoch 15/50\n",
      "1007/1007 [==============================] - 2s 2ms/step - loss: 0.1343\n",
      "Epoch 16/50\n",
      "1007/1007 [==============================] - 2s 2ms/step - loss: 0.1339\n",
      "Epoch 17/50\n",
      "1007/1007 [==============================] - 2s 2ms/step - loss: 0.1325\n",
      "Epoch 18/50\n",
      "1007/1007 [==============================] - 2s 2ms/step - loss: 0.1319\n",
      "Epoch 19/50\n",
      "1007/1007 [==============================] - 2s 2ms/step - loss: 0.1311\n",
      "Epoch 20/50\n",
      "1007/1007 [==============================] - 2s 2ms/step - loss: 0.1299\n",
      "Epoch 21/50\n",
      "1007/1007 [==============================] - 2s 2ms/step - loss: 0.1296\n",
      "Epoch 22/50\n",
      "1007/1007 [==============================] - 2s 2ms/step - loss: 0.1293\n",
      "Epoch 23/50\n",
      "1007/1007 [==============================] - 2s 2ms/step - loss: 0.1284\n",
      "Epoch 24/50\n",
      "1007/1007 [==============================] - 2s 2ms/step - loss: 0.1281\n",
      "Epoch 25/50\n",
      "1007/1007 [==============================] - 2s 2ms/step - loss: 0.1269\n",
      "Epoch 26/50\n",
      "1007/1007 [==============================] - 2s 2ms/step - loss: 0.1278\n",
      "Epoch 27/50\n",
      "1007/1007 [==============================] - 2s 2ms/step - loss: 0.1273\n",
      "Epoch 28/50\n",
      "1007/1007 [==============================] - 2s 2ms/step - loss: 0.1271\n",
      "Epoch 29/50\n",
      "1007/1007 [==============================] - 2s 2ms/step - loss: 0.1281\n",
      "Epoch 30/50\n",
      "1007/1007 [==============================] - 2s 2ms/step - loss: 0.1252\n",
      "Epoch 31/50\n",
      "1007/1007 [==============================] - 2s 2ms/step - loss: 0.1259\n",
      "Epoch 32/50\n",
      "1007/1007 [==============================] - 2s 2ms/step - loss: 0.1245\n",
      "Epoch 33/50\n",
      "1007/1007 [==============================] - 2s 2ms/step - loss: 0.1248\n",
      "Epoch 34/50\n",
      "1007/1007 [==============================] - 2s 2ms/step - loss: 0.1239\n",
      "Epoch 35/50\n",
      "1007/1007 [==============================] - 2s 2ms/step - loss: 0.1245\n",
      "Epoch 36/50\n",
      "1007/1007 [==============================] - 2s 2ms/step - loss: 0.1262\n",
      "Epoch 37/50\n",
      "1007/1007 [==============================] - 2s 2ms/step - loss: 0.1238\n",
      "Epoch 38/50\n",
      "1007/1007 [==============================] - 2s 2ms/step - loss: 0.1237\n",
      "Epoch 39/50\n",
      "1007/1007 [==============================] - 2s 2ms/step - loss: 0.1249\n",
      "Epoch 40/50\n",
      "1007/1007 [==============================] - 2s 2ms/step - loss: 0.1232\n",
      "Epoch 41/50\n",
      "1007/1007 [==============================] - 2s 2ms/step - loss: 0.1227\n",
      "Epoch 42/50\n",
      "1007/1007 [==============================] - 2s 2ms/step - loss: 0.1264\n",
      "Epoch 43/50\n",
      "1007/1007 [==============================] - 2s 2ms/step - loss: 0.1241\n",
      "Epoch 44/50\n",
      "1007/1007 [==============================] - 2s 2ms/step - loss: 0.1217\n",
      "Epoch 45/50\n",
      "1007/1007 [==============================] - 2s 2ms/step - loss: 0.1219\n",
      "Epoch 46/50\n",
      "1007/1007 [==============================] - 2s 2ms/step - loss: 0.1220\n",
      "Epoch 47/50\n",
      "1007/1007 [==============================] - 2s 2ms/step - loss: 0.1232\n",
      "Epoch 48/50\n",
      "1007/1007 [==============================] - 2s 2ms/step - loss: 0.1208\n",
      "Epoch 49/50\n",
      "1007/1007 [==============================] - 2s 2ms/step - loss: 0.1211\n",
      "Epoch 50/50\n",
      "1007/1007 [==============================] - 2s 2ms/step - loss: 0.1215\n",
      "Model Number: 8 with model ETS in generation 0 of 2\n",
      "Model Number: 9 with model ETS in generation 0 of 2\n"
     ]
    },
    {
     "name": "stderr",
     "output_type": "stream",
     "text": [
      "c:\\users\\catalina\\appdata\\local\\programs\\python\\python39\\lib\\site-packages\\statsmodels\\tsa\\holtwinters\\model.py:915: ConvergenceWarning:\n",
      "\n",
      "Optimization failed to converge. Check mle_retvals.\n",
      "\n"
     ]
    },
    {
     "name": "stdout",
     "output_type": "stream",
     "text": [
      "Model Number: 10 with model GLM in generation 0 of 2\n",
      "Model Number: 11 with model GLM in generation 0 of 2\n",
      "Model Number: 12 with model GLS in generation 0 of 2\n",
      "Model Number: 13 with model GLS in generation 0 of 2\n",
      "Model Number: 14 with model GluonTS in generation 0 of 2\n",
      "Template Eval Error: ImportError('GluonTS installation not found or installed version is incompatible with AutoTS.') in model 14: GluonTS\n",
      "Model Number: 15 with model GluonTS in generation 0 of 2\n",
      "Template Eval Error: ImportError('GluonTS installation not found or installed version is incompatible with AutoTS.') in model 15: GluonTS\n",
      "Model Number: 16 with model GluonTS in generation 0 of 2\n",
      "Template Eval Error: ImportError('GluonTS installation not found or installed version is incompatible with AutoTS.') in model 16: GluonTS\n",
      "Model Number: 17 with model GluonTS in generation 0 of 2\n",
      "Template Eval Error: ImportError('GluonTS installation not found or installed version is incompatible with AutoTS.') in model 17: GluonTS\n",
      "Model Number: 18 with model GluonTS in generation 0 of 2\n",
      "Template Eval Error: ImportError('GluonTS installation not found or installed version is incompatible with AutoTS.') in model 18: GluonTS\n",
      "Model Number: 19 with model GluonTS in generation 0 of 2\n",
      "Template Eval Error: ImportError('GluonTS installation not found or installed version is incompatible with AutoTS.') in model 19: GluonTS\n",
      "Model Number: 20 with model LastValueNaive in generation 0 of 2\n",
      "Model Number: 21 with model LastValueNaive in generation 0 of 2\n",
      "Model Number: 22 with model LastValueNaive in generation 0 of 2\n",
      "Model Number: 23 with model LastValueNaive in generation 0 of 2\n",
      "Model Number: 24 with model SeasonalNaive in generation 0 of 2\n",
      "Model Number: 25 with model SeasonalNaive in generation 0 of 2\n",
      "Model Number: 26 with model SeasonalNaive in generation 0 of 2\n",
      "Model Number: 27 with model SeasonalNaive in generation 0 of 2\n",
      "Model Number: 28 with model UnobservedComponents in generation 0 of 2\n",
      "Model Number: 29 with model UnobservedComponents in generation 0 of 2\n",
      "Model Number: 30 with model UnobservedComponents in generation 0 of 2\n",
      "Model Number: 31 with model VAR in generation 0 of 2\n",
      "Model Number: 32 with model VAR in generation 0 of 2\n",
      "Model Number: 33 with model VAR in generation 0 of 2\n",
      "Model Number: 34 with model VECM in generation 0 of 2\n",
      "Model Number: 35 with model VECM in generation 0 of 2\n",
      "Model Number: 36 with model VECM in generation 0 of 2\n",
      "Model Number: 37 with model VECM in generation 0 of 2\n",
      "Model Number: 38 with model WindowRegression in generation 0 of 2\n"
     ]
    },
    {
     "name": "stderr",
     "output_type": "stream",
     "text": [
      "c:\\users\\catalina\\appdata\\local\\programs\\python\\python39\\lib\\site-packages\\sklearn\\neural_network\\_multilayer_perceptron.py:500: ConvergenceWarning:\n",
      "\n",
      "lbfgs failed to converge (status=1):\n",
      "STOP: TOTAL NO. of ITERATIONS REACHED LIMIT.\n",
      "\n",
      "Increase the number of iterations (max_iter) or scale the data as shown in:\n",
      "    https://scikit-learn.org/stable/modules/preprocessing.html\n",
      "\n"
     ]
    },
    {
     "name": "stdout",
     "output_type": "stream",
     "text": [
      "Model Number: 39 with model ZeroesNaive in generation 0 of 2\n",
      "Model Number: 40 with model ZeroesNaive in generation 0 of 2\n",
      "Model Number: 41 with model LastValueNaive in generation 0 of 2\n",
      "Model Number: 42 with model AverageValueNaive in generation 0 of 2\n",
      "Model Number: 43 with model GLS in generation 0 of 2\n",
      "Model Number: 44 with model SeasonalNaive in generation 0 of 2\n"
     ]
    },
    {
     "name": "stderr",
     "output_type": "stream",
     "text": [
      "c:\\users\\catalina\\appdata\\local\\programs\\python\\python39\\lib\\site-packages\\sklearn\\_loss\\glm_distribution.py:132: RuntimeWarning:\n",
      "\n",
      "divide by zero encountered in true_divide\n",
      "\n",
      "c:\\users\\catalina\\appdata\\local\\programs\\python\\python39\\lib\\site-packages\\sklearn\\linear_model\\_glm\\glm.py:43: RuntimeWarning:\n",
      "\n",
      "invalid value encountered in multiply\n",
      "\n",
      "c:\\users\\catalina\\appdata\\local\\programs\\python\\python39\\lib\\site-packages\\sklearn\\_loss\\glm_distribution.py:321: RuntimeWarning:\n",
      "\n",
      "divide by zero encountered in power\n",
      "\n",
      "c:\\users\\catalina\\appdata\\local\\programs\\python\\python39\\lib\\site-packages\\sklearn\\linear_model\\_glm\\link.py:90: RuntimeWarning:\n",
      "\n",
      "overflow encountered in exp\n",
      "\n",
      "c:\\users\\catalina\\appdata\\local\\programs\\python\\python39\\lib\\site-packages\\sklearn\\linear_model\\_glm\\link.py:93: RuntimeWarning:\n",
      "\n",
      "overflow encountered in exp\n",
      "\n",
      "c:\\users\\catalina\\appdata\\local\\programs\\python\\python39\\lib\\site-packages\\sklearn\\_loss\\glm_distribution.py:132: RuntimeWarning:\n",
      "\n",
      "invalid value encountered in true_divide\n",
      "\n",
      "c:\\users\\catalina\\appdata\\local\\programs\\python\\python39\\lib\\site-packages\\sklearn\\_loss\\glm_distribution.py:132: RuntimeWarning:\n",
      "\n",
      "divide by zero encountered in true_divide\n",
      "\n",
      "c:\\users\\catalina\\appdata\\local\\programs\\python\\python39\\lib\\site-packages\\sklearn\\linear_model\\_glm\\glm.py:43: RuntimeWarning:\n",
      "\n",
      "invalid value encountered in multiply\n",
      "\n",
      "c:\\users\\catalina\\appdata\\local\\programs\\python\\python39\\lib\\site-packages\\sklearn\\_loss\\glm_distribution.py:321: RuntimeWarning:\n",
      "\n",
      "divide by zero encountered in power\n",
      "\n"
     ]
    },
    {
     "name": "stdout",
     "output_type": "stream",
     "text": [
      "Model Number: 45 with model GLM in generation 0 of 2\n",
      "Model Number: 46 with model ETS in generation 0 of 2\n"
     ]
    },
    {
     "name": "stderr",
     "output_type": "stream",
     "text": [
      "c:\\users\\catalina\\appdata\\local\\programs\\python\\python39\\lib\\site-packages\\sklearn\\_loss\\glm_distribution.py:132: RuntimeWarning:\n",
      "\n",
      "divide by zero encountered in true_divide\n",
      "\n",
      "c:\\users\\catalina\\appdata\\local\\programs\\python\\python39\\lib\\site-packages\\sklearn\\linear_model\\_glm\\glm.py:43: RuntimeWarning:\n",
      "\n",
      "invalid value encountered in multiply\n",
      "\n",
      "c:\\users\\catalina\\appdata\\local\\programs\\python\\python39\\lib\\site-packages\\sklearn\\_loss\\glm_distribution.py:318: RuntimeWarning:\n",
      "\n",
      "divide by zero encountered in log\n",
      "\n",
      "c:\\users\\catalina\\appdata\\local\\programs\\python\\python39\\lib\\site-packages\\sklearn\\_loss\\glm_distribution.py:318: RuntimeWarning:\n",
      "\n",
      "divide by zero encountered in true_divide\n",
      "\n",
      "c:\\users\\catalina\\appdata\\local\\programs\\python\\python39\\lib\\site-packages\\sklearn\\_loss\\glm_distribution.py:318: RuntimeWarning:\n",
      "\n",
      "invalid value encountered in add\n",
      "\n",
      "c:\\users\\catalina\\appdata\\local\\programs\\python\\python39\\lib\\site-packages\\sklearn\\linear_model\\_glm\\glm.py:287: ConvergenceWarning:\n",
      "\n",
      "lbfgs failed to converge (status=2):\n",
      "ABNORMAL_TERMINATION_IN_LNSRCH.\n",
      "\n",
      "Increase the number of iterations (max_iter) or scale the data as shown in:\n",
      "    https://scikit-learn.org/stable/modules/preprocessing.html\n",
      "\n",
      "c:\\users\\catalina\\appdata\\local\\programs\\python\\python39\\lib\\site-packages\\sklearn\\linear_model\\_glm\\link.py:90: RuntimeWarning:\n",
      "\n",
      "overflow encountered in exp\n",
      "\n",
      "c:\\users\\catalina\\appdata\\local\\programs\\python\\python39\\lib\\site-packages\\sklearn\\linear_model\\_glm\\link.py:93: RuntimeWarning:\n",
      "\n",
      "overflow encountered in exp\n",
      "\n",
      "c:\\users\\catalina\\appdata\\local\\programs\\python\\python39\\lib\\site-packages\\sklearn\\_loss\\glm_distribution.py:132: RuntimeWarning:\n",
      "\n",
      "invalid value encountered in true_divide\n",
      "\n",
      "c:\\users\\catalina\\appdata\\local\\programs\\python\\python39\\lib\\site-packages\\sklearn\\_loss\\glm_distribution.py:132: RuntimeWarning:\n",
      "\n",
      "divide by zero encountered in true_divide\n",
      "\n",
      "c:\\users\\catalina\\appdata\\local\\programs\\python\\python39\\lib\\site-packages\\sklearn\\linear_model\\_glm\\glm.py:43: RuntimeWarning:\n",
      "\n",
      "invalid value encountered in multiply\n",
      "\n",
      "c:\\users\\catalina\\appdata\\local\\programs\\python\\python39\\lib\\site-packages\\sklearn\\_loss\\glm_distribution.py:318: RuntimeWarning:\n",
      "\n",
      "divide by zero encountered in log\n",
      "\n",
      "c:\\users\\catalina\\appdata\\local\\programs\\python\\python39\\lib\\site-packages\\sklearn\\_loss\\glm_distribution.py:318: RuntimeWarning:\n",
      "\n",
      "divide by zero encountered in true_divide\n",
      "\n",
      "c:\\users\\catalina\\appdata\\local\\programs\\python\\python39\\lib\\site-packages\\sklearn\\_loss\\glm_distribution.py:318: RuntimeWarning:\n",
      "\n",
      "invalid value encountered in add\n",
      "\n",
      "c:\\users\\catalina\\appdata\\local\\programs\\python\\python39\\lib\\site-packages\\sklearn\\linear_model\\_glm\\glm.py:287: ConvergenceWarning:\n",
      "\n",
      "lbfgs failed to converge (status=2):\n",
      "ABNORMAL_TERMINATION_IN_LNSRCH.\n",
      "\n",
      "Increase the number of iterations (max_iter) or scale the data as shown in:\n",
      "    https://scikit-learn.org/stable/modules/preprocessing.html\n",
      "\n"
     ]
    },
    {
     "name": "stdout",
     "output_type": "stream",
     "text": [
      "Model Number: 47 with model FBProphet in generation 0 of 2\n"
     ]
    },
    {
     "name": "stderr",
     "output_type": "stream",
     "text": [
      "c:\\users\\catalina\\appdata\\local\\programs\\python\\python39\\lib\\site-packages\\sklearn\\_loss\\glm_distribution.py:132: RuntimeWarning:\n",
      "\n",
      "divide by zero encountered in true_divide\n",
      "\n",
      "c:\\users\\catalina\\appdata\\local\\programs\\python\\python39\\lib\\site-packages\\sklearn\\linear_model\\_glm\\glm.py:43: RuntimeWarning:\n",
      "\n",
      "invalid value encountered in multiply\n",
      "\n",
      "c:\\users\\catalina\\appdata\\local\\programs\\python\\python39\\lib\\site-packages\\sklearn\\_loss\\glm_distribution.py:318: RuntimeWarning:\n",
      "\n",
      "divide by zero encountered in log\n",
      "\n",
      "c:\\users\\catalina\\appdata\\local\\programs\\python\\python39\\lib\\site-packages\\sklearn\\_loss\\glm_distribution.py:318: RuntimeWarning:\n",
      "\n",
      "divide by zero encountered in true_divide\n",
      "\n",
      "c:\\users\\catalina\\appdata\\local\\programs\\python\\python39\\lib\\site-packages\\sklearn\\_loss\\glm_distribution.py:318: RuntimeWarning:\n",
      "\n",
      "invalid value encountered in add\n",
      "\n",
      "c:\\users\\catalina\\appdata\\local\\programs\\python\\python39\\lib\\site-packages\\sklearn\\linear_model\\_glm\\glm.py:287: ConvergenceWarning:\n",
      "\n",
      "lbfgs failed to converge (status=2):\n",
      "ABNORMAL_TERMINATION_IN_LNSRCH.\n",
      "\n",
      "Increase the number of iterations (max_iter) or scale the data as shown in:\n",
      "    https://scikit-learn.org/stable/modules/preprocessing.html\n",
      "\n",
      "c:\\users\\catalina\\appdata\\local\\programs\\python\\python39\\lib\\site-packages\\sklearn\\linear_model\\_glm\\link.py:90: RuntimeWarning:\n",
      "\n",
      "overflow encountered in exp\n",
      "\n",
      "c:\\users\\catalina\\appdata\\local\\programs\\python\\python39\\lib\\site-packages\\sklearn\\linear_model\\_glm\\link.py:93: RuntimeWarning:\n",
      "\n",
      "overflow encountered in exp\n",
      "\n",
      "c:\\users\\catalina\\appdata\\local\\programs\\python\\python39\\lib\\site-packages\\sklearn\\_loss\\glm_distribution.py:132: RuntimeWarning:\n",
      "\n",
      "invalid value encountered in true_divide\n",
      "\n",
      "c:\\users\\catalina\\appdata\\local\\programs\\python\\python39\\lib\\site-packages\\sklearn\\_loss\\glm_distribution.py:132: RuntimeWarning:\n",
      "\n",
      "divide by zero encountered in true_divide\n",
      "\n",
      "c:\\users\\catalina\\appdata\\local\\programs\\python\\python39\\lib\\site-packages\\sklearn\\linear_model\\_glm\\glm.py:43: RuntimeWarning:\n",
      "\n",
      "invalid value encountered in multiply\n",
      "\n",
      "c:\\users\\catalina\\appdata\\local\\programs\\python\\python39\\lib\\site-packages\\sklearn\\_loss\\glm_distribution.py:318: RuntimeWarning:\n",
      "\n",
      "divide by zero encountered in log\n",
      "\n",
      "c:\\users\\catalina\\appdata\\local\\programs\\python\\python39\\lib\\site-packages\\sklearn\\_loss\\glm_distribution.py:318: RuntimeWarning:\n",
      "\n",
      "divide by zero encountered in true_divide\n",
      "\n",
      "c:\\users\\catalina\\appdata\\local\\programs\\python\\python39\\lib\\site-packages\\sklearn\\_loss\\glm_distribution.py:318: RuntimeWarning:\n",
      "\n",
      "invalid value encountered in add\n",
      "\n",
      "c:\\users\\catalina\\appdata\\local\\programs\\python\\python39\\lib\\site-packages\\sklearn\\linear_model\\_glm\\glm.py:287: ConvergenceWarning:\n",
      "\n",
      "lbfgs failed to converge (status=2):\n",
      "ABNORMAL_TERMINATION_IN_LNSRCH.\n",
      "\n",
      "Increase the number of iterations (max_iter) or scale the data as shown in:\n",
      "    https://scikit-learn.org/stable/modules/preprocessing.html\n",
      "\n"
     ]
    },
    {
     "name": "stdout",
     "output_type": "stream",
     "text": [
      "Template Eval Error: ImportError('Package fbprophet is required') in model 47: FBProphet\n",
      "Model Number: 48 with model RollingRegression in generation 0 of 2\n",
      "Model Number: 49 with model GluonTS in generation 0 of 2\n",
      "Template Eval Error: ImportError('GluonTS installation not found or installed version is incompatible with AutoTS.') in model 49: GluonTS\n",
      "Model Number: 50 with model UnobservedComponents in generation 0 of 2\n",
      "Model Number: 51 with model VAR in generation 0 of 2\n",
      "Model Number: 52 with model VECM in generation 0 of 2\n"
     ]
    },
    {
     "name": "stderr",
     "output_type": "stream",
     "text": [
      "c:\\users\\catalina\\appdata\\local\\programs\\python\\python39\\lib\\site-packages\\sklearn\\_loss\\glm_distribution.py:132: RuntimeWarning:\n",
      "\n",
      "divide by zero encountered in true_divide\n",
      "\n",
      "c:\\users\\catalina\\appdata\\local\\programs\\python\\python39\\lib\\site-packages\\sklearn\\linear_model\\_glm\\glm.py:43: RuntimeWarning:\n",
      "\n",
      "invalid value encountered in multiply\n",
      "\n",
      "c:\\users\\catalina\\appdata\\local\\programs\\python\\python39\\lib\\site-packages\\sklearn\\_loss\\glm_distribution.py:321: RuntimeWarning:\n",
      "\n",
      "divide by zero encountered in power\n",
      "\n",
      "c:\\users\\catalina\\appdata\\local\\programs\\python\\python39\\lib\\site-packages\\sklearn\\linear_model\\_glm\\link.py:90: RuntimeWarning:\n",
      "\n",
      "overflow encountered in exp\n",
      "\n",
      "c:\\users\\catalina\\appdata\\local\\programs\\python\\python39\\lib\\site-packages\\sklearn\\linear_model\\_glm\\link.py:93: RuntimeWarning:\n",
      "\n",
      "overflow encountered in exp\n",
      "\n",
      "c:\\users\\catalina\\appdata\\local\\programs\\python\\python39\\lib\\site-packages\\sklearn\\_loss\\glm_distribution.py:132: RuntimeWarning:\n",
      "\n",
      "invalid value encountered in true_divide\n",
      "\n",
      "c:\\users\\catalina\\appdata\\local\\programs\\python\\python39\\lib\\site-packages\\sklearn\\_loss\\glm_distribution.py:132: RuntimeWarning:\n",
      "\n",
      "divide by zero encountered in true_divide\n",
      "\n",
      "c:\\users\\catalina\\appdata\\local\\programs\\python\\python39\\lib\\site-packages\\sklearn\\linear_model\\_glm\\glm.py:43: RuntimeWarning:\n",
      "\n",
      "invalid value encountered in multiply\n",
      "\n",
      "c:\\users\\catalina\\appdata\\local\\programs\\python\\python39\\lib\\site-packages\\sklearn\\_loss\\glm_distribution.py:321: RuntimeWarning:\n",
      "\n",
      "divide by zero encountered in power\n",
      "\n"
     ]
    },
    {
     "name": "stdout",
     "output_type": "stream",
     "text": [
      "Model Number: 53 with model WindowRegression in generation 0 of 2\n"
     ]
    },
    {
     "name": "stderr",
     "output_type": "stream",
     "text": [
      "c:\\users\\catalina\\appdata\\local\\programs\\python\\python39\\lib\\site-packages\\sklearn\\neural_network\\_multilayer_perceptron.py:500: ConvergenceWarning:\n",
      "\n",
      "lbfgs failed to converge (status=1):\n",
      "STOP: TOTAL NO. of ITERATIONS REACHED LIMIT.\n",
      "\n",
      "Increase the number of iterations (max_iter) or scale the data as shown in:\n",
      "    https://scikit-learn.org/stable/modules/preprocessing.html\n",
      "\n"
     ]
    },
    {
     "name": "stdout",
     "output_type": "stream",
     "text": [
      "Template Eval Error: TypeError(\"Cannot clone object ''DecisionTree'' (type <class 'str'>): it does not seem to be a scikit-learn estimator as it does not implement a 'get_params' method.\") in model 53: WindowRegression\n",
      "Model Number: 54 with model DatepartRegression in generation 0 of 2\n"
     ]
    },
    {
     "name": "stderr",
     "output_type": "stream",
     "text": [
      "c:\\users\\catalina\\appdata\\local\\programs\\python\\python39\\lib\\site-packages\\sklearn\\_loss\\glm_distribution.py:132: RuntimeWarning:\n",
      "\n",
      "divide by zero encountered in true_divide\n",
      "\n",
      "c:\\users\\catalina\\appdata\\local\\programs\\python\\python39\\lib\\site-packages\\sklearn\\linear_model\\_glm\\glm.py:43: RuntimeWarning:\n",
      "\n",
      "invalid value encountered in multiply\n",
      "\n",
      "c:\\users\\catalina\\appdata\\local\\programs\\python\\python39\\lib\\site-packages\\sklearn\\_loss\\glm_distribution.py:321: RuntimeWarning:\n",
      "\n",
      "divide by zero encountered in power\n",
      "\n",
      "c:\\users\\catalina\\appdata\\local\\programs\\python\\python39\\lib\\site-packages\\sklearn\\linear_model\\_glm\\link.py:90: RuntimeWarning:\n",
      "\n",
      "overflow encountered in exp\n",
      "\n",
      "c:\\users\\catalina\\appdata\\local\\programs\\python\\python39\\lib\\site-packages\\sklearn\\linear_model\\_glm\\link.py:93: RuntimeWarning:\n",
      "\n",
      "overflow encountered in exp\n",
      "\n",
      "c:\\users\\catalina\\appdata\\local\\programs\\python\\python39\\lib\\site-packages\\sklearn\\_loss\\glm_distribution.py:132: RuntimeWarning:\n",
      "\n",
      "invalid value encountered in true_divide\n",
      "\n",
      "c:\\users\\catalina\\appdata\\local\\programs\\python\\python39\\lib\\site-packages\\sklearn\\_loss\\glm_distribution.py:132: RuntimeWarning:\n",
      "\n",
      "divide by zero encountered in true_divide\n",
      "\n",
      "c:\\users\\catalina\\appdata\\local\\programs\\python\\python39\\lib\\site-packages\\sklearn\\linear_model\\_glm\\glm.py:43: RuntimeWarning:\n",
      "\n",
      "invalid value encountered in multiply\n",
      "\n",
      "c:\\users\\catalina\\appdata\\local\\programs\\python\\python39\\lib\\site-packages\\sklearn\\_loss\\glm_distribution.py:321: RuntimeWarning:\n",
      "\n",
      "divide by zero encountered in power\n",
      "\n"
     ]
    },
    {
     "name": "stdout",
     "output_type": "stream",
     "text": [
      "Template Eval Error: ModuleNotFoundError(\"No module named 'lightgbm'\") in model 54: DatepartRegression\n",
      "Model Number: 55 with model UnivariateRegression in generation 0 of 2\n",
      "Template Eval Error: TypeError(\"unsupported operand type(s) for -: 'NoneType' and 'int'\") in model 55: UnivariateRegression\n",
      "Model Number: 56 with model UnivariateMotif in generation 0 of 2\n",
      "Template Eval Error: AttributeError(\"module 'numpy.lib.stride_tricks' has no attribute 'sliding_window_view'\") in model 56: UnivariateMotif\n",
      "Model Number: 57 with model GLM in generation 0 of 2\n"
     ]
    },
    {
     "name": "stderr",
     "output_type": "stream",
     "text": [
      "c:\\users\\catalina\\appdata\\local\\programs\\python\\python39\\lib\\site-packages\\sklearn\\_loss\\glm_distribution.py:132: RuntimeWarning:\n",
      "\n",
      "divide by zero encountered in true_divide\n",
      "\n",
      "c:\\users\\catalina\\appdata\\local\\programs\\python\\python39\\lib\\site-packages\\sklearn\\linear_model\\_glm\\glm.py:43: RuntimeWarning:\n",
      "\n",
      "invalid value encountered in multiply\n",
      "\n",
      "c:\\users\\catalina\\appdata\\local\\programs\\python\\python39\\lib\\site-packages\\sklearn\\_loss\\glm_distribution.py:315: RuntimeWarning:\n",
      "\n",
      "divide by zero encountered in true_divide\n",
      "\n",
      "c:\\users\\catalina\\appdata\\local\\programs\\python\\python39\\lib\\site-packages\\sklearn\\linear_model\\_glm\\link.py:90: RuntimeWarning:\n",
      "\n",
      "overflow encountered in exp\n",
      "\n",
      "c:\\users\\catalina\\appdata\\local\\programs\\python\\python39\\lib\\site-packages\\sklearn\\linear_model\\_glm\\link.py:93: RuntimeWarning:\n",
      "\n",
      "overflow encountered in exp\n",
      "\n",
      "c:\\users\\catalina\\appdata\\local\\programs\\python\\python39\\lib\\site-packages\\sklearn\\_loss\\glm_distribution.py:132: RuntimeWarning:\n",
      "\n",
      "invalid value encountered in true_divide\n",
      "\n",
      "c:\\users\\catalina\\appdata\\local\\programs\\python\\python39\\lib\\site-packages\\sklearn\\_loss\\glm_distribution.py:315: RuntimeWarning:\n",
      "\n",
      "invalid value encountered in add\n",
      "\n",
      "c:\\users\\catalina\\appdata\\local\\programs\\python\\python39\\lib\\site-packages\\sklearn\\linear_model\\_glm\\glm.py:287: ConvergenceWarning:\n",
      "\n",
      "lbfgs failed to converge (status=2):\n",
      "ABNORMAL_TERMINATION_IN_LNSRCH.\n",
      "\n",
      "Increase the number of iterations (max_iter) or scale the data as shown in:\n",
      "    https://scikit-learn.org/stable/modules/preprocessing.html\n",
      "\n",
      "c:\\users\\catalina\\appdata\\local\\programs\\python\\python39\\lib\\site-packages\\sklearn\\_loss\\glm_distribution.py:132: RuntimeWarning:\n",
      "\n",
      "divide by zero encountered in true_divide\n",
      "\n",
      "c:\\users\\catalina\\appdata\\local\\programs\\python\\python39\\lib\\site-packages\\sklearn\\linear_model\\_glm\\glm.py:43: RuntimeWarning:\n",
      "\n",
      "invalid value encountered in multiply\n",
      "\n",
      "c:\\users\\catalina\\appdata\\local\\programs\\python\\python39\\lib\\site-packages\\sklearn\\_loss\\glm_distribution.py:315: RuntimeWarning:\n",
      "\n",
      "divide by zero encountered in true_divide\n",
      "\n",
      "c:\\users\\catalina\\appdata\\local\\programs\\python\\python39\\lib\\site-packages\\statsmodels\\genmod\\families\\family.py:1346: RuntimeWarning:\n",
      "\n",
      "divide by zero encountered in log\n",
      "\n",
      "c:\\users\\catalina\\appdata\\local\\programs\\python\\python39\\lib\\site-packages\\statsmodels\\genmod\\families\\family.py:1346: RuntimeWarning:\n",
      "\n",
      "invalid value encountered in multiply\n",
      "\n"
     ]
    },
    {
     "name": "stdout",
     "output_type": "stream",
     "text": [
      "Template Eval Error: ValueError('The first guess on the deviance function returned a nan.  This could be a boundary  problem and should be reported.') in model 57: GLM\n",
      "Model Number: 58 with model GluonTS in generation 0 of 2\n",
      "Template Eval Error: ImportError('GluonTS installation not found or installed version is incompatible with AutoTS.') in model 58: GluonTS\n",
      "Model Number: 59 with model GLS in generation 0 of 2\n",
      "Model Number: 60 with model VAR in generation 0 of 2\n",
      "Model Number: 61 with model SeasonalNaive in generation 0 of 2\n",
      "Model Number: 62 with model UnobservedComponents in generation 0 of 2\n",
      "Model Number: 63 with model LastValueNaive in generation 0 of 2\n",
      "Model Number: 64 with model VECM in generation 0 of 2\n"
     ]
    },
    {
     "name": "stderr",
     "output_type": "stream",
     "text": [
      "c:\\users\\catalina\\appdata\\local\\programs\\python\\python39\\lib\\site-packages\\statsmodels\\tsa\\tsatools.py:821: FutureWarning:\n",
      "\n",
      "trend 'nc' has been renamed to 'n' after 0.14 is released. Use 'n' now to avoid this warning.\n",
      "\n"
     ]
    },
    {
     "name": "stdout",
     "output_type": "stream",
     "text": [
      "Model Number: 65 with model GLM in generation 0 of 2\n"
     ]
    },
    {
     "name": "stderr",
     "output_type": "stream",
     "text": [
      "c:\\users\\catalina\\appdata\\local\\programs\\python\\python39\\lib\\site-packages\\statsmodels\\genmod\\generalized_linear_model.py:295: DomainWarning:\n",
      "\n",
      "The inverse_power link function does not respect the domain of the Gamma family.\n",
      "\n",
      "c:\\users\\catalina\\appdata\\local\\programs\\python\\python39\\lib\\site-packages\\statsmodels\\genmod\\generalized_linear_model.py:295: DomainWarning:\n",
      "\n",
      "The inverse_power link function does not respect the domain of the Gamma family.\n",
      "\n",
      "c:\\users\\catalina\\appdata\\local\\programs\\python\\python39\\lib\\site-packages\\statsmodels\\genmod\\generalized_linear_model.py:295: DomainWarning:\n",
      "\n",
      "The inverse_power link function does not respect the domain of the Gamma family.\n",
      "\n"
     ]
    },
    {
     "name": "stdout",
     "output_type": "stream",
     "text": [
      "Model Number: 66 with model ETS in generation 0 of 2\n"
     ]
    },
    {
     "name": "stderr",
     "output_type": "stream",
     "text": [
      "c:\\users\\catalina\\appdata\\local\\programs\\python\\python39\\lib\\site-packages\\autots\\models\\statsmodels.py:468: FutureWarning:\n",
      "\n",
      "the 'damped'' keyword is deprecated, use 'damped_trend' instead\n",
      "\n",
      "c:\\users\\catalina\\appdata\\local\\programs\\python\\python39\\lib\\site-packages\\autots\\models\\statsmodels.py:468: FutureWarning:\n",
      "\n",
      "the 'damped'' keyword is deprecated, use 'damped_trend' instead\n",
      "\n",
      "c:\\users\\catalina\\appdata\\local\\programs\\python\\python39\\lib\\site-packages\\autots\\models\\statsmodels.py:468: FutureWarning:\n",
      "\n",
      "the 'damped'' keyword is deprecated, use 'damped_trend' instead\n",
      "\n"
     ]
    },
    {
     "name": "stdout",
     "output_type": "stream",
     "text": [
      "Model Number: 67 with model DatepartRegression in generation 0 of 2\n",
      "Model Number: 68 with model UnobservedComponents in generation 0 of 2\n"
     ]
    },
    {
     "name": "stderr",
     "output_type": "stream",
     "text": [
      "c:\\users\\catalina\\appdata\\local\\programs\\python\\python39\\lib\\site-packages\\sklearn\\_loss\\glm_distribution.py:132: RuntimeWarning:\n",
      "\n",
      "divide by zero encountered in true_divide\n",
      "\n",
      "c:\\users\\catalina\\appdata\\local\\programs\\python\\python39\\lib\\site-packages\\sklearn\\linear_model\\_glm\\glm.py:43: RuntimeWarning:\n",
      "\n",
      "invalid value encountered in multiply\n",
      "\n",
      "c:\\users\\catalina\\appdata\\local\\programs\\python\\python39\\lib\\site-packages\\sklearn\\_loss\\glm_distribution.py:315: RuntimeWarning:\n",
      "\n",
      "divide by zero encountered in true_divide\n",
      "\n",
      "c:\\users\\catalina\\appdata\\local\\programs\\python\\python39\\lib\\site-packages\\sklearn\\linear_model\\_glm\\link.py:90: RuntimeWarning:\n",
      "\n",
      "overflow encountered in exp\n",
      "\n",
      "c:\\users\\catalina\\appdata\\local\\programs\\python\\python39\\lib\\site-packages\\sklearn\\linear_model\\_glm\\link.py:93: RuntimeWarning:\n",
      "\n",
      "overflow encountered in exp\n",
      "\n",
      "c:\\users\\catalina\\appdata\\local\\programs\\python\\python39\\lib\\site-packages\\sklearn\\_loss\\glm_distribution.py:132: RuntimeWarning:\n",
      "\n",
      "invalid value encountered in true_divide\n",
      "\n",
      "c:\\users\\catalina\\appdata\\local\\programs\\python\\python39\\lib\\site-packages\\sklearn\\_loss\\glm_distribution.py:315: RuntimeWarning:\n",
      "\n",
      "invalid value encountered in add\n",
      "\n",
      "c:\\users\\catalina\\appdata\\local\\programs\\python\\python39\\lib\\site-packages\\sklearn\\linear_model\\_glm\\glm.py:287: ConvergenceWarning:\n",
      "\n",
      "lbfgs failed to converge (status=2):\n",
      "ABNORMAL_TERMINATION_IN_LNSRCH.\n",
      "\n",
      "Increase the number of iterations (max_iter) or scale the data as shown in:\n",
      "    https://scikit-learn.org/stable/modules/preprocessing.html\n",
      "\n"
     ]
    },
    {
     "name": "stdout",
     "output_type": "stream",
     "text": [
      "Model Number: 69 with model ZeroesNaive in generation 0 of 2\n"
     ]
    },
    {
     "name": "stderr",
     "output_type": "stream",
     "text": [
      "c:\\users\\catalina\\appdata\\local\\programs\\python\\python39\\lib\\site-packages\\sklearn\\_loss\\glm_distribution.py:132: RuntimeWarning:\n",
      "\n",
      "divide by zero encountered in true_divide\n",
      "\n",
      "c:\\users\\catalina\\appdata\\local\\programs\\python\\python39\\lib\\site-packages\\sklearn\\linear_model\\_glm\\glm.py:43: RuntimeWarning:\n",
      "\n",
      "invalid value encountered in multiply\n",
      "\n",
      "c:\\users\\catalina\\appdata\\local\\programs\\python\\python39\\lib\\site-packages\\sklearn\\_loss\\glm_distribution.py:315: RuntimeWarning:\n",
      "\n",
      "divide by zero encountered in true_divide\n",
      "\n"
     ]
    },
    {
     "name": "stdout",
     "output_type": "stream",
     "text": [
      "Model Number: 70 with model UnivariateMotif in generation 0 of 2\n",
      "Template Eval Error: AttributeError(\"module 'numpy.lib.stride_tricks' has no attribute 'sliding_window_view'\") in model 70: UnivariateMotif\n",
      "Model Number: 71 with model VECM in generation 0 of 2\n",
      "Model Number: 72 with model ETS in generation 0 of 2\n"
     ]
    },
    {
     "name": "stderr",
     "output_type": "stream",
     "text": [
      "c:\\users\\catalina\\appdata\\local\\programs\\python\\python39\\lib\\site-packages\\statsmodels\\tsa\\holtwinters\\model.py:915: ConvergenceWarning:\n",
      "\n",
      "Optimization failed to converge. Check mle_retvals.\n",
      "\n"
     ]
    },
    {
     "name": "stdout",
     "output_type": "stream",
     "text": [
      "Model Number: 73 with model AverageValueNaive in generation 0 of 2\n",
      "Model Number: 74 with model AverageValueNaive in generation 0 of 2\n",
      "Model Number: 75 with model LastValueNaive in generation 0 of 2\n",
      "Model Number: 76 with model GLM in generation 0 of 2\n"
     ]
    },
    {
     "name": "stderr",
     "output_type": "stream",
     "text": [
      "c:\\users\\catalina\\appdata\\local\\programs\\python\\python39\\lib\\site-packages\\sklearn\\_loss\\glm_distribution.py:132: RuntimeWarning:\n",
      "\n",
      "divide by zero encountered in true_divide\n",
      "\n",
      "c:\\users\\catalina\\appdata\\local\\programs\\python\\python39\\lib\\site-packages\\sklearn\\linear_model\\_glm\\glm.py:43: RuntimeWarning:\n",
      "\n",
      "invalid value encountered in multiply\n",
      "\n",
      "c:\\users\\catalina\\appdata\\local\\programs\\python\\python39\\lib\\site-packages\\sklearn\\_loss\\glm_distribution.py:315: RuntimeWarning:\n",
      "\n",
      "divide by zero encountered in true_divide\n",
      "\n",
      "c:\\users\\catalina\\appdata\\local\\programs\\python\\python39\\lib\\site-packages\\sklearn\\linear_model\\_glm\\link.py:90: RuntimeWarning:\n",
      "\n",
      "overflow encountered in exp\n",
      "\n",
      "c:\\users\\catalina\\appdata\\local\\programs\\python\\python39\\lib\\site-packages\\sklearn\\linear_model\\_glm\\link.py:93: RuntimeWarning:\n",
      "\n",
      "overflow encountered in exp\n",
      "\n",
      "c:\\users\\catalina\\appdata\\local\\programs\\python\\python39\\lib\\site-packages\\sklearn\\_loss\\glm_distribution.py:132: RuntimeWarning:\n",
      "\n",
      "invalid value encountered in true_divide\n",
      "\n",
      "c:\\users\\catalina\\appdata\\local\\programs\\python\\python39\\lib\\site-packages\\sklearn\\_loss\\glm_distribution.py:315: RuntimeWarning:\n",
      "\n",
      "invalid value encountered in add\n",
      "\n",
      "c:\\users\\catalina\\appdata\\local\\programs\\python\\python39\\lib\\site-packages\\sklearn\\linear_model\\_glm\\glm.py:287: ConvergenceWarning:\n",
      "\n",
      "lbfgs failed to converge (status=2):\n",
      "ABNORMAL_TERMINATION_IN_LNSRCH.\n",
      "\n",
      "Increase the number of iterations (max_iter) or scale the data as shown in:\n",
      "    https://scikit-learn.org/stable/modules/preprocessing.html\n",
      "\n",
      "c:\\users\\catalina\\appdata\\local\\programs\\python\\python39\\lib\\site-packages\\sklearn\\_loss\\glm_distribution.py:132: RuntimeWarning:\n",
      "\n",
      "divide by zero encountered in true_divide\n",
      "\n",
      "c:\\users\\catalina\\appdata\\local\\programs\\python\\python39\\lib\\site-packages\\sklearn\\linear_model\\_glm\\glm.py:43: RuntimeWarning:\n",
      "\n",
      "invalid value encountered in multiply\n",
      "\n",
      "c:\\users\\catalina\\appdata\\local\\programs\\python\\python39\\lib\\site-packages\\sklearn\\_loss\\glm_distribution.py:315: RuntimeWarning:\n",
      "\n",
      "divide by zero encountered in true_divide\n",
      "\n",
      "c:\\users\\catalina\\appdata\\local\\programs\\python\\python39\\lib\\site-packages\\statsmodels\\genmod\\families\\family.py:426: RuntimeWarning:\n",
      "\n",
      "divide by zero encountered in true_divide\n",
      "\n",
      "c:\\users\\catalina\\appdata\\local\\programs\\python\\python39\\lib\\site-packages\\statsmodels\\genmod\\families\\family.py:132: RuntimeWarning:\n",
      "\n",
      "divide by zero encountered in true_divide\n",
      "\n"
     ]
    },
    {
     "name": "stdout",
     "output_type": "stream",
     "text": [
      "Template Eval Error: ValueError('NaN, inf or invalid value detected in weights, estimation infeasible.') in model 76: GLM\n",
      "Model Number: 77 with model ZeroesNaive in generation 0 of 2\n"
     ]
    },
    {
     "name": "stderr",
     "output_type": "stream",
     "text": [
      "c:\\users\\catalina\\appdata\\local\\programs\\python\\python39\\lib\\site-packages\\sklearn\\_loss\\glm_distribution.py:132: RuntimeWarning:\n",
      "\n",
      "divide by zero encountered in true_divide\n",
      "\n",
      "c:\\users\\catalina\\appdata\\local\\programs\\python\\python39\\lib\\site-packages\\sklearn\\linear_model\\_glm\\glm.py:43: RuntimeWarning:\n",
      "\n",
      "invalid value encountered in multiply\n",
      "\n",
      "c:\\users\\catalina\\appdata\\local\\programs\\python\\python39\\lib\\site-packages\\sklearn\\_loss\\glm_distribution.py:321: RuntimeWarning:\n",
      "\n",
      "divide by zero encountered in power\n",
      "\n",
      "c:\\users\\catalina\\appdata\\local\\programs\\python\\python39\\lib\\site-packages\\sklearn\\linear_model\\_glm\\link.py:90: RuntimeWarning:\n",
      "\n",
      "overflow encountered in exp\n",
      "\n",
      "c:\\users\\catalina\\appdata\\local\\programs\\python\\python39\\lib\\site-packages\\sklearn\\linear_model\\_glm\\link.py:93: RuntimeWarning:\n",
      "\n",
      "overflow encountered in exp\n",
      "\n",
      "c:\\users\\catalina\\appdata\\local\\programs\\python\\python39\\lib\\site-packages\\sklearn\\_loss\\glm_distribution.py:132: RuntimeWarning:\n",
      "\n",
      "invalid value encountered in true_divide\n",
      "\n",
      "c:\\users\\catalina\\appdata\\local\\programs\\python\\python39\\lib\\site-packages\\sklearn\\_loss\\glm_distribution.py:132: RuntimeWarning:\n",
      "\n",
      "divide by zero encountered in true_divide\n",
      "\n",
      "c:\\users\\catalina\\appdata\\local\\programs\\python\\python39\\lib\\site-packages\\sklearn\\linear_model\\_glm\\glm.py:43: RuntimeWarning:\n",
      "\n",
      "invalid value encountered in multiply\n",
      "\n",
      "c:\\users\\catalina\\appdata\\local\\programs\\python\\python39\\lib\\site-packages\\sklearn\\_loss\\glm_distribution.py:321: RuntimeWarning:\n",
      "\n",
      "divide by zero encountered in power\n",
      "\n"
     ]
    },
    {
     "name": "stdout",
     "output_type": "stream",
     "text": [
      "Model Number: 78 with model VAR in generation 0 of 2\n",
      "Model Number: 79 with model ETS in generation 0 of 2\n"
     ]
    },
    {
     "name": "stderr",
     "output_type": "stream",
     "text": [
      "c:\\users\\catalina\\appdata\\local\\programs\\python\\python39\\lib\\site-packages\\autots\\models\\statsmodels.py:468: FutureWarning:\n",
      "\n",
      "the 'damped'' keyword is deprecated, use 'damped_trend' instead\n",
      "\n",
      "c:\\users\\catalina\\appdata\\local\\programs\\python\\python39\\lib\\site-packages\\autots\\models\\statsmodels.py:468: FutureWarning:\n",
      "\n",
      "the 'damped'' keyword is deprecated, use 'damped_trend' instead\n",
      "\n",
      "c:\\users\\catalina\\appdata\\local\\programs\\python\\python39\\lib\\site-packages\\autots\\models\\statsmodels.py:468: FutureWarning:\n",
      "\n",
      "the 'damped'' keyword is deprecated, use 'damped_trend' instead\n",
      "\n"
     ]
    },
    {
     "name": "stdout",
     "output_type": "stream",
     "text": [
      "Model Number: 80 with model UnobservedComponents in generation 0 of 2\n",
      "Model Number: 81 with model GLM in generation 0 of 2\n"
     ]
    },
    {
     "name": "stderr",
     "output_type": "stream",
     "text": [
      "c:\\users\\catalina\\appdata\\local\\programs\\python\\python39\\lib\\site-packages\\sklearn\\_loss\\glm_distribution.py:132: RuntimeWarning:\n",
      "\n",
      "divide by zero encountered in true_divide\n",
      "\n",
      "c:\\users\\catalina\\appdata\\local\\programs\\python\\python39\\lib\\site-packages\\sklearn\\linear_model\\_glm\\glm.py:43: RuntimeWarning:\n",
      "\n",
      "invalid value encountered in multiply\n",
      "\n",
      "c:\\users\\catalina\\appdata\\local\\programs\\python\\python39\\lib\\site-packages\\sklearn\\_loss\\glm_distribution.py:321: RuntimeWarning:\n",
      "\n",
      "divide by zero encountered in power\n",
      "\n",
      "c:\\users\\catalina\\appdata\\local\\programs\\python\\python39\\lib\\site-packages\\sklearn\\linear_model\\_glm\\link.py:90: RuntimeWarning:\n",
      "\n",
      "overflow encountered in exp\n",
      "\n",
      "c:\\users\\catalina\\appdata\\local\\programs\\python\\python39\\lib\\site-packages\\sklearn\\linear_model\\_glm\\link.py:93: RuntimeWarning:\n",
      "\n",
      "overflow encountered in exp\n",
      "\n",
      "c:\\users\\catalina\\appdata\\local\\programs\\python\\python39\\lib\\site-packages\\sklearn\\_loss\\glm_distribution.py:132: RuntimeWarning:\n",
      "\n",
      "invalid value encountered in true_divide\n",
      "\n",
      "c:\\users\\catalina\\appdata\\local\\programs\\python\\python39\\lib\\site-packages\\sklearn\\_loss\\glm_distribution.py:132: RuntimeWarning:\n",
      "\n",
      "divide by zero encountered in true_divide\n",
      "\n",
      "c:\\users\\catalina\\appdata\\local\\programs\\python\\python39\\lib\\site-packages\\sklearn\\linear_model\\_glm\\glm.py:43: RuntimeWarning:\n",
      "\n",
      "invalid value encountered in multiply\n",
      "\n",
      "c:\\users\\catalina\\appdata\\local\\programs\\python\\python39\\lib\\site-packages\\sklearn\\_loss\\glm_distribution.py:321: RuntimeWarning:\n",
      "\n",
      "divide by zero encountered in power\n",
      "\n",
      "c:\\users\\catalina\\appdata\\local\\programs\\python\\python39\\lib\\site-packages\\statsmodels\\genmod\\families\\family.py:1582: RuntimeWarning:\n",
      "\n",
      "invalid value encountered in log\n",
      "\n",
      "c:\\users\\catalina\\appdata\\local\\programs\\python\\python39\\lib\\site-packages\\statsmodels\\genmod\\families\\family.py:1582: RuntimeWarning:\n",
      "\n",
      "divide by zero encountered in true_divide\n",
      "\n",
      "c:\\users\\catalina\\appdata\\local\\programs\\python\\python39\\lib\\site-packages\\statsmodels\\genmod\\generalized_linear_model.py:801: RuntimeWarning:\n",
      "\n",
      "divide by zero encountered in true_divide\n",
      "\n",
      "c:\\users\\catalina\\appdata\\local\\programs\\python\\python39\\lib\\site-packages\\statsmodels\\genmod\\families\\family.py:132: RuntimeWarning:\n",
      "\n",
      "divide by zero encountered in true_divide\n",
      "\n"
     ]
    },
    {
     "name": "stdout",
     "output_type": "stream",
     "text": [
      "Template Eval Error: ValueError('NaN, inf or invalid value detected in weights, estimation infeasible.') in model 81: GLM\n",
      "Model Number: 82 with model UnivariateRegression in generation 0 of 2\n",
      "Template Eval Error: TypeError(\"unsupported operand type(s) for -: 'NoneType' and 'int'\") in model 82: UnivariateRegression\n",
      "Model Number: 83 with model UnivariateRegression in generation 0 of 2\n",
      "Template Eval Error: TypeError(\"unsupported operand type(s) for -: 'NoneType' and 'int'\") in model 83: UnivariateRegression\n",
      "Model Number: 84 with model RollingRegression in generation 0 of 2\n"
     ]
    },
    {
     "name": "stderr",
     "output_type": "stream",
     "text": [
      "[Parallel(n_jobs=1)]: Using backend SequentialBackend with 1 concurrent workers.\n",
      "[Parallel(n_jobs=1)]: Done 1000 out of 1000 | elapsed:  7.0min finished\n",
      "[Parallel(n_jobs=1)]: Using backend SequentialBackend with 1 concurrent workers.\n",
      "[Parallel(n_jobs=1)]: Done 1000 out of 1000 | elapsed:    0.0s finished\n",
      "[Parallel(n_jobs=1)]: Using backend SequentialBackend with 1 concurrent workers.\n",
      "[Parallel(n_jobs=1)]: Done 1000 out of 1000 | elapsed:    0.0s finished\n",
      "[Parallel(n_jobs=1)]: Using backend SequentialBackend with 1 concurrent workers.\n",
      "[Parallel(n_jobs=1)]: Done 1000 out of 1000 | elapsed:    0.0s finished\n",
      "[Parallel(n_jobs=1)]: Using backend SequentialBackend with 1 concurrent workers.\n",
      "[Parallel(n_jobs=1)]: Done 1000 out of 1000 | elapsed:    0.0s finished\n",
      "[Parallel(n_jobs=1)]: Using backend SequentialBackend with 1 concurrent workers.\n",
      "[Parallel(n_jobs=1)]: Done 1000 out of 1000 | elapsed:    0.0s finished\n",
      "[Parallel(n_jobs=1)]: Using backend SequentialBackend with 1 concurrent workers.\n",
      "[Parallel(n_jobs=1)]: Done 1000 out of 1000 | elapsed:    0.0s finished\n",
      "[Parallel(n_jobs=1)]: Using backend SequentialBackend with 1 concurrent workers.\n",
      "[Parallel(n_jobs=1)]: Done 1000 out of 1000 | elapsed:    0.0s finished\n",
      "[Parallel(n_jobs=1)]: Using backend SequentialBackend with 1 concurrent workers.\n",
      "[Parallel(n_jobs=1)]: Done 1000 out of 1000 | elapsed:    0.0s finished\n",
      "[Parallel(n_jobs=1)]: Using backend SequentialBackend with 1 concurrent workers.\n",
      "[Parallel(n_jobs=1)]: Done 1000 out of 1000 | elapsed:    0.0s finished\n",
      "[Parallel(n_jobs=1)]: Using backend SequentialBackend with 1 concurrent workers.\n",
      "[Parallel(n_jobs=1)]: Done 1000 out of 1000 | elapsed:    0.0s finished\n",
      "[Parallel(n_jobs=1)]: Using backend SequentialBackend with 1 concurrent workers.\n",
      "[Parallel(n_jobs=1)]: Done 1000 out of 1000 | elapsed:    0.0s finished\n",
      "[Parallel(n_jobs=1)]: Using backend SequentialBackend with 1 concurrent workers.\n",
      "[Parallel(n_jobs=1)]: Done 1000 out of 1000 | elapsed:    0.0s finished\n",
      "[Parallel(n_jobs=1)]: Using backend SequentialBackend with 1 concurrent workers.\n",
      "[Parallel(n_jobs=1)]: Done 1000 out of 1000 | elapsed:    0.0s finished\n",
      "[Parallel(n_jobs=1)]: Using backend SequentialBackend with 1 concurrent workers.\n",
      "[Parallel(n_jobs=1)]: Done 1000 out of 1000 | elapsed:    0.0s finished\n",
      "[Parallel(n_jobs=1)]: Using backend SequentialBackend with 1 concurrent workers.\n",
      "[Parallel(n_jobs=1)]: Done 1000 out of 1000 | elapsed:    0.0s finished\n",
      "[Parallel(n_jobs=1)]: Using backend SequentialBackend with 1 concurrent workers.\n",
      "[Parallel(n_jobs=1)]: Done 1000 out of 1000 | elapsed:    0.0s finished\n",
      "[Parallel(n_jobs=1)]: Using backend SequentialBackend with 1 concurrent workers.\n",
      "[Parallel(n_jobs=1)]: Done 1000 out of 1000 | elapsed:    0.0s finished\n",
      "[Parallel(n_jobs=1)]: Using backend SequentialBackend with 1 concurrent workers.\n",
      "[Parallel(n_jobs=1)]: Done 1000 out of 1000 | elapsed:    0.0s finished\n",
      "[Parallel(n_jobs=1)]: Using backend SequentialBackend with 1 concurrent workers.\n",
      "[Parallel(n_jobs=1)]: Done 1000 out of 1000 | elapsed:    0.0s finished\n",
      "[Parallel(n_jobs=1)]: Using backend SequentialBackend with 1 concurrent workers.\n",
      "[Parallel(n_jobs=1)]: Done 1000 out of 1000 | elapsed:    0.0s finished\n",
      "[Parallel(n_jobs=1)]: Using backend SequentialBackend with 1 concurrent workers.\n",
      "[Parallel(n_jobs=1)]: Done 1000 out of 1000 | elapsed:    0.0s finished\n",
      "[Parallel(n_jobs=1)]: Using backend SequentialBackend with 1 concurrent workers.\n",
      "[Parallel(n_jobs=1)]: Done 1000 out of 1000 | elapsed:    0.0s finished\n",
      "[Parallel(n_jobs=1)]: Using backend SequentialBackend with 1 concurrent workers.\n",
      "[Parallel(n_jobs=1)]: Done 1000 out of 1000 | elapsed:    0.0s finished\n",
      "[Parallel(n_jobs=1)]: Using backend SequentialBackend with 1 concurrent workers.\n",
      "[Parallel(n_jobs=1)]: Done 1000 out of 1000 | elapsed:    0.0s finished\n"
     ]
    },
    {
     "name": "stdout",
     "output_type": "stream",
     "text": [
      "Model Number: 85 with model UnivariateRegression in generation 0 of 2\n",
      "Template Eval Error: TypeError(\"unsupported operand type(s) for -: 'NoneType' and 'int'\") in model 85: UnivariateRegression\n",
      "Model Number: 86 with model ZeroesNaive in generation 0 of 2\n",
      "Model Number: 87 with model FBProphet in generation 0 of 2\n",
      "Template Eval Error: ImportError('Package fbprophet is required') in model 87: FBProphet\n",
      "Model Number: 88 with model DatepartRegression in generation 0 of 2\n"
     ]
    },
    {
     "name": "stderr",
     "output_type": "stream",
     "text": [
      "c:\\users\\catalina\\appdata\\local\\programs\\python\\python39\\lib\\site-packages\\sklearn\\_loss\\glm_distribution.py:132: RuntimeWarning:\n",
      "\n",
      "divide by zero encountered in true_divide\n",
      "\n",
      "c:\\users\\catalina\\appdata\\local\\programs\\python\\python39\\lib\\site-packages\\sklearn\\linear_model\\_glm\\glm.py:43: RuntimeWarning:\n",
      "\n",
      "invalid value encountered in multiply\n",
      "\n",
      "c:\\users\\catalina\\appdata\\local\\programs\\python\\python39\\lib\\site-packages\\sklearn\\_loss\\glm_distribution.py:321: RuntimeWarning:\n",
      "\n",
      "divide by zero encountered in power\n",
      "\n",
      "c:\\users\\catalina\\appdata\\local\\programs\\python\\python39\\lib\\site-packages\\sklearn\\linear_model\\_glm\\link.py:90: RuntimeWarning:\n",
      "\n",
      "overflow encountered in exp\n",
      "\n",
      "c:\\users\\catalina\\appdata\\local\\programs\\python\\python39\\lib\\site-packages\\sklearn\\linear_model\\_glm\\link.py:93: RuntimeWarning:\n",
      "\n",
      "overflow encountered in exp\n",
      "\n",
      "c:\\users\\catalina\\appdata\\local\\programs\\python\\python39\\lib\\site-packages\\sklearn\\_loss\\glm_distribution.py:132: RuntimeWarning:\n",
      "\n",
      "invalid value encountered in true_divide\n",
      "\n",
      "c:\\users\\catalina\\appdata\\local\\programs\\python\\python39\\lib\\site-packages\\sklearn\\_loss\\glm_distribution.py:132: RuntimeWarning:\n",
      "\n",
      "divide by zero encountered in true_divide\n",
      "\n",
      "c:\\users\\catalina\\appdata\\local\\programs\\python\\python39\\lib\\site-packages\\sklearn\\linear_model\\_glm\\glm.py:43: RuntimeWarning:\n",
      "\n",
      "invalid value encountered in multiply\n",
      "\n",
      "c:\\users\\catalina\\appdata\\local\\programs\\python\\python39\\lib\\site-packages\\sklearn\\_loss\\glm_distribution.py:321: RuntimeWarning:\n",
      "\n",
      "divide by zero encountered in power\n",
      "\n"
     ]
    },
    {
     "name": "stdout",
     "output_type": "stream",
     "text": [
      "Epoch 1/50\n",
      "Template Eval Error: TypeError(\"in user code:\\n\\n    c:\\\\users\\\\catalina\\\\appdata\\\\local\\\\programs\\\\python\\\\python39\\\\lib\\\\site-packages\\\\tensorflow\\\\python\\\\keras\\\\engine\\\\training.py:855 train_function  *\\n        return step_function(self, iterator)\\n    c:\\\\users\\\\catalina\\\\appdata\\\\local\\\\programs\\\\python\\\\python39\\\\lib\\\\site-packages\\\\tensorflow\\\\python\\\\keras\\\\engine\\\\training.py:845 step_function  **\\n        outputs = model.distribute_strategy.run(run_step, args=(data,))\\n    c:\\\\users\\\\catalina\\\\appdata\\\\local\\\\programs\\\\python\\\\python39\\\\lib\\\\site-packages\\\\tensorflow\\\\python\\\\distribute\\\\distribute_lib.py:1285 run\\n        return self._extended.call_for_each_replica(fn, args=args, kwargs=kwargs)\\n    c:\\\\users\\\\catalina\\\\appdata\\\\local\\\\programs\\\\python\\\\python39\\\\lib\\\\site-packages\\\\tensorflow\\\\python\\\\distribute\\\\distribute_lib.py:2833 call_for_each_replica\\n        return self._call_for_each_replica(fn, args, kwargs)\\n    c:\\\\users\\\\catalina\\\\appdata\\\\local\\\\programs\\\\python\\\\python39\\\\lib\\\\site-packages\\\\tensorflow\\\\python\\\\distribute\\\\distribute_lib.py:3608 _call_for_each_replica\\n        return fn(*args, **kwargs)\\n    c:\\\\users\\\\catalina\\\\appdata\\\\local\\\\programs\\\\python\\\\python39\\\\lib\\\\site-packages\\\\tensorflow\\\\python\\\\keras\\\\engine\\\\training.py:838 run_step  **\\n        outputs = model.train_step(data)\\n    c:\\\\users\\\\catalina\\\\appdata\\\\local\\\\programs\\\\python\\\\python39\\\\lib\\\\site-packages\\\\tensorflow\\\\python\\\\keras\\\\engine\\\\training.py:795 train_step\\n        y_pred = self(x, training=True)\\n    c:\\\\users\\\\catalina\\\\appdata\\\\local\\\\programs\\\\python\\\\python39\\\\lib\\\\site-packages\\\\tensorflow\\\\python\\\\keras\\\\engine\\\\base_layer.py:1030 __call__\\n        outputs = call_fn(inputs, *args, **kwargs)\\n    c:\\\\users\\\\catalina\\\\appdata\\\\local\\\\programs\\\\python\\\\python39\\\\lib\\\\site-packages\\\\tensorflow\\\\python\\\\keras\\\\engine\\\\sequential.py:394 call\\n        outputs = layer(inputs, **kwargs)\\n    c:\\\\users\\\\catalina\\\\appdata\\\\local\\\\programs\\\\python\\\\python39\\\\lib\\\\site-packages\\\\tensorflow\\\\python\\\\keras\\\\layers\\\\wrappers.py:585 __call__\\n        return super(Bidirectional, self).__call__(inputs, **kwargs)\\n    c:\\\\users\\\\catalina\\\\appdata\\\\local\\\\programs\\\\python\\\\python39\\\\lib\\\\site-packages\\\\tensorflow\\\\python\\\\keras\\\\engine\\\\base_layer.py:1030 __call__\\n        outputs = call_fn(inputs, *args, **kwargs)\\n    c:\\\\users\\\\catalina\\\\appdata\\\\local\\\\programs\\\\python\\\\python39\\\\lib\\\\site-packages\\\\tensorflow\\\\python\\\\keras\\\\layers\\\\wrappers.py:698 call\\n        y = self.forward_layer(forward_inputs,\\n    c:\\\\users\\\\catalina\\\\appdata\\\\local\\\\programs\\\\python\\\\python39\\\\lib\\\\site-packages\\\\tensorflow\\\\python\\\\keras\\\\layers\\\\recurrent.py:668 __call__\\n        return super(RNN, self).__call__(inputs, **kwargs)\\n    c:\\\\users\\\\catalina\\\\appdata\\\\local\\\\programs\\\\python\\\\python39\\\\lib\\\\site-packages\\\\tensorflow\\\\python\\\\keras\\\\engine\\\\base_layer.py:1030 __call__\\n        outputs = call_fn(inputs, *args, **kwargs)\\n    c:\\\\users\\\\catalina\\\\appdata\\\\local\\\\programs\\\\python\\\\python39\\\\lib\\\\site-packages\\\\tensorflow\\\\python\\\\keras\\\\layers\\\\recurrent_v2.py:1266 call\\n        runtime) = lstm_with_backend_selection(**normal_lstm_kwargs)\\n    c:\\\\users\\\\catalina\\\\appdata\\\\local\\\\programs\\\\python\\\\python39\\\\lib\\\\site-packages\\\\tensorflow\\\\python\\\\keras\\\\layers\\\\recurrent_v2.py:1661 lstm_with_backend_selection\\n        last_output, outputs, new_h, new_c, runtime = defun_standard_lstm(**params)\\n    c:\\\\users\\\\catalina\\\\appdata\\\\local\\\\programs\\\\python\\\\python39\\\\lib\\\\site-packages\\\\tensorflow\\\\python\\\\eager\\\\function.py:3022 __call__\\n        filtered_flat_args) = self._maybe_define_function(args, kwargs)\\n    c:\\\\users\\\\catalina\\\\appdata\\\\local\\\\programs\\\\python\\\\python39\\\\lib\\\\site-packages\\\\tensorflow\\\\python\\\\eager\\\\function.py:3444 _maybe_define_function\\n        graph_function = self._create_graph_function(args, kwargs)\\n    c:\\\\users\\\\catalina\\\\appdata\\\\local\\\\programs\\\\python\\\\python39\\\\lib\\\\site-packages\\\\tensorflow\\\\python\\\\eager\\\\function.py:3279 _create_graph_function\\n        func_graph_module.func_graph_from_py_func(\\n    c:\\\\users\\\\catalina\\\\appdata\\\\local\\\\programs\\\\python\\\\python39\\\\lib\\\\site-packages\\\\tensorflow\\\\python\\\\framework\\\\func_graph.py:999 func_graph_from_py_func\\n        func_outputs = python_func(*func_args, **func_kwargs)\\n    c:\\\\users\\\\catalina\\\\appdata\\\\local\\\\programs\\\\python\\\\python39\\\\lib\\\\site-packages\\\\tensorflow\\\\python\\\\keras\\\\layers\\\\recurrent_v2.py:1392 standard_lstm\\n        last_output, outputs, new_states = backend.rnn(\\n    c:\\\\users\\\\catalina\\\\appdata\\\\local\\\\programs\\\\python\\\\python39\\\\lib\\\\site-packages\\\\tensorflow\\\\python\\\\util\\\\dispatch.py:206 wrapper\\n        return target(*args, **kwargs)\\n    c:\\\\users\\\\catalina\\\\appdata\\\\local\\\\programs\\\\python\\\\python39\\\\lib\\\\site-packages\\\\tensorflow\\\\python\\\\keras\\\\backend.py:4377 rnn\\n        output_time_zero, _ = step_function(\\n    c:\\\\users\\\\catalina\\\\appdata\\\\local\\\\programs\\\\python\\\\python39\\\\lib\\\\site-packages\\\\tensorflow\\\\python\\\\keras\\\\layers\\\\recurrent_v2.py:1378 step\\n        z = backend.dot(cell_inputs, kernel)\\n    c:\\\\users\\\\catalina\\\\appdata\\\\local\\\\programs\\\\python\\\\python39\\\\lib\\\\site-packages\\\\tensorflow\\\\python\\\\util\\\\dispatch.py:206 wrapper\\n        return target(*args, **kwargs)\\n    c:\\\\users\\\\catalina\\\\appdata\\\\local\\\\programs\\\\python\\\\python39\\\\lib\\\\site-packages\\\\tensorflow\\\\python\\\\keras\\\\backend.py:2008 dot\\n        out = math_ops.matmul(x, y)\\n    c:\\\\users\\\\catalina\\\\appdata\\\\local\\\\programs\\\\python\\\\python39\\\\lib\\\\site-packages\\\\tensorflow\\\\python\\\\util\\\\dispatch.py:206 wrapper\\n        return target(*args, **kwargs)\\n    c:\\\\users\\\\catalina\\\\appdata\\\\local\\\\programs\\\\python\\\\python39\\\\lib\\\\site-packages\\\\tensorflow\\\\python\\\\ops\\\\math_ops.py:3489 matmul\\n        return gen_math_ops.mat_mul(\\n    c:\\\\users\\\\catalina\\\\appdata\\\\local\\\\programs\\\\python\\\\python39\\\\lib\\\\site-packages\\\\tensorflow\\\\python\\\\ops\\\\gen_math_ops.py:5715 mat_mul\\n        _, _, _op, _outputs = _op_def_library._apply_op_helper(\\n    c:\\\\users\\\\catalina\\\\appdata\\\\local\\\\programs\\\\python\\\\python39\\\\lib\\\\site-packages\\\\tensorflow\\\\python\\\\framework\\\\op_def_library.py:555 _apply_op_helper\\n        raise TypeError(\\n\\n    TypeError: Input 'b' of 'MatMul' Op has type float32 that does not match type int64 of argument 'a'.\\n\") in model 88: DatepartRegression\n",
      "Model Number: 89 with model FBProphet in generation 0 of 2\n",
      "Template Eval Error: ImportError('Package fbprophet is required') in model 89: FBProphet\n",
      "Model Number: 90 with model UnivariateRegression in generation 0 of 2\n",
      "Template Eval Error: TypeError(\"unsupported operand type(s) for -: 'NoneType' and 'int'\") in model 90: UnivariateRegression\n",
      "Model Number: 91 with model FBProphet in generation 0 of 2\n",
      "Template Eval Error: ImportError('Package fbprophet is required') in model 91: FBProphet\n",
      "Model Number: 92 with model VECM in generation 0 of 2\n"
     ]
    },
    {
     "name": "stderr",
     "output_type": "stream",
     "text": [
      "c:\\users\\catalina\\appdata\\local\\programs\\python\\python39\\lib\\site-packages\\sklearn\\_loss\\glm_distribution.py:132: RuntimeWarning:\n",
      "\n",
      "divide by zero encountered in true_divide\n",
      "\n",
      "c:\\users\\catalina\\appdata\\local\\programs\\python\\python39\\lib\\site-packages\\sklearn\\linear_model\\_glm\\glm.py:43: RuntimeWarning:\n",
      "\n",
      "invalid value encountered in multiply\n",
      "\n",
      "c:\\users\\catalina\\appdata\\local\\programs\\python\\python39\\lib\\site-packages\\sklearn\\_loss\\glm_distribution.py:318: RuntimeWarning:\n",
      "\n",
      "divide by zero encountered in log\n",
      "\n",
      "c:\\users\\catalina\\appdata\\local\\programs\\python\\python39\\lib\\site-packages\\sklearn\\_loss\\glm_distribution.py:318: RuntimeWarning:\n",
      "\n",
      "divide by zero encountered in true_divide\n",
      "\n",
      "c:\\users\\catalina\\appdata\\local\\programs\\python\\python39\\lib\\site-packages\\sklearn\\_loss\\glm_distribution.py:318: RuntimeWarning:\n",
      "\n",
      "invalid value encountered in add\n",
      "\n",
      "c:\\users\\catalina\\appdata\\local\\programs\\python\\python39\\lib\\site-packages\\sklearn\\linear_model\\_glm\\glm.py:287: ConvergenceWarning:\n",
      "\n",
      "lbfgs failed to converge (status=2):\n",
      "ABNORMAL_TERMINATION_IN_LNSRCH.\n",
      "\n",
      "Increase the number of iterations (max_iter) or scale the data as shown in:\n",
      "    https://scikit-learn.org/stable/modules/preprocessing.html\n",
      "\n",
      "c:\\users\\catalina\\appdata\\local\\programs\\python\\python39\\lib\\site-packages\\sklearn\\linear_model\\_glm\\link.py:90: RuntimeWarning:\n",
      "\n",
      "overflow encountered in exp\n",
      "\n",
      "c:\\users\\catalina\\appdata\\local\\programs\\python\\python39\\lib\\site-packages\\sklearn\\linear_model\\_glm\\link.py:93: RuntimeWarning:\n",
      "\n",
      "overflow encountered in exp\n",
      "\n",
      "c:\\users\\catalina\\appdata\\local\\programs\\python\\python39\\lib\\site-packages\\sklearn\\_loss\\glm_distribution.py:132: RuntimeWarning:\n",
      "\n",
      "invalid value encountered in true_divide\n",
      "\n",
      "c:\\users\\catalina\\appdata\\local\\programs\\python\\python39\\lib\\site-packages\\sklearn\\_loss\\glm_distribution.py:132: RuntimeWarning:\n",
      "\n",
      "divide by zero encountered in true_divide\n",
      "\n",
      "c:\\users\\catalina\\appdata\\local\\programs\\python\\python39\\lib\\site-packages\\sklearn\\linear_model\\_glm\\glm.py:43: RuntimeWarning:\n",
      "\n",
      "invalid value encountered in multiply\n",
      "\n",
      "c:\\users\\catalina\\appdata\\local\\programs\\python\\python39\\lib\\site-packages\\sklearn\\_loss\\glm_distribution.py:318: RuntimeWarning:\n",
      "\n",
      "divide by zero encountered in log\n",
      "\n",
      "c:\\users\\catalina\\appdata\\local\\programs\\python\\python39\\lib\\site-packages\\sklearn\\_loss\\glm_distribution.py:318: RuntimeWarning:\n",
      "\n",
      "divide by zero encountered in true_divide\n",
      "\n",
      "c:\\users\\catalina\\appdata\\local\\programs\\python\\python39\\lib\\site-packages\\sklearn\\_loss\\glm_distribution.py:318: RuntimeWarning:\n",
      "\n",
      "invalid value encountered in add\n",
      "\n",
      "c:\\users\\catalina\\appdata\\local\\programs\\python\\python39\\lib\\site-packages\\sklearn\\linear_model\\_glm\\glm.py:287: ConvergenceWarning:\n",
      "\n",
      "lbfgs failed to converge (status=2):\n",
      "ABNORMAL_TERMINATION_IN_LNSRCH.\n",
      "\n",
      "Increase the number of iterations (max_iter) or scale the data as shown in:\n",
      "    https://scikit-learn.org/stable/modules/preprocessing.html\n",
      "\n",
      "c:\\users\\catalina\\appdata\\local\\programs\\python\\python39\\lib\\site-packages\\statsmodels\\tsa\\tsatools.py:821: FutureWarning:\n",
      "\n",
      "trend 'nc' has been renamed to 'n' after 0.14 is released. Use 'n' now to avoid this warning.\n",
      "\n"
     ]
    },
    {
     "name": "stdout",
     "output_type": "stream",
     "text": [
      "Model Number: 93 with model VECM in generation 0 of 2\n"
     ]
    },
    {
     "name": "stderr",
     "output_type": "stream",
     "text": [
      "c:\\users\\catalina\\appdata\\local\\programs\\python\\python39\\lib\\site-packages\\statsmodels\\tsa\\tsatools.py:821: FutureWarning:\n",
      "\n",
      "trend 'nc' has been renamed to 'n' after 0.14 is released. Use 'n' now to avoid this warning.\n",
      "\n"
     ]
    },
    {
     "name": "stdout",
     "output_type": "stream",
     "text": [
      "Model Number: 94 with model WindowRegression in generation 0 of 2\n",
      "Template Eval Error: ValueError(\"WindowRegression regression_type='user' requires numpy >= 1.20\") in model 94: WindowRegression\n",
      "Model Number: 95 with model GLM in generation 0 of 2\n"
     ]
    },
    {
     "name": "stderr",
     "output_type": "stream",
     "text": [
      "c:\\users\\catalina\\appdata\\local\\programs\\python\\python39\\lib\\site-packages\\statsmodels\\genmod\\families\\links.py:187: RuntimeWarning:\n",
      "\n",
      "overflow encountered in exp\n",
      "\n"
     ]
    },
    {
     "name": "stdout",
     "output_type": "stream",
     "text": [
      "Model Number: 96 with model LastValueNaive in generation 0 of 2\n",
      "Model Number: 97 with model SeasonalNaive in generation 0 of 2\n",
      "Model Number: 98 with model AverageValueNaive in generation 0 of 2\n",
      "Model Number: 99 with model UnivariateMotif in generation 0 of 2\n",
      "Template Eval Error: AttributeError(\"module 'numpy.lib.stride_tricks' has no attribute 'sliding_window_view'\") in model 99: UnivariateMotif\n",
      "Model Number: 100 with model SeasonalNaive in generation 0 of 2\n"
     ]
    },
    {
     "name": "stderr",
     "output_type": "stream",
     "text": [
      "c:\\users\\catalina\\appdata\\local\\programs\\python\\python39\\lib\\site-packages\\sklearn\\_loss\\glm_distribution.py:132: RuntimeWarning:\n",
      "\n",
      "divide by zero encountered in true_divide\n",
      "\n",
      "c:\\users\\catalina\\appdata\\local\\programs\\python\\python39\\lib\\site-packages\\sklearn\\linear_model\\_glm\\glm.py:43: RuntimeWarning:\n",
      "\n",
      "invalid value encountered in multiply\n",
      "\n",
      "c:\\users\\catalina\\appdata\\local\\programs\\python\\python39\\lib\\site-packages\\sklearn\\_loss\\glm_distribution.py:315: RuntimeWarning:\n",
      "\n",
      "divide by zero encountered in true_divide\n",
      "\n",
      "c:\\users\\catalina\\appdata\\local\\programs\\python\\python39\\lib\\site-packages\\sklearn\\linear_model\\_glm\\link.py:90: RuntimeWarning:\n",
      "\n",
      "overflow encountered in exp\n",
      "\n",
      "c:\\users\\catalina\\appdata\\local\\programs\\python\\python39\\lib\\site-packages\\sklearn\\linear_model\\_glm\\link.py:93: RuntimeWarning:\n",
      "\n",
      "overflow encountered in exp\n",
      "\n",
      "c:\\users\\catalina\\appdata\\local\\programs\\python\\python39\\lib\\site-packages\\sklearn\\_loss\\glm_distribution.py:132: RuntimeWarning:\n",
      "\n",
      "invalid value encountered in true_divide\n",
      "\n",
      "c:\\users\\catalina\\appdata\\local\\programs\\python\\python39\\lib\\site-packages\\sklearn\\_loss\\glm_distribution.py:315: RuntimeWarning:\n",
      "\n",
      "invalid value encountered in add\n",
      "\n",
      "c:\\users\\catalina\\appdata\\local\\programs\\python\\python39\\lib\\site-packages\\sklearn\\linear_model\\_glm\\glm.py:287: ConvergenceWarning:\n",
      "\n",
      "lbfgs failed to converge (status=2):\n",
      "ABNORMAL_TERMINATION_IN_LNSRCH.\n",
      "\n",
      "Increase the number of iterations (max_iter) or scale the data as shown in:\n",
      "    https://scikit-learn.org/stable/modules/preprocessing.html\n",
      "\n",
      "c:\\users\\catalina\\appdata\\local\\programs\\python\\python39\\lib\\site-packages\\sklearn\\_loss\\glm_distribution.py:132: RuntimeWarning:\n",
      "\n",
      "divide by zero encountered in true_divide\n",
      "\n",
      "c:\\users\\catalina\\appdata\\local\\programs\\python\\python39\\lib\\site-packages\\sklearn\\linear_model\\_glm\\glm.py:43: RuntimeWarning:\n",
      "\n",
      "invalid value encountered in multiply\n",
      "\n",
      "c:\\users\\catalina\\appdata\\local\\programs\\python\\python39\\lib\\site-packages\\sklearn\\_loss\\glm_distribution.py:315: RuntimeWarning:\n",
      "\n",
      "divide by zero encountered in true_divide\n",
      "\n"
     ]
    },
    {
     "name": "stdout",
     "output_type": "stream",
     "text": [
      "Model Number: 101 with model VECM in generation 0 of 2\n",
      "Model Number: 102 with model UnivariateMotif in generation 0 of 2\n",
      "Template Eval Error: AttributeError(\"module 'numpy.lib.stride_tricks' has no attribute 'sliding_window_view'\") in model 102: UnivariateMotif\n",
      "Model Number: 103 with model SeasonalNaive in generation 0 of 2\n",
      "Model Number: 104 with model UnivariateRegression in generation 0 of 2\n"
     ]
    },
    {
     "name": "stderr",
     "output_type": "stream",
     "text": [
      "c:\\users\\catalina\\appdata\\local\\programs\\python\\python39\\lib\\site-packages\\sklearn\\_loss\\glm_distribution.py:132: RuntimeWarning:\n",
      "\n",
      "divide by zero encountered in true_divide\n",
      "\n",
      "c:\\users\\catalina\\appdata\\local\\programs\\python\\python39\\lib\\site-packages\\sklearn\\linear_model\\_glm\\glm.py:43: RuntimeWarning:\n",
      "\n",
      "invalid value encountered in multiply\n",
      "\n",
      "c:\\users\\catalina\\appdata\\local\\programs\\python\\python39\\lib\\site-packages\\sklearn\\_loss\\glm_distribution.py:315: RuntimeWarning:\n",
      "\n",
      "divide by zero encountered in true_divide\n",
      "\n",
      "c:\\users\\catalina\\appdata\\local\\programs\\python\\python39\\lib\\site-packages\\sklearn\\linear_model\\_glm\\link.py:90: RuntimeWarning:\n",
      "\n",
      "overflow encountered in exp\n",
      "\n",
      "c:\\users\\catalina\\appdata\\local\\programs\\python\\python39\\lib\\site-packages\\sklearn\\linear_model\\_glm\\link.py:93: RuntimeWarning:\n",
      "\n",
      "overflow encountered in exp\n",
      "\n",
      "c:\\users\\catalina\\appdata\\local\\programs\\python\\python39\\lib\\site-packages\\sklearn\\_loss\\glm_distribution.py:132: RuntimeWarning:\n",
      "\n",
      "invalid value encountered in true_divide\n",
      "\n",
      "c:\\users\\catalina\\appdata\\local\\programs\\python\\python39\\lib\\site-packages\\sklearn\\_loss\\glm_distribution.py:315: RuntimeWarning:\n",
      "\n",
      "invalid value encountered in add\n",
      "\n",
      "c:\\users\\catalina\\appdata\\local\\programs\\python\\python39\\lib\\site-packages\\sklearn\\linear_model\\_glm\\glm.py:287: ConvergenceWarning:\n",
      "\n",
      "lbfgs failed to converge (status=2):\n",
      "ABNORMAL_TERMINATION_IN_LNSRCH.\n",
      "\n",
      "Increase the number of iterations (max_iter) or scale the data as shown in:\n",
      "    https://scikit-learn.org/stable/modules/preprocessing.html\n",
      "\n",
      "c:\\users\\catalina\\appdata\\local\\programs\\python\\python39\\lib\\site-packages\\sklearn\\_loss\\glm_distribution.py:132: RuntimeWarning:\n",
      "\n",
      "divide by zero encountered in true_divide\n",
      "\n",
      "c:\\users\\catalina\\appdata\\local\\programs\\python\\python39\\lib\\site-packages\\sklearn\\linear_model\\_glm\\glm.py:43: RuntimeWarning:\n",
      "\n",
      "invalid value encountered in multiply\n",
      "\n",
      "c:\\users\\catalina\\appdata\\local\\programs\\python\\python39\\lib\\site-packages\\sklearn\\_loss\\glm_distribution.py:315: RuntimeWarning:\n",
      "\n",
      "divide by zero encountered in true_divide\n",
      "\n"
     ]
    },
    {
     "name": "stdout",
     "output_type": "stream",
     "text": [
      "Template Eval Error: TypeError(\"unsupported operand type(s) for -: 'NoneType' and 'int'\") in model 104: UnivariateRegression\n",
      "Model Number: 105 with model VAR in generation 0 of 2\n",
      "Model Number: 106 with model VECM in generation 0 of 2\n",
      "Model Number: 107 with model LastValueNaive in generation 0 of 2\n",
      "New Generation: 1 of 2\n",
      "Model Number: 108 with model VECM in generation 1 of 2\n",
      "Model Number: 109 with model VECM in generation 1 of 2\n",
      "Model Number: 110 with model VECM in generation 1 of 2\n"
     ]
    },
    {
     "name": "stderr",
     "output_type": "stream",
     "text": [
      "c:\\users\\catalina\\appdata\\local\\programs\\python\\python39\\lib\\site-packages\\statsmodels\\tsa\\tsatools.py:821: FutureWarning:\n",
      "\n",
      "trend 'nc' has been renamed to 'n' after 0.14 is released. Use 'n' now to avoid this warning.\n",
      "\n"
     ]
    },
    {
     "name": "stdout",
     "output_type": "stream",
     "text": [
      "Model Number: 111 with model VECM in generation 1 of 2\n"
     ]
    },
    {
     "name": "stderr",
     "output_type": "stream",
     "text": [
      "c:\\users\\catalina\\appdata\\local\\programs\\python\\python39\\lib\\site-packages\\statsmodels\\tsa\\tsatools.py:821: FutureWarning:\n",
      "\n",
      "trend 'nc' has been renamed to 'n' after 0.14 is released. Use 'n' now to avoid this warning.\n",
      "\n"
     ]
    },
    {
     "name": "stdout",
     "output_type": "stream",
     "text": [
      "Model Number: 112 with model VAR in generation 1 of 2\n",
      "Model Number: 113 with model VAR in generation 1 of 2\n",
      "Model Number: 114 with model VAR in generation 1 of 2\n",
      "Model Number: 115 with model VAR in generation 1 of 2\n",
      "Model Number: 116 with model LastValueNaive in generation 1 of 2\n",
      "Model Number: 117 with model LastValueNaive in generation 1 of 2\n"
     ]
    },
    {
     "name": "stderr",
     "output_type": "stream",
     "text": [
      "c:\\users\\catalina\\appdata\\local\\programs\\python\\python39\\lib\\site-packages\\sklearn\\_loss\\glm_distribution.py:132: RuntimeWarning:\n",
      "\n",
      "divide by zero encountered in true_divide\n",
      "\n",
      "c:\\users\\catalina\\appdata\\local\\programs\\python\\python39\\lib\\site-packages\\sklearn\\linear_model\\_glm\\glm.py:43: RuntimeWarning:\n",
      "\n",
      "invalid value encountered in multiply\n",
      "\n",
      "c:\\users\\catalina\\appdata\\local\\programs\\python\\python39\\lib\\site-packages\\sklearn\\_loss\\glm_distribution.py:318: RuntimeWarning:\n",
      "\n",
      "divide by zero encountered in log\n",
      "\n",
      "c:\\users\\catalina\\appdata\\local\\programs\\python\\python39\\lib\\site-packages\\sklearn\\_loss\\glm_distribution.py:318: RuntimeWarning:\n",
      "\n",
      "divide by zero encountered in true_divide\n",
      "\n",
      "c:\\users\\catalina\\appdata\\local\\programs\\python\\python39\\lib\\site-packages\\sklearn\\_loss\\glm_distribution.py:318: RuntimeWarning:\n",
      "\n",
      "invalid value encountered in add\n",
      "\n",
      "c:\\users\\catalina\\appdata\\local\\programs\\python\\python39\\lib\\site-packages\\sklearn\\linear_model\\_glm\\glm.py:287: ConvergenceWarning:\n",
      "\n",
      "lbfgs failed to converge (status=2):\n",
      "ABNORMAL_TERMINATION_IN_LNSRCH.\n",
      "\n",
      "Increase the number of iterations (max_iter) or scale the data as shown in:\n",
      "    https://scikit-learn.org/stable/modules/preprocessing.html\n",
      "\n",
      "c:\\users\\catalina\\appdata\\local\\programs\\python\\python39\\lib\\site-packages\\sklearn\\linear_model\\_glm\\link.py:90: RuntimeWarning:\n",
      "\n",
      "overflow encountered in exp\n",
      "\n",
      "c:\\users\\catalina\\appdata\\local\\programs\\python\\python39\\lib\\site-packages\\sklearn\\linear_model\\_glm\\link.py:93: RuntimeWarning:\n",
      "\n",
      "overflow encountered in exp\n",
      "\n",
      "c:\\users\\catalina\\appdata\\local\\programs\\python\\python39\\lib\\site-packages\\sklearn\\_loss\\glm_distribution.py:132: RuntimeWarning:\n",
      "\n",
      "invalid value encountered in true_divide\n",
      "\n",
      "c:\\users\\catalina\\appdata\\local\\programs\\python\\python39\\lib\\site-packages\\sklearn\\_loss\\glm_distribution.py:132: RuntimeWarning:\n",
      "\n",
      "divide by zero encountered in true_divide\n",
      "\n",
      "c:\\users\\catalina\\appdata\\local\\programs\\python\\python39\\lib\\site-packages\\sklearn\\linear_model\\_glm\\glm.py:43: RuntimeWarning:\n",
      "\n",
      "invalid value encountered in multiply\n",
      "\n",
      "c:\\users\\catalina\\appdata\\local\\programs\\python\\python39\\lib\\site-packages\\sklearn\\_loss\\glm_distribution.py:318: RuntimeWarning:\n",
      "\n",
      "divide by zero encountered in log\n",
      "\n",
      "c:\\users\\catalina\\appdata\\local\\programs\\python\\python39\\lib\\site-packages\\sklearn\\_loss\\glm_distribution.py:318: RuntimeWarning:\n",
      "\n",
      "divide by zero encountered in true_divide\n",
      "\n",
      "c:\\users\\catalina\\appdata\\local\\programs\\python\\python39\\lib\\site-packages\\sklearn\\_loss\\glm_distribution.py:318: RuntimeWarning:\n",
      "\n",
      "invalid value encountered in add\n",
      "\n",
      "c:\\users\\catalina\\appdata\\local\\programs\\python\\python39\\lib\\site-packages\\sklearn\\linear_model\\_glm\\glm.py:287: ConvergenceWarning:\n",
      "\n",
      "lbfgs failed to converge (status=2):\n",
      "ABNORMAL_TERMINATION_IN_LNSRCH.\n",
      "\n",
      "Increase the number of iterations (max_iter) or scale the data as shown in:\n",
      "    https://scikit-learn.org/stable/modules/preprocessing.html\n",
      "\n"
     ]
    },
    {
     "name": "stdout",
     "output_type": "stream",
     "text": [
      "Model Number: 118 with model LastValueNaive in generation 1 of 2\n",
      "Model Number: 119 with model DatepartRegression in generation 1 of 2\n",
      "Model Number: 120 with model DatepartRegression in generation 1 of 2\n",
      "Template Eval Error: ModuleNotFoundError(\"No module named 'lightgbm'\") in model 120: DatepartRegression\n",
      "Model Number: 121 with model DatepartRegression in generation 1 of 2\n",
      "[LibLinear]"
     ]
    },
    {
     "name": "stderr",
     "output_type": "stream",
     "text": [
      "c:\\users\\catalina\\appdata\\local\\programs\\python\\python39\\lib\\site-packages\\sklearn\\svm\\_base.py:985: ConvergenceWarning:\n",
      "\n",
      "Liblinear failed to converge, increase the number of iterations.\n",
      "\n"
     ]
    },
    {
     "name": "stdout",
     "output_type": "stream",
     "text": [
      "[LibLinear]"
     ]
    },
    {
     "name": "stderr",
     "output_type": "stream",
     "text": [
      "c:\\users\\catalina\\appdata\\local\\programs\\python\\python39\\lib\\site-packages\\sklearn\\svm\\_base.py:985: ConvergenceWarning:\n",
      "\n",
      "Liblinear failed to converge, increase the number of iterations.\n",
      "\n"
     ]
    },
    {
     "name": "stdout",
     "output_type": "stream",
     "text": [
      "[LibLinear]"
     ]
    },
    {
     "name": "stderr",
     "output_type": "stream",
     "text": [
      "c:\\users\\catalina\\appdata\\local\\programs\\python\\python39\\lib\\site-packages\\sklearn\\svm\\_base.py:985: ConvergenceWarning:\n",
      "\n",
      "Liblinear failed to converge, increase the number of iterations.\n",
      "\n"
     ]
    },
    {
     "name": "stdout",
     "output_type": "stream",
     "text": [
      "[LibLinear]"
     ]
    },
    {
     "name": "stderr",
     "output_type": "stream",
     "text": [
      "c:\\users\\catalina\\appdata\\local\\programs\\python\\python39\\lib\\site-packages\\sklearn\\svm\\_base.py:985: ConvergenceWarning:\n",
      "\n",
      "Liblinear failed to converge, increase the number of iterations.\n",
      "\n"
     ]
    },
    {
     "name": "stdout",
     "output_type": "stream",
     "text": [
      "[LibLinear]"
     ]
    },
    {
     "name": "stderr",
     "output_type": "stream",
     "text": [
      "c:\\users\\catalina\\appdata\\local\\programs\\python\\python39\\lib\\site-packages\\sklearn\\svm\\_base.py:985: ConvergenceWarning:\n",
      "\n",
      "Liblinear failed to converge, increase the number of iterations.\n",
      "\n"
     ]
    },
    {
     "name": "stdout",
     "output_type": "stream",
     "text": [
      "[LibLinear]"
     ]
    },
    {
     "name": "stderr",
     "output_type": "stream",
     "text": [
      "c:\\users\\catalina\\appdata\\local\\programs\\python\\python39\\lib\\site-packages\\sklearn\\svm\\_base.py:985: ConvergenceWarning:\n",
      "\n",
      "Liblinear failed to converge, increase the number of iterations.\n",
      "\n"
     ]
    },
    {
     "name": "stdout",
     "output_type": "stream",
     "text": [
      "[LibLinear]"
     ]
    },
    {
     "name": "stderr",
     "output_type": "stream",
     "text": [
      "c:\\users\\catalina\\appdata\\local\\programs\\python\\python39\\lib\\site-packages\\sklearn\\svm\\_base.py:985: ConvergenceWarning:\n",
      "\n",
      "Liblinear failed to converge, increase the number of iterations.\n",
      "\n"
     ]
    },
    {
     "name": "stdout",
     "output_type": "stream",
     "text": [
      "[LibLinear]"
     ]
    },
    {
     "name": "stderr",
     "output_type": "stream",
     "text": [
      "c:\\users\\catalina\\appdata\\local\\programs\\python\\python39\\lib\\site-packages\\sklearn\\svm\\_base.py:985: ConvergenceWarning:\n",
      "\n",
      "Liblinear failed to converge, increase the number of iterations.\n",
      "\n"
     ]
    },
    {
     "name": "stdout",
     "output_type": "stream",
     "text": [
      "[LibLinear]"
     ]
    },
    {
     "name": "stderr",
     "output_type": "stream",
     "text": [
      "c:\\users\\catalina\\appdata\\local\\programs\\python\\python39\\lib\\site-packages\\sklearn\\svm\\_base.py:985: ConvergenceWarning:\n",
      "\n",
      "Liblinear failed to converge, increase the number of iterations.\n",
      "\n"
     ]
    },
    {
     "name": "stdout",
     "output_type": "stream",
     "text": [
      "[LibLinear]"
     ]
    },
    {
     "name": "stderr",
     "output_type": "stream",
     "text": [
      "c:\\users\\catalina\\appdata\\local\\programs\\python\\python39\\lib\\site-packages\\sklearn\\svm\\_base.py:985: ConvergenceWarning:\n",
      "\n",
      "Liblinear failed to converge, increase the number of iterations.\n",
      "\n"
     ]
    },
    {
     "name": "stdout",
     "output_type": "stream",
     "text": [
      "[LibLinear]"
     ]
    },
    {
     "name": "stderr",
     "output_type": "stream",
     "text": [
      "c:\\users\\catalina\\appdata\\local\\programs\\python\\python39\\lib\\site-packages\\sklearn\\svm\\_base.py:985: ConvergenceWarning:\n",
      "\n",
      "Liblinear failed to converge, increase the number of iterations.\n",
      "\n"
     ]
    },
    {
     "name": "stdout",
     "output_type": "stream",
     "text": [
      "[LibLinear]"
     ]
    },
    {
     "name": "stderr",
     "output_type": "stream",
     "text": [
      "c:\\users\\catalina\\appdata\\local\\programs\\python\\python39\\lib\\site-packages\\sklearn\\svm\\_base.py:985: ConvergenceWarning:\n",
      "\n",
      "Liblinear failed to converge, increase the number of iterations.\n",
      "\n"
     ]
    },
    {
     "name": "stdout",
     "output_type": "stream",
     "text": [
      "[LibLinear]"
     ]
    },
    {
     "name": "stderr",
     "output_type": "stream",
     "text": [
      "c:\\users\\catalina\\appdata\\local\\programs\\python\\python39\\lib\\site-packages\\sklearn\\svm\\_base.py:985: ConvergenceWarning:\n",
      "\n",
      "Liblinear failed to converge, increase the number of iterations.\n",
      "\n"
     ]
    },
    {
     "name": "stdout",
     "output_type": "stream",
     "text": [
      "[LibLinear]"
     ]
    },
    {
     "name": "stderr",
     "output_type": "stream",
     "text": [
      "c:\\users\\catalina\\appdata\\local\\programs\\python\\python39\\lib\\site-packages\\sklearn\\svm\\_base.py:985: ConvergenceWarning:\n",
      "\n",
      "Liblinear failed to converge, increase the number of iterations.\n",
      "\n"
     ]
    },
    {
     "name": "stdout",
     "output_type": "stream",
     "text": [
      "[LibLinear]"
     ]
    },
    {
     "name": "stderr",
     "output_type": "stream",
     "text": [
      "c:\\users\\catalina\\appdata\\local\\programs\\python\\python39\\lib\\site-packages\\sklearn\\svm\\_base.py:985: ConvergenceWarning:\n",
      "\n",
      "Liblinear failed to converge, increase the number of iterations.\n",
      "\n"
     ]
    },
    {
     "name": "stdout",
     "output_type": "stream",
     "text": [
      "[LibLinear]"
     ]
    },
    {
     "name": "stderr",
     "output_type": "stream",
     "text": [
      "c:\\users\\catalina\\appdata\\local\\programs\\python\\python39\\lib\\site-packages\\sklearn\\svm\\_base.py:985: ConvergenceWarning:\n",
      "\n",
      "Liblinear failed to converge, increase the number of iterations.\n",
      "\n"
     ]
    },
    {
     "name": "stdout",
     "output_type": "stream",
     "text": [
      "[LibLinear]"
     ]
    },
    {
     "name": "stderr",
     "output_type": "stream",
     "text": [
      "c:\\users\\catalina\\appdata\\local\\programs\\python\\python39\\lib\\site-packages\\sklearn\\svm\\_base.py:985: ConvergenceWarning:\n",
      "\n",
      "Liblinear failed to converge, increase the number of iterations.\n",
      "\n"
     ]
    },
    {
     "name": "stdout",
     "output_type": "stream",
     "text": [
      "[LibLinear]"
     ]
    },
    {
     "name": "stderr",
     "output_type": "stream",
     "text": [
      "c:\\users\\catalina\\appdata\\local\\programs\\python\\python39\\lib\\site-packages\\sklearn\\svm\\_base.py:985: ConvergenceWarning:\n",
      "\n",
      "Liblinear failed to converge, increase the number of iterations.\n",
      "\n"
     ]
    },
    {
     "name": "stdout",
     "output_type": "stream",
     "text": [
      "[LibLinear]"
     ]
    },
    {
     "name": "stderr",
     "output_type": "stream",
     "text": [
      "c:\\users\\catalina\\appdata\\local\\programs\\python\\python39\\lib\\site-packages\\sklearn\\svm\\_base.py:985: ConvergenceWarning:\n",
      "\n",
      "Liblinear failed to converge, increase the number of iterations.\n",
      "\n"
     ]
    },
    {
     "name": "stdout",
     "output_type": "stream",
     "text": [
      "[LibLinear]"
     ]
    },
    {
     "name": "stderr",
     "output_type": "stream",
     "text": [
      "c:\\users\\catalina\\appdata\\local\\programs\\python\\python39\\lib\\site-packages\\sklearn\\svm\\_base.py:985: ConvergenceWarning:\n",
      "\n",
      "Liblinear failed to converge, increase the number of iterations.\n",
      "\n"
     ]
    },
    {
     "name": "stdout",
     "output_type": "stream",
     "text": [
      "[LibLinear]"
     ]
    },
    {
     "name": "stderr",
     "output_type": "stream",
     "text": [
      "c:\\users\\catalina\\appdata\\local\\programs\\python\\python39\\lib\\site-packages\\sklearn\\svm\\_base.py:985: ConvergenceWarning:\n",
      "\n",
      "Liblinear failed to converge, increase the number of iterations.\n",
      "\n"
     ]
    },
    {
     "name": "stdout",
     "output_type": "stream",
     "text": [
      "[LibLinear]"
     ]
    },
    {
     "name": "stderr",
     "output_type": "stream",
     "text": [
      "c:\\users\\catalina\\appdata\\local\\programs\\python\\python39\\lib\\site-packages\\sklearn\\svm\\_base.py:985: ConvergenceWarning:\n",
      "\n",
      "Liblinear failed to converge, increase the number of iterations.\n",
      "\n"
     ]
    },
    {
     "name": "stdout",
     "output_type": "stream",
     "text": [
      "[LibLinear]"
     ]
    },
    {
     "name": "stderr",
     "output_type": "stream",
     "text": [
      "c:\\users\\catalina\\appdata\\local\\programs\\python\\python39\\lib\\site-packages\\sklearn\\svm\\_base.py:985: ConvergenceWarning:\n",
      "\n",
      "Liblinear failed to converge, increase the number of iterations.\n",
      "\n"
     ]
    },
    {
     "name": "stdout",
     "output_type": "stream",
     "text": [
      "[LibLinear]"
     ]
    },
    {
     "name": "stderr",
     "output_type": "stream",
     "text": [
      "c:\\users\\catalina\\appdata\\local\\programs\\python\\python39\\lib\\site-packages\\sklearn\\svm\\_base.py:985: ConvergenceWarning:\n",
      "\n",
      "Liblinear failed to converge, increase the number of iterations.\n",
      "\n"
     ]
    },
    {
     "name": "stdout",
     "output_type": "stream",
     "text": [
      "[LibLinear]"
     ]
    },
    {
     "name": "stderr",
     "output_type": "stream",
     "text": [
      "c:\\users\\catalina\\appdata\\local\\programs\\python\\python39\\lib\\site-packages\\sklearn\\svm\\_base.py:985: ConvergenceWarning:\n",
      "\n",
      "Liblinear failed to converge, increase the number of iterations.\n",
      "\n"
     ]
    },
    {
     "name": "stdout",
     "output_type": "stream",
     "text": [
      "[LibLinear]"
     ]
    },
    {
     "name": "stderr",
     "output_type": "stream",
     "text": [
      "c:\\users\\catalina\\appdata\\local\\programs\\python\\python39\\lib\\site-packages\\sklearn\\svm\\_base.py:985: ConvergenceWarning:\n",
      "\n",
      "Liblinear failed to converge, increase the number of iterations.\n",
      "\n"
     ]
    },
    {
     "name": "stdout",
     "output_type": "stream",
     "text": [
      "[LibLinear]"
     ]
    },
    {
     "name": "stderr",
     "output_type": "stream",
     "text": [
      "c:\\users\\catalina\\appdata\\local\\programs\\python\\python39\\lib\\site-packages\\sklearn\\svm\\_base.py:985: ConvergenceWarning:\n",
      "\n",
      "Liblinear failed to converge, increase the number of iterations.\n",
      "\n"
     ]
    },
    {
     "name": "stdout",
     "output_type": "stream",
     "text": [
      "[LibLinear]"
     ]
    },
    {
     "name": "stderr",
     "output_type": "stream",
     "text": [
      "c:\\users\\catalina\\appdata\\local\\programs\\python\\python39\\lib\\site-packages\\sklearn\\svm\\_base.py:985: ConvergenceWarning:\n",
      "\n",
      "Liblinear failed to converge, increase the number of iterations.\n",
      "\n"
     ]
    },
    {
     "name": "stdout",
     "output_type": "stream",
     "text": [
      "[LibLinear]"
     ]
    },
    {
     "name": "stderr",
     "output_type": "stream",
     "text": [
      "c:\\users\\catalina\\appdata\\local\\programs\\python\\python39\\lib\\site-packages\\sklearn\\svm\\_base.py:985: ConvergenceWarning:\n",
      "\n",
      "Liblinear failed to converge, increase the number of iterations.\n",
      "\n"
     ]
    },
    {
     "name": "stdout",
     "output_type": "stream",
     "text": [
      "[LibLinear]"
     ]
    },
    {
     "name": "stderr",
     "output_type": "stream",
     "text": [
      "c:\\users\\catalina\\appdata\\local\\programs\\python\\python39\\lib\\site-packages\\sklearn\\svm\\_base.py:985: ConvergenceWarning:\n",
      "\n",
      "Liblinear failed to converge, increase the number of iterations.\n",
      "\n"
     ]
    },
    {
     "name": "stdout",
     "output_type": "stream",
     "text": [
      "[LibLinear]"
     ]
    },
    {
     "name": "stderr",
     "output_type": "stream",
     "text": [
      "c:\\users\\catalina\\appdata\\local\\programs\\python\\python39\\lib\\site-packages\\sklearn\\svm\\_base.py:985: ConvergenceWarning:\n",
      "\n",
      "Liblinear failed to converge, increase the number of iterations.\n",
      "\n"
     ]
    },
    {
     "name": "stdout",
     "output_type": "stream",
     "text": [
      "[LibLinear]"
     ]
    },
    {
     "name": "stderr",
     "output_type": "stream",
     "text": [
      "c:\\users\\catalina\\appdata\\local\\programs\\python\\python39\\lib\\site-packages\\sklearn\\svm\\_base.py:985: ConvergenceWarning:\n",
      "\n",
      "Liblinear failed to converge, increase the number of iterations.\n",
      "\n"
     ]
    },
    {
     "name": "stdout",
     "output_type": "stream",
     "text": [
      "[LibLinear]"
     ]
    },
    {
     "name": "stderr",
     "output_type": "stream",
     "text": [
      "c:\\users\\catalina\\appdata\\local\\programs\\python\\python39\\lib\\site-packages\\sklearn\\svm\\_base.py:985: ConvergenceWarning:\n",
      "\n",
      "Liblinear failed to converge, increase the number of iterations.\n",
      "\n"
     ]
    },
    {
     "name": "stdout",
     "output_type": "stream",
     "text": [
      "[LibLinear]"
     ]
    },
    {
     "name": "stderr",
     "output_type": "stream",
     "text": [
      "c:\\users\\catalina\\appdata\\local\\programs\\python\\python39\\lib\\site-packages\\sklearn\\svm\\_base.py:985: ConvergenceWarning:\n",
      "\n",
      "Liblinear failed to converge, increase the number of iterations.\n",
      "\n"
     ]
    },
    {
     "name": "stdout",
     "output_type": "stream",
     "text": [
      "[LibLinear]"
     ]
    },
    {
     "name": "stderr",
     "output_type": "stream",
     "text": [
      "c:\\users\\catalina\\appdata\\local\\programs\\python\\python39\\lib\\site-packages\\sklearn\\svm\\_base.py:985: ConvergenceWarning:\n",
      "\n",
      "Liblinear failed to converge, increase the number of iterations.\n",
      "\n"
     ]
    },
    {
     "name": "stdout",
     "output_type": "stream",
     "text": [
      "[LibLinear]"
     ]
    },
    {
     "name": "stderr",
     "output_type": "stream",
     "text": [
      "c:\\users\\catalina\\appdata\\local\\programs\\python\\python39\\lib\\site-packages\\sklearn\\svm\\_base.py:985: ConvergenceWarning:\n",
      "\n",
      "Liblinear failed to converge, increase the number of iterations.\n",
      "\n"
     ]
    },
    {
     "name": "stdout",
     "output_type": "stream",
     "text": [
      "[LibLinear]"
     ]
    },
    {
     "name": "stderr",
     "output_type": "stream",
     "text": [
      "c:\\users\\catalina\\appdata\\local\\programs\\python\\python39\\lib\\site-packages\\sklearn\\svm\\_base.py:985: ConvergenceWarning:\n",
      "\n",
      "Liblinear failed to converge, increase the number of iterations.\n",
      "\n"
     ]
    },
    {
     "name": "stdout",
     "output_type": "stream",
     "text": [
      "[LibLinear]"
     ]
    },
    {
     "name": "stderr",
     "output_type": "stream",
     "text": [
      "c:\\users\\catalina\\appdata\\local\\programs\\python\\python39\\lib\\site-packages\\sklearn\\svm\\_base.py:985: ConvergenceWarning:\n",
      "\n",
      "Liblinear failed to converge, increase the number of iterations.\n",
      "\n"
     ]
    },
    {
     "name": "stdout",
     "output_type": "stream",
     "text": [
      "[LibLinear]"
     ]
    },
    {
     "name": "stderr",
     "output_type": "stream",
     "text": [
      "c:\\users\\catalina\\appdata\\local\\programs\\python\\python39\\lib\\site-packages\\sklearn\\svm\\_base.py:985: ConvergenceWarning:\n",
      "\n",
      "Liblinear failed to converge, increase the number of iterations.\n",
      "\n"
     ]
    },
    {
     "name": "stdout",
     "output_type": "stream",
     "text": [
      "[LibLinear]"
     ]
    },
    {
     "name": "stderr",
     "output_type": "stream",
     "text": [
      "c:\\users\\catalina\\appdata\\local\\programs\\python\\python39\\lib\\site-packages\\sklearn\\svm\\_base.py:985: ConvergenceWarning:\n",
      "\n",
      "Liblinear failed to converge, increase the number of iterations.\n",
      "\n"
     ]
    },
    {
     "name": "stdout",
     "output_type": "stream",
     "text": [
      "[LibLinear]"
     ]
    },
    {
     "name": "stderr",
     "output_type": "stream",
     "text": [
      "c:\\users\\catalina\\appdata\\local\\programs\\python\\python39\\lib\\site-packages\\sklearn\\svm\\_base.py:985: ConvergenceWarning:\n",
      "\n",
      "Liblinear failed to converge, increase the number of iterations.\n",
      "\n"
     ]
    },
    {
     "name": "stdout",
     "output_type": "stream",
     "text": [
      "[LibLinear]"
     ]
    },
    {
     "name": "stderr",
     "output_type": "stream",
     "text": [
      "c:\\users\\catalina\\appdata\\local\\programs\\python\\python39\\lib\\site-packages\\sklearn\\svm\\_base.py:985: ConvergenceWarning:\n",
      "\n",
      "Liblinear failed to converge, increase the number of iterations.\n",
      "\n"
     ]
    },
    {
     "name": "stdout",
     "output_type": "stream",
     "text": [
      "[LibLinear]"
     ]
    },
    {
     "name": "stderr",
     "output_type": "stream",
     "text": [
      "c:\\users\\catalina\\appdata\\local\\programs\\python\\python39\\lib\\site-packages\\sklearn\\svm\\_base.py:985: ConvergenceWarning:\n",
      "\n",
      "Liblinear failed to converge, increase the number of iterations.\n",
      "\n"
     ]
    },
    {
     "name": "stdout",
     "output_type": "stream",
     "text": [
      "[LibLinear]"
     ]
    },
    {
     "name": "stderr",
     "output_type": "stream",
     "text": [
      "c:\\users\\catalina\\appdata\\local\\programs\\python\\python39\\lib\\site-packages\\sklearn\\svm\\_base.py:985: ConvergenceWarning:\n",
      "\n",
      "Liblinear failed to converge, increase the number of iterations.\n",
      "\n"
     ]
    },
    {
     "name": "stdout",
     "output_type": "stream",
     "text": [
      "[LibLinear]"
     ]
    },
    {
     "name": "stderr",
     "output_type": "stream",
     "text": [
      "c:\\users\\catalina\\appdata\\local\\programs\\python\\python39\\lib\\site-packages\\sklearn\\svm\\_base.py:985: ConvergenceWarning:\n",
      "\n",
      "Liblinear failed to converge, increase the number of iterations.\n",
      "\n"
     ]
    },
    {
     "name": "stdout",
     "output_type": "stream",
     "text": [
      "[LibLinear]"
     ]
    },
    {
     "name": "stderr",
     "output_type": "stream",
     "text": [
      "c:\\users\\catalina\\appdata\\local\\programs\\python\\python39\\lib\\site-packages\\sklearn\\svm\\_base.py:985: ConvergenceWarning:\n",
      "\n",
      "Liblinear failed to converge, increase the number of iterations.\n",
      "\n"
     ]
    },
    {
     "name": "stdout",
     "output_type": "stream",
     "text": [
      "[LibLinear]"
     ]
    },
    {
     "name": "stderr",
     "output_type": "stream",
     "text": [
      "c:\\users\\catalina\\appdata\\local\\programs\\python\\python39\\lib\\site-packages\\sklearn\\svm\\_base.py:985: ConvergenceWarning:\n",
      "\n",
      "Liblinear failed to converge, increase the number of iterations.\n",
      "\n"
     ]
    },
    {
     "name": "stdout",
     "output_type": "stream",
     "text": [
      "[LibLinear]"
     ]
    },
    {
     "name": "stderr",
     "output_type": "stream",
     "text": [
      "c:\\users\\catalina\\appdata\\local\\programs\\python\\python39\\lib\\site-packages\\sklearn\\svm\\_base.py:985: ConvergenceWarning:\n",
      "\n",
      "Liblinear failed to converge, increase the number of iterations.\n",
      "\n"
     ]
    },
    {
     "name": "stdout",
     "output_type": "stream",
     "text": [
      "[LibLinear]"
     ]
    },
    {
     "name": "stderr",
     "output_type": "stream",
     "text": [
      "c:\\users\\catalina\\appdata\\local\\programs\\python\\python39\\lib\\site-packages\\sklearn\\svm\\_base.py:985: ConvergenceWarning:\n",
      "\n",
      "Liblinear failed to converge, increase the number of iterations.\n",
      "\n"
     ]
    },
    {
     "name": "stdout",
     "output_type": "stream",
     "text": [
      "[LibLinear]"
     ]
    },
    {
     "name": "stderr",
     "output_type": "stream",
     "text": [
      "c:\\users\\catalina\\appdata\\local\\programs\\python\\python39\\lib\\site-packages\\sklearn\\svm\\_base.py:985: ConvergenceWarning:\n",
      "\n",
      "Liblinear failed to converge, increase the number of iterations.\n",
      "\n"
     ]
    },
    {
     "name": "stdout",
     "output_type": "stream",
     "text": [
      "[LibLinear]"
     ]
    },
    {
     "name": "stderr",
     "output_type": "stream",
     "text": [
      "c:\\users\\catalina\\appdata\\local\\programs\\python\\python39\\lib\\site-packages\\sklearn\\svm\\_base.py:985: ConvergenceWarning:\n",
      "\n",
      "Liblinear failed to converge, increase the number of iterations.\n",
      "\n"
     ]
    },
    {
     "name": "stdout",
     "output_type": "stream",
     "text": [
      "[LibLinear]"
     ]
    },
    {
     "name": "stderr",
     "output_type": "stream",
     "text": [
      "c:\\users\\catalina\\appdata\\local\\programs\\python\\python39\\lib\\site-packages\\sklearn\\svm\\_base.py:985: ConvergenceWarning:\n",
      "\n",
      "Liblinear failed to converge, increase the number of iterations.\n",
      "\n"
     ]
    },
    {
     "name": "stdout",
     "output_type": "stream",
     "text": [
      "[LibLinear]"
     ]
    },
    {
     "name": "stderr",
     "output_type": "stream",
     "text": [
      "c:\\users\\catalina\\appdata\\local\\programs\\python\\python39\\lib\\site-packages\\sklearn\\svm\\_base.py:985: ConvergenceWarning:\n",
      "\n",
      "Liblinear failed to converge, increase the number of iterations.\n",
      "\n"
     ]
    },
    {
     "name": "stdout",
     "output_type": "stream",
     "text": [
      "[LibLinear]"
     ]
    },
    {
     "name": "stderr",
     "output_type": "stream",
     "text": [
      "c:\\users\\catalina\\appdata\\local\\programs\\python\\python39\\lib\\site-packages\\sklearn\\svm\\_base.py:985: ConvergenceWarning:\n",
      "\n",
      "Liblinear failed to converge, increase the number of iterations.\n",
      "\n"
     ]
    },
    {
     "name": "stdout",
     "output_type": "stream",
     "text": [
      "[LibLinear]"
     ]
    },
    {
     "name": "stderr",
     "output_type": "stream",
     "text": [
      "c:\\users\\catalina\\appdata\\local\\programs\\python\\python39\\lib\\site-packages\\sklearn\\svm\\_base.py:985: ConvergenceWarning:\n",
      "\n",
      "Liblinear failed to converge, increase the number of iterations.\n",
      "\n"
     ]
    },
    {
     "name": "stdout",
     "output_type": "stream",
     "text": [
      "[LibLinear]"
     ]
    },
    {
     "name": "stderr",
     "output_type": "stream",
     "text": [
      "c:\\users\\catalina\\appdata\\local\\programs\\python\\python39\\lib\\site-packages\\sklearn\\svm\\_base.py:985: ConvergenceWarning:\n",
      "\n",
      "Liblinear failed to converge, increase the number of iterations.\n",
      "\n"
     ]
    },
    {
     "name": "stdout",
     "output_type": "stream",
     "text": [
      "[LibLinear]"
     ]
    },
    {
     "name": "stderr",
     "output_type": "stream",
     "text": [
      "c:\\users\\catalina\\appdata\\local\\programs\\python\\python39\\lib\\site-packages\\sklearn\\svm\\_base.py:985: ConvergenceWarning:\n",
      "\n",
      "Liblinear failed to converge, increase the number of iterations.\n",
      "\n"
     ]
    },
    {
     "name": "stdout",
     "output_type": "stream",
     "text": [
      "[LibLinear]"
     ]
    },
    {
     "name": "stderr",
     "output_type": "stream",
     "text": [
      "c:\\users\\catalina\\appdata\\local\\programs\\python\\python39\\lib\\site-packages\\sklearn\\svm\\_base.py:985: ConvergenceWarning:\n",
      "\n",
      "Liblinear failed to converge, increase the number of iterations.\n",
      "\n"
     ]
    },
    {
     "name": "stdout",
     "output_type": "stream",
     "text": [
      "[LibLinear]"
     ]
    },
    {
     "name": "stderr",
     "output_type": "stream",
     "text": [
      "c:\\users\\catalina\\appdata\\local\\programs\\python\\python39\\lib\\site-packages\\sklearn\\svm\\_base.py:985: ConvergenceWarning:\n",
      "\n",
      "Liblinear failed to converge, increase the number of iterations.\n",
      "\n"
     ]
    },
    {
     "name": "stdout",
     "output_type": "stream",
     "text": [
      "[LibLinear]"
     ]
    },
    {
     "name": "stderr",
     "output_type": "stream",
     "text": [
      "c:\\users\\catalina\\appdata\\local\\programs\\python\\python39\\lib\\site-packages\\sklearn\\svm\\_base.py:985: ConvergenceWarning:\n",
      "\n",
      "Liblinear failed to converge, increase the number of iterations.\n",
      "\n"
     ]
    },
    {
     "name": "stdout",
     "output_type": "stream",
     "text": [
      "[LibLinear]"
     ]
    },
    {
     "name": "stderr",
     "output_type": "stream",
     "text": [
      "c:\\users\\catalina\\appdata\\local\\programs\\python\\python39\\lib\\site-packages\\sklearn\\svm\\_base.py:985: ConvergenceWarning:\n",
      "\n",
      "Liblinear failed to converge, increase the number of iterations.\n",
      "\n"
     ]
    },
    {
     "name": "stdout",
     "output_type": "stream",
     "text": [
      "[LibLinear]"
     ]
    },
    {
     "name": "stderr",
     "output_type": "stream",
     "text": [
      "c:\\users\\catalina\\appdata\\local\\programs\\python\\python39\\lib\\site-packages\\sklearn\\svm\\_base.py:985: ConvergenceWarning:\n",
      "\n",
      "Liblinear failed to converge, increase the number of iterations.\n",
      "\n"
     ]
    },
    {
     "name": "stdout",
     "output_type": "stream",
     "text": [
      "[LibLinear]"
     ]
    },
    {
     "name": "stderr",
     "output_type": "stream",
     "text": [
      "c:\\users\\catalina\\appdata\\local\\programs\\python\\python39\\lib\\site-packages\\sklearn\\svm\\_base.py:985: ConvergenceWarning:\n",
      "\n",
      "Liblinear failed to converge, increase the number of iterations.\n",
      "\n"
     ]
    },
    {
     "name": "stdout",
     "output_type": "stream",
     "text": [
      "[LibLinear]"
     ]
    },
    {
     "name": "stderr",
     "output_type": "stream",
     "text": [
      "c:\\users\\catalina\\appdata\\local\\programs\\python\\python39\\lib\\site-packages\\sklearn\\svm\\_base.py:985: ConvergenceWarning:\n",
      "\n",
      "Liblinear failed to converge, increase the number of iterations.\n",
      "\n"
     ]
    },
    {
     "name": "stdout",
     "output_type": "stream",
     "text": [
      "[LibLinear]"
     ]
    },
    {
     "name": "stderr",
     "output_type": "stream",
     "text": [
      "c:\\users\\catalina\\appdata\\local\\programs\\python\\python39\\lib\\site-packages\\sklearn\\svm\\_base.py:985: ConvergenceWarning:\n",
      "\n",
      "Liblinear failed to converge, increase the number of iterations.\n",
      "\n"
     ]
    },
    {
     "name": "stdout",
     "output_type": "stream",
     "text": [
      "[LibLinear]"
     ]
    },
    {
     "name": "stderr",
     "output_type": "stream",
     "text": [
      "c:\\users\\catalina\\appdata\\local\\programs\\python\\python39\\lib\\site-packages\\sklearn\\svm\\_base.py:985: ConvergenceWarning:\n",
      "\n",
      "Liblinear failed to converge, increase the number of iterations.\n",
      "\n"
     ]
    },
    {
     "name": "stdout",
     "output_type": "stream",
     "text": [
      "[LibLinear]"
     ]
    },
    {
     "name": "stderr",
     "output_type": "stream",
     "text": [
      "c:\\users\\catalina\\appdata\\local\\programs\\python\\python39\\lib\\site-packages\\sklearn\\svm\\_base.py:985: ConvergenceWarning:\n",
      "\n",
      "Liblinear failed to converge, increase the number of iterations.\n",
      "\n"
     ]
    },
    {
     "name": "stdout",
     "output_type": "stream",
     "text": [
      "[LibLinear]"
     ]
    },
    {
     "name": "stderr",
     "output_type": "stream",
     "text": [
      "c:\\users\\catalina\\appdata\\local\\programs\\python\\python39\\lib\\site-packages\\sklearn\\svm\\_base.py:985: ConvergenceWarning:\n",
      "\n",
      "Liblinear failed to converge, increase the number of iterations.\n",
      "\n"
     ]
    },
    {
     "name": "stdout",
     "output_type": "stream",
     "text": [
      "[LibLinear]"
     ]
    },
    {
     "name": "stderr",
     "output_type": "stream",
     "text": [
      "c:\\users\\catalina\\appdata\\local\\programs\\python\\python39\\lib\\site-packages\\sklearn\\svm\\_base.py:985: ConvergenceWarning:\n",
      "\n",
      "Liblinear failed to converge, increase the number of iterations.\n",
      "\n"
     ]
    },
    {
     "name": "stdout",
     "output_type": "stream",
     "text": [
      "[LibLinear]"
     ]
    },
    {
     "name": "stderr",
     "output_type": "stream",
     "text": [
      "c:\\users\\catalina\\appdata\\local\\programs\\python\\python39\\lib\\site-packages\\sklearn\\svm\\_base.py:985: ConvergenceWarning:\n",
      "\n",
      "Liblinear failed to converge, increase the number of iterations.\n",
      "\n"
     ]
    },
    {
     "name": "stdout",
     "output_type": "stream",
     "text": [
      "[LibLinear]"
     ]
    },
    {
     "name": "stderr",
     "output_type": "stream",
     "text": [
      "c:\\users\\catalina\\appdata\\local\\programs\\python\\python39\\lib\\site-packages\\sklearn\\svm\\_base.py:985: ConvergenceWarning:\n",
      "\n",
      "Liblinear failed to converge, increase the number of iterations.\n",
      "\n"
     ]
    },
    {
     "name": "stdout",
     "output_type": "stream",
     "text": [
      "[LibLinear]"
     ]
    },
    {
     "name": "stderr",
     "output_type": "stream",
     "text": [
      "c:\\users\\catalina\\appdata\\local\\programs\\python\\python39\\lib\\site-packages\\sklearn\\svm\\_base.py:985: ConvergenceWarning:\n",
      "\n",
      "Liblinear failed to converge, increase the number of iterations.\n",
      "\n"
     ]
    },
    {
     "name": "stdout",
     "output_type": "stream",
     "text": [
      "[LibLinear]"
     ]
    },
    {
     "name": "stderr",
     "output_type": "stream",
     "text": [
      "c:\\users\\catalina\\appdata\\local\\programs\\python\\python39\\lib\\site-packages\\sklearn\\svm\\_base.py:985: ConvergenceWarning:\n",
      "\n",
      "Liblinear failed to converge, increase the number of iterations.\n",
      "\n"
     ]
    },
    {
     "name": "stdout",
     "output_type": "stream",
     "text": [
      "[LibLinear]"
     ]
    },
    {
     "name": "stderr",
     "output_type": "stream",
     "text": [
      "c:\\users\\catalina\\appdata\\local\\programs\\python\\python39\\lib\\site-packages\\sklearn\\svm\\_base.py:985: ConvergenceWarning:\n",
      "\n",
      "Liblinear failed to converge, increase the number of iterations.\n",
      "\n"
     ]
    },
    {
     "name": "stdout",
     "output_type": "stream",
     "text": [
      "[LibLinear]"
     ]
    },
    {
     "name": "stderr",
     "output_type": "stream",
     "text": [
      "c:\\users\\catalina\\appdata\\local\\programs\\python\\python39\\lib\\site-packages\\sklearn\\svm\\_base.py:985: ConvergenceWarning:\n",
      "\n",
      "Liblinear failed to converge, increase the number of iterations.\n",
      "\n"
     ]
    },
    {
     "name": "stdout",
     "output_type": "stream",
     "text": [
      "[LibLinear]"
     ]
    },
    {
     "name": "stderr",
     "output_type": "stream",
     "text": [
      "c:\\users\\catalina\\appdata\\local\\programs\\python\\python39\\lib\\site-packages\\sklearn\\svm\\_base.py:985: ConvergenceWarning:\n",
      "\n",
      "Liblinear failed to converge, increase the number of iterations.\n",
      "\n"
     ]
    },
    {
     "name": "stdout",
     "output_type": "stream",
     "text": [
      "[LibLinear]"
     ]
    },
    {
     "name": "stderr",
     "output_type": "stream",
     "text": [
      "c:\\users\\catalina\\appdata\\local\\programs\\python\\python39\\lib\\site-packages\\sklearn\\svm\\_base.py:985: ConvergenceWarning:\n",
      "\n",
      "Liblinear failed to converge, increase the number of iterations.\n",
      "\n"
     ]
    },
    {
     "name": "stdout",
     "output_type": "stream",
     "text": [
      "[LibLinear]"
     ]
    },
    {
     "name": "stderr",
     "output_type": "stream",
     "text": [
      "c:\\users\\catalina\\appdata\\local\\programs\\python\\python39\\lib\\site-packages\\sklearn\\svm\\_base.py:985: ConvergenceWarning:\n",
      "\n",
      "Liblinear failed to converge, increase the number of iterations.\n",
      "\n"
     ]
    },
    {
     "name": "stdout",
     "output_type": "stream",
     "text": [
      "[LibLinear]"
     ]
    },
    {
     "name": "stderr",
     "output_type": "stream",
     "text": [
      "c:\\users\\catalina\\appdata\\local\\programs\\python\\python39\\lib\\site-packages\\sklearn\\svm\\_base.py:985: ConvergenceWarning:\n",
      "\n",
      "Liblinear failed to converge, increase the number of iterations.\n",
      "\n"
     ]
    },
    {
     "name": "stdout",
     "output_type": "stream",
     "text": [
      "[LibLinear]"
     ]
    },
    {
     "name": "stderr",
     "output_type": "stream",
     "text": [
      "c:\\users\\catalina\\appdata\\local\\programs\\python\\python39\\lib\\site-packages\\sklearn\\svm\\_base.py:985: ConvergenceWarning:\n",
      "\n",
      "Liblinear failed to converge, increase the number of iterations.\n",
      "\n"
     ]
    },
    {
     "name": "stdout",
     "output_type": "stream",
     "text": [
      "[LibLinear]"
     ]
    },
    {
     "name": "stderr",
     "output_type": "stream",
     "text": [
      "c:\\users\\catalina\\appdata\\local\\programs\\python\\python39\\lib\\site-packages\\sklearn\\svm\\_base.py:985: ConvergenceWarning:\n",
      "\n",
      "Liblinear failed to converge, increase the number of iterations.\n",
      "\n"
     ]
    },
    {
     "name": "stdout",
     "output_type": "stream",
     "text": [
      "[LibLinear]"
     ]
    },
    {
     "name": "stderr",
     "output_type": "stream",
     "text": [
      "c:\\users\\catalina\\appdata\\local\\programs\\python\\python39\\lib\\site-packages\\sklearn\\svm\\_base.py:985: ConvergenceWarning:\n",
      "\n",
      "Liblinear failed to converge, increase the number of iterations.\n",
      "\n"
     ]
    },
    {
     "name": "stdout",
     "output_type": "stream",
     "text": [
      "[LibLinear]"
     ]
    },
    {
     "name": "stderr",
     "output_type": "stream",
     "text": [
      "c:\\users\\catalina\\appdata\\local\\programs\\python\\python39\\lib\\site-packages\\sklearn\\svm\\_base.py:985: ConvergenceWarning:\n",
      "\n",
      "Liblinear failed to converge, increase the number of iterations.\n",
      "\n"
     ]
    },
    {
     "name": "stdout",
     "output_type": "stream",
     "text": [
      "[LibLinear]"
     ]
    },
    {
     "name": "stderr",
     "output_type": "stream",
     "text": [
      "c:\\users\\catalina\\appdata\\local\\programs\\python\\python39\\lib\\site-packages\\sklearn\\svm\\_base.py:985: ConvergenceWarning:\n",
      "\n",
      "Liblinear failed to converge, increase the number of iterations.\n",
      "\n"
     ]
    },
    {
     "name": "stdout",
     "output_type": "stream",
     "text": [
      "[LibLinear]"
     ]
    },
    {
     "name": "stderr",
     "output_type": "stream",
     "text": [
      "c:\\users\\catalina\\appdata\\local\\programs\\python\\python39\\lib\\site-packages\\sklearn\\svm\\_base.py:985: ConvergenceWarning:\n",
      "\n",
      "Liblinear failed to converge, increase the number of iterations.\n",
      "\n"
     ]
    },
    {
     "name": "stdout",
     "output_type": "stream",
     "text": [
      "[LibLinear]"
     ]
    },
    {
     "name": "stderr",
     "output_type": "stream",
     "text": [
      "c:\\users\\catalina\\appdata\\local\\programs\\python\\python39\\lib\\site-packages\\sklearn\\svm\\_base.py:985: ConvergenceWarning:\n",
      "\n",
      "Liblinear failed to converge, increase the number of iterations.\n",
      "\n"
     ]
    },
    {
     "name": "stdout",
     "output_type": "stream",
     "text": [
      "[LibLinear]"
     ]
    },
    {
     "name": "stderr",
     "output_type": "stream",
     "text": [
      "c:\\users\\catalina\\appdata\\local\\programs\\python\\python39\\lib\\site-packages\\sklearn\\svm\\_base.py:985: ConvergenceWarning:\n",
      "\n",
      "Liblinear failed to converge, increase the number of iterations.\n",
      "\n"
     ]
    },
    {
     "name": "stdout",
     "output_type": "stream",
     "text": [
      "[LibLinear]"
     ]
    },
    {
     "name": "stderr",
     "output_type": "stream",
     "text": [
      "c:\\users\\catalina\\appdata\\local\\programs\\python\\python39\\lib\\site-packages\\sklearn\\svm\\_base.py:985: ConvergenceWarning:\n",
      "\n",
      "Liblinear failed to converge, increase the number of iterations.\n",
      "\n"
     ]
    },
    {
     "name": "stdout",
     "output_type": "stream",
     "text": [
      "[LibLinear]"
     ]
    },
    {
     "name": "stderr",
     "output_type": "stream",
     "text": [
      "c:\\users\\catalina\\appdata\\local\\programs\\python\\python39\\lib\\site-packages\\sklearn\\svm\\_base.py:985: ConvergenceWarning:\n",
      "\n",
      "Liblinear failed to converge, increase the number of iterations.\n",
      "\n"
     ]
    },
    {
     "name": "stdout",
     "output_type": "stream",
     "text": [
      "[LibLinear]"
     ]
    },
    {
     "name": "stderr",
     "output_type": "stream",
     "text": [
      "c:\\users\\catalina\\appdata\\local\\programs\\python\\python39\\lib\\site-packages\\sklearn\\svm\\_base.py:985: ConvergenceWarning:\n",
      "\n",
      "Liblinear failed to converge, increase the number of iterations.\n",
      "\n"
     ]
    },
    {
     "name": "stdout",
     "output_type": "stream",
     "text": [
      "[LibLinear]"
     ]
    },
    {
     "name": "stderr",
     "output_type": "stream",
     "text": [
      "c:\\users\\catalina\\appdata\\local\\programs\\python\\python39\\lib\\site-packages\\sklearn\\svm\\_base.py:985: ConvergenceWarning:\n",
      "\n",
      "Liblinear failed to converge, increase the number of iterations.\n",
      "\n"
     ]
    },
    {
     "name": "stdout",
     "output_type": "stream",
     "text": [
      "[LibLinear]"
     ]
    },
    {
     "name": "stderr",
     "output_type": "stream",
     "text": [
      "c:\\users\\catalina\\appdata\\local\\programs\\python\\python39\\lib\\site-packages\\sklearn\\svm\\_base.py:985: ConvergenceWarning:\n",
      "\n",
      "Liblinear failed to converge, increase the number of iterations.\n",
      "\n"
     ]
    },
    {
     "name": "stdout",
     "output_type": "stream",
     "text": [
      "[LibLinear]"
     ]
    },
    {
     "name": "stderr",
     "output_type": "stream",
     "text": [
      "c:\\users\\catalina\\appdata\\local\\programs\\python\\python39\\lib\\site-packages\\sklearn\\svm\\_base.py:985: ConvergenceWarning:\n",
      "\n",
      "Liblinear failed to converge, increase the number of iterations.\n",
      "\n"
     ]
    },
    {
     "name": "stdout",
     "output_type": "stream",
     "text": [
      "[LibLinear]"
     ]
    },
    {
     "name": "stderr",
     "output_type": "stream",
     "text": [
      "c:\\users\\catalina\\appdata\\local\\programs\\python\\python39\\lib\\site-packages\\sklearn\\svm\\_base.py:985: ConvergenceWarning:\n",
      "\n",
      "Liblinear failed to converge, increase the number of iterations.\n",
      "\n"
     ]
    },
    {
     "name": "stdout",
     "output_type": "stream",
     "text": [
      "[LibLinear]"
     ]
    },
    {
     "name": "stderr",
     "output_type": "stream",
     "text": [
      "c:\\users\\catalina\\appdata\\local\\programs\\python\\python39\\lib\\site-packages\\sklearn\\svm\\_base.py:985: ConvergenceWarning:\n",
      "\n",
      "Liblinear failed to converge, increase the number of iterations.\n",
      "\n"
     ]
    },
    {
     "name": "stdout",
     "output_type": "stream",
     "text": [
      "[LibLinear]"
     ]
    },
    {
     "name": "stderr",
     "output_type": "stream",
     "text": [
      "c:\\users\\catalina\\appdata\\local\\programs\\python\\python39\\lib\\site-packages\\sklearn\\svm\\_base.py:985: ConvergenceWarning:\n",
      "\n",
      "Liblinear failed to converge, increase the number of iterations.\n",
      "\n"
     ]
    },
    {
     "name": "stdout",
     "output_type": "stream",
     "text": [
      "[LibLinear]"
     ]
    },
    {
     "name": "stderr",
     "output_type": "stream",
     "text": [
      "c:\\users\\catalina\\appdata\\local\\programs\\python\\python39\\lib\\site-packages\\sklearn\\svm\\_base.py:985: ConvergenceWarning:\n",
      "\n",
      "Liblinear failed to converge, increase the number of iterations.\n",
      "\n"
     ]
    },
    {
     "name": "stdout",
     "output_type": "stream",
     "text": [
      "[LibLinear]"
     ]
    },
    {
     "name": "stderr",
     "output_type": "stream",
     "text": [
      "c:\\users\\catalina\\appdata\\local\\programs\\python\\python39\\lib\\site-packages\\sklearn\\svm\\_base.py:985: ConvergenceWarning:\n",
      "\n",
      "Liblinear failed to converge, increase the number of iterations.\n",
      "\n"
     ]
    },
    {
     "name": "stdout",
     "output_type": "stream",
     "text": [
      "[LibLinear]"
     ]
    },
    {
     "name": "stderr",
     "output_type": "stream",
     "text": [
      "c:\\users\\catalina\\appdata\\local\\programs\\python\\python39\\lib\\site-packages\\sklearn\\svm\\_base.py:985: ConvergenceWarning:\n",
      "\n",
      "Liblinear failed to converge, increase the number of iterations.\n",
      "\n"
     ]
    },
    {
     "name": "stdout",
     "output_type": "stream",
     "text": [
      "[LibLinear]"
     ]
    },
    {
     "name": "stderr",
     "output_type": "stream",
     "text": [
      "c:\\users\\catalina\\appdata\\local\\programs\\python\\python39\\lib\\site-packages\\sklearn\\svm\\_base.py:985: ConvergenceWarning:\n",
      "\n",
      "Liblinear failed to converge, increase the number of iterations.\n",
      "\n"
     ]
    },
    {
     "name": "stdout",
     "output_type": "stream",
     "text": [
      "[LibLinear]"
     ]
    },
    {
     "name": "stderr",
     "output_type": "stream",
     "text": [
      "c:\\users\\catalina\\appdata\\local\\programs\\python\\python39\\lib\\site-packages\\sklearn\\svm\\_base.py:985: ConvergenceWarning:\n",
      "\n",
      "Liblinear failed to converge, increase the number of iterations.\n",
      "\n"
     ]
    },
    {
     "name": "stdout",
     "output_type": "stream",
     "text": [
      "[LibLinear]"
     ]
    },
    {
     "name": "stderr",
     "output_type": "stream",
     "text": [
      "c:\\users\\catalina\\appdata\\local\\programs\\python\\python39\\lib\\site-packages\\sklearn\\svm\\_base.py:985: ConvergenceWarning:\n",
      "\n",
      "Liblinear failed to converge, increase the number of iterations.\n",
      "\n"
     ]
    },
    {
     "name": "stdout",
     "output_type": "stream",
     "text": [
      "[LibLinear]"
     ]
    },
    {
     "name": "stderr",
     "output_type": "stream",
     "text": [
      "c:\\users\\catalina\\appdata\\local\\programs\\python\\python39\\lib\\site-packages\\sklearn\\svm\\_base.py:985: ConvergenceWarning:\n",
      "\n",
      "Liblinear failed to converge, increase the number of iterations.\n",
      "\n"
     ]
    },
    {
     "name": "stdout",
     "output_type": "stream",
     "text": [
      "[LibLinear]"
     ]
    },
    {
     "name": "stderr",
     "output_type": "stream",
     "text": [
      "c:\\users\\catalina\\appdata\\local\\programs\\python\\python39\\lib\\site-packages\\sklearn\\svm\\_base.py:985: ConvergenceWarning:\n",
      "\n",
      "Liblinear failed to converge, increase the number of iterations.\n",
      "\n"
     ]
    },
    {
     "name": "stdout",
     "output_type": "stream",
     "text": [
      "[LibLinear]"
     ]
    },
    {
     "name": "stderr",
     "output_type": "stream",
     "text": [
      "c:\\users\\catalina\\appdata\\local\\programs\\python\\python39\\lib\\site-packages\\sklearn\\svm\\_base.py:985: ConvergenceWarning:\n",
      "\n",
      "Liblinear failed to converge, increase the number of iterations.\n",
      "\n"
     ]
    },
    {
     "name": "stdout",
     "output_type": "stream",
     "text": [
      "[LibLinear]"
     ]
    },
    {
     "name": "stderr",
     "output_type": "stream",
     "text": [
      "c:\\users\\catalina\\appdata\\local\\programs\\python\\python39\\lib\\site-packages\\sklearn\\svm\\_base.py:985: ConvergenceWarning:\n",
      "\n",
      "Liblinear failed to converge, increase the number of iterations.\n",
      "\n"
     ]
    },
    {
     "name": "stdout",
     "output_type": "stream",
     "text": [
      "[LibLinear]"
     ]
    },
    {
     "name": "stderr",
     "output_type": "stream",
     "text": [
      "c:\\users\\catalina\\appdata\\local\\programs\\python\\python39\\lib\\site-packages\\sklearn\\svm\\_base.py:985: ConvergenceWarning:\n",
      "\n",
      "Liblinear failed to converge, increase the number of iterations.\n",
      "\n"
     ]
    },
    {
     "name": "stdout",
     "output_type": "stream",
     "text": [
      "[LibLinear]"
     ]
    },
    {
     "name": "stderr",
     "output_type": "stream",
     "text": [
      "c:\\users\\catalina\\appdata\\local\\programs\\python\\python39\\lib\\site-packages\\sklearn\\svm\\_base.py:985: ConvergenceWarning:\n",
      "\n",
      "Liblinear failed to converge, increase the number of iterations.\n",
      "\n"
     ]
    },
    {
     "name": "stdout",
     "output_type": "stream",
     "text": [
      "[LibLinear]"
     ]
    },
    {
     "name": "stderr",
     "output_type": "stream",
     "text": [
      "c:\\users\\catalina\\appdata\\local\\programs\\python\\python39\\lib\\site-packages\\sklearn\\svm\\_base.py:985: ConvergenceWarning:\n",
      "\n",
      "Liblinear failed to converge, increase the number of iterations.\n",
      "\n"
     ]
    },
    {
     "name": "stdout",
     "output_type": "stream",
     "text": [
      "[LibLinear]"
     ]
    },
    {
     "name": "stderr",
     "output_type": "stream",
     "text": [
      "c:\\users\\catalina\\appdata\\local\\programs\\python\\python39\\lib\\site-packages\\sklearn\\svm\\_base.py:985: ConvergenceWarning:\n",
      "\n",
      "Liblinear failed to converge, increase the number of iterations.\n",
      "\n"
     ]
    },
    {
     "name": "stdout",
     "output_type": "stream",
     "text": [
      "[LibLinear]"
     ]
    },
    {
     "name": "stderr",
     "output_type": "stream",
     "text": [
      "c:\\users\\catalina\\appdata\\local\\programs\\python\\python39\\lib\\site-packages\\sklearn\\svm\\_base.py:985: ConvergenceWarning:\n",
      "\n",
      "Liblinear failed to converge, increase the number of iterations.\n",
      "\n"
     ]
    },
    {
     "name": "stdout",
     "output_type": "stream",
     "text": [
      "[LibLinear]"
     ]
    },
    {
     "name": "stderr",
     "output_type": "stream",
     "text": [
      "c:\\users\\catalina\\appdata\\local\\programs\\python\\python39\\lib\\site-packages\\sklearn\\svm\\_base.py:985: ConvergenceWarning:\n",
      "\n",
      "Liblinear failed to converge, increase the number of iterations.\n",
      "\n"
     ]
    },
    {
     "name": "stdout",
     "output_type": "stream",
     "text": [
      "[LibLinear]"
     ]
    },
    {
     "name": "stderr",
     "output_type": "stream",
     "text": [
      "c:\\users\\catalina\\appdata\\local\\programs\\python\\python39\\lib\\site-packages\\sklearn\\svm\\_base.py:985: ConvergenceWarning:\n",
      "\n",
      "Liblinear failed to converge, increase the number of iterations.\n",
      "\n"
     ]
    },
    {
     "name": "stdout",
     "output_type": "stream",
     "text": [
      "[LibLinear]"
     ]
    },
    {
     "name": "stderr",
     "output_type": "stream",
     "text": [
      "c:\\users\\catalina\\appdata\\local\\programs\\python\\python39\\lib\\site-packages\\sklearn\\svm\\_base.py:985: ConvergenceWarning:\n",
      "\n",
      "Liblinear failed to converge, increase the number of iterations.\n",
      "\n"
     ]
    },
    {
     "name": "stdout",
     "output_type": "stream",
     "text": [
      "[LibLinear]"
     ]
    },
    {
     "name": "stderr",
     "output_type": "stream",
     "text": [
      "c:\\users\\catalina\\appdata\\local\\programs\\python\\python39\\lib\\site-packages\\sklearn\\svm\\_base.py:985: ConvergenceWarning:\n",
      "\n",
      "Liblinear failed to converge, increase the number of iterations.\n",
      "\n"
     ]
    },
    {
     "name": "stdout",
     "output_type": "stream",
     "text": [
      "[LibLinear]"
     ]
    },
    {
     "name": "stderr",
     "output_type": "stream",
     "text": [
      "c:\\users\\catalina\\appdata\\local\\programs\\python\\python39\\lib\\site-packages\\sklearn\\svm\\_base.py:985: ConvergenceWarning:\n",
      "\n",
      "Liblinear failed to converge, increase the number of iterations.\n",
      "\n"
     ]
    },
    {
     "name": "stdout",
     "output_type": "stream",
     "text": [
      "[LibLinear]"
     ]
    },
    {
     "name": "stderr",
     "output_type": "stream",
     "text": [
      "c:\\users\\catalina\\appdata\\local\\programs\\python\\python39\\lib\\site-packages\\sklearn\\svm\\_base.py:985: ConvergenceWarning:\n",
      "\n",
      "Liblinear failed to converge, increase the number of iterations.\n",
      "\n"
     ]
    },
    {
     "name": "stdout",
     "output_type": "stream",
     "text": [
      "[LibLinear]"
     ]
    },
    {
     "name": "stderr",
     "output_type": "stream",
     "text": [
      "c:\\users\\catalina\\appdata\\local\\programs\\python\\python39\\lib\\site-packages\\sklearn\\svm\\_base.py:985: ConvergenceWarning:\n",
      "\n",
      "Liblinear failed to converge, increase the number of iterations.\n",
      "\n"
     ]
    },
    {
     "name": "stdout",
     "output_type": "stream",
     "text": [
      "[LibLinear]"
     ]
    },
    {
     "name": "stderr",
     "output_type": "stream",
     "text": [
      "c:\\users\\catalina\\appdata\\local\\programs\\python\\python39\\lib\\site-packages\\sklearn\\svm\\_base.py:985: ConvergenceWarning:\n",
      "\n",
      "Liblinear failed to converge, increase the number of iterations.\n",
      "\n"
     ]
    },
    {
     "name": "stdout",
     "output_type": "stream",
     "text": [
      "[LibLinear]"
     ]
    },
    {
     "name": "stderr",
     "output_type": "stream",
     "text": [
      "c:\\users\\catalina\\appdata\\local\\programs\\python\\python39\\lib\\site-packages\\sklearn\\svm\\_base.py:985: ConvergenceWarning:\n",
      "\n",
      "Liblinear failed to converge, increase the number of iterations.\n",
      "\n"
     ]
    },
    {
     "name": "stdout",
     "output_type": "stream",
     "text": [
      "[LibLinear]"
     ]
    },
    {
     "name": "stderr",
     "output_type": "stream",
     "text": [
      "c:\\users\\catalina\\appdata\\local\\programs\\python\\python39\\lib\\site-packages\\sklearn\\svm\\_base.py:985: ConvergenceWarning:\n",
      "\n",
      "Liblinear failed to converge, increase the number of iterations.\n",
      "\n"
     ]
    },
    {
     "name": "stdout",
     "output_type": "stream",
     "text": [
      "[LibLinear]"
     ]
    },
    {
     "name": "stderr",
     "output_type": "stream",
     "text": [
      "c:\\users\\catalina\\appdata\\local\\programs\\python\\python39\\lib\\site-packages\\sklearn\\svm\\_base.py:985: ConvergenceWarning:\n",
      "\n",
      "Liblinear failed to converge, increase the number of iterations.\n",
      "\n"
     ]
    },
    {
     "name": "stdout",
     "output_type": "stream",
     "text": [
      "[LibLinear]"
     ]
    },
    {
     "name": "stderr",
     "output_type": "stream",
     "text": [
      "c:\\users\\catalina\\appdata\\local\\programs\\python\\python39\\lib\\site-packages\\sklearn\\svm\\_base.py:985: ConvergenceWarning:\n",
      "\n",
      "Liblinear failed to converge, increase the number of iterations.\n",
      "\n"
     ]
    },
    {
     "name": "stdout",
     "output_type": "stream",
     "text": [
      "[LibLinear]"
     ]
    },
    {
     "name": "stderr",
     "output_type": "stream",
     "text": [
      "c:\\users\\catalina\\appdata\\local\\programs\\python\\python39\\lib\\site-packages\\sklearn\\svm\\_base.py:985: ConvergenceWarning:\n",
      "\n",
      "Liblinear failed to converge, increase the number of iterations.\n",
      "\n"
     ]
    },
    {
     "name": "stdout",
     "output_type": "stream",
     "text": [
      "[LibLinear]"
     ]
    },
    {
     "name": "stderr",
     "output_type": "stream",
     "text": [
      "c:\\users\\catalina\\appdata\\local\\programs\\python\\python39\\lib\\site-packages\\sklearn\\svm\\_base.py:985: ConvergenceWarning:\n",
      "\n",
      "Liblinear failed to converge, increase the number of iterations.\n",
      "\n"
     ]
    },
    {
     "name": "stdout",
     "output_type": "stream",
     "text": [
      "[LibLinear]"
     ]
    },
    {
     "name": "stderr",
     "output_type": "stream",
     "text": [
      "c:\\users\\catalina\\appdata\\local\\programs\\python\\python39\\lib\\site-packages\\sklearn\\svm\\_base.py:985: ConvergenceWarning:\n",
      "\n",
      "Liblinear failed to converge, increase the number of iterations.\n",
      "\n"
     ]
    },
    {
     "name": "stdout",
     "output_type": "stream",
     "text": [
      "[LibLinear]"
     ]
    },
    {
     "name": "stderr",
     "output_type": "stream",
     "text": [
      "c:\\users\\catalina\\appdata\\local\\programs\\python\\python39\\lib\\site-packages\\sklearn\\svm\\_base.py:985: ConvergenceWarning:\n",
      "\n",
      "Liblinear failed to converge, increase the number of iterations.\n",
      "\n"
     ]
    },
    {
     "name": "stdout",
     "output_type": "stream",
     "text": [
      "[LibLinear]"
     ]
    },
    {
     "name": "stderr",
     "output_type": "stream",
     "text": [
      "c:\\users\\catalina\\appdata\\local\\programs\\python\\python39\\lib\\site-packages\\sklearn\\svm\\_base.py:985: ConvergenceWarning:\n",
      "\n",
      "Liblinear failed to converge, increase the number of iterations.\n",
      "\n"
     ]
    },
    {
     "name": "stdout",
     "output_type": "stream",
     "text": [
      "[LibLinear]"
     ]
    },
    {
     "name": "stderr",
     "output_type": "stream",
     "text": [
      "c:\\users\\catalina\\appdata\\local\\programs\\python\\python39\\lib\\site-packages\\sklearn\\svm\\_base.py:985: ConvergenceWarning:\n",
      "\n",
      "Liblinear failed to converge, increase the number of iterations.\n",
      "\n"
     ]
    },
    {
     "name": "stdout",
     "output_type": "stream",
     "text": [
      "[LibLinear]"
     ]
    },
    {
     "name": "stderr",
     "output_type": "stream",
     "text": [
      "c:\\users\\catalina\\appdata\\local\\programs\\python\\python39\\lib\\site-packages\\sklearn\\svm\\_base.py:985: ConvergenceWarning:\n",
      "\n",
      "Liblinear failed to converge, increase the number of iterations.\n",
      "\n"
     ]
    },
    {
     "name": "stdout",
     "output_type": "stream",
     "text": [
      "[LibLinear]"
     ]
    },
    {
     "name": "stderr",
     "output_type": "stream",
     "text": [
      "c:\\users\\catalina\\appdata\\local\\programs\\python\\python39\\lib\\site-packages\\sklearn\\svm\\_base.py:985: ConvergenceWarning:\n",
      "\n",
      "Liblinear failed to converge, increase the number of iterations.\n",
      "\n"
     ]
    },
    {
     "name": "stdout",
     "output_type": "stream",
     "text": [
      "[LibLinear]"
     ]
    },
    {
     "name": "stderr",
     "output_type": "stream",
     "text": [
      "c:\\users\\catalina\\appdata\\local\\programs\\python\\python39\\lib\\site-packages\\sklearn\\svm\\_base.py:985: ConvergenceWarning:\n",
      "\n",
      "Liblinear failed to converge, increase the number of iterations.\n",
      "\n"
     ]
    },
    {
     "name": "stdout",
     "output_type": "stream",
     "text": [
      "[LibLinear]"
     ]
    },
    {
     "name": "stderr",
     "output_type": "stream",
     "text": [
      "c:\\users\\catalina\\appdata\\local\\programs\\python\\python39\\lib\\site-packages\\sklearn\\svm\\_base.py:985: ConvergenceWarning:\n",
      "\n",
      "Liblinear failed to converge, increase the number of iterations.\n",
      "\n"
     ]
    },
    {
     "name": "stdout",
     "output_type": "stream",
     "text": [
      "[LibLinear]"
     ]
    },
    {
     "name": "stderr",
     "output_type": "stream",
     "text": [
      "c:\\users\\catalina\\appdata\\local\\programs\\python\\python39\\lib\\site-packages\\sklearn\\svm\\_base.py:985: ConvergenceWarning:\n",
      "\n",
      "Liblinear failed to converge, increase the number of iterations.\n",
      "\n"
     ]
    },
    {
     "name": "stdout",
     "output_type": "stream",
     "text": [
      "[LibLinear]"
     ]
    },
    {
     "name": "stderr",
     "output_type": "stream",
     "text": [
      "c:\\users\\catalina\\appdata\\local\\programs\\python\\python39\\lib\\site-packages\\sklearn\\svm\\_base.py:985: ConvergenceWarning:\n",
      "\n",
      "Liblinear failed to converge, increase the number of iterations.\n",
      "\n"
     ]
    },
    {
     "name": "stdout",
     "output_type": "stream",
     "text": [
      "[LibLinear]"
     ]
    },
    {
     "name": "stderr",
     "output_type": "stream",
     "text": [
      "c:\\users\\catalina\\appdata\\local\\programs\\python\\python39\\lib\\site-packages\\sklearn\\svm\\_base.py:985: ConvergenceWarning:\n",
      "\n",
      "Liblinear failed to converge, increase the number of iterations.\n",
      "\n"
     ]
    },
    {
     "name": "stdout",
     "output_type": "stream",
     "text": [
      "[LibLinear]"
     ]
    },
    {
     "name": "stderr",
     "output_type": "stream",
     "text": [
      "c:\\users\\catalina\\appdata\\local\\programs\\python\\python39\\lib\\site-packages\\sklearn\\svm\\_base.py:985: ConvergenceWarning:\n",
      "\n",
      "Liblinear failed to converge, increase the number of iterations.\n",
      "\n"
     ]
    },
    {
     "name": "stdout",
     "output_type": "stream",
     "text": [
      "[LibLinear]"
     ]
    },
    {
     "name": "stderr",
     "output_type": "stream",
     "text": [
      "c:\\users\\catalina\\appdata\\local\\programs\\python\\python39\\lib\\site-packages\\sklearn\\svm\\_base.py:985: ConvergenceWarning:\n",
      "\n",
      "Liblinear failed to converge, increase the number of iterations.\n",
      "\n"
     ]
    },
    {
     "name": "stdout",
     "output_type": "stream",
     "text": [
      "[LibLinear]"
     ]
    },
    {
     "name": "stderr",
     "output_type": "stream",
     "text": [
      "c:\\users\\catalina\\appdata\\local\\programs\\python\\python39\\lib\\site-packages\\sklearn\\svm\\_base.py:985: ConvergenceWarning:\n",
      "\n",
      "Liblinear failed to converge, increase the number of iterations.\n",
      "\n"
     ]
    },
    {
     "name": "stdout",
     "output_type": "stream",
     "text": [
      "[LibLinear]"
     ]
    },
    {
     "name": "stderr",
     "output_type": "stream",
     "text": [
      "c:\\users\\catalina\\appdata\\local\\programs\\python\\python39\\lib\\site-packages\\sklearn\\svm\\_base.py:985: ConvergenceWarning:\n",
      "\n",
      "Liblinear failed to converge, increase the number of iterations.\n",
      "\n"
     ]
    },
    {
     "name": "stdout",
     "output_type": "stream",
     "text": [
      "[LibLinear]"
     ]
    },
    {
     "name": "stderr",
     "output_type": "stream",
     "text": [
      "c:\\users\\catalina\\appdata\\local\\programs\\python\\python39\\lib\\site-packages\\sklearn\\svm\\_base.py:985: ConvergenceWarning:\n",
      "\n",
      "Liblinear failed to converge, increase the number of iterations.\n",
      "\n"
     ]
    },
    {
     "name": "stdout",
     "output_type": "stream",
     "text": [
      "[LibLinear]"
     ]
    },
    {
     "name": "stderr",
     "output_type": "stream",
     "text": [
      "c:\\users\\catalina\\appdata\\local\\programs\\python\\python39\\lib\\site-packages\\sklearn\\svm\\_base.py:985: ConvergenceWarning:\n",
      "\n",
      "Liblinear failed to converge, increase the number of iterations.\n",
      "\n"
     ]
    },
    {
     "name": "stdout",
     "output_type": "stream",
     "text": [
      "Model Number: 122 with model AverageValueNaive in generation 1 of 2\n",
      "Model Number: 123 with model AverageValueNaive in generation 1 of 2\n",
      "Model Number: 124 with model AverageValueNaive in generation 1 of 2\n",
      "Model Number: 125 with model SeasonalNaive in generation 1 of 2\n",
      "Model Number: 126 with model SeasonalNaive in generation 1 of 2\n",
      "Model Number: 127 with model SeasonalNaive in generation 1 of 2\n",
      "Model Number: 128 with model SeasonalNaive in generation 1 of 2\n",
      "Model Number: 129 with model ETS in generation 1 of 2\n",
      "Model Number: 130 with model ETS in generation 1 of 2\n",
      "Model Number: 131 with model ETS in generation 1 of 2\n",
      "Model Number: 132 with model RollingRegression in generation 1 of 2\n"
     ]
    },
    {
     "name": "stderr",
     "output_type": "stream",
     "text": [
      "[Parallel(n_jobs=1)]: Using backend SequentialBackend with 1 concurrent workers.\n",
      "[Parallel(n_jobs=1)]: Done 1000 out of 1000 | elapsed:  5.0min finished\n",
      "[Parallel(n_jobs=1)]: Using backend SequentialBackend with 1 concurrent workers.\n",
      "[Parallel(n_jobs=1)]: Done 1000 out of 1000 | elapsed:    0.0s finished\n",
      "[Parallel(n_jobs=1)]: Using backend SequentialBackend with 1 concurrent workers.\n",
      "[Parallel(n_jobs=1)]: Done 1000 out of 1000 | elapsed:    0.0s finished\n",
      "[Parallel(n_jobs=1)]: Using backend SequentialBackend with 1 concurrent workers.\n",
      "[Parallel(n_jobs=1)]: Done 1000 out of 1000 | elapsed:    0.0s finished\n",
      "[Parallel(n_jobs=1)]: Using backend SequentialBackend with 1 concurrent workers.\n",
      "[Parallel(n_jobs=1)]: Done 1000 out of 1000 | elapsed:    0.0s finished\n",
      "[Parallel(n_jobs=1)]: Using backend SequentialBackend with 1 concurrent workers.\n",
      "[Parallel(n_jobs=1)]: Done 1000 out of 1000 | elapsed:    0.0s finished\n",
      "[Parallel(n_jobs=1)]: Using backend SequentialBackend with 1 concurrent workers.\n",
      "[Parallel(n_jobs=1)]: Done 1000 out of 1000 | elapsed:    0.0s finished\n",
      "[Parallel(n_jobs=1)]: Using backend SequentialBackend with 1 concurrent workers.\n",
      "[Parallel(n_jobs=1)]: Done 1000 out of 1000 | elapsed:    0.0s finished\n",
      "[Parallel(n_jobs=1)]: Using backend SequentialBackend with 1 concurrent workers.\n",
      "[Parallel(n_jobs=1)]: Done 1000 out of 1000 | elapsed:    0.0s finished\n",
      "[Parallel(n_jobs=1)]: Using backend SequentialBackend with 1 concurrent workers.\n",
      "[Parallel(n_jobs=1)]: Done 1000 out of 1000 | elapsed:    0.0s finished\n",
      "[Parallel(n_jobs=1)]: Using backend SequentialBackend with 1 concurrent workers.\n",
      "[Parallel(n_jobs=1)]: Done 1000 out of 1000 | elapsed:    0.0s finished\n",
      "[Parallel(n_jobs=1)]: Using backend SequentialBackend with 1 concurrent workers.\n",
      "[Parallel(n_jobs=1)]: Done 1000 out of 1000 | elapsed:    0.0s finished\n",
      "[Parallel(n_jobs=1)]: Using backend SequentialBackend with 1 concurrent workers.\n",
      "[Parallel(n_jobs=1)]: Done 1000 out of 1000 | elapsed:    0.0s finished\n",
      "[Parallel(n_jobs=1)]: Using backend SequentialBackend with 1 concurrent workers.\n",
      "[Parallel(n_jobs=1)]: Done 1000 out of 1000 | elapsed:    0.0s finished\n",
      "[Parallel(n_jobs=1)]: Using backend SequentialBackend with 1 concurrent workers.\n",
      "[Parallel(n_jobs=1)]: Done 1000 out of 1000 | elapsed:    0.0s finished\n",
      "[Parallel(n_jobs=1)]: Using backend SequentialBackend with 1 concurrent workers.\n",
      "[Parallel(n_jobs=1)]: Done 1000 out of 1000 | elapsed:    0.0s finished\n",
      "[Parallel(n_jobs=1)]: Using backend SequentialBackend with 1 concurrent workers.\n",
      "[Parallel(n_jobs=1)]: Done 1000 out of 1000 | elapsed:    0.0s finished\n",
      "[Parallel(n_jobs=1)]: Using backend SequentialBackend with 1 concurrent workers.\n",
      "[Parallel(n_jobs=1)]: Done 1000 out of 1000 | elapsed:    0.0s finished\n",
      "[Parallel(n_jobs=1)]: Using backend SequentialBackend with 1 concurrent workers.\n",
      "[Parallel(n_jobs=1)]: Done 1000 out of 1000 | elapsed:    0.0s finished\n",
      "[Parallel(n_jobs=1)]: Using backend SequentialBackend with 1 concurrent workers.\n",
      "[Parallel(n_jobs=1)]: Done 1000 out of 1000 | elapsed:    0.0s finished\n",
      "[Parallel(n_jobs=1)]: Using backend SequentialBackend with 1 concurrent workers.\n",
      "[Parallel(n_jobs=1)]: Done 1000 out of 1000 | elapsed:    0.0s finished\n",
      "[Parallel(n_jobs=1)]: Using backend SequentialBackend with 1 concurrent workers.\n",
      "[Parallel(n_jobs=1)]: Done 1000 out of 1000 | elapsed:    0.0s finished\n",
      "[Parallel(n_jobs=1)]: Using backend SequentialBackend with 1 concurrent workers.\n",
      "[Parallel(n_jobs=1)]: Done 1000 out of 1000 | elapsed:    0.0s finished\n",
      "[Parallel(n_jobs=1)]: Using backend SequentialBackend with 1 concurrent workers.\n",
      "[Parallel(n_jobs=1)]: Done 1000 out of 1000 | elapsed:    0.0s finished\n",
      "[Parallel(n_jobs=1)]: Using backend SequentialBackend with 1 concurrent workers.\n",
      "[Parallel(n_jobs=1)]: Done 1000 out of 1000 | elapsed:    0.0s finished\n"
     ]
    },
    {
     "name": "stdout",
     "output_type": "stream",
     "text": [
      "Model Number: 133 with model RollingRegression in generation 1 of 2\n",
      "Model Number: 134 with model RollingRegression in generation 1 of 2\n",
      "Model Number: 135 with model RollingRegression in generation 1 of 2\n",
      "Epoch 1/100\n",
      "4026/4026 [==============================] - 12s 1ms/step - loss: 0.0383\n",
      "Epoch 2/100\n",
      "4026/4026 [==============================] - 5s 1ms/step - loss: 0.0314\n",
      "Epoch 3/100\n",
      "4026/4026 [==============================] - 5s 1ms/step - loss: 0.0308\n",
      "Epoch 4/100\n",
      "4026/4026 [==============================] - 5s 1ms/step - loss: 0.0311\n",
      "Epoch 5/100\n",
      "4026/4026 [==============================] - 5s 1ms/step - loss: 0.0312\n",
      "Epoch 6/100\n",
      "4026/4026 [==============================] - 5s 1ms/step - loss: 0.0313\n",
      "Epoch 7/100\n",
      "4026/4026 [==============================] - 5s 1ms/step - loss: 0.0309\n",
      "Epoch 8/100\n",
      "4026/4026 [==============================] - 5s 1ms/step - loss: 0.0314\n",
      "Epoch 9/100\n",
      "4026/4026 [==============================] - 5s 1ms/step - loss: 0.0301\n",
      "Epoch 10/100\n",
      "4026/4026 [==============================] - 5s 1ms/step - loss: 0.0308\n",
      "Epoch 11/100\n",
      "4026/4026 [==============================] - 5s 1ms/step - loss: 0.0309\n",
      "Epoch 12/100\n",
      "4026/4026 [==============================] - 5s 1ms/step - loss: 0.0309\n",
      "Epoch 13/100\n",
      "4026/4026 [==============================] - 5s 1ms/step - loss: 0.0309\n",
      "Epoch 14/100\n",
      "4026/4026 [==============================] - 5s 1ms/step - loss: 0.0305\n",
      "Epoch 15/100\n",
      "4026/4026 [==============================] - 5s 1ms/step - loss: 0.0309\n",
      "Epoch 16/100\n",
      "4026/4026 [==============================] - 5s 1ms/step - loss: 0.0308\n",
      "Epoch 17/100\n",
      "4026/4026 [==============================] - 5s 1ms/step - loss: 0.0303\n",
      "Epoch 18/100\n",
      "4026/4026 [==============================] - 5s 1ms/step - loss: 0.0307\n",
      "Epoch 19/100\n",
      "4026/4026 [==============================] - 5s 1ms/step - loss: 0.0302\n",
      "Epoch 20/100\n",
      "4026/4026 [==============================] - 5s 1ms/step - loss: 0.0307\n",
      "Epoch 21/100\n",
      "4026/4026 [==============================] - 5s 1ms/step - loss: 0.0303\n",
      "Epoch 22/100\n",
      "4026/4026 [==============================] - 5s 1ms/step - loss: 0.0305\n",
      "Epoch 23/100\n",
      "4026/4026 [==============================] - 5s 1ms/step - loss: 0.0304\n",
      "Epoch 24/100\n",
      "4026/4026 [==============================] - 5s 1ms/step - loss: 0.0306\n",
      "Epoch 25/100\n",
      "4026/4026 [==============================] - 5s 1ms/step - loss: 0.0307\n",
      "Epoch 26/100\n",
      "4026/4026 [==============================] - 5s 1ms/step - loss: 0.0310\n",
      "Epoch 27/100\n",
      "4026/4026 [==============================] - 5s 1ms/step - loss: 0.0304\n",
      "Epoch 28/100\n",
      "4026/4026 [==============================] - 5s 1ms/step - loss: 0.0311\n",
      "Epoch 29/100\n",
      "4026/4026 [==============================] - 5s 1ms/step - loss: 0.0303\n",
      "Epoch 30/100\n",
      "4026/4026 [==============================] - 5s 1ms/step - loss: 0.0308\n",
      "Epoch 31/100\n",
      "4026/4026 [==============================] - 5s 1ms/step - loss: 0.0306\n",
      "Epoch 32/100\n",
      "4026/4026 [==============================] - 5s 1ms/step - loss: 0.0307\n",
      "Epoch 33/100\n",
      "4026/4026 [==============================] - 5s 1ms/step - loss: 0.0306\n",
      "Epoch 34/100\n",
      "4026/4026 [==============================] - 5s 1ms/step - loss: 0.0305\n",
      "Epoch 35/100\n",
      "4026/4026 [==============================] - 5s 1ms/step - loss: 0.0306\n",
      "Epoch 36/100\n",
      "4026/4026 [==============================] - 5s 1ms/step - loss: 0.0306\n",
      "Epoch 37/100\n",
      "4026/4026 [==============================] - 5s 1ms/step - loss: 0.0306\n",
      "Epoch 38/100\n",
      "4026/4026 [==============================] - 5s 1ms/step - loss: 0.0307\n",
      "Epoch 39/100\n",
      "4026/4026 [==============================] - 5s 1ms/step - loss: 0.0306\n",
      "Epoch 40/100\n",
      "4026/4026 [==============================] - 5s 1ms/step - loss: 0.0307\n",
      "Epoch 41/100\n",
      "4026/4026 [==============================] - 5s 1ms/step - loss: 0.0306\n",
      "Epoch 42/100\n",
      "4026/4026 [==============================] - 5s 1ms/step - loss: 0.0303\n",
      "Epoch 43/100\n",
      "4026/4026 [==============================] - 5s 1ms/step - loss: 0.0311\n",
      "Epoch 44/100\n",
      "4026/4026 [==============================] - 5s 1ms/step - loss: 0.0312\n",
      "Epoch 45/100\n",
      "4026/4026 [==============================] - 5s 1ms/step - loss: 0.0308\n",
      "Epoch 46/100\n",
      "4026/4026 [==============================] - 5s 1ms/step - loss: 0.0305\n",
      "Epoch 47/100\n",
      "4026/4026 [==============================] - 5s 1ms/step - loss: 0.0307\n",
      "Epoch 48/100\n",
      "4026/4026 [==============================] - 5s 1ms/step - loss: 0.0302\n",
      "Epoch 49/100\n",
      "4026/4026 [==============================] - 5s 1ms/step - loss: 0.0305\n",
      "Epoch 50/100\n",
      "4026/4026 [==============================] - 5s 1ms/step - loss: 0.0309\n",
      "Epoch 51/100\n",
      "4026/4026 [==============================] - 5s 1ms/step - loss: 0.0309\n",
      "Epoch 52/100\n",
      "4026/4026 [==============================] - 5s 1ms/step - loss: 0.0308\n",
      "Epoch 53/100\n",
      "4026/4026 [==============================] - 5s 1ms/step - loss: 0.0302\n",
      "Epoch 54/100\n",
      "4026/4026 [==============================] - 5s 1ms/step - loss: 0.0304\n",
      "Epoch 55/100\n",
      "4026/4026 [==============================] - 5s 1ms/step - loss: 0.0305\n",
      "Epoch 56/100\n",
      "4026/4026 [==============================] - 5s 1ms/step - loss: 0.0307\n",
      "Epoch 57/100\n",
      "4026/4026 [==============================] - 5s 1ms/step - loss: 0.0302\n",
      "Epoch 58/100\n",
      "4026/4026 [==============================] - 5s 1ms/step - loss: 0.0305\n",
      "Epoch 59/100\n",
      "4026/4026 [==============================] - 5s 1ms/step - loss: 0.0305\n",
      "Epoch 60/100\n",
      "4026/4026 [==============================] - 5s 1ms/step - loss: 0.0303\n",
      "Epoch 61/100\n",
      "4026/4026 [==============================] - 5s 1ms/step - loss: 0.0302\n",
      "Epoch 62/100\n",
      "4026/4026 [==============================] - 5s 1ms/step - loss: 0.0306\n",
      "Epoch 63/100\n",
      "4026/4026 [==============================] - 5s 1ms/step - loss: 0.0309\n",
      "Epoch 64/100\n",
      "4026/4026 [==============================] - 5s 1ms/step - loss: 0.0306\n",
      "Epoch 65/100\n",
      "4026/4026 [==============================] - 5s 1ms/step - loss: 0.0304\n",
      "Epoch 66/100\n",
      "4026/4026 [==============================] - 5s 1ms/step - loss: 0.0303\n",
      "Epoch 67/100\n",
      "4026/4026 [==============================] - 5s 1ms/step - loss: 0.0309\n",
      "Epoch 68/100\n",
      "4026/4026 [==============================] - 5s 1ms/step - loss: 0.0309\n",
      "Epoch 69/100\n",
      "4026/4026 [==============================] - 5s 1ms/step - loss: 0.0307\n",
      "Epoch 70/100\n",
      "4026/4026 [==============================] - 5s 1ms/step - loss: 0.0302\n",
      "Epoch 71/100\n",
      "4026/4026 [==============================] - 5s 1ms/step - loss: 0.0310\n",
      "Epoch 72/100\n",
      "4026/4026 [==============================] - 5s 1ms/step - loss: 0.0308\n",
      "Epoch 73/100\n",
      "4026/4026 [==============================] - 5s 1ms/step - loss: 0.0307\n",
      "Epoch 74/100\n",
      "4026/4026 [==============================] - 5s 1ms/step - loss: 0.0302\n",
      "Epoch 75/100\n",
      "4026/4026 [==============================] - 5s 1ms/step - loss: 0.0302\n",
      "Epoch 76/100\n",
      "4026/4026 [==============================] - 5s 1ms/step - loss: 0.0303\n",
      "Epoch 77/100\n",
      "4026/4026 [==============================] - 5s 1ms/step - loss: 0.0305\n",
      "Epoch 78/100\n",
      "4026/4026 [==============================] - 5s 1ms/step - loss: 0.0306\n",
      "Epoch 79/100\n",
      "4026/4026 [==============================] - 5s 1ms/step - loss: 0.0306\n",
      "Epoch 80/100\n",
      "4026/4026 [==============================] - 5s 1ms/step - loss: 0.0305\n",
      "Epoch 81/100\n",
      "4026/4026 [==============================] - 5s 1ms/step - loss: 0.0303\n",
      "Epoch 82/100\n",
      "4026/4026 [==============================] - 5s 1ms/step - loss: 0.0302\n",
      "Epoch 83/100\n",
      "4026/4026 [==============================] - 5s 1ms/step - loss: 0.0307\n",
      "Epoch 84/100\n",
      "4026/4026 [==============================] - 5s 1ms/step - loss: 0.0305\n",
      "Epoch 85/100\n",
      "4026/4026 [==============================] - 5s 1ms/step - loss: 0.0305\n",
      "Epoch 86/100\n",
      "4026/4026 [==============================] - 5s 1ms/step - loss: 0.0307\n",
      "Epoch 87/100\n",
      "4026/4026 [==============================] - 5s 1ms/step - loss: 0.0302\n",
      "Epoch 88/100\n",
      "4026/4026 [==============================] - 5s 1ms/step - loss: 0.0306\n",
      "Epoch 89/100\n",
      "4026/4026 [==============================] - 5s 1ms/step - loss: 0.0303\n",
      "Epoch 90/100\n",
      "4026/4026 [==============================] - 5s 1ms/step - loss: 0.0305\n",
      "Epoch 91/100\n",
      "4026/4026 [==============================] - 5s 1ms/step - loss: 0.0307\n",
      "Epoch 92/100\n",
      "4026/4026 [==============================] - 5s 1ms/step - loss: 0.0308\n",
      "Epoch 93/100\n",
      "4026/4026 [==============================] - 5s 1ms/step - loss: 0.0305\n",
      "Epoch 94/100\n",
      "4026/4026 [==============================] - 5s 1ms/step - loss: 0.0304\n",
      "Epoch 95/100\n",
      "4026/4026 [==============================] - 5s 1ms/step - loss: 0.0302\n",
      "Epoch 96/100\n",
      "4026/4026 [==============================] - 5s 1ms/step - loss: 0.0307\n",
      "Epoch 97/100\n",
      "4026/4026 [==============================] - 5s 1ms/step - loss: 0.0303\n",
      "Epoch 98/100\n",
      "4026/4026 [==============================] - 5s 1ms/step - loss: 0.0306\n",
      "Epoch 99/100\n",
      "4026/4026 [==============================] - 5s 1ms/step - loss: 0.0304\n",
      "Epoch 100/100\n",
      "4026/4026 [==============================] - 5s 1ms/step - loss: 0.0305\n",
      "Model Number: 136 with model ZeroesNaive in generation 1 of 2\n",
      "Model Number: 137 with model ZeroesNaive in generation 1 of 2\n",
      "Model Number: 138 with model ZeroesNaive in generation 1 of 2\n"
     ]
    },
    {
     "name": "stderr",
     "output_type": "stream",
     "text": [
      "c:\\users\\catalina\\appdata\\local\\programs\\python\\python39\\lib\\site-packages\\sklearn\\_loss\\glm_distribution.py:132: RuntimeWarning:\n",
      "\n",
      "divide by zero encountered in true_divide\n",
      "\n",
      "c:\\users\\catalina\\appdata\\local\\programs\\python\\python39\\lib\\site-packages\\sklearn\\linear_model\\_glm\\glm.py:43: RuntimeWarning:\n",
      "\n",
      "invalid value encountered in multiply\n",
      "\n",
      "c:\\users\\catalina\\appdata\\local\\programs\\python\\python39\\lib\\site-packages\\sklearn\\_loss\\glm_distribution.py:321: RuntimeWarning:\n",
      "\n",
      "divide by zero encountered in power\n",
      "\n",
      "c:\\users\\catalina\\appdata\\local\\programs\\python\\python39\\lib\\site-packages\\sklearn\\linear_model\\_glm\\link.py:90: RuntimeWarning:\n",
      "\n",
      "overflow encountered in exp\n",
      "\n",
      "c:\\users\\catalina\\appdata\\local\\programs\\python\\python39\\lib\\site-packages\\sklearn\\linear_model\\_glm\\link.py:93: RuntimeWarning:\n",
      "\n",
      "overflow encountered in exp\n",
      "\n",
      "c:\\users\\catalina\\appdata\\local\\programs\\python\\python39\\lib\\site-packages\\sklearn\\_loss\\glm_distribution.py:132: RuntimeWarning:\n",
      "\n",
      "invalid value encountered in true_divide\n",
      "\n",
      "c:\\users\\catalina\\appdata\\local\\programs\\python\\python39\\lib\\site-packages\\sklearn\\_loss\\glm_distribution.py:132: RuntimeWarning:\n",
      "\n",
      "divide by zero encountered in true_divide\n",
      "\n",
      "c:\\users\\catalina\\appdata\\local\\programs\\python\\python39\\lib\\site-packages\\sklearn\\linear_model\\_glm\\glm.py:43: RuntimeWarning:\n",
      "\n",
      "invalid value encountered in multiply\n",
      "\n",
      "c:\\users\\catalina\\appdata\\local\\programs\\python\\python39\\lib\\site-packages\\sklearn\\_loss\\glm_distribution.py:321: RuntimeWarning:\n",
      "\n",
      "divide by zero encountered in power\n",
      "\n"
     ]
    },
    {
     "name": "stdout",
     "output_type": "stream",
     "text": [
      "Model Number: 139 with model WindowRegression in generation 1 of 2\n",
      "Template Eval Error: ValueError(\"WindowRegression regression_type='user' requires numpy >= 1.20\") in model 139: WindowRegression\n",
      "Model Number: 140 with model WindowRegression in generation 1 of 2\n"
     ]
    },
    {
     "name": "stderr",
     "output_type": "stream",
     "text": [
      "c:\\users\\catalina\\appdata\\local\\programs\\python\\python39\\lib\\site-packages\\sklearn\\neural_network\\_multilayer_perceptron.py:500: ConvergenceWarning:\n",
      "\n",
      "lbfgs failed to converge (status=1):\n",
      "STOP: TOTAL NO. of ITERATIONS REACHED LIMIT.\n",
      "\n",
      "Increase the number of iterations (max_iter) or scale the data as shown in:\n",
      "    https://scikit-learn.org/stable/modules/preprocessing.html\n",
      "\n"
     ]
    },
    {
     "name": "stdout",
     "output_type": "stream",
     "text": [
      "Model Number: 141 with model WindowRegression in generation 1 of 2\n",
      "Template Eval Error: ValueError(\"WindowRegression regression_type='user' requires numpy >= 1.20\") in model 141: WindowRegression\n",
      "Model Number: 142 with model UnobservedComponents in generation 1 of 2\n",
      "Model Number: 143 with model UnobservedComponents in generation 1 of 2\n"
     ]
    },
    {
     "name": "stderr",
     "output_type": "stream",
     "text": [
      "c:\\users\\catalina\\appdata\\local\\programs\\python\\python39\\lib\\site-packages\\sklearn\\_loss\\glm_distribution.py:132: RuntimeWarning:\n",
      "\n",
      "divide by zero encountered in true_divide\n",
      "\n",
      "c:\\users\\catalina\\appdata\\local\\programs\\python\\python39\\lib\\site-packages\\sklearn\\linear_model\\_glm\\glm.py:43: RuntimeWarning:\n",
      "\n",
      "invalid value encountered in multiply\n",
      "\n",
      "c:\\users\\catalina\\appdata\\local\\programs\\python\\python39\\lib\\site-packages\\sklearn\\_loss\\glm_distribution.py:315: RuntimeWarning:\n",
      "\n",
      "divide by zero encountered in true_divide\n",
      "\n",
      "c:\\users\\catalina\\appdata\\local\\programs\\python\\python39\\lib\\site-packages\\sklearn\\linear_model\\_glm\\link.py:90: RuntimeWarning:\n",
      "\n",
      "overflow encountered in exp\n",
      "\n",
      "c:\\users\\catalina\\appdata\\local\\programs\\python\\python39\\lib\\site-packages\\sklearn\\linear_model\\_glm\\link.py:93: RuntimeWarning:\n",
      "\n",
      "overflow encountered in exp\n",
      "\n",
      "c:\\users\\catalina\\appdata\\local\\programs\\python\\python39\\lib\\site-packages\\sklearn\\_loss\\glm_distribution.py:132: RuntimeWarning:\n",
      "\n",
      "invalid value encountered in true_divide\n",
      "\n",
      "c:\\users\\catalina\\appdata\\local\\programs\\python\\python39\\lib\\site-packages\\sklearn\\_loss\\glm_distribution.py:315: RuntimeWarning:\n",
      "\n",
      "invalid value encountered in add\n",
      "\n",
      "c:\\users\\catalina\\appdata\\local\\programs\\python\\python39\\lib\\site-packages\\sklearn\\linear_model\\_glm\\glm.py:287: ConvergenceWarning:\n",
      "\n",
      "lbfgs failed to converge (status=2):\n",
      "ABNORMAL_TERMINATION_IN_LNSRCH.\n",
      "\n",
      "Increase the number of iterations (max_iter) or scale the data as shown in:\n",
      "    https://scikit-learn.org/stable/modules/preprocessing.html\n",
      "\n",
      "c:\\users\\catalina\\appdata\\local\\programs\\python\\python39\\lib\\site-packages\\sklearn\\_loss\\glm_distribution.py:132: RuntimeWarning:\n",
      "\n",
      "divide by zero encountered in true_divide\n",
      "\n",
      "c:\\users\\catalina\\appdata\\local\\programs\\python\\python39\\lib\\site-packages\\sklearn\\linear_model\\_glm\\glm.py:43: RuntimeWarning:\n",
      "\n",
      "invalid value encountered in multiply\n",
      "\n",
      "c:\\users\\catalina\\appdata\\local\\programs\\python\\python39\\lib\\site-packages\\sklearn\\_loss\\glm_distribution.py:315: RuntimeWarning:\n",
      "\n",
      "divide by zero encountered in true_divide\n",
      "\n"
     ]
    },
    {
     "name": "stdout",
     "output_type": "stream",
     "text": [
      "Model Number: 144 with model UnobservedComponents in generation 1 of 2\n",
      "Model Number: 145 with model GLS in generation 1 of 2\n",
      "Model Number: 146 with model GLS in generation 1 of 2\n",
      "Model Number: 147 with model GLS in generation 1 of 2\n",
      "Model Number: 148 with model GLM in generation 1 of 2\n"
     ]
    },
    {
     "name": "stderr",
     "output_type": "stream",
     "text": [
      "c:\\users\\catalina\\appdata\\local\\programs\\python\\python39\\lib\\site-packages\\statsmodels\\genmod\\families\\family.py:426: RuntimeWarning:\n",
      "\n",
      "divide by zero encountered in true_divide\n",
      "\n",
      "c:\\users\\catalina\\appdata\\local\\programs\\python\\python39\\lib\\site-packages\\statsmodels\\genmod\\families\\family.py:132: RuntimeWarning:\n",
      "\n",
      "divide by zero encountered in true_divide\n",
      "\n",
      "c:\\users\\catalina\\appdata\\local\\programs\\python\\python39\\lib\\site-packages\\statsmodels\\genmod\\generalized_linear_model.py:295: DomainWarning:\n",
      "\n",
      "The inverse_power link function does not respect the domain of the Gamma family.\n",
      "\n"
     ]
    },
    {
     "name": "stdout",
     "output_type": "stream",
     "text": [
      "Template Eval Error: ValueError('NaN, inf or invalid value detected in weights, estimation infeasible.') in model 148: GLM\n",
      "Model Number: 149 with model GLM in generation 1 of 2\n"
     ]
    },
    {
     "name": "stderr",
     "output_type": "stream",
     "text": [
      "c:\\users\\catalina\\appdata\\local\\programs\\python\\python39\\lib\\site-packages\\statsmodels\\genmod\\generalized_linear_model.py:295: DomainWarning:\n",
      "\n",
      "The inverse_power link function does not respect the domain of the Gamma family.\n",
      "\n",
      "c:\\users\\catalina\\appdata\\local\\programs\\python\\python39\\lib\\site-packages\\statsmodels\\genmod\\generalized_linear_model.py:295: DomainWarning:\n",
      "\n",
      "The inverse_power link function does not respect the domain of the Gamma family.\n",
      "\n"
     ]
    },
    {
     "name": "stdout",
     "output_type": "stream",
     "text": [
      "Model Number: 150 with model GLM in generation 1 of 2\n",
      "Model Number: 151 with model GLM in generation 1 of 2\n",
      "Model Number: 152 with model GluonTS in generation 1 of 2\n",
      "Template Eval Error: ImportError('GluonTS installation not found or installed version is incompatible with AutoTS.') in model 152: GluonTS\n",
      "Model Number: 153 with model GluonTS in generation 1 of 2\n",
      "Template Eval Error: ImportError('GluonTS installation not found or installed version is incompatible with AutoTS.') in model 153: GluonTS\n",
      "Model Number: 154 with model GluonTS in generation 1 of 2\n",
      "Template Eval Error: ImportError('GluonTS installation not found or installed version is incompatible with AutoTS.') in model 154: GluonTS\n",
      "Model Number: 155 with model GluonTS in generation 1 of 2\n",
      "Template Eval Error: ImportError('GluonTS installation not found or installed version is incompatible with AutoTS.') in model 155: GluonTS\n",
      "Model Number: 156 with model FBProphet in generation 1 of 2\n",
      "Template Eval Error: ImportError('Package fbprophet is required') in model 156: FBProphet\n",
      "Model Number: 157 with model FBProphet in generation 1 of 2\n",
      "Template Eval Error: ImportError('Package fbprophet is required') in model 157: FBProphet\n",
      "Model Number: 158 with model FBProphet in generation 1 of 2\n",
      "Template Eval Error: ImportError('Package fbprophet is required') in model 158: FBProphet\n",
      "Model Number: 159 with model FBProphet in generation 1 of 2\n",
      "Template Eval Error: ImportError('Package fbprophet is required') in model 159: FBProphet\n",
      "Model Number: 160 with model UnivariateRegression in generation 1 of 2\n",
      "Template Eval Error: TypeError(\"unsupported operand type(s) for -: 'NoneType' and 'int'\") in model 160: UnivariateRegression\n",
      "Model Number: 161 with model UnivariateRegression in generation 1 of 2\n",
      "Template Eval Error: TypeError(\"unsupported operand type(s) for -: 'NoneType' and 'int'\") in model 161: UnivariateRegression\n",
      "Model Number: 162 with model UnivariateRegression in generation 1 of 2\n",
      "Template Eval Error: TypeError(\"unsupported operand type(s) for -: 'NoneType' and 'int'\") in model 162: UnivariateRegression\n",
      "Model Number: 163 with model UnivariateRegression in generation 1 of 2\n",
      "Template Eval Error: TypeError(\"unsupported operand type(s) for -: 'NoneType' and 'int'\") in model 163: UnivariateRegression\n",
      "Model Number: 164 with model UnivariateMotif in generation 1 of 2\n",
      "Template Eval Error: AttributeError(\"module 'numpy.lib.stride_tricks' has no attribute 'sliding_window_view'\") in model 164: UnivariateMotif\n",
      "Model Number: 165 with model UnivariateMotif in generation 1 of 2\n",
      "Template Eval Error: AttributeError(\"module 'numpy.lib.stride_tricks' has no attribute 'sliding_window_view'\") in model 165: UnivariateMotif\n",
      "Model Number: 166 with model UnivariateMotif in generation 1 of 2\n",
      "Template Eval Error: AttributeError(\"module 'numpy.lib.stride_tricks' has no attribute 'sliding_window_view'\") in model 166: UnivariateMotif\n",
      "Model Number: 167 with model UnivariateMotif in generation 1 of 2\n",
      "Template Eval Error: AttributeError(\"module 'numpy.lib.stride_tricks' has no attribute 'sliding_window_view'\") in model 167: UnivariateMotif\n",
      "New Generation: 2 of 2\n",
      "Model Number: 168 with model VAR in generation 2 of 2\n",
      "Model Number: 169 with model VAR in generation 2 of 2\n"
     ]
    },
    {
     "name": "stderr",
     "output_type": "stream",
     "text": [
      "c:\\users\\catalina\\appdata\\local\\programs\\python\\python39\\lib\\site-packages\\sklearn\\_loss\\glm_distribution.py:132: RuntimeWarning:\n",
      "\n",
      "divide by zero encountered in true_divide\n",
      "\n",
      "c:\\users\\catalina\\appdata\\local\\programs\\python\\python39\\lib\\site-packages\\sklearn\\linear_model\\_glm\\glm.py:43: RuntimeWarning:\n",
      "\n",
      "invalid value encountered in multiply\n",
      "\n",
      "c:\\users\\catalina\\appdata\\local\\programs\\python\\python39\\lib\\site-packages\\sklearn\\_loss\\glm_distribution.py:318: RuntimeWarning:\n",
      "\n",
      "divide by zero encountered in log\n",
      "\n",
      "c:\\users\\catalina\\appdata\\local\\programs\\python\\python39\\lib\\site-packages\\sklearn\\_loss\\glm_distribution.py:318: RuntimeWarning:\n",
      "\n",
      "divide by zero encountered in true_divide\n",
      "\n",
      "c:\\users\\catalina\\appdata\\local\\programs\\python\\python39\\lib\\site-packages\\sklearn\\_loss\\glm_distribution.py:318: RuntimeWarning:\n",
      "\n",
      "invalid value encountered in add\n",
      "\n",
      "c:\\users\\catalina\\appdata\\local\\programs\\python\\python39\\lib\\site-packages\\sklearn\\linear_model\\_glm\\glm.py:287: ConvergenceWarning:\n",
      "\n",
      "lbfgs failed to converge (status=2):\n",
      "ABNORMAL_TERMINATION_IN_LNSRCH.\n",
      "\n",
      "Increase the number of iterations (max_iter) or scale the data as shown in:\n",
      "    https://scikit-learn.org/stable/modules/preprocessing.html\n",
      "\n",
      "c:\\users\\catalina\\appdata\\local\\programs\\python\\python39\\lib\\site-packages\\sklearn\\linear_model\\_glm\\link.py:90: RuntimeWarning:\n",
      "\n",
      "overflow encountered in exp\n",
      "\n",
      "c:\\users\\catalina\\appdata\\local\\programs\\python\\python39\\lib\\site-packages\\sklearn\\linear_model\\_glm\\link.py:93: RuntimeWarning:\n",
      "\n",
      "overflow encountered in exp\n",
      "\n",
      "c:\\users\\catalina\\appdata\\local\\programs\\python\\python39\\lib\\site-packages\\sklearn\\_loss\\glm_distribution.py:132: RuntimeWarning:\n",
      "\n",
      "invalid value encountered in true_divide\n",
      "\n",
      "c:\\users\\catalina\\appdata\\local\\programs\\python\\python39\\lib\\site-packages\\sklearn\\_loss\\glm_distribution.py:132: RuntimeWarning:\n",
      "\n",
      "divide by zero encountered in true_divide\n",
      "\n",
      "c:\\users\\catalina\\appdata\\local\\programs\\python\\python39\\lib\\site-packages\\sklearn\\linear_model\\_glm\\glm.py:43: RuntimeWarning:\n",
      "\n",
      "invalid value encountered in multiply\n",
      "\n",
      "c:\\users\\catalina\\appdata\\local\\programs\\python\\python39\\lib\\site-packages\\sklearn\\_loss\\glm_distribution.py:318: RuntimeWarning:\n",
      "\n",
      "divide by zero encountered in log\n",
      "\n",
      "c:\\users\\catalina\\appdata\\local\\programs\\python\\python39\\lib\\site-packages\\sklearn\\_loss\\glm_distribution.py:318: RuntimeWarning:\n",
      "\n",
      "divide by zero encountered in true_divide\n",
      "\n",
      "c:\\users\\catalina\\appdata\\local\\programs\\python\\python39\\lib\\site-packages\\sklearn\\_loss\\glm_distribution.py:318: RuntimeWarning:\n",
      "\n",
      "invalid value encountered in add\n",
      "\n",
      "c:\\users\\catalina\\appdata\\local\\programs\\python\\python39\\lib\\site-packages\\sklearn\\linear_model\\_glm\\glm.py:287: ConvergenceWarning:\n",
      "\n",
      "lbfgs failed to converge (status=2):\n",
      "ABNORMAL_TERMINATION_IN_LNSRCH.\n",
      "\n",
      "Increase the number of iterations (max_iter) or scale the data as shown in:\n",
      "    https://scikit-learn.org/stable/modules/preprocessing.html\n",
      "\n"
     ]
    },
    {
     "name": "stdout",
     "output_type": "stream",
     "text": [
      "Model Number: 170 with model LastValueNaive in generation 2 of 2\n",
      "Model Number: 171 with model LastValueNaive in generation 2 of 2\n",
      "Model Number: 172 with model LastValueNaive in generation 2 of 2\n",
      "Model Number: 173 with model VECM in generation 2 of 2\n",
      "Model Number: 174 with model VECM in generation 2 of 2\n",
      "Model Number: 175 with model VECM in generation 2 of 2\n",
      "Model Number: 176 with model VECM in generation 2 of 2\n",
      "Model Number: 177 with model SeasonalNaive in generation 2 of 2\n"
     ]
    },
    {
     "name": "stderr",
     "output_type": "stream",
     "text": [
      "c:\\users\\catalina\\appdata\\local\\programs\\python\\python39\\lib\\site-packages\\sklearn\\_loss\\glm_distribution.py:132: RuntimeWarning:\n",
      "\n",
      "divide by zero encountered in true_divide\n",
      "\n",
      "c:\\users\\catalina\\appdata\\local\\programs\\python\\python39\\lib\\site-packages\\sklearn\\linear_model\\_glm\\glm.py:43: RuntimeWarning:\n",
      "\n",
      "invalid value encountered in multiply\n",
      "\n",
      "c:\\users\\catalina\\appdata\\local\\programs\\python\\python39\\lib\\site-packages\\sklearn\\_loss\\glm_distribution.py:315: RuntimeWarning:\n",
      "\n",
      "divide by zero encountered in true_divide\n",
      "\n",
      "c:\\users\\catalina\\appdata\\local\\programs\\python\\python39\\lib\\site-packages\\sklearn\\linear_model\\_glm\\link.py:90: RuntimeWarning:\n",
      "\n",
      "overflow encountered in exp\n",
      "\n",
      "c:\\users\\catalina\\appdata\\local\\programs\\python\\python39\\lib\\site-packages\\sklearn\\linear_model\\_glm\\link.py:93: RuntimeWarning:\n",
      "\n",
      "overflow encountered in exp\n",
      "\n",
      "c:\\users\\catalina\\appdata\\local\\programs\\python\\python39\\lib\\site-packages\\sklearn\\_loss\\glm_distribution.py:132: RuntimeWarning:\n",
      "\n",
      "invalid value encountered in true_divide\n",
      "\n",
      "c:\\users\\catalina\\appdata\\local\\programs\\python\\python39\\lib\\site-packages\\sklearn\\_loss\\glm_distribution.py:315: RuntimeWarning:\n",
      "\n",
      "invalid value encountered in add\n",
      "\n",
      "c:\\users\\catalina\\appdata\\local\\programs\\python\\python39\\lib\\site-packages\\sklearn\\linear_model\\_glm\\glm.py:287: ConvergenceWarning:\n",
      "\n",
      "lbfgs failed to converge (status=2):\n",
      "ABNORMAL_TERMINATION_IN_LNSRCH.\n",
      "\n",
      "Increase the number of iterations (max_iter) or scale the data as shown in:\n",
      "    https://scikit-learn.org/stable/modules/preprocessing.html\n",
      "\n",
      "c:\\users\\catalina\\appdata\\local\\programs\\python\\python39\\lib\\site-packages\\sklearn\\_loss\\glm_distribution.py:132: RuntimeWarning:\n",
      "\n",
      "divide by zero encountered in true_divide\n",
      "\n",
      "c:\\users\\catalina\\appdata\\local\\programs\\python\\python39\\lib\\site-packages\\sklearn\\linear_model\\_glm\\glm.py:43: RuntimeWarning:\n",
      "\n",
      "invalid value encountered in multiply\n",
      "\n",
      "c:\\users\\catalina\\appdata\\local\\programs\\python\\python39\\lib\\site-packages\\sklearn\\_loss\\glm_distribution.py:315: RuntimeWarning:\n",
      "\n",
      "divide by zero encountered in true_divide\n",
      "\n"
     ]
    },
    {
     "name": "stdout",
     "output_type": "stream",
     "text": [
      "Model Number: 178 with model SeasonalNaive in generation 2 of 2\n",
      "Model Number: 179 with model SeasonalNaive in generation 2 of 2\n",
      "Model Number: 180 with model SeasonalNaive in generation 2 of 2\n",
      "Model Number: 181 with model ETS in generation 2 of 2\n",
      "Model Number: 182 with model ETS in generation 2 of 2\n",
      "Model Number: 183 with model ETS in generation 2 of 2\n",
      "Model Number: 184 with model ETS in generation 2 of 2\n",
      "Model Number: 185 with model DatepartRegression in generation 2 of 2\n",
      "Model Number: 186 with model DatepartRegression in generation 2 of 2\n",
      "Template Eval Error: TypeError(\"Cannot clone object ''DecisionTree'' (type <class 'str'>): it does not seem to be a scikit-learn estimator as it does not implement a 'get_params' method.\") in model 186: DatepartRegression\n",
      "Model Number: 187 with model DatepartRegression in generation 2 of 2\n",
      "Model Number: 188 with model AverageValueNaive in generation 2 of 2\n",
      "Model Number: 189 with model AverageValueNaive in generation 2 of 2\n",
      "Model Number: 190 with model AverageValueNaive in generation 2 of 2\n",
      "Model Number: 191 with model UnobservedComponents in generation 2 of 2\n",
      "Model Number: 192 with model UnobservedComponents in generation 2 of 2\n",
      "Model Number: 193 with model UnobservedComponents in generation 2 of 2\n",
      "Model Number: 194 with model RollingRegression in generation 2 of 2\n"
     ]
    },
    {
     "name": "stderr",
     "output_type": "stream",
     "text": [
      "c:\\users\\catalina\\appdata\\local\\programs\\python\\python39\\lib\\site-packages\\sklearn\\linear_model\\_coordinate_descent.py:1950: ConvergenceWarning:\n",
      "\n",
      "Objective did not converge. You might want to increase the number of iterations. Duality gap: 30356.938843223666, tolerance: 9.661980713643679\n",
      "\n"
     ]
    },
    {
     "name": "stdout",
     "output_type": "stream",
     "text": [
      "Model Number: 195 with model RollingRegression in generation 2 of 2\n",
      "Model Number: 196 with model RollingRegression in generation 2 of 2\n"
     ]
    },
    {
     "name": "stderr",
     "output_type": "stream",
     "text": [
      "[Parallel(n_jobs=1)]: Using backend SequentialBackend with 1 concurrent workers.\n",
      "[Parallel(n_jobs=1)]: Done 1000 out of 1000 | elapsed:  7.0min finished\n",
      "[Parallel(n_jobs=1)]: Using backend SequentialBackend with 1 concurrent workers.\n",
      "[Parallel(n_jobs=1)]: Done 1000 out of 1000 | elapsed:    0.0s finished\n",
      "[Parallel(n_jobs=1)]: Using backend SequentialBackend with 1 concurrent workers.\n",
      "[Parallel(n_jobs=1)]: Done 1000 out of 1000 | elapsed:    0.0s finished\n",
      "[Parallel(n_jobs=1)]: Using backend SequentialBackend with 1 concurrent workers.\n",
      "[Parallel(n_jobs=1)]: Done 1000 out of 1000 | elapsed:    0.0s finished\n",
      "[Parallel(n_jobs=1)]: Using backend SequentialBackend with 1 concurrent workers.\n",
      "[Parallel(n_jobs=1)]: Done 1000 out of 1000 | elapsed:    0.0s finished\n",
      "[Parallel(n_jobs=1)]: Using backend SequentialBackend with 1 concurrent workers.\n",
      "[Parallel(n_jobs=1)]: Done 1000 out of 1000 | elapsed:    0.0s finished\n",
      "[Parallel(n_jobs=1)]: Using backend SequentialBackend with 1 concurrent workers.\n",
      "[Parallel(n_jobs=1)]: Done 1000 out of 1000 | elapsed:    0.0s finished\n",
      "[Parallel(n_jobs=1)]: Using backend SequentialBackend with 1 concurrent workers.\n",
      "[Parallel(n_jobs=1)]: Done 1000 out of 1000 | elapsed:    0.0s finished\n",
      "[Parallel(n_jobs=1)]: Using backend SequentialBackend with 1 concurrent workers.\n",
      "[Parallel(n_jobs=1)]: Done 1000 out of 1000 | elapsed:    0.0s finished\n",
      "[Parallel(n_jobs=1)]: Using backend SequentialBackend with 1 concurrent workers.\n",
      "[Parallel(n_jobs=1)]: Done 1000 out of 1000 | elapsed:    0.0s finished\n",
      "[Parallel(n_jobs=1)]: Using backend SequentialBackend with 1 concurrent workers.\n",
      "[Parallel(n_jobs=1)]: Done 1000 out of 1000 | elapsed:    0.0s finished\n",
      "[Parallel(n_jobs=1)]: Using backend SequentialBackend with 1 concurrent workers.\n",
      "[Parallel(n_jobs=1)]: Done 1000 out of 1000 | elapsed:    0.0s finished\n",
      "[Parallel(n_jobs=1)]: Using backend SequentialBackend with 1 concurrent workers.\n",
      "[Parallel(n_jobs=1)]: Done 1000 out of 1000 | elapsed:    0.0s finished\n",
      "[Parallel(n_jobs=1)]: Using backend SequentialBackend with 1 concurrent workers.\n",
      "[Parallel(n_jobs=1)]: Done 1000 out of 1000 | elapsed:    0.0s finished\n",
      "[Parallel(n_jobs=1)]: Using backend SequentialBackend with 1 concurrent workers.\n",
      "[Parallel(n_jobs=1)]: Done 1000 out of 1000 | elapsed:    0.0s finished\n",
      "[Parallel(n_jobs=1)]: Using backend SequentialBackend with 1 concurrent workers.\n",
      "[Parallel(n_jobs=1)]: Done 1000 out of 1000 | elapsed:    0.0s finished\n",
      "[Parallel(n_jobs=1)]: Using backend SequentialBackend with 1 concurrent workers.\n",
      "[Parallel(n_jobs=1)]: Done 1000 out of 1000 | elapsed:    0.0s finished\n",
      "[Parallel(n_jobs=1)]: Using backend SequentialBackend with 1 concurrent workers.\n",
      "[Parallel(n_jobs=1)]: Done 1000 out of 1000 | elapsed:    0.0s finished\n",
      "[Parallel(n_jobs=1)]: Using backend SequentialBackend with 1 concurrent workers.\n",
      "[Parallel(n_jobs=1)]: Done 1000 out of 1000 | elapsed:    0.0s finished\n",
      "[Parallel(n_jobs=1)]: Using backend SequentialBackend with 1 concurrent workers.\n",
      "[Parallel(n_jobs=1)]: Done 1000 out of 1000 | elapsed:    0.0s finished\n",
      "[Parallel(n_jobs=1)]: Using backend SequentialBackend with 1 concurrent workers.\n",
      "[Parallel(n_jobs=1)]: Done 1000 out of 1000 | elapsed:    0.0s finished\n",
      "[Parallel(n_jobs=1)]: Using backend SequentialBackend with 1 concurrent workers.\n",
      "[Parallel(n_jobs=1)]: Done 1000 out of 1000 | elapsed:    0.0s finished\n",
      "[Parallel(n_jobs=1)]: Using backend SequentialBackend with 1 concurrent workers.\n",
      "[Parallel(n_jobs=1)]: Done 1000 out of 1000 | elapsed:    0.0s finished\n",
      "[Parallel(n_jobs=1)]: Using backend SequentialBackend with 1 concurrent workers.\n",
      "[Parallel(n_jobs=1)]: Done 1000 out of 1000 | elapsed:    0.0s finished\n",
      "[Parallel(n_jobs=1)]: Using backend SequentialBackend with 1 concurrent workers.\n",
      "[Parallel(n_jobs=1)]: Done 1000 out of 1000 | elapsed:    0.0s finished\n"
     ]
    },
    {
     "name": "stdout",
     "output_type": "stream",
     "text": [
      "Model Number: 197 with model RollingRegression in generation 2 of 2\n",
      "Model Number: 198 with model ZeroesNaive in generation 2 of 2\n",
      "Model Number: 199 with model ZeroesNaive in generation 2 of 2\n",
      "Model Number: 200 with model ZeroesNaive in generation 2 of 2\n",
      "Model Number: 201 with model GLS in generation 2 of 2\n"
     ]
    },
    {
     "name": "stderr",
     "output_type": "stream",
     "text": [
      "c:\\users\\catalina\\appdata\\local\\programs\\python\\python39\\lib\\site-packages\\sklearn\\_loss\\glm_distribution.py:132: RuntimeWarning:\n",
      "\n",
      "divide by zero encountered in true_divide\n",
      "\n",
      "c:\\users\\catalina\\appdata\\local\\programs\\python\\python39\\lib\\site-packages\\sklearn\\linear_model\\_glm\\glm.py:43: RuntimeWarning:\n",
      "\n",
      "invalid value encountered in multiply\n",
      "\n",
      "c:\\users\\catalina\\appdata\\local\\programs\\python\\python39\\lib\\site-packages\\sklearn\\_loss\\glm_distribution.py:321: RuntimeWarning:\n",
      "\n",
      "divide by zero encountered in power\n",
      "\n",
      "c:\\users\\catalina\\appdata\\local\\programs\\python\\python39\\lib\\site-packages\\sklearn\\linear_model\\_glm\\link.py:90: RuntimeWarning:\n",
      "\n",
      "overflow encountered in exp\n",
      "\n",
      "c:\\users\\catalina\\appdata\\local\\programs\\python\\python39\\lib\\site-packages\\sklearn\\linear_model\\_glm\\link.py:93: RuntimeWarning:\n",
      "\n",
      "overflow encountered in exp\n",
      "\n",
      "c:\\users\\catalina\\appdata\\local\\programs\\python\\python39\\lib\\site-packages\\sklearn\\_loss\\glm_distribution.py:132: RuntimeWarning:\n",
      "\n",
      "invalid value encountered in true_divide\n",
      "\n",
      "c:\\users\\catalina\\appdata\\local\\programs\\python\\python39\\lib\\site-packages\\sklearn\\_loss\\glm_distribution.py:132: RuntimeWarning:\n",
      "\n",
      "divide by zero encountered in true_divide\n",
      "\n",
      "c:\\users\\catalina\\appdata\\local\\programs\\python\\python39\\lib\\site-packages\\sklearn\\linear_model\\_glm\\glm.py:43: RuntimeWarning:\n",
      "\n",
      "invalid value encountered in multiply\n",
      "\n",
      "c:\\users\\catalina\\appdata\\local\\programs\\python\\python39\\lib\\site-packages\\sklearn\\_loss\\glm_distribution.py:321: RuntimeWarning:\n",
      "\n",
      "divide by zero encountered in power\n",
      "\n"
     ]
    },
    {
     "name": "stdout",
     "output_type": "stream",
     "text": [
      "Model Number: 202 with model GLS in generation 2 of 2\n",
      "Model Number: 203 with model GLS in generation 2 of 2\n",
      "Model Number: 204 with model WindowRegression in generation 2 of 2\n",
      "Template Eval Error: ValueError(\"WindowRegression regression_type='user' requires numpy >= 1.20\") in model 204: WindowRegression\n",
      "Model Number: 205 with model WindowRegression in generation 2 of 2\n",
      "Template Eval Error: ValueError(\"WindowRegression regression_type='user' requires numpy >= 1.20\") in model 205: WindowRegression\n",
      "Model Number: 206 with model WindowRegression in generation 2 of 2\n"
     ]
    },
    {
     "name": "stderr",
     "output_type": "stream",
     "text": [
      "c:\\users\\catalina\\appdata\\local\\programs\\python\\python39\\lib\\site-packages\\sklearn\\neural_network\\_multilayer_perceptron.py:500: ConvergenceWarning:\n",
      "\n",
      "lbfgs failed to converge (status=1):\n",
      "STOP: TOTAL NO. of ITERATIONS REACHED LIMIT.\n",
      "\n",
      "Increase the number of iterations (max_iter) or scale the data as shown in:\n",
      "    https://scikit-learn.org/stable/modules/preprocessing.html\n",
      "\n"
     ]
    },
    {
     "name": "stdout",
     "output_type": "stream",
     "text": [
      "Model Number: 207 with model GLM in generation 2 of 2\n",
      "Model Number: 208 with model GLM in generation 2 of 2\n"
     ]
    },
    {
     "name": "stderr",
     "output_type": "stream",
     "text": [
      "c:\\users\\catalina\\appdata\\local\\programs\\python\\python39\\lib\\site-packages\\statsmodels\\genmod\\families\\family.py:1582: RuntimeWarning:\n",
      "\n",
      "invalid value encountered in log\n",
      "\n",
      "c:\\users\\catalina\\appdata\\local\\programs\\python\\python39\\lib\\site-packages\\statsmodels\\genmod\\families\\family.py:1582: RuntimeWarning:\n",
      "\n",
      "divide by zero encountered in true_divide\n",
      "\n",
      "c:\\users\\catalina\\appdata\\local\\programs\\python\\python39\\lib\\site-packages\\statsmodels\\genmod\\generalized_linear_model.py:801: RuntimeWarning:\n",
      "\n",
      "divide by zero encountered in true_divide\n",
      "\n",
      "c:\\users\\catalina\\appdata\\local\\programs\\python\\python39\\lib\\site-packages\\statsmodels\\genmod\\families\\family.py:132: RuntimeWarning:\n",
      "\n",
      "divide by zero encountered in true_divide\n",
      "\n",
      "c:\\users\\catalina\\appdata\\local\\programs\\python\\python39\\lib\\site-packages\\statsmodels\\genmod\\families\\family.py:426: RuntimeWarning:\n",
      "\n",
      "divide by zero encountered in true_divide\n",
      "\n",
      "c:\\users\\catalina\\appdata\\local\\programs\\python\\python39\\lib\\site-packages\\statsmodels\\genmod\\families\\family.py:132: RuntimeWarning:\n",
      "\n",
      "divide by zero encountered in true_divide\n",
      "\n"
     ]
    },
    {
     "name": "stdout",
     "output_type": "stream",
     "text": [
      "Template Eval Error: ValueError('NaN, inf or invalid value detected in weights, estimation infeasible.') in model 208: GLM\n",
      "Model Number: 209 with model GLM in generation 2 of 2\n",
      "Template Eval Error: ValueError('NaN, inf or invalid value detected in weights, estimation infeasible.') in model 209: GLM\n",
      "Model Number: 210 with model GLM in generation 2 of 2\n"
     ]
    },
    {
     "name": "stderr",
     "output_type": "stream",
     "text": [
      "c:\\users\\catalina\\appdata\\local\\programs\\python\\python39\\lib\\site-packages\\statsmodels\\genmod\\families\\family.py:1582: RuntimeWarning:\n",
      "\n",
      "invalid value encountered in log\n",
      "\n"
     ]
    },
    {
     "name": "stdout",
     "output_type": "stream",
     "text": [
      "Template Eval Error: ValueError('The first guess on the deviance function returned a nan.  This could be a boundary  problem and should be reported.') in model 210: GLM\n",
      "Model Number: 211 with model GluonTS in generation 2 of 2\n",
      "Template Eval Error: ImportError('GluonTS installation not found or installed version is incompatible with AutoTS.') in model 211: GluonTS\n",
      "Model Number: 212 with model GluonTS in generation 2 of 2\n",
      "Template Eval Error: ImportError('GluonTS installation not found or installed version is incompatible with AutoTS.') in model 212: GluonTS\n",
      "Model Number: 213 with model GluonTS in generation 2 of 2\n",
      "Template Eval Error: ImportError('GluonTS installation not found or installed version is incompatible with AutoTS.') in model 213: GluonTS\n",
      "Model Number: 214 with model GluonTS in generation 2 of 2\n",
      "Template Eval Error: ImportError('GluonTS installation not found or installed version is incompatible with AutoTS.') in model 214: GluonTS\n",
      "Model Number: 215 with model FBProphet in generation 2 of 2\n",
      "Template Eval Error: ImportError('Package fbprophet is required') in model 215: FBProphet\n",
      "Model Number: 216 with model FBProphet in generation 2 of 2\n",
      "Template Eval Error: ImportError('Package fbprophet is required') in model 216: FBProphet\n",
      "Model Number: 217 with model FBProphet in generation 2 of 2\n",
      "Template Eval Error: ImportError('Package fbprophet is required') in model 217: FBProphet\n",
      "Model Number: 218 with model UnivariateRegression in generation 2 of 2\n",
      "Template Eval Error: TypeError(\"unsupported operand type(s) for -: 'NoneType' and 'int'\") in model 218: UnivariateRegression\n",
      "Model Number: 219 with model UnivariateRegression in generation 2 of 2\n",
      "Template Eval Error: TypeError(\"unsupported operand type(s) for -: 'NoneType' and 'int'\") in model 219: UnivariateRegression\n",
      "Model Number: 220 with model UnivariateRegression in generation 2 of 2\n",
      "Template Eval Error: TypeError(\"unsupported operand type(s) for -: 'NoneType' and 'int'\") in model 220: UnivariateRegression\n",
      "Model Number: 221 with model UnivariateRegression in generation 2 of 2\n",
      "Template Eval Error: TypeError(\"unsupported operand type(s) for -: 'NoneType' and 'int'\") in model 221: UnivariateRegression\n",
      "Model Number: 222 with model UnivariateMotif in generation 2 of 2\n",
      "Template Eval Error: AttributeError(\"module 'numpy.lib.stride_tricks' has no attribute 'sliding_window_view'\") in model 222: UnivariateMotif\n",
      "Model Number: 223 with model UnivariateMotif in generation 2 of 2\n",
      "Template Eval Error: AttributeError(\"module 'numpy.lib.stride_tricks' has no attribute 'sliding_window_view'\") in model 223: UnivariateMotif\n",
      "Model Number: 224 with model UnivariateMotif in generation 2 of 2\n",
      "Template Eval Error: AttributeError(\"module 'numpy.lib.stride_tricks' has no attribute 'sliding_window_view'\") in model 224: UnivariateMotif\n",
      "Model Number: 225 with model UnivariateMotif in generation 2 of 2\n",
      "Template Eval Error: AttributeError(\"module 'numpy.lib.stride_tricks' has no attribute 'sliding_window_view'\") in model 225: UnivariateMotif\n",
      "Model Number: 226 with model Ensemble in generation 3 of 0\n",
      "Model Number: 227 with model Ensemble in generation 3 of 0\n",
      "Model Number: 228 with model Ensemble in generation 3 of 0\n",
      "Validation Round: 1\n",
      "Model Number: 1 of 35 with model Ensemble for Validation 1\n",
      "Model 1 of model Ensemble with avg smape 16.97: \n",
      "Model Number: 2 of 35 with model Ensemble for Validation 1\n",
      "Model 2 of model Ensemble with avg smape 13.54: \n",
      "Model Number: 3 of 35 with model VAR for Validation 1\n",
      "Model 3 of model VAR with avg smape 18.18: \n",
      "Model Number: 4 of 35 with model VAR for Validation 1\n",
      "Model 4 of model VAR with avg smape 18.08: \n",
      "Model Number: 5 of 35 with model Ensemble for Validation 1\n",
      "Model 5 of model Ensemble with avg smape 17.64: \n",
      "Model Number: 6 of 35 with model VAR for Validation 1\n",
      "Model 6 of model VAR with avg smape 16.92: \n",
      "Model Number: 7 of 35 with model LastValueNaive for Validation 1\n",
      "Model 7 of model LastValueNaive with avg smape 12.82: \n",
      "Model Number: 8 of 35 with model LastValueNaive for Validation 1\n",
      "Model 8 of model LastValueNaive with avg smape 9.97: \n",
      "Model Number: 9 of 35 with model ETS for Validation 1\n",
      "Model 9 of model ETS with avg smape 23.08: \n",
      "Model Number: 10 of 35 with model VECM for Validation 1\n",
      "Model 10 of model VECM with avg smape 9.65: \n",
      "Model Number: 11 of 35 with model VECM for Validation 1\n",
      "Model 11 of model VECM with avg smape 9.64: \n",
      "Model Number: 12 of 35 with model VECM for Validation 1\n"
     ]
    },
    {
     "name": "stderr",
     "output_type": "stream",
     "text": [
      "c:\\users\\catalina\\appdata\\local\\programs\\python\\python39\\lib\\site-packages\\statsmodels\\tsa\\tsatools.py:821: FutureWarning:\n",
      "\n",
      "trend 'nc' has been renamed to 'n' after 0.14 is released. Use 'n' now to avoid this warning.\n",
      "\n"
     ]
    },
    {
     "name": "stdout",
     "output_type": "stream",
     "text": [
      "Model 12 of model VECM with avg smape 9.64: \n",
      "Model Number: 13 of 35 with model VECM for Validation 1\n"
     ]
    },
    {
     "name": "stderr",
     "output_type": "stream",
     "text": [
      "c:\\users\\catalina\\appdata\\local\\programs\\python\\python39\\lib\\site-packages\\statsmodels\\tsa\\tsatools.py:821: FutureWarning:\n",
      "\n",
      "trend 'nc' has been renamed to 'n' after 0.14 is released. Use 'n' now to avoid this warning.\n",
      "\n"
     ]
    },
    {
     "name": "stdout",
     "output_type": "stream",
     "text": [
      "Model 13 of model VECM with avg smape 10.92: \n",
      "Model Number: 14 of 35 with model WindowRegression for Validation 1\n"
     ]
    },
    {
     "name": "stderr",
     "output_type": "stream",
     "text": [
      "c:\\users\\catalina\\appdata\\local\\programs\\python\\python39\\lib\\site-packages\\sklearn\\neural_network\\_multilayer_perceptron.py:500: ConvergenceWarning:\n",
      "\n",
      "lbfgs failed to converge (status=1):\n",
      "STOP: TOTAL NO. of ITERATIONS REACHED LIMIT.\n",
      "\n",
      "Increase the number of iterations (max_iter) or scale the data as shown in:\n",
      "    https://scikit-learn.org/stable/modules/preprocessing.html\n",
      "\n"
     ]
    },
    {
     "name": "stdout",
     "output_type": "stream",
     "text": [
      "Model 14 of model WindowRegression with avg smape 7.9: \n",
      "Model Number: 15 of 35 with model SeasonalNaive for Validation 1\n",
      "Model 15 of model SeasonalNaive with avg smape 10.74: \n",
      "Model Number: 16 of 35 with model VAR for Validation 1\n",
      "Model 16 of model VAR with avg smape 17.6: \n",
      "Model Number: 17 of 35 with model LastValueNaive for Validation 1\n",
      "Model 17 of model LastValueNaive with avg smape 9.1: \n",
      "Model Number: 18 of 35 with model ETS for Validation 1\n",
      "Model 18 of model ETS with avg smape 13.67: \n",
      "Model Number: 19 of 35 with model SeasonalNaive for Validation 1\n",
      "Model 19 of model SeasonalNaive with avg smape 12.2: \n",
      "Model Number: 20 of 35 with model SeasonalNaive for Validation 1\n",
      "Model 20 of model SeasonalNaive with avg smape 12.21: \n",
      "Model Number: 21 of 35 with model DatepartRegression for Validation 1\n",
      "Model 21 of model DatepartRegression with avg smape 5.34: \n",
      "Model Number: 22 of 35 with model AverageValueNaive for Validation 1\n",
      "Model 22 of model AverageValueNaive with avg smape 12.37: \n",
      "Model Number: 23 of 35 with model AverageValueNaive for Validation 1\n",
      "Model 23 of model AverageValueNaive with avg smape 11.89: \n",
      "Model Number: 24 of 35 with model UnobservedComponents for Validation 1\n",
      "Model 24 of model UnobservedComponents with avg smape 15.1: \n",
      "Model Number: 25 of 35 with model UnobservedComponents for Validation 1\n",
      "Model 25 of model UnobservedComponents with avg smape 15.1: \n",
      "Model Number: 26 of 35 with model DatepartRegression for Validation 1\n",
      "Epoch 1/50\n",
      "1002/1002 [==============================] - 5s 1ms/step - loss: 0.3132\n",
      "Epoch 2/50\n",
      "1002/1002 [==============================] - 2s 2ms/step - loss: 0.2516\n",
      "Epoch 3/50\n",
      "1002/1002 [==============================] - 1s 1ms/step - loss: 0.1963\n",
      "Epoch 4/50\n",
      "1002/1002 [==============================] - 1s 1ms/step - loss: 0.1672\n",
      "Epoch 5/50\n",
      "1002/1002 [==============================] - 2s 1ms/step - loss: 0.1577\n",
      "Epoch 6/50\n",
      "1002/1002 [==============================] - 1s 1ms/step - loss: 0.1503\n",
      "Epoch 7/50\n",
      "1002/1002 [==============================] - 1s 1ms/step - loss: 0.1465\n",
      "Epoch 8/50\n",
      "1002/1002 [==============================] - 2s 2ms/step - loss: 0.1443\n",
      "Epoch 9/50\n",
      "1002/1002 [==============================] - 1s 1ms/step - loss: 0.1413\n",
      "Epoch 10/50\n",
      "1002/1002 [==============================] - 1s 1ms/step - loss: 0.1403\n",
      "Epoch 11/50\n",
      "1002/1002 [==============================] - 1s 1ms/step - loss: 0.1383\n",
      "Epoch 12/50\n",
      "1002/1002 [==============================] - 2s 1ms/step - loss: 0.1375\n",
      "Epoch 13/50\n",
      "1002/1002 [==============================] - 1s 1ms/step - loss: 0.1386\n",
      "Epoch 14/50\n",
      "1002/1002 [==============================] - 1s 1ms/step - loss: 0.1355\n",
      "Epoch 15/50\n",
      "1002/1002 [==============================] - 2s 2ms/step - loss: 0.1354\n",
      "Epoch 16/50\n",
      "1002/1002 [==============================] - 2s 1ms/step - loss: 0.1343\n",
      "Epoch 17/50\n",
      "1002/1002 [==============================] - 2s 2ms/step - loss: 0.1339\n",
      "Epoch 18/50\n",
      "1002/1002 [==============================] - 1s 1ms/step - loss: 0.1329\n",
      "Epoch 19/50\n",
      "1002/1002 [==============================] - 1s 1ms/step - loss: 0.1330\n",
      "Epoch 20/50\n",
      "1002/1002 [==============================] - 1s 1ms/step - loss: 0.1313\n",
      "Epoch 21/50\n",
      "1002/1002 [==============================] - 1s 1ms/step - loss: 0.1316\n",
      "Epoch 22/50\n",
      "1002/1002 [==============================] - 1s 1ms/step - loss: 0.1307\n",
      "Epoch 23/50\n",
      "1002/1002 [==============================] - 1s 1ms/step - loss: 0.1316\n",
      "Epoch 24/50\n",
      "1002/1002 [==============================] - 1s 1ms/step - loss: 0.1299\n",
      "Epoch 25/50\n",
      "1002/1002 [==============================] - 1s 1ms/step - loss: 0.1342\n",
      "Epoch 26/50\n",
      "1002/1002 [==============================] - 1s 1ms/step - loss: 0.1281\n",
      "Epoch 27/50\n",
      "1002/1002 [==============================] - 1s 1ms/step - loss: 0.1286\n",
      "Epoch 28/50\n",
      "1002/1002 [==============================] - 2s 1ms/step - loss: 0.1282\n",
      "Epoch 29/50\n",
      "1002/1002 [==============================] - 1s 1ms/step - loss: 0.1276\n",
      "Epoch 30/50\n",
      "1002/1002 [==============================] - 1s 1ms/step - loss: 0.1264\n",
      "Epoch 31/50\n",
      "1002/1002 [==============================] - 1s 1ms/step - loss: 0.1282\n",
      "Epoch 32/50\n",
      "1002/1002 [==============================] - 1s 1ms/step - loss: 0.1271\n",
      "Epoch 33/50\n",
      "1002/1002 [==============================] - ETA: 0s - loss: 0.126 - 2s 2ms/step - loss: 0.1260\n",
      "Epoch 34/50\n",
      "1002/1002 [==============================] - 2s 2ms/step - loss: 0.1263\n",
      "Epoch 35/50\n",
      "1002/1002 [==============================] - 2s 2ms/step - loss: 0.1258\n",
      "Epoch 36/50\n",
      "1002/1002 [==============================] - 1s 1ms/step - loss: 0.1256\n",
      "Epoch 37/50\n",
      "1002/1002 [==============================] - 1s 1ms/step - loss: 0.1252\n",
      "Epoch 38/50\n",
      "1002/1002 [==============================] - 1s 1ms/step - loss: 0.1260\n",
      "Epoch 39/50\n",
      "1002/1002 [==============================] - 1s 1ms/step - loss: 0.1239\n",
      "Epoch 40/50\n",
      "1002/1002 [==============================] - 2s 1ms/step - loss: 0.1241\n",
      "Epoch 41/50\n",
      "1002/1002 [==============================] - 1s 1ms/step - loss: 0.1236\n",
      "Epoch 42/50\n",
      "1002/1002 [==============================] - 1s 1ms/step - loss: 0.1237\n",
      "Epoch 43/50\n",
      "1002/1002 [==============================] - 1s 1ms/step - loss: 0.1244\n",
      "Epoch 44/50\n",
      "1002/1002 [==============================] - 1s 1ms/step - loss: 0.1226\n",
      "Epoch 45/50\n",
      "1002/1002 [==============================] - 1s 1ms/step - loss: 0.1244\n",
      "Epoch 46/50\n",
      "1002/1002 [==============================] - 2s 2ms/step - loss: 0.1216\n",
      "Epoch 47/50\n",
      "1002/1002 [==============================] - 1s 1ms/step - loss: 0.1221\n",
      "Epoch 48/50\n",
      "1002/1002 [==============================] - 1s 1ms/step - loss: 0.1230\n",
      "Epoch 49/50\n",
      "1002/1002 [==============================] - 1s 1ms/step - loss: 0.1220\n",
      "Epoch 50/50\n",
      "1002/1002 [==============================] - 1s 1ms/step - loss: 0.1216\n",
      "Model 26 of model DatepartRegression with avg smape 10.79: \n",
      "Model Number: 27 of 35 with model ETS for Validation 1\n",
      "Model 27 of model ETS with avg smape 18.39: \n",
      "Model Number: 28 of 35 with model SeasonalNaive for Validation 1\n",
      "Model 28 of model SeasonalNaive with avg smape 21.19: \n",
      "Model Number: 29 of 35 with model ETS for Validation 1\n"
     ]
    },
    {
     "name": "stderr",
     "output_type": "stream",
     "text": [
      "c:\\users\\catalina\\appdata\\local\\programs\\python\\python39\\lib\\site-packages\\sklearn\\_loss\\glm_distribution.py:132: RuntimeWarning:\n",
      "\n",
      "divide by zero encountered in true_divide\n",
      "\n",
      "c:\\users\\catalina\\appdata\\local\\programs\\python\\python39\\lib\\site-packages\\sklearn\\linear_model\\_glm\\glm.py:43: RuntimeWarning:\n",
      "\n",
      "invalid value encountered in multiply\n",
      "\n",
      "c:\\users\\catalina\\appdata\\local\\programs\\python\\python39\\lib\\site-packages\\sklearn\\_loss\\glm_distribution.py:318: RuntimeWarning:\n",
      "\n",
      "divide by zero encountered in log\n",
      "\n",
      "c:\\users\\catalina\\appdata\\local\\programs\\python\\python39\\lib\\site-packages\\sklearn\\_loss\\glm_distribution.py:318: RuntimeWarning:\n",
      "\n",
      "divide by zero encountered in true_divide\n",
      "\n",
      "c:\\users\\catalina\\appdata\\local\\programs\\python\\python39\\lib\\site-packages\\sklearn\\_loss\\glm_distribution.py:318: RuntimeWarning:\n",
      "\n",
      "invalid value encountered in add\n",
      "\n",
      "c:\\users\\catalina\\appdata\\local\\programs\\python\\python39\\lib\\site-packages\\sklearn\\linear_model\\_glm\\glm.py:287: ConvergenceWarning:\n",
      "\n",
      "lbfgs failed to converge (status=2):\n",
      "ABNORMAL_TERMINATION_IN_LNSRCH.\n",
      "\n",
      "Increase the number of iterations (max_iter) or scale the data as shown in:\n",
      "    https://scikit-learn.org/stable/modules/preprocessing.html\n",
      "\n",
      "c:\\users\\catalina\\appdata\\local\\programs\\python\\python39\\lib\\site-packages\\sklearn\\linear_model\\_glm\\link.py:90: RuntimeWarning:\n",
      "\n",
      "overflow encountered in exp\n",
      "\n",
      "c:\\users\\catalina\\appdata\\local\\programs\\python\\python39\\lib\\site-packages\\sklearn\\linear_model\\_glm\\link.py:93: RuntimeWarning:\n",
      "\n",
      "overflow encountered in exp\n",
      "\n",
      "c:\\users\\catalina\\appdata\\local\\programs\\python\\python39\\lib\\site-packages\\sklearn\\_loss\\glm_distribution.py:132: RuntimeWarning:\n",
      "\n",
      "invalid value encountered in true_divide\n",
      "\n",
      "c:\\users\\catalina\\appdata\\local\\programs\\python\\python39\\lib\\site-packages\\sklearn\\_loss\\glm_distribution.py:132: RuntimeWarning:\n",
      "\n",
      "divide by zero encountered in true_divide\n",
      "\n",
      "c:\\users\\catalina\\appdata\\local\\programs\\python\\python39\\lib\\site-packages\\sklearn\\linear_model\\_glm\\glm.py:43: RuntimeWarning:\n",
      "\n",
      "invalid value encountered in multiply\n",
      "\n",
      "c:\\users\\catalina\\appdata\\local\\programs\\python\\python39\\lib\\site-packages\\sklearn\\_loss\\glm_distribution.py:318: RuntimeWarning:\n",
      "\n",
      "divide by zero encountered in log\n",
      "\n",
      "c:\\users\\catalina\\appdata\\local\\programs\\python\\python39\\lib\\site-packages\\sklearn\\_loss\\glm_distribution.py:318: RuntimeWarning:\n",
      "\n",
      "divide by zero encountered in true_divide\n",
      "\n",
      "c:\\users\\catalina\\appdata\\local\\programs\\python\\python39\\lib\\site-packages\\sklearn\\_loss\\glm_distribution.py:318: RuntimeWarning:\n",
      "\n",
      "invalid value encountered in add\n",
      "\n",
      "c:\\users\\catalina\\appdata\\local\\programs\\python\\python39\\lib\\site-packages\\sklearn\\linear_model\\_glm\\glm.py:287: ConvergenceWarning:\n",
      "\n",
      "lbfgs failed to converge (status=2):\n",
      "ABNORMAL_TERMINATION_IN_LNSRCH.\n",
      "\n",
      "Increase the number of iterations (max_iter) or scale the data as shown in:\n",
      "    https://scikit-learn.org/stable/modules/preprocessing.html\n",
      "\n"
     ]
    },
    {
     "name": "stdout",
     "output_type": "stream",
     "text": [
      "Model 29 of model ETS with avg smape 18.97: \n",
      "Model Number: 30 of 35 with model RollingRegression for Validation 1\n"
     ]
    },
    {
     "name": "stderr",
     "output_type": "stream",
     "text": [
      "[Parallel(n_jobs=1)]: Using backend SequentialBackend with 1 concurrent workers.\n",
      "[Parallel(n_jobs=1)]: Done 1000 out of 1000 | elapsed:  6.8min finished\n",
      "[Parallel(n_jobs=1)]: Using backend SequentialBackend with 1 concurrent workers.\n",
      "[Parallel(n_jobs=1)]: Done 1000 out of 1000 | elapsed:    0.0s finished\n",
      "[Parallel(n_jobs=1)]: Using backend SequentialBackend with 1 concurrent workers.\n",
      "[Parallel(n_jobs=1)]: Done 1000 out of 1000 | elapsed:    0.0s finished\n",
      "[Parallel(n_jobs=1)]: Using backend SequentialBackend with 1 concurrent workers.\n",
      "[Parallel(n_jobs=1)]: Done 1000 out of 1000 | elapsed:    0.0s finished\n",
      "[Parallel(n_jobs=1)]: Using backend SequentialBackend with 1 concurrent workers.\n",
      "[Parallel(n_jobs=1)]: Done 1000 out of 1000 | elapsed:    0.0s finished\n",
      "[Parallel(n_jobs=1)]: Using backend SequentialBackend with 1 concurrent workers.\n",
      "[Parallel(n_jobs=1)]: Done 1000 out of 1000 | elapsed:    0.0s finished\n",
      "[Parallel(n_jobs=1)]: Using backend SequentialBackend with 1 concurrent workers.\n",
      "[Parallel(n_jobs=1)]: Done 1000 out of 1000 | elapsed:    0.0s finished\n",
      "[Parallel(n_jobs=1)]: Using backend SequentialBackend with 1 concurrent workers.\n",
      "[Parallel(n_jobs=1)]: Done 1000 out of 1000 | elapsed:    0.0s finished\n",
      "[Parallel(n_jobs=1)]: Using backend SequentialBackend with 1 concurrent workers.\n",
      "[Parallel(n_jobs=1)]: Done 1000 out of 1000 | elapsed:    0.0s finished\n",
      "[Parallel(n_jobs=1)]: Using backend SequentialBackend with 1 concurrent workers.\n",
      "[Parallel(n_jobs=1)]: Done 1000 out of 1000 | elapsed:    0.0s finished\n",
      "[Parallel(n_jobs=1)]: Using backend SequentialBackend with 1 concurrent workers.\n",
      "[Parallel(n_jobs=1)]: Done 1000 out of 1000 | elapsed:    0.0s finished\n",
      "[Parallel(n_jobs=1)]: Using backend SequentialBackend with 1 concurrent workers.\n",
      "[Parallel(n_jobs=1)]: Done 1000 out of 1000 | elapsed:    0.0s finished\n",
      "[Parallel(n_jobs=1)]: Using backend SequentialBackend with 1 concurrent workers.\n",
      "[Parallel(n_jobs=1)]: Done 1000 out of 1000 | elapsed:    0.0s finished\n",
      "[Parallel(n_jobs=1)]: Using backend SequentialBackend with 1 concurrent workers.\n",
      "[Parallel(n_jobs=1)]: Done 1000 out of 1000 | elapsed:    0.0s finished\n",
      "[Parallel(n_jobs=1)]: Using backend SequentialBackend with 1 concurrent workers.\n",
      "[Parallel(n_jobs=1)]: Done 1000 out of 1000 | elapsed:    0.0s finished\n",
      "[Parallel(n_jobs=1)]: Using backend SequentialBackend with 1 concurrent workers.\n",
      "[Parallel(n_jobs=1)]: Done 1000 out of 1000 | elapsed:    0.0s finished\n",
      "[Parallel(n_jobs=1)]: Using backend SequentialBackend with 1 concurrent workers.\n",
      "[Parallel(n_jobs=1)]: Done 1000 out of 1000 | elapsed:    0.0s finished\n",
      "[Parallel(n_jobs=1)]: Using backend SequentialBackend with 1 concurrent workers.\n",
      "[Parallel(n_jobs=1)]: Done 1000 out of 1000 | elapsed:    0.0s finished\n",
      "[Parallel(n_jobs=1)]: Using backend SequentialBackend with 1 concurrent workers.\n",
      "[Parallel(n_jobs=1)]: Done 1000 out of 1000 | elapsed:    0.0s finished\n",
      "[Parallel(n_jobs=1)]: Using backend SequentialBackend with 1 concurrent workers.\n",
      "[Parallel(n_jobs=1)]: Done 1000 out of 1000 | elapsed:    0.0s finished\n",
      "[Parallel(n_jobs=1)]: Using backend SequentialBackend with 1 concurrent workers.\n",
      "[Parallel(n_jobs=1)]: Done 1000 out of 1000 | elapsed:    0.0s finished\n",
      "[Parallel(n_jobs=1)]: Using backend SequentialBackend with 1 concurrent workers.\n",
      "[Parallel(n_jobs=1)]: Done 1000 out of 1000 | elapsed:    0.0s finished\n",
      "[Parallel(n_jobs=1)]: Using backend SequentialBackend with 1 concurrent workers.\n",
      "[Parallel(n_jobs=1)]: Done 1000 out of 1000 | elapsed:    0.0s finished\n",
      "[Parallel(n_jobs=1)]: Using backend SequentialBackend with 1 concurrent workers.\n",
      "[Parallel(n_jobs=1)]: Done 1000 out of 1000 | elapsed:    0.0s finished\n",
      "[Parallel(n_jobs=1)]: Using backend SequentialBackend with 1 concurrent workers.\n",
      "[Parallel(n_jobs=1)]: Done 1000 out of 1000 | elapsed:    0.0s finished\n"
     ]
    },
    {
     "name": "stdout",
     "output_type": "stream",
     "text": [
      "Model 30 of model RollingRegression with avg smape 23.27: \n",
      "Model Number: 31 of 35 with model LastValueNaive for Validation 1\n",
      "Model 31 of model LastValueNaive with avg smape 9.08: \n",
      "Model Number: 32 of 35 with model RollingRegression for Validation 1\n",
      "Model 32 of model RollingRegression with avg smape 11.91: \n",
      "Model Number: 33 of 35 with model DatepartRegression for Validation 1\n"
     ]
    },
    {
     "name": "stderr",
     "output_type": "stream",
     "text": [
      "c:\\users\\catalina\\appdata\\local\\programs\\python\\python39\\lib\\site-packages\\sklearn\\neural_network\\_multilayer_perceptron.py:500: ConvergenceWarning:\n",
      "\n",
      "lbfgs failed to converge (status=1):\n",
      "STOP: TOTAL NO. of ITERATIONS REACHED LIMIT.\n",
      "\n",
      "Increase the number of iterations (max_iter) or scale the data as shown in:\n",
      "    https://scikit-learn.org/stable/modules/preprocessing.html\n",
      "\n"
     ]
    },
    {
     "name": "stdout",
     "output_type": "stream",
     "text": [
      "Model 33 of model DatepartRegression with avg smape 10.9: \n",
      "Model Number: 34 of 35 with model GLS for Validation 1\n",
      "Model 34 of model GLS with avg smape 12.92: \n",
      "Model Number: 35 of 35 with model RollingRegression for Validation 1\n"
     ]
    },
    {
     "name": "stderr",
     "output_type": "stream",
     "text": [
      "[Parallel(n_jobs=1)]: Using backend SequentialBackend with 1 concurrent workers.\n",
      "[Parallel(n_jobs=1)]: Done 1000 out of 1000 | elapsed:  7.0min finished\n",
      "[Parallel(n_jobs=1)]: Using backend SequentialBackend with 1 concurrent workers.\n",
      "[Parallel(n_jobs=1)]: Done 1000 out of 1000 | elapsed:    0.0s finished\n",
      "[Parallel(n_jobs=1)]: Using backend SequentialBackend with 1 concurrent workers.\n",
      "[Parallel(n_jobs=1)]: Done 1000 out of 1000 | elapsed:    0.0s finished\n",
      "[Parallel(n_jobs=1)]: Using backend SequentialBackend with 1 concurrent workers.\n",
      "[Parallel(n_jobs=1)]: Done 1000 out of 1000 | elapsed:    0.0s finished\n",
      "[Parallel(n_jobs=1)]: Using backend SequentialBackend with 1 concurrent workers.\n",
      "[Parallel(n_jobs=1)]: Done 1000 out of 1000 | elapsed:    0.0s finished\n",
      "[Parallel(n_jobs=1)]: Using backend SequentialBackend with 1 concurrent workers.\n",
      "[Parallel(n_jobs=1)]: Done 1000 out of 1000 | elapsed:    0.0s finished\n",
      "[Parallel(n_jobs=1)]: Using backend SequentialBackend with 1 concurrent workers.\n",
      "[Parallel(n_jobs=1)]: Done 1000 out of 1000 | elapsed:    0.0s finished\n",
      "[Parallel(n_jobs=1)]: Using backend SequentialBackend with 1 concurrent workers.\n",
      "[Parallel(n_jobs=1)]: Done 1000 out of 1000 | elapsed:    0.0s finished\n",
      "[Parallel(n_jobs=1)]: Using backend SequentialBackend with 1 concurrent workers.\n",
      "[Parallel(n_jobs=1)]: Done 1000 out of 1000 | elapsed:    0.0s finished\n",
      "[Parallel(n_jobs=1)]: Using backend SequentialBackend with 1 concurrent workers.\n",
      "[Parallel(n_jobs=1)]: Done 1000 out of 1000 | elapsed:    0.0s finished\n",
      "[Parallel(n_jobs=1)]: Using backend SequentialBackend with 1 concurrent workers.\n",
      "[Parallel(n_jobs=1)]: Done 1000 out of 1000 | elapsed:    0.0s finished\n",
      "[Parallel(n_jobs=1)]: Using backend SequentialBackend with 1 concurrent workers.\n",
      "[Parallel(n_jobs=1)]: Done 1000 out of 1000 | elapsed:    0.0s finished\n",
      "[Parallel(n_jobs=1)]: Using backend SequentialBackend with 1 concurrent workers.\n",
      "[Parallel(n_jobs=1)]: Done 1000 out of 1000 | elapsed:    0.0s finished\n",
      "[Parallel(n_jobs=1)]: Using backend SequentialBackend with 1 concurrent workers.\n",
      "[Parallel(n_jobs=1)]: Done 1000 out of 1000 | elapsed:    0.0s finished\n",
      "[Parallel(n_jobs=1)]: Using backend SequentialBackend with 1 concurrent workers.\n",
      "[Parallel(n_jobs=1)]: Done 1000 out of 1000 | elapsed:    0.0s finished\n",
      "[Parallel(n_jobs=1)]: Using backend SequentialBackend with 1 concurrent workers.\n",
      "[Parallel(n_jobs=1)]: Done 1000 out of 1000 | elapsed:    0.0s finished\n",
      "[Parallel(n_jobs=1)]: Using backend SequentialBackend with 1 concurrent workers.\n",
      "[Parallel(n_jobs=1)]: Done 1000 out of 1000 | elapsed:    0.0s finished\n",
      "[Parallel(n_jobs=1)]: Using backend SequentialBackend with 1 concurrent workers.\n",
      "[Parallel(n_jobs=1)]: Done 1000 out of 1000 | elapsed:    0.0s finished\n",
      "[Parallel(n_jobs=1)]: Using backend SequentialBackend with 1 concurrent workers.\n",
      "[Parallel(n_jobs=1)]: Done 1000 out of 1000 | elapsed:    0.0s finished\n",
      "[Parallel(n_jobs=1)]: Using backend SequentialBackend with 1 concurrent workers.\n",
      "[Parallel(n_jobs=1)]: Done 1000 out of 1000 | elapsed:    0.0s finished\n",
      "[Parallel(n_jobs=1)]: Using backend SequentialBackend with 1 concurrent workers.\n",
      "[Parallel(n_jobs=1)]: Done 1000 out of 1000 | elapsed:    0.0s finished\n",
      "[Parallel(n_jobs=1)]: Using backend SequentialBackend with 1 concurrent workers.\n",
      "[Parallel(n_jobs=1)]: Done 1000 out of 1000 | elapsed:    0.0s finished\n",
      "[Parallel(n_jobs=1)]: Using backend SequentialBackend with 1 concurrent workers.\n",
      "[Parallel(n_jobs=1)]: Done 1000 out of 1000 | elapsed:    0.0s finished\n",
      "[Parallel(n_jobs=1)]: Using backend SequentialBackend with 1 concurrent workers.\n",
      "[Parallel(n_jobs=1)]: Done 1000 out of 1000 | elapsed:    0.0s finished\n",
      "[Parallel(n_jobs=1)]: Using backend SequentialBackend with 1 concurrent workers.\n",
      "[Parallel(n_jobs=1)]: Done 1000 out of 1000 | elapsed:    0.0s finished\n"
     ]
    },
    {
     "name": "stdout",
     "output_type": "stream",
     "text": [
      "Model 35 of model RollingRegression with avg smape 11.62: \n",
      "Validation Round: 2\n",
      "Model Number: 1 of 35 with model Ensemble for Validation 2\n",
      "Model 1 of model Ensemble with avg smape 15.08: \n",
      "Model Number: 2 of 35 with model Ensemble for Validation 2\n",
      "Model 2 of model Ensemble with avg smape 18.22: \n",
      "Model Number: 3 of 35 with model VAR for Validation 2\n",
      "Model 3 of model VAR with avg smape 16.76: \n",
      "Model Number: 4 of 35 with model VAR for Validation 2\n",
      "Model 4 of model VAR with avg smape 16.4: \n",
      "Model Number: 5 of 35 with model Ensemble for Validation 2\n",
      "Model 5 of model Ensemble with avg smape 15.11: \n",
      "Model Number: 6 of 35 with model VAR for Validation 2\n",
      "Model 6 of model VAR with avg smape 12.72: \n",
      "Model Number: 7 of 35 with model LastValueNaive for Validation 2\n",
      "Model 7 of model LastValueNaive with avg smape 10.93: \n",
      "Model Number: 8 of 35 with model LastValueNaive for Validation 2\n",
      "Model 8 of model LastValueNaive with avg smape 24.14: \n",
      "Model Number: 9 of 35 with model ETS for Validation 2\n",
      "Model 9 of model ETS with avg smape 18.47: \n",
      "Model Number: 10 of 35 with model VECM for Validation 2\n",
      "Model 10 of model VECM with avg smape 24.36: \n",
      "Model Number: 11 of 35 with model VECM for Validation 2\n",
      "Model 11 of model VECM with avg smape 24.41: \n",
      "Model Number: 12 of 35 with model VECM for Validation 2\n"
     ]
    },
    {
     "name": "stderr",
     "output_type": "stream",
     "text": [
      "c:\\users\\catalina\\appdata\\local\\programs\\python\\python39\\lib\\site-packages\\statsmodels\\tsa\\tsatools.py:821: FutureWarning:\n",
      "\n",
      "trend 'nc' has been renamed to 'n' after 0.14 is released. Use 'n' now to avoid this warning.\n",
      "\n"
     ]
    },
    {
     "name": "stdout",
     "output_type": "stream",
     "text": [
      "Model 12 of model VECM with avg smape 25.05: \n",
      "Model Number: 13 of 35 with model VECM for Validation 2\n"
     ]
    },
    {
     "name": "stderr",
     "output_type": "stream",
     "text": [
      "c:\\users\\catalina\\appdata\\local\\programs\\python\\python39\\lib\\site-packages\\statsmodels\\tsa\\tsatools.py:821: FutureWarning:\n",
      "\n",
      "trend 'nc' has been renamed to 'n' after 0.14 is released. Use 'n' now to avoid this warning.\n",
      "\n"
     ]
    },
    {
     "name": "stdout",
     "output_type": "stream",
     "text": [
      "Model 13 of model VECM with avg smape 23.64: \n",
      "Model Number: 14 of 35 with model WindowRegression for Validation 2\n"
     ]
    },
    {
     "name": "stderr",
     "output_type": "stream",
     "text": [
      "c:\\users\\catalina\\appdata\\local\\programs\\python\\python39\\lib\\site-packages\\sklearn\\neural_network\\_multilayer_perceptron.py:500: ConvergenceWarning:\n",
      "\n",
      "lbfgs failed to converge (status=1):\n",
      "STOP: TOTAL NO. of ITERATIONS REACHED LIMIT.\n",
      "\n",
      "Increase the number of iterations (max_iter) or scale the data as shown in:\n",
      "    https://scikit-learn.org/stable/modules/preprocessing.html\n",
      "\n"
     ]
    },
    {
     "name": "stdout",
     "output_type": "stream",
     "text": [
      "Model 14 of model WindowRegression with avg smape 6.6: \n",
      "Model Number: 15 of 35 with model SeasonalNaive for Validation 2\n",
      "Model 15 of model SeasonalNaive with avg smape 26.13: \n",
      "Model Number: 16 of 35 with model VAR for Validation 2\n",
      "Model 16 of model VAR with avg smape 17.3: \n",
      "Model Number: 17 of 35 with model LastValueNaive for Validation 2\n",
      "Model 17 of model LastValueNaive with avg smape 9.09: \n",
      "Model Number: 18 of 35 with model ETS for Validation 2\n",
      "Model 18 of model ETS with avg smape 28.72: \n",
      "Model Number: 19 of 35 with model SeasonalNaive for Validation 2\n",
      "Model 19 of model SeasonalNaive with avg smape 11.43: \n",
      "Model Number: 20 of 35 with model SeasonalNaive for Validation 2\n",
      "Model 20 of model SeasonalNaive with avg smape 11.44: \n",
      "Model Number: 21 of 35 with model DatepartRegression for Validation 2\n",
      "Model 21 of model DatepartRegression with avg smape 6.85: \n",
      "Model Number: 22 of 35 with model AverageValueNaive for Validation 2\n",
      "Model 22 of model AverageValueNaive with avg smape 13.63: \n",
      "Model Number: 23 of 35 with model AverageValueNaive for Validation 2\n",
      "Model 23 of model AverageValueNaive with avg smape 12.79: \n",
      "Model Number: 24 of 35 with model UnobservedComponents for Validation 2\n",
      "Model 24 of model UnobservedComponents with avg smape 28.06: \n",
      "Model Number: 25 of 35 with model UnobservedComponents for Validation 2\n",
      "Model 25 of model UnobservedComponents with avg smape 28.06: \n",
      "Model Number: 26 of 35 with model DatepartRegression for Validation 2\n",
      "Epoch 1/50\n",
      "997/997 [==============================] - 8s 2ms/step - loss: 0.3119\n",
      "Epoch 2/50\n",
      "997/997 [==============================] - 2s 2ms/step - loss: 0.2545\n",
      "Epoch 3/50\n",
      "997/997 [==============================] - 2s 2ms/step - loss: 0.2015\n",
      "Epoch 4/50\n",
      "997/997 [==============================] - 2s 2ms/step - loss: 0.1686\n",
      "Epoch 5/50\n",
      "997/997 [==============================] - 2s 2ms/step - loss: 0.1566\n",
      "Epoch 6/50\n",
      "997/997 [==============================] - 2s 2ms/step - loss: 0.1496\n",
      "Epoch 7/50\n",
      "997/997 [==============================] - 2s 2ms/step - loss: 0.1456\n",
      "Epoch 8/50\n",
      "997/997 [==============================] - 2s 2ms/step - loss: 0.1436\n",
      "Epoch 9/50\n",
      "997/997 [==============================] - 2s 2ms/step - loss: 0.1417\n",
      "Epoch 10/50\n",
      "997/997 [==============================] - 2s 2ms/step - loss: 0.1393\n",
      "Epoch 11/50\n",
      "997/997 [==============================] - 2s 2ms/step - loss: 0.1378\n",
      "Epoch 12/50\n",
      "997/997 [==============================] - 2s 2ms/step - loss: 0.1382\n",
      "Epoch 13/50\n",
      "997/997 [==============================] - 2s 2ms/step - loss: 0.1366\n",
      "Epoch 14/50\n",
      "997/997 [==============================] - 2s 2ms/step - loss: 0.1348\n",
      "Epoch 15/50\n",
      "997/997 [==============================] - 2s 2ms/step - loss: 0.1357\n",
      "Epoch 16/50\n",
      "997/997 [==============================] - 2s 2ms/step - loss: 0.1332\n",
      "Epoch 17/50\n",
      "997/997 [==============================] - 2s 2ms/step - loss: 0.1339\n",
      "Epoch 18/50\n",
      "997/997 [==============================] - 2s 2ms/step - loss: 0.1326\n",
      "Epoch 19/50\n",
      "997/997 [==============================] - 2s 2ms/step - loss: 0.1315\n",
      "Epoch 20/50\n",
      "997/997 [==============================] - 2s 2ms/step - loss: 0.1323\n",
      "Epoch 21/50\n",
      "997/997 [==============================] - 2s 2ms/step - loss: 0.1308\n",
      "Epoch 22/50\n",
      "997/997 [==============================] - 2s 2ms/step - loss: 0.1316\n",
      "Epoch 23/50\n",
      "997/997 [==============================] - 2s 2ms/step - loss: 0.1297\n",
      "Epoch 24/50\n",
      "997/997 [==============================] - 2s 2ms/step - loss: 0.1292\n",
      "Epoch 25/50\n",
      "997/997 [==============================] - 2s 2ms/step - loss: 0.1298\n",
      "Epoch 26/50\n",
      "997/997 [==============================] - 2s 2ms/step - loss: 0.1285\n",
      "Epoch 27/50\n",
      "997/997 [==============================] - 2s 2ms/step - loss: 0.1287\n",
      "Epoch 28/50\n",
      "997/997 [==============================] - 2s 2ms/step - loss: 0.1306\n",
      "Epoch 29/50\n",
      "997/997 [==============================] - 2s 2ms/step - loss: 0.1269\n",
      "Epoch 30/50\n",
      "997/997 [==============================] - 2s 2ms/step - loss: 0.1270\n",
      "Epoch 31/50\n",
      "997/997 [==============================] - 2s 2ms/step - loss: 0.1269\n",
      "Epoch 32/50\n",
      "997/997 [==============================] - 2s 2ms/step - loss: 0.1261\n",
      "Epoch 33/50\n",
      "997/997 [==============================] - 2s 2ms/step - loss: 0.1272\n",
      "Epoch 34/50\n",
      "997/997 [==============================] - 2s 2ms/step - loss: 0.1261\n",
      "Epoch 35/50\n",
      "997/997 [==============================] - 2s 2ms/step - loss: 0.1252\n",
      "Epoch 36/50\n",
      "997/997 [==============================] - 2s 2ms/step - loss: 0.1244\n",
      "Epoch 37/50\n",
      "997/997 [==============================] - 2s 2ms/step - loss: 0.1280\n",
      "Epoch 38/50\n",
      "997/997 [==============================] - 2s 2ms/step - loss: 0.1250\n",
      "Epoch 39/50\n",
      "997/997 [==============================] - 2s 2ms/step - loss: 0.1248\n",
      "Epoch 40/50\n",
      "997/997 [==============================] - 2s 2ms/step - loss: 0.1233\n",
      "Epoch 41/50\n",
      "997/997 [==============================] - 2s 2ms/step - loss: 0.1239\n",
      "Epoch 42/50\n",
      "997/997 [==============================] - 2s 2ms/step - loss: 0.1243\n",
      "Epoch 43/50\n",
      "997/997 [==============================] - 2s 2ms/step - loss: 0.1230\n",
      "Epoch 44/50\n",
      "997/997 [==============================] - 2s 2ms/step - loss: 0.1226\n",
      "Epoch 45/50\n",
      "997/997 [==============================] - 2s 2ms/step - loss: 0.1240\n",
      "Epoch 46/50\n",
      "997/997 [==============================] - 2s 2ms/step - loss: 0.1222\n",
      "Epoch 47/50\n",
      "997/997 [==============================] - 2s 2ms/step - loss: 0.1221\n",
      "Epoch 48/50\n",
      "997/997 [==============================] - 2s 2ms/step - loss: 0.1223\n",
      "Epoch 49/50\n",
      "997/997 [==============================] - 2s 2ms/step - loss: 0.1224\n",
      "Epoch 50/50\n",
      "997/997 [==============================] - 2s 2ms/step - loss: 0.1222\n",
      "Model 26 of model DatepartRegression with avg smape 10.44: \n",
      "Model Number: 27 of 35 with model ETS for Validation 2\n",
      "Model 27 of model ETS with avg smape 17.14: \n",
      "Model Number: 28 of 35 with model SeasonalNaive for Validation 2\n",
      "Model 28 of model SeasonalNaive with avg smape 22.96: \n",
      "Model Number: 29 of 35 with model ETS for Validation 2\n"
     ]
    },
    {
     "name": "stderr",
     "output_type": "stream",
     "text": [
      "c:\\users\\catalina\\appdata\\local\\programs\\python\\python39\\lib\\site-packages\\sklearn\\_loss\\glm_distribution.py:132: RuntimeWarning:\n",
      "\n",
      "divide by zero encountered in true_divide\n",
      "\n",
      "c:\\users\\catalina\\appdata\\local\\programs\\python\\python39\\lib\\site-packages\\sklearn\\linear_model\\_glm\\glm.py:43: RuntimeWarning:\n",
      "\n",
      "invalid value encountered in multiply\n",
      "\n",
      "c:\\users\\catalina\\appdata\\local\\programs\\python\\python39\\lib\\site-packages\\sklearn\\_loss\\glm_distribution.py:318: RuntimeWarning:\n",
      "\n",
      "divide by zero encountered in log\n",
      "\n",
      "c:\\users\\catalina\\appdata\\local\\programs\\python\\python39\\lib\\site-packages\\sklearn\\_loss\\glm_distribution.py:318: RuntimeWarning:\n",
      "\n",
      "divide by zero encountered in true_divide\n",
      "\n",
      "c:\\users\\catalina\\appdata\\local\\programs\\python\\python39\\lib\\site-packages\\sklearn\\_loss\\glm_distribution.py:318: RuntimeWarning:\n",
      "\n",
      "invalid value encountered in add\n",
      "\n",
      "c:\\users\\catalina\\appdata\\local\\programs\\python\\python39\\lib\\site-packages\\sklearn\\linear_model\\_glm\\glm.py:287: ConvergenceWarning:\n",
      "\n",
      "lbfgs failed to converge (status=2):\n",
      "ABNORMAL_TERMINATION_IN_LNSRCH.\n",
      "\n",
      "Increase the number of iterations (max_iter) or scale the data as shown in:\n",
      "    https://scikit-learn.org/stable/modules/preprocessing.html\n",
      "\n",
      "c:\\users\\catalina\\appdata\\local\\programs\\python\\python39\\lib\\site-packages\\sklearn\\linear_model\\_glm\\link.py:90: RuntimeWarning:\n",
      "\n",
      "overflow encountered in exp\n",
      "\n",
      "c:\\users\\catalina\\appdata\\local\\programs\\python\\python39\\lib\\site-packages\\sklearn\\linear_model\\_glm\\link.py:93: RuntimeWarning:\n",
      "\n",
      "overflow encountered in exp\n",
      "\n",
      "c:\\users\\catalina\\appdata\\local\\programs\\python\\python39\\lib\\site-packages\\sklearn\\_loss\\glm_distribution.py:132: RuntimeWarning:\n",
      "\n",
      "invalid value encountered in true_divide\n",
      "\n",
      "c:\\users\\catalina\\appdata\\local\\programs\\python\\python39\\lib\\site-packages\\sklearn\\_loss\\glm_distribution.py:132: RuntimeWarning:\n",
      "\n",
      "divide by zero encountered in true_divide\n",
      "\n",
      "c:\\users\\catalina\\appdata\\local\\programs\\python\\python39\\lib\\site-packages\\sklearn\\linear_model\\_glm\\glm.py:43: RuntimeWarning:\n",
      "\n",
      "invalid value encountered in multiply\n",
      "\n",
      "c:\\users\\catalina\\appdata\\local\\programs\\python\\python39\\lib\\site-packages\\sklearn\\_loss\\glm_distribution.py:318: RuntimeWarning:\n",
      "\n",
      "divide by zero encountered in log\n",
      "\n",
      "c:\\users\\catalina\\appdata\\local\\programs\\python\\python39\\lib\\site-packages\\sklearn\\_loss\\glm_distribution.py:318: RuntimeWarning:\n",
      "\n",
      "divide by zero encountered in true_divide\n",
      "\n",
      "c:\\users\\catalina\\appdata\\local\\programs\\python\\python39\\lib\\site-packages\\sklearn\\_loss\\glm_distribution.py:318: RuntimeWarning:\n",
      "\n",
      "invalid value encountered in add\n",
      "\n",
      "c:\\users\\catalina\\appdata\\local\\programs\\python\\python39\\lib\\site-packages\\sklearn\\linear_model\\_glm\\glm.py:287: ConvergenceWarning:\n",
      "\n",
      "lbfgs failed to converge (status=2):\n",
      "ABNORMAL_TERMINATION_IN_LNSRCH.\n",
      "\n",
      "Increase the number of iterations (max_iter) or scale the data as shown in:\n",
      "    https://scikit-learn.org/stable/modules/preprocessing.html\n",
      "\n"
     ]
    },
    {
     "name": "stdout",
     "output_type": "stream",
     "text": [
      "Model 29 of model ETS with avg smape 20.98: \n",
      "Model Number: 30 of 35 with model RollingRegression for Validation 2\n"
     ]
    },
    {
     "name": "stderr",
     "output_type": "stream",
     "text": [
      "[Parallel(n_jobs=1)]: Using backend SequentialBackend with 1 concurrent workers.\n",
      "[Parallel(n_jobs=1)]: Done 1000 out of 1000 | elapsed:  6.9min finished\n",
      "[Parallel(n_jobs=1)]: Using backend SequentialBackend with 1 concurrent workers.\n",
      "[Parallel(n_jobs=1)]: Done 1000 out of 1000 | elapsed:    0.0s finished\n",
      "[Parallel(n_jobs=1)]: Using backend SequentialBackend with 1 concurrent workers.\n",
      "[Parallel(n_jobs=1)]: Done 1000 out of 1000 | elapsed:    0.0s finished\n",
      "[Parallel(n_jobs=1)]: Using backend SequentialBackend with 1 concurrent workers.\n",
      "[Parallel(n_jobs=1)]: Done 1000 out of 1000 | elapsed:    0.0s finished\n",
      "[Parallel(n_jobs=1)]: Using backend SequentialBackend with 1 concurrent workers.\n",
      "[Parallel(n_jobs=1)]: Done 1000 out of 1000 | elapsed:    0.0s finished\n",
      "[Parallel(n_jobs=1)]: Using backend SequentialBackend with 1 concurrent workers.\n",
      "[Parallel(n_jobs=1)]: Done 1000 out of 1000 | elapsed:    0.0s finished\n",
      "[Parallel(n_jobs=1)]: Using backend SequentialBackend with 1 concurrent workers.\n",
      "[Parallel(n_jobs=1)]: Done 1000 out of 1000 | elapsed:    0.0s finished\n",
      "[Parallel(n_jobs=1)]: Using backend SequentialBackend with 1 concurrent workers.\n",
      "[Parallel(n_jobs=1)]: Done 1000 out of 1000 | elapsed:    0.0s finished\n",
      "[Parallel(n_jobs=1)]: Using backend SequentialBackend with 1 concurrent workers.\n",
      "[Parallel(n_jobs=1)]: Done 1000 out of 1000 | elapsed:    0.0s finished\n",
      "[Parallel(n_jobs=1)]: Using backend SequentialBackend with 1 concurrent workers.\n",
      "[Parallel(n_jobs=1)]: Done 1000 out of 1000 | elapsed:    0.0s finished\n",
      "[Parallel(n_jobs=1)]: Using backend SequentialBackend with 1 concurrent workers.\n",
      "[Parallel(n_jobs=1)]: Done 1000 out of 1000 | elapsed:    0.0s finished\n",
      "[Parallel(n_jobs=1)]: Using backend SequentialBackend with 1 concurrent workers.\n",
      "[Parallel(n_jobs=1)]: Done 1000 out of 1000 | elapsed:    0.0s finished\n",
      "[Parallel(n_jobs=1)]: Using backend SequentialBackend with 1 concurrent workers.\n",
      "[Parallel(n_jobs=1)]: Done 1000 out of 1000 | elapsed:    0.0s finished\n",
      "[Parallel(n_jobs=1)]: Using backend SequentialBackend with 1 concurrent workers.\n",
      "[Parallel(n_jobs=1)]: Done 1000 out of 1000 | elapsed:    0.0s finished\n",
      "[Parallel(n_jobs=1)]: Using backend SequentialBackend with 1 concurrent workers.\n",
      "[Parallel(n_jobs=1)]: Done 1000 out of 1000 | elapsed:    0.0s finished\n",
      "[Parallel(n_jobs=1)]: Using backend SequentialBackend with 1 concurrent workers.\n",
      "[Parallel(n_jobs=1)]: Done 1000 out of 1000 | elapsed:    0.0s finished\n",
      "[Parallel(n_jobs=1)]: Using backend SequentialBackend with 1 concurrent workers.\n",
      "[Parallel(n_jobs=1)]: Done 1000 out of 1000 | elapsed:    0.0s finished\n",
      "[Parallel(n_jobs=1)]: Using backend SequentialBackend with 1 concurrent workers.\n",
      "[Parallel(n_jobs=1)]: Done 1000 out of 1000 | elapsed:    0.0s finished\n",
      "[Parallel(n_jobs=1)]: Using backend SequentialBackend with 1 concurrent workers.\n",
      "[Parallel(n_jobs=1)]: Done 1000 out of 1000 | elapsed:    0.0s finished\n",
      "[Parallel(n_jobs=1)]: Using backend SequentialBackend with 1 concurrent workers.\n",
      "[Parallel(n_jobs=1)]: Done 1000 out of 1000 | elapsed:    0.0s finished\n",
      "[Parallel(n_jobs=1)]: Using backend SequentialBackend with 1 concurrent workers.\n",
      "[Parallel(n_jobs=1)]: Done 1000 out of 1000 | elapsed:    0.0s finished\n",
      "[Parallel(n_jobs=1)]: Using backend SequentialBackend with 1 concurrent workers.\n",
      "[Parallel(n_jobs=1)]: Done 1000 out of 1000 | elapsed:    0.0s finished\n",
      "[Parallel(n_jobs=1)]: Using backend SequentialBackend with 1 concurrent workers.\n",
      "[Parallel(n_jobs=1)]: Done 1000 out of 1000 | elapsed:    0.0s finished\n",
      "[Parallel(n_jobs=1)]: Using backend SequentialBackend with 1 concurrent workers.\n",
      "[Parallel(n_jobs=1)]: Done 1000 out of 1000 | elapsed:    0.0s finished\n",
      "[Parallel(n_jobs=1)]: Using backend SequentialBackend with 1 concurrent workers.\n",
      "[Parallel(n_jobs=1)]: Done 1000 out of 1000 | elapsed:    0.0s finished\n"
     ]
    },
    {
     "name": "stdout",
     "output_type": "stream",
     "text": [
      "Model 30 of model RollingRegression with avg smape 34.39: \n",
      "Model Number: 31 of 35 with model LastValueNaive for Validation 2\n",
      "Model 31 of model LastValueNaive with avg smape 15.55: \n",
      "Model Number: 32 of 35 with model RollingRegression for Validation 2\n",
      "Model 32 of model RollingRegression with avg smape 19.05: \n",
      "Model Number: 33 of 35 with model DatepartRegression for Validation 2\n"
     ]
    },
    {
     "name": "stderr",
     "output_type": "stream",
     "text": [
      "c:\\users\\catalina\\appdata\\local\\programs\\python\\python39\\lib\\site-packages\\sklearn\\neural_network\\_multilayer_perceptron.py:500: ConvergenceWarning:\n",
      "\n",
      "lbfgs failed to converge (status=1):\n",
      "STOP: TOTAL NO. of ITERATIONS REACHED LIMIT.\n",
      "\n",
      "Increase the number of iterations (max_iter) or scale the data as shown in:\n",
      "    https://scikit-learn.org/stable/modules/preprocessing.html\n",
      "\n"
     ]
    },
    {
     "name": "stdout",
     "output_type": "stream",
     "text": [
      "Model 33 of model DatepartRegression with avg smape 11.37: \n",
      "Model Number: 34 of 35 with model GLS for Validation 2\n",
      "Model 34 of model GLS with avg smape 10.31: \n",
      "Model Number: 35 of 35 with model RollingRegression for Validation 2\n"
     ]
    },
    {
     "name": "stderr",
     "output_type": "stream",
     "text": [
      "[Parallel(n_jobs=1)]: Using backend SequentialBackend with 1 concurrent workers.\n",
      "[Parallel(n_jobs=1)]: Done 1000 out of 1000 | elapsed:  7.1min finished\n",
      "[Parallel(n_jobs=1)]: Using backend SequentialBackend with 1 concurrent workers.\n",
      "[Parallel(n_jobs=1)]: Done 1000 out of 1000 | elapsed:    0.0s finished\n",
      "[Parallel(n_jobs=1)]: Using backend SequentialBackend with 1 concurrent workers.\n",
      "[Parallel(n_jobs=1)]: Done 1000 out of 1000 | elapsed:    0.0s finished\n",
      "[Parallel(n_jobs=1)]: Using backend SequentialBackend with 1 concurrent workers.\n",
      "[Parallel(n_jobs=1)]: Done 1000 out of 1000 | elapsed:    0.0s finished\n",
      "[Parallel(n_jobs=1)]: Using backend SequentialBackend with 1 concurrent workers.\n",
      "[Parallel(n_jobs=1)]: Done 1000 out of 1000 | elapsed:    0.0s finished\n",
      "[Parallel(n_jobs=1)]: Using backend SequentialBackend with 1 concurrent workers.\n",
      "[Parallel(n_jobs=1)]: Done 1000 out of 1000 | elapsed:    0.0s finished\n",
      "[Parallel(n_jobs=1)]: Using backend SequentialBackend with 1 concurrent workers.\n",
      "[Parallel(n_jobs=1)]: Done 1000 out of 1000 | elapsed:    0.0s finished\n",
      "[Parallel(n_jobs=1)]: Using backend SequentialBackend with 1 concurrent workers.\n",
      "[Parallel(n_jobs=1)]: Done 1000 out of 1000 | elapsed:    0.0s finished\n",
      "[Parallel(n_jobs=1)]: Using backend SequentialBackend with 1 concurrent workers.\n",
      "[Parallel(n_jobs=1)]: Done 1000 out of 1000 | elapsed:    0.0s finished\n",
      "[Parallel(n_jobs=1)]: Using backend SequentialBackend with 1 concurrent workers.\n",
      "[Parallel(n_jobs=1)]: Done 1000 out of 1000 | elapsed:    0.0s finished\n",
      "[Parallel(n_jobs=1)]: Using backend SequentialBackend with 1 concurrent workers.\n",
      "[Parallel(n_jobs=1)]: Done 1000 out of 1000 | elapsed:    0.0s finished\n",
      "[Parallel(n_jobs=1)]: Using backend SequentialBackend with 1 concurrent workers.\n",
      "[Parallel(n_jobs=1)]: Done 1000 out of 1000 | elapsed:    0.0s finished\n",
      "[Parallel(n_jobs=1)]: Using backend SequentialBackend with 1 concurrent workers.\n",
      "[Parallel(n_jobs=1)]: Done 1000 out of 1000 | elapsed:    0.0s finished\n",
      "[Parallel(n_jobs=1)]: Using backend SequentialBackend with 1 concurrent workers.\n",
      "[Parallel(n_jobs=1)]: Done 1000 out of 1000 | elapsed:    0.0s finished\n",
      "[Parallel(n_jobs=1)]: Using backend SequentialBackend with 1 concurrent workers.\n",
      "[Parallel(n_jobs=1)]: Done 1000 out of 1000 | elapsed:    0.0s finished\n",
      "[Parallel(n_jobs=1)]: Using backend SequentialBackend with 1 concurrent workers.\n",
      "[Parallel(n_jobs=1)]: Done 1000 out of 1000 | elapsed:    0.0s finished\n",
      "[Parallel(n_jobs=1)]: Using backend SequentialBackend with 1 concurrent workers.\n",
      "[Parallel(n_jobs=1)]: Done 1000 out of 1000 | elapsed:    0.0s finished\n",
      "[Parallel(n_jobs=1)]: Using backend SequentialBackend with 1 concurrent workers.\n",
      "[Parallel(n_jobs=1)]: Done 1000 out of 1000 | elapsed:    0.0s finished\n",
      "[Parallel(n_jobs=1)]: Using backend SequentialBackend with 1 concurrent workers.\n",
      "[Parallel(n_jobs=1)]: Done 1000 out of 1000 | elapsed:    0.0s finished\n",
      "[Parallel(n_jobs=1)]: Using backend SequentialBackend with 1 concurrent workers.\n",
      "[Parallel(n_jobs=1)]: Done 1000 out of 1000 | elapsed:    0.0s finished\n",
      "[Parallel(n_jobs=1)]: Using backend SequentialBackend with 1 concurrent workers.\n",
      "[Parallel(n_jobs=1)]: Done 1000 out of 1000 | elapsed:    0.0s finished\n",
      "[Parallel(n_jobs=1)]: Using backend SequentialBackend with 1 concurrent workers.\n",
      "[Parallel(n_jobs=1)]: Done 1000 out of 1000 | elapsed:    0.0s finished\n",
      "[Parallel(n_jobs=1)]: Using backend SequentialBackend with 1 concurrent workers.\n",
      "[Parallel(n_jobs=1)]: Done 1000 out of 1000 | elapsed:    0.0s finished\n",
      "[Parallel(n_jobs=1)]: Using backend SequentialBackend with 1 concurrent workers.\n",
      "[Parallel(n_jobs=1)]: Done 1000 out of 1000 | elapsed:    0.0s finished\n",
      "[Parallel(n_jobs=1)]: Using backend SequentialBackend with 1 concurrent workers.\n",
      "[Parallel(n_jobs=1)]: Done 1000 out of 1000 | elapsed:    0.0s finished\n"
     ]
    },
    {
     "name": "stdout",
     "output_type": "stream",
     "text": [
      "Model 35 of model RollingRegression with avg smape 8.55: \n"
     ]
    },
    {
     "data": {
      "text/plain": [
       "Initiated AutoTS object with best model: \n",
       "WindowRegression\n",
       "{'fillna': 'rolling_mean', 'transformations': {'0': 'Discretize', '1': 'SeasonalDifference', '2': 'RobustScaler', '3': 'Slice', '4': 'Round', '5': 'QuantileTransformer'}, 'transformation_params': {'0': {'discretization': 'sklearn-uniform', 'n_bins': 50}, '1': {'lag_1': 24, 'method': 'Mean'}, '2': {}, '3': {'method': 0.5}, '4': {'model': 'middle', 'decimals': 1, 'on_transform': False, 'on_inverse': True}, '5': {'output_distribution': 'normal', 'n_quantiles': 1000}}}\n",
       "{'window_size': 52, 'input_dim': 'univariate', 'output_dim': 'forecast_length', 'normalize_window': False, 'max_windows': 5000, 'regression_type': None, 'regression_model': {'model': 'MLP', 'model_params': {'hidden_layer_sizes': [32, 64, 32], 'max_iter': 250, 'activation': 'relu', 'solver': 'lbfgs', 'early_stopping': False, 'learning_rate_init': 0.001}}}"
      ]
     },
     "execution_count": 96,
     "metadata": {},
     "output_type": "execute_result"
    }
   ],
   "source": [
    "model = AutoTS(model_list= \"default\", forecast_length=24, verbose=1, frequency=\"H\",\n",
    "    ensemble= \"simple\",\n",
    "    transformer_list=\"all\",\n",
    "    drop_most_recent=1,\n",
    "    max_generations=2,\n",
    "    num_validations=2,\n",
    "    validation_method=\"seasonal 168\")\n",
    "model.fit(train)\n"
   ]
  },
  {
   "cell_type": "code",
   "execution_count": 97,
   "metadata": {
    "colab": {
     "base_uri": "https://localhost:8080/",
     "height": 788
    },
    "executionInfo": {
     "elapsed": 11861,
     "status": "ok",
     "timestamp": 1632072553609,
     "user": {
      "displayName": "Axel Ilicic",
      "photoUrl": "https://lh3.googleusercontent.com/a-/AOh14GhNtGq_FUazZvxgoyeY-OtOQpRTr-L-HY307XH3_0k=s64",
      "userId": "13005703852540572389"
     },
     "user_tz": 180
    },
    "id": "Fb70cFWuYdwn",
    "outputId": "c3059eee-57a4-4ae1-c946-9886d4194e36"
   },
   "outputs": [
    {
     "name": "stderr",
     "output_type": "stream",
     "text": [
      "c:\\users\\catalina\\appdata\\local\\programs\\python\\python39\\lib\\site-packages\\sklearn\\neural_network\\_multilayer_perceptron.py:500: ConvergenceWarning:\n",
      "\n",
      "lbfgs failed to converge (status=1):\n",
      "STOP: TOTAL NO. of ITERATIONS REACHED LIMIT.\n",
      "\n",
      "Increase the number of iterations (max_iter) or scale the data as shown in:\n",
      "    https://scikit-learn.org/stable/modules/preprocessing.html\n",
      "\n"
     ]
    },
    {
     "data": {
      "text/html": [
       "<div>\n",
       "<style scoped>\n",
       "    .dataframe tbody tr th:only-of-type {\n",
       "        vertical-align: middle;\n",
       "    }\n",
       "\n",
       "    .dataframe tbody tr th {\n",
       "        vertical-align: top;\n",
       "    }\n",
       "\n",
       "    .dataframe thead th {\n",
       "        text-align: right;\n",
       "    }\n",
       "</style>\n",
       "<table border=\"1\" class=\"dataframe\">\n",
       "  <thead>\n",
       "    <tr style=\"text-align: right;\">\n",
       "      <th></th>\n",
       "      <th>Tipo</th>\n",
       "      <th>Consumo</th>\n",
       "      <th>Temperatura</th>\n",
       "    </tr>\n",
       "  </thead>\n",
       "  <tbody>\n",
       "    <tr>\n",
       "      <th>2021-07-31 00:00:00</th>\n",
       "      <td>7.0</td>\n",
       "      <td>2070.815535</td>\n",
       "      <td>6.905365</td>\n",
       "    </tr>\n",
       "    <tr>\n",
       "      <th>2021-07-31 01:00:00</th>\n",
       "      <td>7.0</td>\n",
       "      <td>1974.533495</td>\n",
       "      <td>6.549669</td>\n",
       "    </tr>\n",
       "    <tr>\n",
       "      <th>2021-07-31 02:00:00</th>\n",
       "      <td>7.0</td>\n",
       "      <td>1872.526355</td>\n",
       "      <td>6.182692</td>\n",
       "    </tr>\n",
       "    <tr>\n",
       "      <th>2021-07-31 03:00:00</th>\n",
       "      <td>7.0</td>\n",
       "      <td>1841.110097</td>\n",
       "      <td>6.669821</td>\n",
       "    </tr>\n",
       "    <tr>\n",
       "      <th>2021-07-31 04:00:00</th>\n",
       "      <td>7.0</td>\n",
       "      <td>1813.436509</td>\n",
       "      <td>8.029188</td>\n",
       "    </tr>\n",
       "    <tr>\n",
       "      <th>2021-07-31 05:00:00</th>\n",
       "      <td>7.0</td>\n",
       "      <td>1805.836760</td>\n",
       "      <td>7.708563</td>\n",
       "    </tr>\n",
       "    <tr>\n",
       "      <th>2021-07-31 06:00:00</th>\n",
       "      <td>7.0</td>\n",
       "      <td>1761.540454</td>\n",
       "      <td>7.422338</td>\n",
       "    </tr>\n",
       "    <tr>\n",
       "      <th>2021-07-31 07:00:00</th>\n",
       "      <td>7.0</td>\n",
       "      <td>1790.815437</td>\n",
       "      <td>7.439613</td>\n",
       "    </tr>\n",
       "    <tr>\n",
       "      <th>2021-07-31 08:00:00</th>\n",
       "      <td>7.0</td>\n",
       "      <td>1848.974487</td>\n",
       "      <td>7.957446</td>\n",
       "    </tr>\n",
       "    <tr>\n",
       "      <th>2021-07-31 09:00:00</th>\n",
       "      <td>7.0</td>\n",
       "      <td>1860.853677</td>\n",
       "      <td>9.959207</td>\n",
       "    </tr>\n",
       "    <tr>\n",
       "      <th>2021-07-31 10:00:00</th>\n",
       "      <td>7.0</td>\n",
       "      <td>1917.462968</td>\n",
       "      <td>12.258250</td>\n",
       "    </tr>\n",
       "    <tr>\n",
       "      <th>2021-07-31 11:00:00</th>\n",
       "      <td>7.0</td>\n",
       "      <td>1916.352874</td>\n",
       "      <td>13.507617</td>\n",
       "    </tr>\n",
       "    <tr>\n",
       "      <th>2021-07-31 12:00:00</th>\n",
       "      <td>7.0</td>\n",
       "      <td>1987.488390</td>\n",
       "      <td>14.483976</td>\n",
       "    </tr>\n",
       "    <tr>\n",
       "      <th>2021-07-31 13:00:00</th>\n",
       "      <td>7.0</td>\n",
       "      <td>1990.017259</td>\n",
       "      <td>14.346921</td>\n",
       "    </tr>\n",
       "    <tr>\n",
       "      <th>2021-07-31 14:00:00</th>\n",
       "      <td>7.0</td>\n",
       "      <td>1978.127560</td>\n",
       "      <td>15.684572</td>\n",
       "    </tr>\n",
       "    <tr>\n",
       "      <th>2021-07-31 15:00:00</th>\n",
       "      <td>7.0</td>\n",
       "      <td>1962.808542</td>\n",
       "      <td>15.957022</td>\n",
       "    </tr>\n",
       "    <tr>\n",
       "      <th>2021-07-31 16:00:00</th>\n",
       "      <td>7.0</td>\n",
       "      <td>1935.516212</td>\n",
       "      <td>15.929509</td>\n",
       "    </tr>\n",
       "    <tr>\n",
       "      <th>2021-07-31 17:00:00</th>\n",
       "      <td>7.0</td>\n",
       "      <td>1944.598584</td>\n",
       "      <td>14.557681</td>\n",
       "    </tr>\n",
       "    <tr>\n",
       "      <th>2021-07-31 18:00:00</th>\n",
       "      <td>7.0</td>\n",
       "      <td>1982.381743</td>\n",
       "      <td>13.748894</td>\n",
       "    </tr>\n",
       "    <tr>\n",
       "      <th>2021-07-31 19:00:00</th>\n",
       "      <td>7.0</td>\n",
       "      <td>2038.725247</td>\n",
       "      <td>12.745990</td>\n",
       "    </tr>\n",
       "    <tr>\n",
       "      <th>2021-07-31 20:00:00</th>\n",
       "      <td>7.0</td>\n",
       "      <td>2122.039655</td>\n",
       "      <td>12.740864</td>\n",
       "    </tr>\n",
       "    <tr>\n",
       "      <th>2021-07-31 21:00:00</th>\n",
       "      <td>7.0</td>\n",
       "      <td>2192.234971</td>\n",
       "      <td>12.140864</td>\n",
       "    </tr>\n",
       "    <tr>\n",
       "      <th>2021-07-31 22:00:00</th>\n",
       "      <td>7.0</td>\n",
       "      <td>2196.010117</td>\n",
       "      <td>12.548693</td>\n",
       "    </tr>\n",
       "    <tr>\n",
       "      <th>2021-07-31 23:00:00</th>\n",
       "      <td>7.0</td>\n",
       "      <td>2117.056804</td>\n",
       "      <td>12.223749</td>\n",
       "    </tr>\n",
       "  </tbody>\n",
       "</table>\n",
       "</div>"
      ],
      "text/plain": [
       "                     Tipo      Consumo  Temperatura\n",
       "2021-07-31 00:00:00   7.0  2070.815535     6.905365\n",
       "2021-07-31 01:00:00   7.0  1974.533495     6.549669\n",
       "2021-07-31 02:00:00   7.0  1872.526355     6.182692\n",
       "2021-07-31 03:00:00   7.0  1841.110097     6.669821\n",
       "2021-07-31 04:00:00   7.0  1813.436509     8.029188\n",
       "2021-07-31 05:00:00   7.0  1805.836760     7.708563\n",
       "2021-07-31 06:00:00   7.0  1761.540454     7.422338\n",
       "2021-07-31 07:00:00   7.0  1790.815437     7.439613\n",
       "2021-07-31 08:00:00   7.0  1848.974487     7.957446\n",
       "2021-07-31 09:00:00   7.0  1860.853677     9.959207\n",
       "2021-07-31 10:00:00   7.0  1917.462968    12.258250\n",
       "2021-07-31 11:00:00   7.0  1916.352874    13.507617\n",
       "2021-07-31 12:00:00   7.0  1987.488390    14.483976\n",
       "2021-07-31 13:00:00   7.0  1990.017259    14.346921\n",
       "2021-07-31 14:00:00   7.0  1978.127560    15.684572\n",
       "2021-07-31 15:00:00   7.0  1962.808542    15.957022\n",
       "2021-07-31 16:00:00   7.0  1935.516212    15.929509\n",
       "2021-07-31 17:00:00   7.0  1944.598584    14.557681\n",
       "2021-07-31 18:00:00   7.0  1982.381743    13.748894\n",
       "2021-07-31 19:00:00   7.0  2038.725247    12.745990\n",
       "2021-07-31 20:00:00   7.0  2122.039655    12.740864\n",
       "2021-07-31 21:00:00   7.0  2192.234971    12.140864\n",
       "2021-07-31 22:00:00   7.0  2196.010117    12.548693\n",
       "2021-07-31 23:00:00   7.0  2117.056804    12.223749"
      ]
     },
     "execution_count": 97,
     "metadata": {},
     "output_type": "execute_result"
    }
   ],
   "source": [
    "prediction = model.predict()\n",
    "forecasts_df = prediction.forecast\n",
    "\n",
    "# accuracy of all tried model results\n",
    "model_results = model.results()\n",
    "# and aggregated from cross validation\n",
    "validation_results = model.results(\"validation\")\n",
    "forecasts_df.head(24)\n"
   ]
  },
  {
   "cell_type": "code",
   "execution_count": 98,
   "metadata": {
    "executionInfo": {
     "elapsed": 1135,
     "status": "ok",
     "timestamp": 1632072610897,
     "user": {
      "displayName": "Axel Ilicic",
      "photoUrl": "https://lh3.googleusercontent.com/a-/AOh14GhNtGq_FUazZvxgoyeY-OtOQpRTr-L-HY307XH3_0k=s64",
      "userId": "13005703852540572389"
     },
     "user_tz": 180
    },
    "id": "LXnsmf_UGzdE"
   },
   "outputs": [],
   "source": [
    "forecasts_df.to_excel(\"forecast.xlsx\")"
   ]
  },
  {
   "cell_type": "code",
   "execution_count": 99,
   "metadata": {},
   "outputs": [
    {
     "data": {
      "text/html": [
       "<div>\n",
       "<style scoped>\n",
       "    .dataframe tbody tr th:only-of-type {\n",
       "        vertical-align: middle;\n",
       "    }\n",
       "\n",
       "    .dataframe tbody tr th {\n",
       "        vertical-align: top;\n",
       "    }\n",
       "\n",
       "    .dataframe thead th {\n",
       "        text-align: right;\n",
       "    }\n",
       "</style>\n",
       "<table border=\"1\" class=\"dataframe\">\n",
       "  <thead>\n",
       "    <tr style=\"text-align: right;\">\n",
       "      <th></th>\n",
       "      <th>ID</th>\n",
       "      <th>Model</th>\n",
       "      <th>ModelParameters</th>\n",
       "      <th>TransformationParameters</th>\n",
       "      <th>Ensemble</th>\n",
       "      <th>Runs</th>\n",
       "      <th>smape</th>\n",
       "      <th>mae</th>\n",
       "      <th>rmse</th>\n",
       "      <th>containment</th>\n",
       "      <th>spl</th>\n",
       "      <th>contour</th>\n",
       "      <th>smape_weighted</th>\n",
       "      <th>mae_weighted</th>\n",
       "      <th>rmse_weighted</th>\n",
       "      <th>containment_weighted</th>\n",
       "      <th>contour_weighted</th>\n",
       "      <th>spl_weighted</th>\n",
       "      <th>TotalRuntimeSeconds</th>\n",
       "      <th>Score</th>\n",
       "    </tr>\n",
       "  </thead>\n",
       "  <tbody>\n",
       "    <tr>\n",
       "      <th>100</th>\n",
       "      <td>93ce0f126e87a29485e0b591fa95bc0c</td>\n",
       "      <td>WindowRegression</td>\n",
       "      <td>{\"window_size\": 52, \"input_dim\": \"univariate\",...</td>\n",
       "      <td>{\"fillna\": \"rolling_mean\", \"transformations\": ...</td>\n",
       "      <td>0</td>\n",
       "      <td>3</td>\n",
       "      <td>9.067106</td>\n",
       "      <td>2.248132e+01</td>\n",
       "      <td>2.836694e+01</td>\n",
       "      <td>1.000000</td>\n",
       "      <td>3.122496e+00</td>\n",
       "      <td>0.468599</td>\n",
       "      <td>9.067106</td>\n",
       "      <td>2.248132e+01</td>\n",
       "      <td>2.836694e+01</td>\n",
       "      <td>1.000000</td>\n",
       "      <td>0.468599</td>\n",
       "      <td>3.122496e+00</td>\n",
       "      <td>55.666667</td>\n",
       "      <td>3.486336e+01</td>\n",
       "    </tr>\n",
       "    <tr>\n",
       "      <th>130</th>\n",
       "      <td>caa7b83149118dbaa8a382d8bf611c4c</td>\n",
       "      <td>DatepartRegression</td>\n",
       "      <td>{\"regression_model\": {\"model\": \"DecisionTree\",...</td>\n",
       "      <td>{\"fillna\": \"mean\", \"transformations\": {\"0\": \"C...</td>\n",
       "      <td>0</td>\n",
       "      <td>3</td>\n",
       "      <td>7.307788</td>\n",
       "      <td>3.643986e+01</td>\n",
       "      <td>4.492552e+01</td>\n",
       "      <td>1.000000</td>\n",
       "      <td>4.419480e+00</td>\n",
       "      <td>0.468599</td>\n",
       "      <td>7.307788</td>\n",
       "      <td>3.643986e+01</td>\n",
       "      <td>4.492552e+01</td>\n",
       "      <td>1.000000</td>\n",
       "      <td>0.468599</td>\n",
       "      <td>4.419480e+00</td>\n",
       "      <td>1.000000</td>\n",
       "      <td>3.782354e+01</td>\n",
       "    </tr>\n",
       "    <tr>\n",
       "      <th>150</th>\n",
       "      <td>edce100a5b9119a70dc3c40d520aafd5</td>\n",
       "      <td>LastValueNaive</td>\n",
       "      <td>{}</td>\n",
       "      <td>{\"fillna\": \"ffill\", \"transformations\": {\"0\": \"...</td>\n",
       "      <td>0</td>\n",
       "      <td>3</td>\n",
       "      <td>11.616621</td>\n",
       "      <td>2.479265e+01</td>\n",
       "      <td>2.900728e+01</td>\n",
       "      <td>0.986111</td>\n",
       "      <td>2.827858e+00</td>\n",
       "      <td>0.516908</td>\n",
       "      <td>11.616621</td>\n",
       "      <td>2.479265e+01</td>\n",
       "      <td>2.900728e+01</td>\n",
       "      <td>0.986111</td>\n",
       "      <td>0.516908</td>\n",
       "      <td>2.827858e+00</td>\n",
       "      <td>1.000000</td>\n",
       "      <td>3.938248e+01</td>\n",
       "    </tr>\n",
       "    <tr>\n",
       "      <th>94</th>\n",
       "      <td>884e471f6dcea5d52e313044f9b05795</td>\n",
       "      <td>Ensemble</td>\n",
       "      <td>{\"model_name\": \"BestN\", \"model_count\": 3, \"mod...</td>\n",
       "      <td>{}</td>\n",
       "      <td>1</td>\n",
       "      <td>3</td>\n",
       "      <td>14.164736</td>\n",
       "      <td>1.740774e+01</td>\n",
       "      <td>2.199772e+01</td>\n",
       "      <td>0.972222</td>\n",
       "      <td>2.709242e+00</td>\n",
       "      <td>0.632850</td>\n",
       "      <td>14.164736</td>\n",
       "      <td>1.740774e+01</td>\n",
       "      <td>2.199772e+01</td>\n",
       "      <td>0.972222</td>\n",
       "      <td>0.632850</td>\n",
       "      <td>2.709242e+00</td>\n",
       "      <td>11.000000</td>\n",
       "      <td>4.157513e+01</td>\n",
       "    </tr>\n",
       "    <tr>\n",
       "      <th>26</th>\n",
       "      <td>2817312a85673909cd587398b46e59af</td>\n",
       "      <td>VAR</td>\n",
       "      <td>{\"regression_type\": null, \"maxlags\": 15, \"ic\":...</td>\n",
       "      <td>{\"fillna\": \"ffill_mean_biased\", \"transformatio...</td>\n",
       "      <td>0</td>\n",
       "      <td>3</td>\n",
       "      <td>12.909780</td>\n",
       "      <td>2.531309e+01</td>\n",
       "      <td>3.171430e+01</td>\n",
       "      <td>0.953704</td>\n",
       "      <td>2.698209e+00</td>\n",
       "      <td>0.608696</td>\n",
       "      <td>12.909780</td>\n",
       "      <td>2.531309e+01</td>\n",
       "      <td>3.171430e+01</td>\n",
       "      <td>0.953704</td>\n",
       "      <td>0.608696</td>\n",
       "      <td>2.698209e+00</td>\n",
       "      <td>2.000000</td>\n",
       "      <td>4.163111e+01</td>\n",
       "    </tr>\n",
       "    <tr>\n",
       "      <th>...</th>\n",
       "      <td>...</td>\n",
       "      <td>...</td>\n",
       "      <td>...</td>\n",
       "      <td>...</td>\n",
       "      <td>...</td>\n",
       "      <td>...</td>\n",
       "      <td>...</td>\n",
       "      <td>...</td>\n",
       "      <td>...</td>\n",
       "      <td>...</td>\n",
       "      <td>...</td>\n",
       "      <td>...</td>\n",
       "      <td>...</td>\n",
       "      <td>...</td>\n",
       "      <td>...</td>\n",
       "      <td>...</td>\n",
       "      <td>...</td>\n",
       "      <td>...</td>\n",
       "      <td>...</td>\n",
       "      <td>...</td>\n",
       "    </tr>\n",
       "    <tr>\n",
       "      <th>78</th>\n",
       "      <td>768f206992eb56595363fe1d4371a7f4</td>\n",
       "      <td>UnobservedComponents</td>\n",
       "      <td>{\"level\": false, \"trend\": false, \"cycle\": fals...</td>\n",
       "      <td>{\"fillna\": \"rolling_mean\", \"transformations\": ...</td>\n",
       "      <td>0</td>\n",
       "      <td>1</td>\n",
       "      <td>200.000000</td>\n",
       "      <td>3.912307e+05</td>\n",
       "      <td>1.913364e+06</td>\n",
       "      <td>0.000000</td>\n",
       "      <td>8.454175e+03</td>\n",
       "      <td>0.333333</td>\n",
       "      <td>200.000000</td>\n",
       "      <td>3.912307e+05</td>\n",
       "      <td>1.913364e+06</td>\n",
       "      <td>0.000000</td>\n",
       "      <td>0.333333</td>\n",
       "      <td>8.454175e+03</td>\n",
       "      <td>1.000000</td>\n",
       "      <td>2.975685e+05</td>\n",
       "    </tr>\n",
       "    <tr>\n",
       "      <th>77</th>\n",
       "      <td>74a44dcde832c5f222fc5b000cc21d35</td>\n",
       "      <td>AverageValueNaive</td>\n",
       "      <td>{\"method\": \"Weighted_Mean\"}</td>\n",
       "      <td>{\"fillna\": \"ffill_mean_biased\", \"transformatio...</td>\n",
       "      <td>0</td>\n",
       "      <td>1</td>\n",
       "      <td>145.129272</td>\n",
       "      <td>1.407700e+06</td>\n",
       "      <td>1.407701e+06</td>\n",
       "      <td>0.333333</td>\n",
       "      <td>1.062069e+04</td>\n",
       "      <td>0.347826</td>\n",
       "      <td>145.129272</td>\n",
       "      <td>1.407700e+06</td>\n",
       "      <td>1.407701e+06</td>\n",
       "      <td>0.333333</td>\n",
       "      <td>0.347826</td>\n",
       "      <td>1.062069e+04</td>\n",
       "      <td>1.000000</td>\n",
       "      <td>3.964254e+05</td>\n",
       "    </tr>\n",
       "    <tr>\n",
       "      <th>41</th>\n",
       "      <td>37ff29fb790bb51fa5bf50c3eeab451f</td>\n",
       "      <td>DatepartRegression</td>\n",
       "      <td>{\"regression_model\": {\"model\": \"DecisionTree\",...</td>\n",
       "      <td>{\"fillna\": \"barycentric\", \"transformations\": {...</td>\n",
       "      <td>0</td>\n",
       "      <td>1</td>\n",
       "      <td>199.999284</td>\n",
       "      <td>6.039669e+05</td>\n",
       "      <td>2.955554e+06</td>\n",
       "      <td>0.000000</td>\n",
       "      <td>1.679249e+04</td>\n",
       "      <td>0.347826</td>\n",
       "      <td>199.999284</td>\n",
       "      <td>6.039669e+05</td>\n",
       "      <td>2.955554e+06</td>\n",
       "      <td>0.000000</td>\n",
       "      <td>0.347826</td>\n",
       "      <td>1.679249e+04</td>\n",
       "      <td>1.000000</td>\n",
       "      <td>4.657351e+05</td>\n",
       "    </tr>\n",
       "    <tr>\n",
       "      <th>118</th>\n",
       "      <td>af67016e78653cf0526b871b4c6d6c01</td>\n",
       "      <td>ZeroesNaive</td>\n",
       "      <td>{}</td>\n",
       "      <td>{\"fillna\": \"ffill_mean_biased\", \"transformatio...</td>\n",
       "      <td>0</td>\n",
       "      <td>1</td>\n",
       "      <td>199.999408</td>\n",
       "      <td>7.337478e+05</td>\n",
       "      <td>3.591348e+06</td>\n",
       "      <td>0.000000</td>\n",
       "      <td>4.415340e+04</td>\n",
       "      <td>0.579710</td>\n",
       "      <td>199.999408</td>\n",
       "      <td>7.337478e+05</td>\n",
       "      <td>3.591348e+06</td>\n",
       "      <td>0.000000</td>\n",
       "      <td>0.579710</td>\n",
       "      <td>4.415340e+04</td>\n",
       "      <td>1.000000</td>\n",
       "      <td>6.061910e+05</td>\n",
       "    </tr>\n",
       "    <tr>\n",
       "      <th>61</th>\n",
       "      <td>603079162825ec49f0355ab5138f9de2</td>\n",
       "      <td>RollingRegression</td>\n",
       "      <td>{\"regression_model\": {\"model\": \"KerasRNN\", \"mo...</td>\n",
       "      <td>{\"fillna\": \"ffill\", \"transformations\": {\"0\": \"...</td>\n",
       "      <td>0</td>\n",
       "      <td>1</td>\n",
       "      <td>103.138533</td>\n",
       "      <td>1.132706e+03</td>\n",
       "      <td>1.708110e+03</td>\n",
       "      <td>1.000000</td>\n",
       "      <td>1.451076e+287</td>\n",
       "      <td>0.347826</td>\n",
       "      <td>103.138533</td>\n",
       "      <td>1.132706e+03</td>\n",
       "      <td>1.708110e+03</td>\n",
       "      <td>1.000000</td>\n",
       "      <td>0.347826</td>\n",
       "      <td>1.451076e+287</td>\n",
       "      <td>1370.000000</td>\n",
       "      <td>2.466821e+287</td>\n",
       "    </tr>\n",
       "  </tbody>\n",
       "</table>\n",
       "<p>158 rows × 20 columns</p>\n",
       "</div>"
      ],
      "text/plain": [
       "                                   ID                 Model  \\\n",
       "100  93ce0f126e87a29485e0b591fa95bc0c      WindowRegression   \n",
       "130  caa7b83149118dbaa8a382d8bf611c4c    DatepartRegression   \n",
       "150  edce100a5b9119a70dc3c40d520aafd5        LastValueNaive   \n",
       "94   884e471f6dcea5d52e313044f9b05795              Ensemble   \n",
       "26   2817312a85673909cd587398b46e59af                   VAR   \n",
       "..                                ...                   ...   \n",
       "78   768f206992eb56595363fe1d4371a7f4  UnobservedComponents   \n",
       "77   74a44dcde832c5f222fc5b000cc21d35     AverageValueNaive   \n",
       "41   37ff29fb790bb51fa5bf50c3eeab451f    DatepartRegression   \n",
       "118  af67016e78653cf0526b871b4c6d6c01           ZeroesNaive   \n",
       "61   603079162825ec49f0355ab5138f9de2     RollingRegression   \n",
       "\n",
       "                                       ModelParameters  \\\n",
       "100  {\"window_size\": 52, \"input_dim\": \"univariate\",...   \n",
       "130  {\"regression_model\": {\"model\": \"DecisionTree\",...   \n",
       "150                                                 {}   \n",
       "94   {\"model_name\": \"BestN\", \"model_count\": 3, \"mod...   \n",
       "26   {\"regression_type\": null, \"maxlags\": 15, \"ic\":...   \n",
       "..                                                 ...   \n",
       "78   {\"level\": false, \"trend\": false, \"cycle\": fals...   \n",
       "77                         {\"method\": \"Weighted_Mean\"}   \n",
       "41   {\"regression_model\": {\"model\": \"DecisionTree\",...   \n",
       "118                                                 {}   \n",
       "61   {\"regression_model\": {\"model\": \"KerasRNN\", \"mo...   \n",
       "\n",
       "                              TransformationParameters  Ensemble  Runs  \\\n",
       "100  {\"fillna\": \"rolling_mean\", \"transformations\": ...         0     3   \n",
       "130  {\"fillna\": \"mean\", \"transformations\": {\"0\": \"C...         0     3   \n",
       "150  {\"fillna\": \"ffill\", \"transformations\": {\"0\": \"...         0     3   \n",
       "94                                                  {}         1     3   \n",
       "26   {\"fillna\": \"ffill_mean_biased\", \"transformatio...         0     3   \n",
       "..                                                 ...       ...   ...   \n",
       "78   {\"fillna\": \"rolling_mean\", \"transformations\": ...         0     1   \n",
       "77   {\"fillna\": \"ffill_mean_biased\", \"transformatio...         0     1   \n",
       "41   {\"fillna\": \"barycentric\", \"transformations\": {...         0     1   \n",
       "118  {\"fillna\": \"ffill_mean_biased\", \"transformatio...         0     1   \n",
       "61   {\"fillna\": \"ffill\", \"transformations\": {\"0\": \"...         0     1   \n",
       "\n",
       "          smape           mae          rmse  containment            spl  \\\n",
       "100    9.067106  2.248132e+01  2.836694e+01     1.000000   3.122496e+00   \n",
       "130    7.307788  3.643986e+01  4.492552e+01     1.000000   4.419480e+00   \n",
       "150   11.616621  2.479265e+01  2.900728e+01     0.986111   2.827858e+00   \n",
       "94    14.164736  1.740774e+01  2.199772e+01     0.972222   2.709242e+00   \n",
       "26    12.909780  2.531309e+01  3.171430e+01     0.953704   2.698209e+00   \n",
       "..          ...           ...           ...          ...            ...   \n",
       "78   200.000000  3.912307e+05  1.913364e+06     0.000000   8.454175e+03   \n",
       "77   145.129272  1.407700e+06  1.407701e+06     0.333333   1.062069e+04   \n",
       "41   199.999284  6.039669e+05  2.955554e+06     0.000000   1.679249e+04   \n",
       "118  199.999408  7.337478e+05  3.591348e+06     0.000000   4.415340e+04   \n",
       "61   103.138533  1.132706e+03  1.708110e+03     1.000000  1.451076e+287   \n",
       "\n",
       "      contour  smape_weighted  mae_weighted  rmse_weighted  \\\n",
       "100  0.468599        9.067106  2.248132e+01   2.836694e+01   \n",
       "130  0.468599        7.307788  3.643986e+01   4.492552e+01   \n",
       "150  0.516908       11.616621  2.479265e+01   2.900728e+01   \n",
       "94   0.632850       14.164736  1.740774e+01   2.199772e+01   \n",
       "26   0.608696       12.909780  2.531309e+01   3.171430e+01   \n",
       "..        ...             ...           ...            ...   \n",
       "78   0.333333      200.000000  3.912307e+05   1.913364e+06   \n",
       "77   0.347826      145.129272  1.407700e+06   1.407701e+06   \n",
       "41   0.347826      199.999284  6.039669e+05   2.955554e+06   \n",
       "118  0.579710      199.999408  7.337478e+05   3.591348e+06   \n",
       "61   0.347826      103.138533  1.132706e+03   1.708110e+03   \n",
       "\n",
       "     containment_weighted  contour_weighted   spl_weighted  \\\n",
       "100              1.000000          0.468599   3.122496e+00   \n",
       "130              1.000000          0.468599   4.419480e+00   \n",
       "150              0.986111          0.516908   2.827858e+00   \n",
       "94               0.972222          0.632850   2.709242e+00   \n",
       "26               0.953704          0.608696   2.698209e+00   \n",
       "..                    ...               ...            ...   \n",
       "78               0.000000          0.333333   8.454175e+03   \n",
       "77               0.333333          0.347826   1.062069e+04   \n",
       "41               0.000000          0.347826   1.679249e+04   \n",
       "118              0.000000          0.579710   4.415340e+04   \n",
       "61               1.000000          0.347826  1.451076e+287   \n",
       "\n",
       "     TotalRuntimeSeconds          Score  \n",
       "100            55.666667   3.486336e+01  \n",
       "130             1.000000   3.782354e+01  \n",
       "150             1.000000   3.938248e+01  \n",
       "94             11.000000   4.157513e+01  \n",
       "26              2.000000   4.163111e+01  \n",
       "..                   ...            ...  \n",
       "78              1.000000   2.975685e+05  \n",
       "77              1.000000   3.964254e+05  \n",
       "41              1.000000   4.657351e+05  \n",
       "118             1.000000   6.061910e+05  \n",
       "61           1370.000000  2.466821e+287  \n",
       "\n",
       "[158 rows x 20 columns]"
      ]
     },
     "execution_count": 99,
     "metadata": {},
     "output_type": "execute_result"
    }
   ],
   "source": [
    "validation_results.sort_values(\"Score\")"
   ]
  },
  {
   "cell_type": "code",
   "execution_count": 101,
   "metadata": {},
   "outputs": [
    {
     "data": {
      "application/vnd.plotly.v1+json": {
       "config": {
        "plotlyServerURL": "https://plot.ly"
       },
       "data": [
        {
         "name": "Consumo",
         "type": "scatter",
         "x": [
          "2021-07-31T00:00:00",
          "2021-07-31T01:00:00",
          "2021-07-31T02:00:00",
          "2021-07-31T03:00:00",
          "2021-07-31T04:00:00",
          "2021-07-31T05:00:00",
          "2021-07-31T06:00:00",
          "2021-07-31T07:00:00",
          "2021-07-31T08:00:00",
          "2021-07-31T09:00:00",
          "2021-07-31T10:00:00",
          "2021-07-31T11:00:00",
          "2021-07-31T12:00:00",
          "2021-07-31T13:00:00",
          "2021-07-31T14:00:00",
          "2021-07-31T15:00:00",
          "2021-07-31T16:00:00",
          "2021-07-31T17:00:00",
          "2021-07-31T18:00:00",
          "2021-07-31T19:00:00",
          "2021-07-31T20:00:00",
          "2021-07-31T21:00:00",
          "2021-07-31T22:00:00",
          "2021-07-31T23:00:00"
         ],
         "y": [
          2044.916,
          1958.858,
          1873.602,
          1790.519,
          1761.849,
          1794.685,
          1848.861,
          1907.843,
          1897.028,
          2008.307,
          1995.086,
          2000.317,
          1889.117,
          1796.65,
          1754.873,
          1755.026,
          1757.693,
          1799.475,
          1993.628,
          2179.763,
          2185,
          2128.403,
          2061.354
         ]
        },
        {
         "name": "Forecast",
         "type": "scatter",
         "x": [
          "2021-07-31T00:00:00",
          "2021-07-31T01:00:00",
          "2021-07-31T02:00:00",
          "2021-07-31T03:00:00",
          "2021-07-31T04:00:00",
          "2021-07-31T05:00:00",
          "2021-07-31T06:00:00",
          "2021-07-31T07:00:00",
          "2021-07-31T08:00:00",
          "2021-07-31T09:00:00",
          "2021-07-31T10:00:00",
          "2021-07-31T11:00:00",
          "2021-07-31T12:00:00",
          "2021-07-31T13:00:00",
          "2021-07-31T14:00:00",
          "2021-07-31T15:00:00",
          "2021-07-31T16:00:00",
          "2021-07-31T17:00:00",
          "2021-07-31T18:00:00",
          "2021-07-31T19:00:00",
          "2021-07-31T20:00:00",
          "2021-07-31T21:00:00",
          "2021-07-31T22:00:00",
          "2021-07-31T23:00:00"
         ],
         "y": [
          2070.8155349888134,
          1974.5334953387692,
          1872.5263550669918,
          1841.110097125816,
          1813.4365092255935,
          1805.8367604169566,
          1761.5404541474147,
          1790.8154374943983,
          1848.9744874832186,
          1860.853676932215,
          1917.4629678220217,
          1916.3528744713183,
          1987.4883895271619,
          1990.0172591846451,
          1978.1275596686355,
          1962.808542021575,
          1935.5162117274597,
          1944.5985838421284,
          1982.381742542796,
          2038.7252472337832,
          2122.0396553127084,
          2192.234970912105,
          2196.0101168800843,
          2117.056804035717
         ]
        }
       ],
       "layout": {
        "template": {
         "data": {
          "bar": [
           {
            "error_x": {
             "color": "#2a3f5f"
            },
            "error_y": {
             "color": "#2a3f5f"
            },
            "marker": {
             "line": {
              "color": "#E5ECF6",
              "width": 0.5
             },
             "pattern": {
              "fillmode": "overlay",
              "size": 10,
              "solidity": 0.2
             }
            },
            "type": "bar"
           }
          ],
          "barpolar": [
           {
            "marker": {
             "line": {
              "color": "#E5ECF6",
              "width": 0.5
             },
             "pattern": {
              "fillmode": "overlay",
              "size": 10,
              "solidity": 0.2
             }
            },
            "type": "barpolar"
           }
          ],
          "carpet": [
           {
            "aaxis": {
             "endlinecolor": "#2a3f5f",
             "gridcolor": "white",
             "linecolor": "white",
             "minorgridcolor": "white",
             "startlinecolor": "#2a3f5f"
            },
            "baxis": {
             "endlinecolor": "#2a3f5f",
             "gridcolor": "white",
             "linecolor": "white",
             "minorgridcolor": "white",
             "startlinecolor": "#2a3f5f"
            },
            "type": "carpet"
           }
          ],
          "choropleth": [
           {
            "colorbar": {
             "outlinewidth": 0,
             "ticks": ""
            },
            "type": "choropleth"
           }
          ],
          "contour": [
           {
            "colorbar": {
             "outlinewidth": 0,
             "ticks": ""
            },
            "colorscale": [
             [
              0,
              "#0d0887"
             ],
             [
              0.1111111111111111,
              "#46039f"
             ],
             [
              0.2222222222222222,
              "#7201a8"
             ],
             [
              0.3333333333333333,
              "#9c179e"
             ],
             [
              0.4444444444444444,
              "#bd3786"
             ],
             [
              0.5555555555555556,
              "#d8576b"
             ],
             [
              0.6666666666666666,
              "#ed7953"
             ],
             [
              0.7777777777777778,
              "#fb9f3a"
             ],
             [
              0.8888888888888888,
              "#fdca26"
             ],
             [
              1,
              "#f0f921"
             ]
            ],
            "type": "contour"
           }
          ],
          "contourcarpet": [
           {
            "colorbar": {
             "outlinewidth": 0,
             "ticks": ""
            },
            "type": "contourcarpet"
           }
          ],
          "heatmap": [
           {
            "colorbar": {
             "outlinewidth": 0,
             "ticks": ""
            },
            "colorscale": [
             [
              0,
              "#0d0887"
             ],
             [
              0.1111111111111111,
              "#46039f"
             ],
             [
              0.2222222222222222,
              "#7201a8"
             ],
             [
              0.3333333333333333,
              "#9c179e"
             ],
             [
              0.4444444444444444,
              "#bd3786"
             ],
             [
              0.5555555555555556,
              "#d8576b"
             ],
             [
              0.6666666666666666,
              "#ed7953"
             ],
             [
              0.7777777777777778,
              "#fb9f3a"
             ],
             [
              0.8888888888888888,
              "#fdca26"
             ],
             [
              1,
              "#f0f921"
             ]
            ],
            "type": "heatmap"
           }
          ],
          "heatmapgl": [
           {
            "colorbar": {
             "outlinewidth": 0,
             "ticks": ""
            },
            "colorscale": [
             [
              0,
              "#0d0887"
             ],
             [
              0.1111111111111111,
              "#46039f"
             ],
             [
              0.2222222222222222,
              "#7201a8"
             ],
             [
              0.3333333333333333,
              "#9c179e"
             ],
             [
              0.4444444444444444,
              "#bd3786"
             ],
             [
              0.5555555555555556,
              "#d8576b"
             ],
             [
              0.6666666666666666,
              "#ed7953"
             ],
             [
              0.7777777777777778,
              "#fb9f3a"
             ],
             [
              0.8888888888888888,
              "#fdca26"
             ],
             [
              1,
              "#f0f921"
             ]
            ],
            "type": "heatmapgl"
           }
          ],
          "histogram": [
           {
            "marker": {
             "pattern": {
              "fillmode": "overlay",
              "size": 10,
              "solidity": 0.2
             }
            },
            "type": "histogram"
           }
          ],
          "histogram2d": [
           {
            "colorbar": {
             "outlinewidth": 0,
             "ticks": ""
            },
            "colorscale": [
             [
              0,
              "#0d0887"
             ],
             [
              0.1111111111111111,
              "#46039f"
             ],
             [
              0.2222222222222222,
              "#7201a8"
             ],
             [
              0.3333333333333333,
              "#9c179e"
             ],
             [
              0.4444444444444444,
              "#bd3786"
             ],
             [
              0.5555555555555556,
              "#d8576b"
             ],
             [
              0.6666666666666666,
              "#ed7953"
             ],
             [
              0.7777777777777778,
              "#fb9f3a"
             ],
             [
              0.8888888888888888,
              "#fdca26"
             ],
             [
              1,
              "#f0f921"
             ]
            ],
            "type": "histogram2d"
           }
          ],
          "histogram2dcontour": [
           {
            "colorbar": {
             "outlinewidth": 0,
             "ticks": ""
            },
            "colorscale": [
             [
              0,
              "#0d0887"
             ],
             [
              0.1111111111111111,
              "#46039f"
             ],
             [
              0.2222222222222222,
              "#7201a8"
             ],
             [
              0.3333333333333333,
              "#9c179e"
             ],
             [
              0.4444444444444444,
              "#bd3786"
             ],
             [
              0.5555555555555556,
              "#d8576b"
             ],
             [
              0.6666666666666666,
              "#ed7953"
             ],
             [
              0.7777777777777778,
              "#fb9f3a"
             ],
             [
              0.8888888888888888,
              "#fdca26"
             ],
             [
              1,
              "#f0f921"
             ]
            ],
            "type": "histogram2dcontour"
           }
          ],
          "mesh3d": [
           {
            "colorbar": {
             "outlinewidth": 0,
             "ticks": ""
            },
            "type": "mesh3d"
           }
          ],
          "parcoords": [
           {
            "line": {
             "colorbar": {
              "outlinewidth": 0,
              "ticks": ""
             }
            },
            "type": "parcoords"
           }
          ],
          "pie": [
           {
            "automargin": true,
            "type": "pie"
           }
          ],
          "scatter": [
           {
            "marker": {
             "colorbar": {
              "outlinewidth": 0,
              "ticks": ""
             }
            },
            "type": "scatter"
           }
          ],
          "scatter3d": [
           {
            "line": {
             "colorbar": {
              "outlinewidth": 0,
              "ticks": ""
             }
            },
            "marker": {
             "colorbar": {
              "outlinewidth": 0,
              "ticks": ""
             }
            },
            "type": "scatter3d"
           }
          ],
          "scattercarpet": [
           {
            "marker": {
             "colorbar": {
              "outlinewidth": 0,
              "ticks": ""
             }
            },
            "type": "scattercarpet"
           }
          ],
          "scattergeo": [
           {
            "marker": {
             "colorbar": {
              "outlinewidth": 0,
              "ticks": ""
             }
            },
            "type": "scattergeo"
           }
          ],
          "scattergl": [
           {
            "marker": {
             "colorbar": {
              "outlinewidth": 0,
              "ticks": ""
             }
            },
            "type": "scattergl"
           }
          ],
          "scattermapbox": [
           {
            "marker": {
             "colorbar": {
              "outlinewidth": 0,
              "ticks": ""
             }
            },
            "type": "scattermapbox"
           }
          ],
          "scatterpolar": [
           {
            "marker": {
             "colorbar": {
              "outlinewidth": 0,
              "ticks": ""
             }
            },
            "type": "scatterpolar"
           }
          ],
          "scatterpolargl": [
           {
            "marker": {
             "colorbar": {
              "outlinewidth": 0,
              "ticks": ""
             }
            },
            "type": "scatterpolargl"
           }
          ],
          "scatterternary": [
           {
            "marker": {
             "colorbar": {
              "outlinewidth": 0,
              "ticks": ""
             }
            },
            "type": "scatterternary"
           }
          ],
          "surface": [
           {
            "colorbar": {
             "outlinewidth": 0,
             "ticks": ""
            },
            "colorscale": [
             [
              0,
              "#0d0887"
             ],
             [
              0.1111111111111111,
              "#46039f"
             ],
             [
              0.2222222222222222,
              "#7201a8"
             ],
             [
              0.3333333333333333,
              "#9c179e"
             ],
             [
              0.4444444444444444,
              "#bd3786"
             ],
             [
              0.5555555555555556,
              "#d8576b"
             ],
             [
              0.6666666666666666,
              "#ed7953"
             ],
             [
              0.7777777777777778,
              "#fb9f3a"
             ],
             [
              0.8888888888888888,
              "#fdca26"
             ],
             [
              1,
              "#f0f921"
             ]
            ],
            "type": "surface"
           }
          ],
          "table": [
           {
            "cells": {
             "fill": {
              "color": "#EBF0F8"
             },
             "line": {
              "color": "white"
             }
            },
            "header": {
             "fill": {
              "color": "#C8D4E3"
             },
             "line": {
              "color": "white"
             }
            },
            "type": "table"
           }
          ]
         },
         "layout": {
          "annotationdefaults": {
           "arrowcolor": "#2a3f5f",
           "arrowhead": 0,
           "arrowwidth": 1
          },
          "autotypenumbers": "strict",
          "coloraxis": {
           "colorbar": {
            "outlinewidth": 0,
            "ticks": ""
           }
          },
          "colorscale": {
           "diverging": [
            [
             0,
             "#8e0152"
            ],
            [
             0.1,
             "#c51b7d"
            ],
            [
             0.2,
             "#de77ae"
            ],
            [
             0.3,
             "#f1b6da"
            ],
            [
             0.4,
             "#fde0ef"
            ],
            [
             0.5,
             "#f7f7f7"
            ],
            [
             0.6,
             "#e6f5d0"
            ],
            [
             0.7,
             "#b8e186"
            ],
            [
             0.8,
             "#7fbc41"
            ],
            [
             0.9,
             "#4d9221"
            ],
            [
             1,
             "#276419"
            ]
           ],
           "sequential": [
            [
             0,
             "#0d0887"
            ],
            [
             0.1111111111111111,
             "#46039f"
            ],
            [
             0.2222222222222222,
             "#7201a8"
            ],
            [
             0.3333333333333333,
             "#9c179e"
            ],
            [
             0.4444444444444444,
             "#bd3786"
            ],
            [
             0.5555555555555556,
             "#d8576b"
            ],
            [
             0.6666666666666666,
             "#ed7953"
            ],
            [
             0.7777777777777778,
             "#fb9f3a"
            ],
            [
             0.8888888888888888,
             "#fdca26"
            ],
            [
             1,
             "#f0f921"
            ]
           ],
           "sequentialminus": [
            [
             0,
             "#0d0887"
            ],
            [
             0.1111111111111111,
             "#46039f"
            ],
            [
             0.2222222222222222,
             "#7201a8"
            ],
            [
             0.3333333333333333,
             "#9c179e"
            ],
            [
             0.4444444444444444,
             "#bd3786"
            ],
            [
             0.5555555555555556,
             "#d8576b"
            ],
            [
             0.6666666666666666,
             "#ed7953"
            ],
            [
             0.7777777777777778,
             "#fb9f3a"
            ],
            [
             0.8888888888888888,
             "#fdca26"
            ],
            [
             1,
             "#f0f921"
            ]
           ]
          },
          "colorway": [
           "#636efa",
           "#EF553B",
           "#00cc96",
           "#ab63fa",
           "#FFA15A",
           "#19d3f3",
           "#FF6692",
           "#B6E880",
           "#FF97FF",
           "#FECB52"
          ],
          "font": {
           "color": "#2a3f5f"
          },
          "geo": {
           "bgcolor": "white",
           "lakecolor": "white",
           "landcolor": "#E5ECF6",
           "showlakes": true,
           "showland": true,
           "subunitcolor": "white"
          },
          "hoverlabel": {
           "align": "left"
          },
          "hovermode": "closest",
          "mapbox": {
           "style": "light"
          },
          "paper_bgcolor": "white",
          "plot_bgcolor": "#E5ECF6",
          "polar": {
           "angularaxis": {
            "gridcolor": "white",
            "linecolor": "white",
            "ticks": ""
           },
           "bgcolor": "#E5ECF6",
           "radialaxis": {
            "gridcolor": "white",
            "linecolor": "white",
            "ticks": ""
           }
          },
          "scene": {
           "xaxis": {
            "backgroundcolor": "#E5ECF6",
            "gridcolor": "white",
            "gridwidth": 2,
            "linecolor": "white",
            "showbackground": true,
            "ticks": "",
            "zerolinecolor": "white"
           },
           "yaxis": {
            "backgroundcolor": "#E5ECF6",
            "gridcolor": "white",
            "gridwidth": 2,
            "linecolor": "white",
            "showbackground": true,
            "ticks": "",
            "zerolinecolor": "white"
           },
           "zaxis": {
            "backgroundcolor": "#E5ECF6",
            "gridcolor": "white",
            "gridwidth": 2,
            "linecolor": "white",
            "showbackground": true,
            "ticks": "",
            "zerolinecolor": "white"
           }
          },
          "shapedefaults": {
           "line": {
            "color": "#2a3f5f"
           }
          },
          "ternary": {
           "aaxis": {
            "gridcolor": "white",
            "linecolor": "white",
            "ticks": ""
           },
           "baxis": {
            "gridcolor": "white",
            "linecolor": "white",
            "ticks": ""
           },
           "bgcolor": "#E5ECF6",
           "caxis": {
            "gridcolor": "white",
            "linecolor": "white",
            "ticks": ""
           }
          },
          "title": {
           "x": 0.05
          },
          "xaxis": {
           "automargin": true,
           "gridcolor": "white",
           "linecolor": "white",
           "ticks": "",
           "title": {
            "standoff": 15
           },
           "zerolinecolor": "white",
           "zerolinewidth": 2
          },
          "yaxis": {
           "automargin": true,
           "gridcolor": "white",
           "linecolor": "white",
           "ticks": "",
           "title": {
            "standoff": 15
           },
           "zerolinecolor": "white",
           "zerolinewidth": 2
          }
         }
        }
       }
      },
      "text/html": [
       "<div>                            <div id=\"3f08be79-9523-4edf-a302-3323dad37ce9\" class=\"plotly-graph-div\" style=\"height:525px; width:100%;\"></div>            <script type=\"text/javascript\">                require([\"plotly\"], function(Plotly) {                    window.PLOTLYENV=window.PLOTLYENV || {};                                    if (document.getElementById(\"3f08be79-9523-4edf-a302-3323dad37ce9\")) {                    Plotly.newPlot(                        \"3f08be79-9523-4edf-a302-3323dad37ce9\",                        [{\"name\":\"Consumo\",\"type\":\"scatter\",\"x\":[\"2021-07-31T00:00:00\",\"2021-07-31T01:00:00\",\"2021-07-31T02:00:00\",\"2021-07-31T03:00:00\",\"2021-07-31T04:00:00\",\"2021-07-31T05:00:00\",\"2021-07-31T06:00:00\",\"2021-07-31T07:00:00\",\"2021-07-31T08:00:00\",\"2021-07-31T09:00:00\",\"2021-07-31T10:00:00\",\"2021-07-31T11:00:00\",\"2021-07-31T12:00:00\",\"2021-07-31T13:00:00\",\"2021-07-31T14:00:00\",\"2021-07-31T15:00:00\",\"2021-07-31T16:00:00\",\"2021-07-31T17:00:00\",\"2021-07-31T18:00:00\",\"2021-07-31T19:00:00\",\"2021-07-31T20:00:00\",\"2021-07-31T21:00:00\",\"2021-07-31T22:00:00\",\"2021-07-31T23:00:00\"],\"y\":[2044.916,1958.858,1873.602,1790.519,1761.849,1794.685,1848.861,1907.843,1897.028,2008.307,1995.086,2000.317,1889.117,1796.65,1754.873,1755.026,1757.693,1799.475,1993.628,2179.763,2185.0,2128.403,2061.354]},{\"name\":\"Forecast\",\"type\":\"scatter\",\"x\":[\"2021-07-31T00:00:00\",\"2021-07-31T01:00:00\",\"2021-07-31T02:00:00\",\"2021-07-31T03:00:00\",\"2021-07-31T04:00:00\",\"2021-07-31T05:00:00\",\"2021-07-31T06:00:00\",\"2021-07-31T07:00:00\",\"2021-07-31T08:00:00\",\"2021-07-31T09:00:00\",\"2021-07-31T10:00:00\",\"2021-07-31T11:00:00\",\"2021-07-31T12:00:00\",\"2021-07-31T13:00:00\",\"2021-07-31T14:00:00\",\"2021-07-31T15:00:00\",\"2021-07-31T16:00:00\",\"2021-07-31T17:00:00\",\"2021-07-31T18:00:00\",\"2021-07-31T19:00:00\",\"2021-07-31T20:00:00\",\"2021-07-31T21:00:00\",\"2021-07-31T22:00:00\",\"2021-07-31T23:00:00\"],\"y\":[2070.8155349888134,1974.5334953387692,1872.5263550669918,1841.110097125816,1813.4365092255935,1805.8367604169566,1761.5404541474147,1790.8154374943983,1848.9744874832186,1860.853676932215,1917.4629678220217,1916.3528744713183,1987.4883895271619,1990.0172591846451,1978.1275596686355,1962.808542021575,1935.5162117274597,1944.5985838421284,1982.381742542796,2038.7252472337832,2122.0396553127084,2192.234970912105,2196.0101168800843,2117.056804035717]}],                        {\"template\":{\"data\":{\"bar\":[{\"error_x\":{\"color\":\"#2a3f5f\"},\"error_y\":{\"color\":\"#2a3f5f\"},\"marker\":{\"line\":{\"color\":\"#E5ECF6\",\"width\":0.5},\"pattern\":{\"fillmode\":\"overlay\",\"size\":10,\"solidity\":0.2}},\"type\":\"bar\"}],\"barpolar\":[{\"marker\":{\"line\":{\"color\":\"#E5ECF6\",\"width\":0.5},\"pattern\":{\"fillmode\":\"overlay\",\"size\":10,\"solidity\":0.2}},\"type\":\"barpolar\"}],\"carpet\":[{\"aaxis\":{\"endlinecolor\":\"#2a3f5f\",\"gridcolor\":\"white\",\"linecolor\":\"white\",\"minorgridcolor\":\"white\",\"startlinecolor\":\"#2a3f5f\"},\"baxis\":{\"endlinecolor\":\"#2a3f5f\",\"gridcolor\":\"white\",\"linecolor\":\"white\",\"minorgridcolor\":\"white\",\"startlinecolor\":\"#2a3f5f\"},\"type\":\"carpet\"}],\"choropleth\":[{\"colorbar\":{\"outlinewidth\":0,\"ticks\":\"\"},\"type\":\"choropleth\"}],\"contour\":[{\"colorbar\":{\"outlinewidth\":0,\"ticks\":\"\"},\"colorscale\":[[0.0,\"#0d0887\"],[0.1111111111111111,\"#46039f\"],[0.2222222222222222,\"#7201a8\"],[0.3333333333333333,\"#9c179e\"],[0.4444444444444444,\"#bd3786\"],[0.5555555555555556,\"#d8576b\"],[0.6666666666666666,\"#ed7953\"],[0.7777777777777778,\"#fb9f3a\"],[0.8888888888888888,\"#fdca26\"],[1.0,\"#f0f921\"]],\"type\":\"contour\"}],\"contourcarpet\":[{\"colorbar\":{\"outlinewidth\":0,\"ticks\":\"\"},\"type\":\"contourcarpet\"}],\"heatmap\":[{\"colorbar\":{\"outlinewidth\":0,\"ticks\":\"\"},\"colorscale\":[[0.0,\"#0d0887\"],[0.1111111111111111,\"#46039f\"],[0.2222222222222222,\"#7201a8\"],[0.3333333333333333,\"#9c179e\"],[0.4444444444444444,\"#bd3786\"],[0.5555555555555556,\"#d8576b\"],[0.6666666666666666,\"#ed7953\"],[0.7777777777777778,\"#fb9f3a\"],[0.8888888888888888,\"#fdca26\"],[1.0,\"#f0f921\"]],\"type\":\"heatmap\"}],\"heatmapgl\":[{\"colorbar\":{\"outlinewidth\":0,\"ticks\":\"\"},\"colorscale\":[[0.0,\"#0d0887\"],[0.1111111111111111,\"#46039f\"],[0.2222222222222222,\"#7201a8\"],[0.3333333333333333,\"#9c179e\"],[0.4444444444444444,\"#bd3786\"],[0.5555555555555556,\"#d8576b\"],[0.6666666666666666,\"#ed7953\"],[0.7777777777777778,\"#fb9f3a\"],[0.8888888888888888,\"#fdca26\"],[1.0,\"#f0f921\"]],\"type\":\"heatmapgl\"}],\"histogram\":[{\"marker\":{\"pattern\":{\"fillmode\":\"overlay\",\"size\":10,\"solidity\":0.2}},\"type\":\"histogram\"}],\"histogram2d\":[{\"colorbar\":{\"outlinewidth\":0,\"ticks\":\"\"},\"colorscale\":[[0.0,\"#0d0887\"],[0.1111111111111111,\"#46039f\"],[0.2222222222222222,\"#7201a8\"],[0.3333333333333333,\"#9c179e\"],[0.4444444444444444,\"#bd3786\"],[0.5555555555555556,\"#d8576b\"],[0.6666666666666666,\"#ed7953\"],[0.7777777777777778,\"#fb9f3a\"],[0.8888888888888888,\"#fdca26\"],[1.0,\"#f0f921\"]],\"type\":\"histogram2d\"}],\"histogram2dcontour\":[{\"colorbar\":{\"outlinewidth\":0,\"ticks\":\"\"},\"colorscale\":[[0.0,\"#0d0887\"],[0.1111111111111111,\"#46039f\"],[0.2222222222222222,\"#7201a8\"],[0.3333333333333333,\"#9c179e\"],[0.4444444444444444,\"#bd3786\"],[0.5555555555555556,\"#d8576b\"],[0.6666666666666666,\"#ed7953\"],[0.7777777777777778,\"#fb9f3a\"],[0.8888888888888888,\"#fdca26\"],[1.0,\"#f0f921\"]],\"type\":\"histogram2dcontour\"}],\"mesh3d\":[{\"colorbar\":{\"outlinewidth\":0,\"ticks\":\"\"},\"type\":\"mesh3d\"}],\"parcoords\":[{\"line\":{\"colorbar\":{\"outlinewidth\":0,\"ticks\":\"\"}},\"type\":\"parcoords\"}],\"pie\":[{\"automargin\":true,\"type\":\"pie\"}],\"scatter\":[{\"marker\":{\"colorbar\":{\"outlinewidth\":0,\"ticks\":\"\"}},\"type\":\"scatter\"}],\"scatter3d\":[{\"line\":{\"colorbar\":{\"outlinewidth\":0,\"ticks\":\"\"}},\"marker\":{\"colorbar\":{\"outlinewidth\":0,\"ticks\":\"\"}},\"type\":\"scatter3d\"}],\"scattercarpet\":[{\"marker\":{\"colorbar\":{\"outlinewidth\":0,\"ticks\":\"\"}},\"type\":\"scattercarpet\"}],\"scattergeo\":[{\"marker\":{\"colorbar\":{\"outlinewidth\":0,\"ticks\":\"\"}},\"type\":\"scattergeo\"}],\"scattergl\":[{\"marker\":{\"colorbar\":{\"outlinewidth\":0,\"ticks\":\"\"}},\"type\":\"scattergl\"}],\"scattermapbox\":[{\"marker\":{\"colorbar\":{\"outlinewidth\":0,\"ticks\":\"\"}},\"type\":\"scattermapbox\"}],\"scatterpolar\":[{\"marker\":{\"colorbar\":{\"outlinewidth\":0,\"ticks\":\"\"}},\"type\":\"scatterpolar\"}],\"scatterpolargl\":[{\"marker\":{\"colorbar\":{\"outlinewidth\":0,\"ticks\":\"\"}},\"type\":\"scatterpolargl\"}],\"scatterternary\":[{\"marker\":{\"colorbar\":{\"outlinewidth\":0,\"ticks\":\"\"}},\"type\":\"scatterternary\"}],\"surface\":[{\"colorbar\":{\"outlinewidth\":0,\"ticks\":\"\"},\"colorscale\":[[0.0,\"#0d0887\"],[0.1111111111111111,\"#46039f\"],[0.2222222222222222,\"#7201a8\"],[0.3333333333333333,\"#9c179e\"],[0.4444444444444444,\"#bd3786\"],[0.5555555555555556,\"#d8576b\"],[0.6666666666666666,\"#ed7953\"],[0.7777777777777778,\"#fb9f3a\"],[0.8888888888888888,\"#fdca26\"],[1.0,\"#f0f921\"]],\"type\":\"surface\"}],\"table\":[{\"cells\":{\"fill\":{\"color\":\"#EBF0F8\"},\"line\":{\"color\":\"white\"}},\"header\":{\"fill\":{\"color\":\"#C8D4E3\"},\"line\":{\"color\":\"white\"}},\"type\":\"table\"}]},\"layout\":{\"annotationdefaults\":{\"arrowcolor\":\"#2a3f5f\",\"arrowhead\":0,\"arrowwidth\":1},\"autotypenumbers\":\"strict\",\"coloraxis\":{\"colorbar\":{\"outlinewidth\":0,\"ticks\":\"\"}},\"colorscale\":{\"diverging\":[[0,\"#8e0152\"],[0.1,\"#c51b7d\"],[0.2,\"#de77ae\"],[0.3,\"#f1b6da\"],[0.4,\"#fde0ef\"],[0.5,\"#f7f7f7\"],[0.6,\"#e6f5d0\"],[0.7,\"#b8e186\"],[0.8,\"#7fbc41\"],[0.9,\"#4d9221\"],[1,\"#276419\"]],\"sequential\":[[0.0,\"#0d0887\"],[0.1111111111111111,\"#46039f\"],[0.2222222222222222,\"#7201a8\"],[0.3333333333333333,\"#9c179e\"],[0.4444444444444444,\"#bd3786\"],[0.5555555555555556,\"#d8576b\"],[0.6666666666666666,\"#ed7953\"],[0.7777777777777778,\"#fb9f3a\"],[0.8888888888888888,\"#fdca26\"],[1.0,\"#f0f921\"]],\"sequentialminus\":[[0.0,\"#0d0887\"],[0.1111111111111111,\"#46039f\"],[0.2222222222222222,\"#7201a8\"],[0.3333333333333333,\"#9c179e\"],[0.4444444444444444,\"#bd3786\"],[0.5555555555555556,\"#d8576b\"],[0.6666666666666666,\"#ed7953\"],[0.7777777777777778,\"#fb9f3a\"],[0.8888888888888888,\"#fdca26\"],[1.0,\"#f0f921\"]]},\"colorway\":[\"#636efa\",\"#EF553B\",\"#00cc96\",\"#ab63fa\",\"#FFA15A\",\"#19d3f3\",\"#FF6692\",\"#B6E880\",\"#FF97FF\",\"#FECB52\"],\"font\":{\"color\":\"#2a3f5f\"},\"geo\":{\"bgcolor\":\"white\",\"lakecolor\":\"white\",\"landcolor\":\"#E5ECF6\",\"showlakes\":true,\"showland\":true,\"subunitcolor\":\"white\"},\"hoverlabel\":{\"align\":\"left\"},\"hovermode\":\"closest\",\"mapbox\":{\"style\":\"light\"},\"paper_bgcolor\":\"white\",\"plot_bgcolor\":\"#E5ECF6\",\"polar\":{\"angularaxis\":{\"gridcolor\":\"white\",\"linecolor\":\"white\",\"ticks\":\"\"},\"bgcolor\":\"#E5ECF6\",\"radialaxis\":{\"gridcolor\":\"white\",\"linecolor\":\"white\",\"ticks\":\"\"}},\"scene\":{\"xaxis\":{\"backgroundcolor\":\"#E5ECF6\",\"gridcolor\":\"white\",\"gridwidth\":2,\"linecolor\":\"white\",\"showbackground\":true,\"ticks\":\"\",\"zerolinecolor\":\"white\"},\"yaxis\":{\"backgroundcolor\":\"#E5ECF6\",\"gridcolor\":\"white\",\"gridwidth\":2,\"linecolor\":\"white\",\"showbackground\":true,\"ticks\":\"\",\"zerolinecolor\":\"white\"},\"zaxis\":{\"backgroundcolor\":\"#E5ECF6\",\"gridcolor\":\"white\",\"gridwidth\":2,\"linecolor\":\"white\",\"showbackground\":true,\"ticks\":\"\",\"zerolinecolor\":\"white\"}},\"shapedefaults\":{\"line\":{\"color\":\"#2a3f5f\"}},\"ternary\":{\"aaxis\":{\"gridcolor\":\"white\",\"linecolor\":\"white\",\"ticks\":\"\"},\"baxis\":{\"gridcolor\":\"white\",\"linecolor\":\"white\",\"ticks\":\"\"},\"bgcolor\":\"#E5ECF6\",\"caxis\":{\"gridcolor\":\"white\",\"linecolor\":\"white\",\"ticks\":\"\"}},\"title\":{\"x\":0.05},\"xaxis\":{\"automargin\":true,\"gridcolor\":\"white\",\"linecolor\":\"white\",\"ticks\":\"\",\"title\":{\"standoff\":15},\"zerolinecolor\":\"white\",\"zerolinewidth\":2},\"yaxis\":{\"automargin\":true,\"gridcolor\":\"white\",\"linecolor\":\"white\",\"ticks\":\"\",\"title\":{\"standoff\":15},\"zerolinecolor\":\"white\",\"zerolinewidth\":2}}}},                        {\"responsive\": true}                    ).then(function(){\n",
       "                            \n",
       "var gd = document.getElementById('3f08be79-9523-4edf-a302-3323dad37ce9');\n",
       "var x = new MutationObserver(function (mutations, observer) {{\n",
       "        var display = window.getComputedStyle(gd).display;\n",
       "        if (!display || display === 'none') {{\n",
       "            console.log([gd, 'removed!']);\n",
       "            Plotly.purge(gd);\n",
       "            observer.disconnect();\n",
       "        }}\n",
       "}});\n",
       "\n",
       "// Listen for the removal of the full notebook cells\n",
       "var notebookContainer = gd.closest('#notebook-container');\n",
       "if (notebookContainer) {{\n",
       "    x.observe(notebookContainer, {childList: true});\n",
       "}}\n",
       "\n",
       "// Listen for the clearing of the current output cell\n",
       "var outputEl = gd.closest('.output');\n",
       "if (outputEl) {{\n",
       "    x.observe(outputEl, {childList: true});\n",
       "}}\n",
       "\n",
       "                        })                };                });            </script>        </div>"
      ]
     },
     "metadata": {},
     "output_type": "display_data"
    }
   ],
   "source": [
    "import plotly.graph_objects as go\n",
    "fig = go.Figure()\n",
    "# Create and style traces\n",
    "fig.add_trace(go.Scatter(x=forecasts_df.index, y=test[\"Consumo\"], name='Consumo'))\n",
    "fig.add_trace(go.Scatter(x=forecasts_df.index, y=forecasts_df[\"Consumo\"], name = 'Forecast'))\n",
    "fig.show()"
   ]
  },
  {
   "cell_type": "code",
   "execution_count": 102,
   "metadata": {},
   "outputs": [
    {
     "name": "stdout",
     "output_type": "stream",
     "text": [
      "Requirement already satisfied: plotly in c:\\users\\catalina\\appdata\\local\\programs\\python\\python39\\lib\\site-packages (5.3.1)\n",
      "Requirement already satisfied: six in c:\\users\\catalina\\appdata\\local\\programs\\python\\python39\\lib\\site-packages (from plotly) (1.15.0)\n",
      "Requirement already satisfied: tenacity>=6.2.0 in c:\\users\\catalina\\appdata\\local\\programs\\python\\python39\\lib\\site-packages (from plotly) (8.0.1)\n",
      "Note: you may need to restart the kernel to use updated packages.\n"
     ]
    },
    {
     "name": "stderr",
     "output_type": "stream",
     "text": [
      "WARNING: You are using pip version 21.1.2; however, version 21.2.4 is available.\n",
      "You should consider upgrading via the 'c:\\users\\catalina\\appdata\\local\\programs\\python\\python39\\python.exe -m pip install --upgrade pip' command.\n"
     ]
    }
   ],
   "source": []
  },
  {
   "cell_type": "code",
   "execution_count": 86,
   "metadata": {},
   "outputs": [
    {
     "name": "stdout",
     "output_type": "stream",
     "text": [
      "Note: you may need to restart the kernel to use updated packages.\n"
     ]
    },
    {
     "name": "stderr",
     "output_type": "stream",
     "text": [
      "WARNING: You are using pip version 21.1.2; however, version 21.2.4 is available.\n",
      "You should consider upgrading via the 'c:\\users\\catalina\\appdata\\local\\programs\\python\\python39\\python.exe -m pip install --upgrade pip' command.\n"
     ]
    },
    {
     "name": "stdout",
     "output_type": "stream",
     "text": [
      "Collecting plotly\n",
      "  Downloading plotly-5.3.1-py2.py3-none-any.whl (23.9 MB)\n",
      "Requirement already satisfied: six in c:\\users\\catalina\\appdata\\local\\programs\\python\\python39\\lib\\site-packages (from plotly) (1.15.0)\n",
      "Collecting tenacity>=6.2.0\n",
      "  Downloading tenacity-8.0.1-py3-none-any.whl (24 kB)\n",
      "Installing collected packages: tenacity, plotly\n",
      "Successfully installed plotly-5.3.1 tenacity-8.0.1\n"
     ]
    }
   ],
   "source": []
  }
 ],
 "metadata": {
  "accelerator": "TPU",
  "colab": {
   "authorship_tag": "ABX9TyOZFCrG/6Uq2iB0dLewPiGV",
   "collapsed_sections": [],
   "name": "auutuo.ipynb",
   "provenance": []
  },
  "kernelspec": {
   "display_name": "Python 3",
   "language": "python",
   "name": "python3"
  },
  "language_info": {
   "codemirror_mode": {
    "name": "ipython",
    "version": 3
   },
   "file_extension": ".py",
   "mimetype": "text/x-python",
   "name": "python",
   "nbconvert_exporter": "python",
   "pygments_lexer": "ipython3",
   "version": "3.9.5"
  }
 },
 "nbformat": 4,
 "nbformat_minor": 4
}
