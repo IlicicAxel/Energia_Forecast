{
 "cells": [
  {
   "cell_type": "code",
   "execution_count": 26,
   "metadata": {
    "colab": {
     "base_uri": "https://localhost:8080/",
     "height": 287
    },
    "executionInfo": {
     "elapsed": 5206,
     "status": "ok",
     "timestamp": 1632074917479,
     "user": {
      "displayName": "Axel Ilicic",
      "photoUrl": "https://lh3.googleusercontent.com/a-/AOh14GhNtGq_FUazZvxgoyeY-OtOQpRTr-L-HY307XH3_0k=s64",
      "userId": "13005703852540572389"
     },
     "user_tz": 180
    },
    "id": "zxwKCpKePgsN",
    "outputId": "d1539398-4958-49b6-99d0-98b45c721ead"
   },
   "outputs": [
    {
     "data": {
      "text/html": [
       "<div>\n",
       "<style scoped>\n",
       "    .dataframe tbody tr th:only-of-type {\n",
       "        vertical-align: middle;\n",
       "    }\n",
       "\n",
       "    .dataframe tbody tr th {\n",
       "        vertical-align: top;\n",
       "    }\n",
       "\n",
       "    .dataframe thead th {\n",
       "        text-align: right;\n",
       "    }\n",
       "</style>\n",
       "<table border=\"1\" class=\"dataframe\">\n",
       "  <thead>\n",
       "    <tr style=\"text-align: right;\">\n",
       "      <th></th>\n",
       "      <th>Hora</th>\n",
       "      <th>Tipo Dia</th>\n",
       "      <th>Energia BSAS</th>\n",
       "      <th>Clima BSAS</th>\n",
       "      <th>Año</th>\n",
       "      <th>Mes</th>\n",
       "    </tr>\n",
       "    <tr>\n",
       "      <th>Fecha</th>\n",
       "      <th></th>\n",
       "      <th></th>\n",
       "      <th></th>\n",
       "      <th></th>\n",
       "      <th></th>\n",
       "      <th></th>\n",
       "    </tr>\n",
       "  </thead>\n",
       "  <tbody>\n",
       "    <tr>\n",
       "      <th>2021-07-31 19:00:00</th>\n",
       "      <td>19</td>\n",
       "      <td>7</td>\n",
       "      <td>1993.628</td>\n",
       "      <td>11.6</td>\n",
       "      <td>2021</td>\n",
       "      <td>7</td>\n",
       "    </tr>\n",
       "    <tr>\n",
       "      <th>2021-07-31 20:00:00</th>\n",
       "      <td>20</td>\n",
       "      <td>7</td>\n",
       "      <td>2179.763</td>\n",
       "      <td>9.9</td>\n",
       "      <td>2021</td>\n",
       "      <td>7</td>\n",
       "    </tr>\n",
       "    <tr>\n",
       "      <th>2021-07-31 21:00:00</th>\n",
       "      <td>21</td>\n",
       "      <td>7</td>\n",
       "      <td>2185.000</td>\n",
       "      <td>9.0</td>\n",
       "      <td>2021</td>\n",
       "      <td>7</td>\n",
       "    </tr>\n",
       "    <tr>\n",
       "      <th>2021-07-31 22:00:00</th>\n",
       "      <td>22</td>\n",
       "      <td>7</td>\n",
       "      <td>2128.403</td>\n",
       "      <td>8.3</td>\n",
       "      <td>2021</td>\n",
       "      <td>7</td>\n",
       "    </tr>\n",
       "    <tr>\n",
       "      <th>2021-07-31 23:00:00</th>\n",
       "      <td>23</td>\n",
       "      <td>7</td>\n",
       "      <td>2061.354</td>\n",
       "      <td>7.9</td>\n",
       "      <td>2021</td>\n",
       "      <td>7</td>\n",
       "    </tr>\n",
       "  </tbody>\n",
       "</table>\n",
       "</div>"
      ],
      "text/plain": [
       "                     Hora  Tipo Dia  Energia BSAS  Clima BSAS   Año  Mes\n",
       "Fecha                                                                   \n",
       "2021-07-31 19:00:00    19         7      1993.628        11.6  2021    7\n",
       "2021-07-31 20:00:00    20         7      2179.763         9.9  2021    7\n",
       "2021-07-31 21:00:00    21         7      2185.000         9.0  2021    7\n",
       "2021-07-31 22:00:00    22         7      2128.403         8.3  2021    7\n",
       "2021-07-31 23:00:00    23         7      2061.354         7.9  2021    7"
      ]
     },
     "execution_count": 26,
     "metadata": {},
     "output_type": "execute_result"
    }
   ],
   "source": [
    "from autots import AutoTS\n",
    "import pandas as pd\n",
    "import matplotlib.pyplot as plt\n",
    "\n",
    "long=False\n",
    "df = pd.read_csv(\"BASEo.csv\", index_col=0, parse_dates=True, dayfirst=True)\n",
    "df = df.iloc[:,:4]\n",
    "df['Año'] = pd. DatetimeIndex(df.index).year\n",
    "df['Mes'] = pd. DatetimeIndex(df.index).month\n",
    "df.tail()"
   ]
  },
  {
   "cell_type": "code",
   "execution_count": 27,
   "metadata": {
    "colab": {
     "base_uri": "https://localhost:8080/",
     "height": 234
    },
    "executionInfo": {
     "elapsed": 211,
     "status": "ok",
     "timestamp": 1632074920959,
     "user": {
      "displayName": "Axel Ilicic",
      "photoUrl": "https://lh3.googleusercontent.com/a-/AOh14GhNtGq_FUazZvxgoyeY-OtOQpRTr-L-HY307XH3_0k=s64",
      "userId": "13005703852540572389"
     },
     "user_tz": 180
    },
    "id": "-nGcJeBU6YYW",
    "outputId": "65be1853-ba95-4ee1-8cce-a619e8d2af2d"
   },
   "outputs": [
    {
     "data": {
      "text/html": [
       "<div>\n",
       "<style scoped>\n",
       "    .dataframe tbody tr th:only-of-type {\n",
       "        vertical-align: middle;\n",
       "    }\n",
       "\n",
       "    .dataframe tbody tr th {\n",
       "        vertical-align: top;\n",
       "    }\n",
       "\n",
       "    .dataframe thead th {\n",
       "        text-align: right;\n",
       "    }\n",
       "</style>\n",
       "<table border=\"1\" class=\"dataframe\">\n",
       "  <thead>\n",
       "    <tr style=\"text-align: right;\">\n",
       "      <th></th>\n",
       "      <th>Hora</th>\n",
       "      <th>Tipo Dia</th>\n",
       "      <th>Energia BSAS</th>\n",
       "      <th>Clima BSAS</th>\n",
       "    </tr>\n",
       "    <tr>\n",
       "      <th>Fecha</th>\n",
       "      <th></th>\n",
       "      <th></th>\n",
       "      <th></th>\n",
       "      <th></th>\n",
       "    </tr>\n",
       "  </thead>\n",
       "  <tbody>\n",
       "    <tr>\n",
       "      <th>2018-01-06 00:00:00</th>\n",
       "      <td>0</td>\n",
       "      <td>7</td>\n",
       "      <td>1833.564</td>\n",
       "      <td>18.1</td>\n",
       "    </tr>\n",
       "    <tr>\n",
       "      <th>2018-01-06 01:00:00</th>\n",
       "      <td>1</td>\n",
       "      <td>7</td>\n",
       "      <td>1719.290</td>\n",
       "      <td>17.4</td>\n",
       "    </tr>\n",
       "    <tr>\n",
       "      <th>2018-01-06 02:00:00</th>\n",
       "      <td>2</td>\n",
       "      <td>7</td>\n",
       "      <td>1625.634</td>\n",
       "      <td>18.0</td>\n",
       "    </tr>\n",
       "    <tr>\n",
       "      <th>2018-01-06 03:00:00</th>\n",
       "      <td>3</td>\n",
       "      <td>7</td>\n",
       "      <td>1572.046</td>\n",
       "      <td>17.5</td>\n",
       "    </tr>\n",
       "    <tr>\n",
       "      <th>2018-01-06 04:00:00</th>\n",
       "      <td>4</td>\n",
       "      <td>7</td>\n",
       "      <td>1544.420</td>\n",
       "      <td>17.1</td>\n",
       "    </tr>\n",
       "  </tbody>\n",
       "</table>\n",
       "</div>"
      ],
      "text/plain": [
       "                     Hora  Tipo Dia  Energia BSAS  Clima BSAS\n",
       "Fecha                                                        \n",
       "2018-01-06 00:00:00     0         7      1833.564        18.1\n",
       "2018-01-06 01:00:00     1         7      1719.290        17.4\n",
       "2018-01-06 02:00:00     2         7      1625.634        18.0\n",
       "2018-01-06 03:00:00     3         7      1572.046        17.5\n",
       "2018-01-06 04:00:00     4         7      1544.420        17.1"
      ]
     },
     "execution_count": 27,
     "metadata": {},
     "output_type": "execute_result"
    }
   ],
   "source": [
    "train = df.loc[(df['Tipo Dia'] == 7)]\n",
    "train = train[:-24]\n",
    "test = df.iloc[-24:]\n",
    "train = train.iloc[:,:4]\n",
    "train.head()"
   ]
  },
  {
   "cell_type": "code",
   "execution_count": 28,
   "metadata": {
    "colab": {
     "base_uri": "https://localhost:8080/"
    },
    "id": "wHOunRFCVyF3",
    "outputId": "748bc64b-1330-40ef-d6b2-b3c7fe562e73",
    "tags": []
   },
   "outputs": [
    {
     "name": "stdout",
     "output_type": "stream",
     "text": [
      "Model Number: 1 with model AverageValueNaive in generation 0 of 2\n",
      "Model Number: 2 with model AverageValueNaive in generation 0 of 2\n",
      "Model Number: 3 with model AverageValueNaive in generation 0 of 2\n",
      "Model Number: 4 with model GLS in generation 0 of 2\n",
      "Model Number: 5 with model GLS in generation 0 of 2\n",
      "Model Number: 6 with model LastValueNaive in generation 0 of 2\n"
     ]
    },
    {
     "name": "stderr",
     "output_type": "stream",
     "text": [
      "c:\\users\\ilici\\appdata\\local\\programs\\python\\python39\\lib\\site-packages\\sklearn\\preprocessing\\_data.py:3237: RuntimeWarning:\n",
      "\n",
      "divide by zero encountered in log\n",
      "\n"
     ]
    },
    {
     "name": "stdout",
     "output_type": "stream",
     "text": [
      "Model Number: 7 with model LastValueNaive in generation 0 of 2\n",
      "Model Number: 8 with model LastValueNaive in generation 0 of 2\n",
      "Model Number: 9 with model LastValueNaive in generation 0 of 2\n",
      "Model Number: 10 with model SeasonalNaive in generation 0 of 2\n"
     ]
    },
    {
     "name": "stderr",
     "output_type": "stream",
     "text": [
      "c:\\users\\ilici\\appdata\\local\\programs\\python\\python39\\lib\\site-packages\\sklearn\\preprocessing\\_data.py:3237: RuntimeWarning:\n",
      "\n",
      "divide by zero encountered in log\n",
      "\n"
     ]
    },
    {
     "name": "stdout",
     "output_type": "stream",
     "text": [
      "Model Number: 11 with model SeasonalNaive in generation 0 of 2\n",
      "Model Number: 12 with model SeasonalNaive in generation 0 of 2\n",
      "Model Number: 13 with model SeasonalNaive in generation 0 of 2\n",
      "Model Number: 14 with model ZeroesNaive in generation 0 of 2\n",
      "Model Number: 15 with model ZeroesNaive in generation 0 of 2\n"
     ]
    },
    {
     "name": "stderr",
     "output_type": "stream",
     "text": [
      "c:\\users\\ilici\\appdata\\local\\programs\\python\\python39\\lib\\site-packages\\sklearn\\preprocessing\\_data.py:3237: RuntimeWarning:\n",
      "\n",
      "divide by zero encountered in log\n",
      "\n"
     ]
    },
    {
     "name": "stdout",
     "output_type": "stream",
     "text": [
      "Model Number: 16 with model LastValueNaive in generation 0 of 2\n",
      "Model Number: 17 with model AverageValueNaive in generation 0 of 2\n",
      "Model Number: 18 with model GLS in generation 0 of 2\n"
     ]
    },
    {
     "name": "stderr",
     "output_type": "stream",
     "text": [
      "c:\\users\\ilici\\appdata\\local\\programs\\python\\python39\\lib\\site-packages\\sklearn\\preprocessing\\_data.py:3237: RuntimeWarning:\n",
      "\n",
      "divide by zero encountered in log\n",
      "\n"
     ]
    },
    {
     "name": "stdout",
     "output_type": "stream",
     "text": [
      "Model Number: 19 with model SeasonalNaive in generation 0 of 2\n",
      "Model Number: 20 with model AverageValueNaive in generation 0 of 2\n",
      "Model Number: 21 with model LastValueNaive in generation 0 of 2\n",
      "Model Number: 22 with model AverageValueNaive in generation 0 of 2\n",
      "Model Number: 23 with model SeasonalNaive in generation 0 of 2\n",
      "Model Number: 24 with model LastValueNaive in generation 0 of 2\n",
      "Model Number: 25 with model ZeroesNaive in generation 0 of 2\n",
      "Model Number: 26 with model LastValueNaive in generation 0 of 2\n",
      "Model Number: 27 with model ZeroesNaive in generation 0 of 2\n"
     ]
    },
    {
     "name": "stderr",
     "output_type": "stream",
     "text": [
      "c:\\users\\ilici\\appdata\\local\\programs\\python\\python39\\lib\\site-packages\\sklearn\\preprocessing\\_data.py:3237: RuntimeWarning:\n",
      "\n",
      "divide by zero encountered in log\n",
      "\n"
     ]
    },
    {
     "name": "stdout",
     "output_type": "stream",
     "text": [
      "Model Number: 28 with model SeasonalNaive in generation 0 of 2\n",
      "Model Number: 29 with model SeasonalNaive in generation 0 of 2\n",
      "Model Number: 30 with model LastValueNaive in generation 0 of 2\n",
      "Model Number: 31 with model ZeroesNaive in generation 0 of 2\n"
     ]
    },
    {
     "name": "stderr",
     "output_type": "stream",
     "text": [
      "c:\\users\\ilici\\appdata\\local\\programs\\python\\python39\\lib\\site-packages\\sklearn\\linear_model\\_glm\\link.py:90: RuntimeWarning:\n",
      "\n",
      "overflow encountered in exp\n",
      "\n",
      "c:\\users\\ilici\\appdata\\local\\programs\\python\\python39\\lib\\site-packages\\sklearn\\linear_model\\_glm\\link.py:93: RuntimeWarning:\n",
      "\n",
      "overflow encountered in exp\n",
      "\n",
      "c:\\users\\ilici\\appdata\\local\\programs\\python\\python39\\lib\\site-packages\\sklearn\\_loss\\glm_distribution.py:132: RuntimeWarning:\n",
      "\n",
      "invalid value encountered in true_divide\n",
      "\n",
      "c:\\users\\ilici\\appdata\\local\\programs\\python\\python39\\lib\\site-packages\\sklearn\\linear_model\\_glm\\link.py:90: RuntimeWarning:\n",
      "\n",
      "overflow encountered in exp\n",
      "\n",
      "c:\\users\\ilici\\appdata\\local\\programs\\python\\python39\\lib\\site-packages\\sklearn\\linear_model\\_glm\\link.py:93: RuntimeWarning:\n",
      "\n",
      "overflow encountered in exp\n",
      "\n",
      "c:\\users\\ilici\\appdata\\local\\programs\\python\\python39\\lib\\site-packages\\sklearn\\_loss\\glm_distribution.py:132: RuntimeWarning:\n",
      "\n",
      "invalid value encountered in true_divide\n",
      "\n",
      "c:\\users\\ilici\\appdata\\local\\programs\\python\\python39\\lib\\site-packages\\sklearn\\_loss\\glm_distribution.py:132: RuntimeWarning:\n",
      "\n",
      "divide by zero encountered in true_divide\n",
      "\n",
      "c:\\users\\ilici\\appdata\\local\\programs\\python\\python39\\lib\\site-packages\\sklearn\\linear_model\\_glm\\glm.py:43: RuntimeWarning:\n",
      "\n",
      "invalid value encountered in multiply\n",
      "\n",
      "c:\\users\\ilici\\appdata\\local\\programs\\python\\python39\\lib\\site-packages\\sklearn\\_loss\\glm_distribution.py:318: RuntimeWarning:\n",
      "\n",
      "divide by zero encountered in log\n",
      "\n",
      "c:\\users\\ilici\\appdata\\local\\programs\\python\\python39\\lib\\site-packages\\sklearn\\_loss\\glm_distribution.py:318: RuntimeWarning:\n",
      "\n",
      "divide by zero encountered in true_divide\n",
      "\n",
      "c:\\users\\ilici\\appdata\\local\\programs\\python\\python39\\lib\\site-packages\\sklearn\\_loss\\glm_distribution.py:318: RuntimeWarning:\n",
      "\n",
      "invalid value encountered in add\n",
      "\n",
      "c:\\users\\ilici\\appdata\\local\\programs\\python\\python39\\lib\\site-packages\\sklearn\\linear_model\\_glm\\glm.py:287: ConvergenceWarning:\n",
      "\n",
      "lbfgs failed to converge (status=2):\n",
      "ABNORMAL_TERMINATION_IN_LNSRCH.\n",
      "\n",
      "Increase the number of iterations (max_iter) or scale the data as shown in:\n",
      "    https://scikit-learn.org/stable/modules/preprocessing.html\n",
      "\n"
     ]
    },
    {
     "name": "stdout",
     "output_type": "stream",
     "text": [
      "Model Number: 32 with model GLS in generation 0 of 2\n",
      "Template Eval Error: ValueError('array must not contain infs or NaNs') in model 32: GLS\n",
      "Model Number: 33 with model ZeroesNaive in generation 0 of 2\n"
     ]
    },
    {
     "name": "stderr",
     "output_type": "stream",
     "text": [
      "c:\\users\\ilici\\appdata\\local\\programs\\python\\python39\\lib\\site-packages\\sklearn\\linear_model\\_glm\\link.py:90: RuntimeWarning:\n",
      "\n",
      "overflow encountered in exp\n",
      "\n",
      "c:\\users\\ilici\\appdata\\local\\programs\\python\\python39\\lib\\site-packages\\sklearn\\linear_model\\_glm\\link.py:93: RuntimeWarning:\n",
      "\n",
      "overflow encountered in exp\n",
      "\n",
      "c:\\users\\ilici\\appdata\\local\\programs\\python\\python39\\lib\\site-packages\\sklearn\\_loss\\glm_distribution.py:132: RuntimeWarning:\n",
      "\n",
      "invalid value encountered in true_divide\n",
      "\n",
      "c:\\users\\ilici\\appdata\\local\\programs\\python\\python39\\lib\\site-packages\\sklearn\\linear_model\\_glm\\link.py:90: RuntimeWarning:\n",
      "\n",
      "overflow encountered in exp\n",
      "\n",
      "c:\\users\\ilici\\appdata\\local\\programs\\python\\python39\\lib\\site-packages\\sklearn\\linear_model\\_glm\\link.py:93: RuntimeWarning:\n",
      "\n",
      "overflow encountered in exp\n",
      "\n",
      "c:\\users\\ilici\\appdata\\local\\programs\\python\\python39\\lib\\site-packages\\sklearn\\_loss\\glm_distribution.py:132: RuntimeWarning:\n",
      "\n",
      "invalid value encountered in true_divide\n",
      "\n",
      "c:\\users\\ilici\\appdata\\local\\programs\\python\\python39\\lib\\site-packages\\sklearn\\_loss\\glm_distribution.py:132: RuntimeWarning:\n",
      "\n",
      "divide by zero encountered in true_divide\n",
      "\n",
      "c:\\users\\ilici\\appdata\\local\\programs\\python\\python39\\lib\\site-packages\\sklearn\\linear_model\\_glm\\glm.py:43: RuntimeWarning:\n",
      "\n",
      "invalid value encountered in multiply\n",
      "\n",
      "c:\\users\\ilici\\appdata\\local\\programs\\python\\python39\\lib\\site-packages\\sklearn\\_loss\\glm_distribution.py:321: RuntimeWarning:\n",
      "\n",
      "divide by zero encountered in power\n",
      "\n",
      "c:\\users\\ilici\\appdata\\local\\programs\\python\\python39\\lib\\site-packages\\sklearn\\decomposition\\_fastica.py:60: RuntimeWarning:\n",
      "\n",
      "invalid value encountered in sqrt\n",
      "\n"
     ]
    },
    {
     "name": "stdout",
     "output_type": "stream",
     "text": [
      "Model Number: 34 with model LastValueNaive in generation 0 of 2\n",
      "New Generation: 1 of 2\n",
      "Model Number: 35 with model AverageValueNaive in generation 1 of 2\n",
      "Model Number: 36 with model AverageValueNaive in generation 1 of 2\n",
      "Model Number: 37 with model AverageValueNaive in generation 1 of 2\n",
      "Model Number: 38 with model ZeroesNaive in generation 1 of 2\n",
      "Model Number: 39 with model ZeroesNaive in generation 1 of 2\n"
     ]
    },
    {
     "name": "stderr",
     "output_type": "stream",
     "text": [
      "c:\\users\\ilici\\appdata\\local\\programs\\python\\python39\\lib\\site-packages\\sklearn\\preprocessing\\_data.py:3237: RuntimeWarning:\n",
      "\n",
      "divide by zero encountered in log\n",
      "\n"
     ]
    },
    {
     "name": "stdout",
     "output_type": "stream",
     "text": [
      "Model Number: 40 with model ZeroesNaive in generation 1 of 2\n"
     ]
    },
    {
     "name": "stderr",
     "output_type": "stream",
     "text": [
      "c:\\users\\ilici\\appdata\\local\\programs\\python\\python39\\lib\\site-packages\\sklearn\\preprocessing\\_data.py:3237: RuntimeWarning:\n",
      "\n",
      "divide by zero encountered in log\n",
      "\n"
     ]
    },
    {
     "name": "stdout",
     "output_type": "stream",
     "text": [
      "Model Number: 41 with model LastValueNaive in generation 1 of 2\n",
      "Model Number: 42 with model LastValueNaive in generation 1 of 2\n",
      "Model Number: 43 with model LastValueNaive in generation 1 of 2\n",
      "Model Number: 44 with model SeasonalNaive in generation 1 of 2\n",
      "Model Number: 45 with model SeasonalNaive in generation 1 of 2\n"
     ]
    },
    {
     "name": "stderr",
     "output_type": "stream",
     "text": [
      "c:\\users\\ilici\\appdata\\local\\programs\\python\\python39\\lib\\site-packages\\sklearn\\linear_model\\_glm\\link.py:90: RuntimeWarning:\n",
      "\n",
      "overflow encountered in exp\n",
      "\n",
      "c:\\users\\ilici\\appdata\\local\\programs\\python\\python39\\lib\\site-packages\\sklearn\\linear_model\\_glm\\link.py:93: RuntimeWarning:\n",
      "\n",
      "overflow encountered in exp\n",
      "\n",
      "c:\\users\\ilici\\appdata\\local\\programs\\python\\python39\\lib\\site-packages\\sklearn\\_loss\\glm_distribution.py:132: RuntimeWarning:\n",
      "\n",
      "invalid value encountered in true_divide\n",
      "\n",
      "c:\\users\\ilici\\appdata\\local\\programs\\python\\python39\\lib\\site-packages\\sklearn\\_loss\\glm_distribution.py:315: RuntimeWarning:\n",
      "\n",
      "invalid value encountered in add\n",
      "\n",
      "c:\\users\\ilici\\appdata\\local\\programs\\python\\python39\\lib\\site-packages\\sklearn\\linear_model\\_glm\\glm.py:287: ConvergenceWarning:\n",
      "\n",
      "lbfgs failed to converge (status=2):\n",
      "ABNORMAL_TERMINATION_IN_LNSRCH.\n",
      "\n",
      "Increase the number of iterations (max_iter) or scale the data as shown in:\n",
      "    https://scikit-learn.org/stable/modules/preprocessing.html\n",
      "\n",
      "c:\\users\\ilici\\appdata\\local\\programs\\python\\python39\\lib\\site-packages\\sklearn\\linear_model\\_glm\\link.py:90: RuntimeWarning:\n",
      "\n",
      "overflow encountered in exp\n",
      "\n",
      "c:\\users\\ilici\\appdata\\local\\programs\\python\\python39\\lib\\site-packages\\sklearn\\linear_model\\_glm\\link.py:93: RuntimeWarning:\n",
      "\n",
      "overflow encountered in exp\n",
      "\n",
      "c:\\users\\ilici\\appdata\\local\\programs\\python\\python39\\lib\\site-packages\\sklearn\\_loss\\glm_distribution.py:132: RuntimeWarning:\n",
      "\n",
      "invalid value encountered in true_divide\n",
      "\n",
      "c:\\users\\ilici\\appdata\\local\\programs\\python\\python39\\lib\\site-packages\\sklearn\\_loss\\glm_distribution.py:315: RuntimeWarning:\n",
      "\n",
      "invalid value encountered in add\n",
      "\n",
      "c:\\users\\ilici\\appdata\\local\\programs\\python\\python39\\lib\\site-packages\\sklearn\\linear_model\\_glm\\glm.py:287: ConvergenceWarning:\n",
      "\n",
      "lbfgs failed to converge (status=2):\n",
      "ABNORMAL_TERMINATION_IN_LNSRCH.\n",
      "\n",
      "Increase the number of iterations (max_iter) or scale the data as shown in:\n",
      "    https://scikit-learn.org/stable/modules/preprocessing.html\n",
      "\n",
      "c:\\users\\ilici\\appdata\\local\\programs\\python\\python39\\lib\\site-packages\\sklearn\\linear_model\\_glm\\link.py:90: RuntimeWarning:\n",
      "\n",
      "overflow encountered in exp\n",
      "\n",
      "c:\\users\\ilici\\appdata\\local\\programs\\python\\python39\\lib\\site-packages\\sklearn\\linear_model\\_glm\\link.py:93: RuntimeWarning:\n",
      "\n",
      "overflow encountered in exp\n",
      "\n",
      "c:\\users\\ilici\\appdata\\local\\programs\\python\\python39\\lib\\site-packages\\sklearn\\_loss\\glm_distribution.py:132: RuntimeWarning:\n",
      "\n",
      "invalid value encountered in true_divide\n",
      "\n",
      "c:\\users\\ilici\\appdata\\local\\programs\\python\\python39\\lib\\site-packages\\sklearn\\_loss\\glm_distribution.py:315: RuntimeWarning:\n",
      "\n",
      "invalid value encountered in add\n",
      "\n",
      "c:\\users\\ilici\\appdata\\local\\programs\\python\\python39\\lib\\site-packages\\sklearn\\linear_model\\_glm\\glm.py:287: ConvergenceWarning:\n",
      "\n",
      "lbfgs failed to converge (status=2):\n",
      "ABNORMAL_TERMINATION_IN_LNSRCH.\n",
      "\n",
      "Increase the number of iterations (max_iter) or scale the data as shown in:\n",
      "    https://scikit-learn.org/stable/modules/preprocessing.html\n",
      "\n",
      "c:\\users\\ilici\\appdata\\local\\programs\\python\\python39\\lib\\site-packages\\sklearn\\linear_model\\_glm\\link.py:90: RuntimeWarning:\n",
      "\n",
      "overflow encountered in exp\n",
      "\n",
      "c:\\users\\ilici\\appdata\\local\\programs\\python\\python39\\lib\\site-packages\\sklearn\\linear_model\\_glm\\link.py:93: RuntimeWarning:\n",
      "\n",
      "overflow encountered in exp\n",
      "\n",
      "c:\\users\\ilici\\appdata\\local\\programs\\python\\python39\\lib\\site-packages\\sklearn\\_loss\\glm_distribution.py:132: RuntimeWarning:\n",
      "\n",
      "invalid value encountered in true_divide\n",
      "\n",
      "c:\\users\\ilici\\appdata\\local\\programs\\python\\python39\\lib\\site-packages\\sklearn\\_loss\\glm_distribution.py:315: RuntimeWarning:\n",
      "\n",
      "invalid value encountered in add\n",
      "\n",
      "c:\\users\\ilici\\appdata\\local\\programs\\python\\python39\\lib\\site-packages\\sklearn\\linear_model\\_glm\\glm.py:287: ConvergenceWarning:\n",
      "\n",
      "lbfgs failed to converge (status=2):\n",
      "ABNORMAL_TERMINATION_IN_LNSRCH.\n",
      "\n",
      "Increase the number of iterations (max_iter) or scale the data as shown in:\n",
      "    https://scikit-learn.org/stable/modules/preprocessing.html\n",
      "\n"
     ]
    },
    {
     "name": "stdout",
     "output_type": "stream",
     "text": [
      "Model Number: 46 with model SeasonalNaive in generation 1 of 2\n",
      "Model Number: 47 with model SeasonalNaive in generation 1 of 2\n",
      "Model Number: 48 with model GLS in generation 1 of 2\n",
      "Model Number: 49 with model GLS in generation 1 of 2\n",
      "Model Number: 50 with model GLS in generation 1 of 2\n",
      "New Generation: 2 of 2\n",
      "Model Number: 51 with model AverageValueNaive in generation 2 of 2\n",
      "Model Number: 52 with model AverageValueNaive in generation 2 of 2\n"
     ]
    },
    {
     "name": "stderr",
     "output_type": "stream",
     "text": [
      "c:\\users\\ilici\\appdata\\local\\programs\\python\\python39\\lib\\site-packages\\sklearn\\preprocessing\\_data.py:3237: RuntimeWarning:\n",
      "\n",
      "divide by zero encountered in log\n",
      "\n"
     ]
    },
    {
     "name": "stdout",
     "output_type": "stream",
     "text": [
      "Model Number: 53 with model AverageValueNaive in generation 2 of 2\n",
      "SinTrend failed with RuntimeError('Optimal parameters not found: Number of calls to function has reached maxfev = 10000.') for Tipo Dia with 0\n",
      "Model Number: 54 with model LastValueNaive in generation 2 of 2\n",
      "Model Number: 55 with model LastValueNaive in generation 2 of 2\n",
      "Model Number: 56 with model ZeroesNaive in generation 2 of 2\n",
      "Model Number: 57 with model ZeroesNaive in generation 2 of 2\n"
     ]
    },
    {
     "name": "stderr",
     "output_type": "stream",
     "text": [
      "c:\\users\\ilici\\appdata\\local\\programs\\python\\python39\\lib\\site-packages\\sklearn\\preprocessing\\_data.py:3237: RuntimeWarning:\n",
      "\n",
      "divide by zero encountered in log\n",
      "\n",
      "c:\\users\\ilici\\appdata\\local\\programs\\python\\python39\\lib\\site-packages\\sklearn\\preprocessing\\_data.py:3237: RuntimeWarning:\n",
      "\n",
      "divide by zero encountered in log\n",
      "\n"
     ]
    },
    {
     "name": "stdout",
     "output_type": "stream",
     "text": [
      "Model Number: 58 with model SeasonalNaive in generation 2 of 2\n",
      "Model Number: 59 with model SeasonalNaive in generation 2 of 2\n"
     ]
    },
    {
     "name": "stderr",
     "output_type": "stream",
     "text": [
      "c:\\users\\ilici\\appdata\\local\\programs\\python\\python39\\lib\\site-packages\\sklearn\\preprocessing\\_data.py:3237: RuntimeWarning:\n",
      "\n",
      "divide by zero encountered in log\n",
      "\n"
     ]
    },
    {
     "name": "stdout",
     "output_type": "stream",
     "text": [
      "Model Number: 60 with model SeasonalNaive in generation 2 of 2\n",
      "Model Number: 61 with model SeasonalNaive in generation 2 of 2\n",
      "Model Number: 62 with model GLS in generation 2 of 2\n",
      "Model Number: 63 with model GLS in generation 2 of 2\n",
      "Model Number: 64 with model GLS in generation 2 of 2\n"
     ]
    },
    {
     "name": "stderr",
     "output_type": "stream",
     "text": [
      "c:\\users\\ilici\\appdata\\local\\programs\\python\\python39\\lib\\site-packages\\scipy\\interpolate\\polyint.py:545: RuntimeWarning:\n",
      "\n",
      "overflow encountered in multiply\n",
      "\n",
      "c:\\users\\ilici\\appdata\\local\\programs\\python\\python39\\lib\\site-packages\\scipy\\interpolate\\polyint.py:546: RuntimeWarning:\n",
      "\n",
      "overflow encountered in reduce\n",
      "\n",
      "c:\\users\\ilici\\appdata\\local\\programs\\python\\python39\\lib\\site-packages\\scipy\\interpolate\\polyint.py:643: RuntimeWarning:\n",
      "\n",
      "invalid value encountered in true_divide\n",
      "\n",
      "c:\\users\\ilici\\appdata\\local\\programs\\python\\python39\\lib\\site-packages\\sklearn\\preprocessing\\_data.py:3237: RuntimeWarning:\n",
      "\n",
      "divide by zero encountered in log\n",
      "\n"
     ]
    },
    {
     "name": "stdout",
     "output_type": "stream",
     "text": [
      "Model Number: 65 with model Ensemble in generation 3 of 0\n"
     ]
    },
    {
     "name": "stderr",
     "output_type": "stream",
     "text": [
      "c:\\users\\ilici\\appdata\\local\\programs\\python\\python39\\lib\\site-packages\\scipy\\interpolate\\polyint.py:545: RuntimeWarning:\n",
      "\n",
      "overflow encountered in multiply\n",
      "\n",
      "c:\\users\\ilici\\appdata\\local\\programs\\python\\python39\\lib\\site-packages\\scipy\\interpolate\\polyint.py:546: RuntimeWarning:\n",
      "\n",
      "overflow encountered in reduce\n",
      "\n",
      "c:\\users\\ilici\\appdata\\local\\programs\\python\\python39\\lib\\site-packages\\scipy\\interpolate\\polyint.py:643: RuntimeWarning:\n",
      "\n",
      "invalid value encountered in true_divide\n",
      "\n",
      "c:\\users\\ilici\\appdata\\local\\programs\\python\\python39\\lib\\site-packages\\sklearn\\preprocessing\\_data.py:3237: RuntimeWarning:\n",
      "\n",
      "divide by zero encountered in log\n",
      "\n",
      "c:\\users\\ilici\\appdata\\local\\programs\\python\\python39\\lib\\site-packages\\sklearn\\preprocessing\\_data.py:3237: RuntimeWarning:\n",
      "\n",
      "divide by zero encountered in log\n",
      "\n",
      "c:\\users\\ilici\\appdata\\local\\programs\\python\\python39\\lib\\site-packages\\scipy\\interpolate\\polyint.py:545: RuntimeWarning:\n",
      "\n",
      "overflow encountered in multiply\n",
      "\n",
      "c:\\users\\ilici\\appdata\\local\\programs\\python\\python39\\lib\\site-packages\\scipy\\interpolate\\polyint.py:546: RuntimeWarning:\n",
      "\n",
      "overflow encountered in reduce\n",
      "\n"
     ]
    },
    {
     "name": "stdout",
     "output_type": "stream",
     "text": [
      "Model Number: 66 with model Ensemble in generation 3 of 0\n"
     ]
    },
    {
     "name": "stderr",
     "output_type": "stream",
     "text": [
      "c:\\users\\ilici\\appdata\\local\\programs\\python\\python39\\lib\\site-packages\\scipy\\interpolate\\polyint.py:643: RuntimeWarning:\n",
      "\n",
      "invalid value encountered in true_divide\n",
      "\n",
      "c:\\users\\ilici\\appdata\\local\\programs\\python\\python39\\lib\\site-packages\\sklearn\\preprocessing\\_data.py:3237: RuntimeWarning:\n",
      "\n",
      "divide by zero encountered in log\n",
      "\n",
      "c:\\users\\ilici\\appdata\\local\\programs\\python\\python39\\lib\\site-packages\\sklearn\\preprocessing\\_data.py:3237: RuntimeWarning:\n",
      "\n",
      "divide by zero encountered in log\n",
      "\n",
      "c:\\users\\ilici\\appdata\\local\\programs\\python\\python39\\lib\\site-packages\\scipy\\interpolate\\polyint.py:545: RuntimeWarning:\n",
      "\n",
      "overflow encountered in multiply\n",
      "\n",
      "c:\\users\\ilici\\appdata\\local\\programs\\python\\python39\\lib\\site-packages\\scipy\\interpolate\\polyint.py:546: RuntimeWarning:\n",
      "\n",
      "overflow encountered in reduce\n",
      "\n"
     ]
    },
    {
     "name": "stdout",
     "output_type": "stream",
     "text": [
      "Model Number: 67 with model Ensemble in generation 3 of 0\n"
     ]
    },
    {
     "name": "stderr",
     "output_type": "stream",
     "text": [
      "c:\\users\\ilici\\appdata\\local\\programs\\python\\python39\\lib\\site-packages\\scipy\\interpolate\\polyint.py:643: RuntimeWarning:\n",
      "\n",
      "invalid value encountered in true_divide\n",
      "\n",
      "c:\\users\\ilici\\appdata\\local\\programs\\python\\python39\\lib\\site-packages\\sklearn\\preprocessing\\_data.py:3237: RuntimeWarning:\n",
      "\n",
      "divide by zero encountered in log\n",
      "\n",
      "c:\\users\\ilici\\appdata\\local\\programs\\python\\python39\\lib\\site-packages\\sklearn\\preprocessing\\_data.py:3237: RuntimeWarning:\n",
      "\n",
      "divide by zero encountered in log\n",
      "\n"
     ]
    },
    {
     "name": "stdout",
     "output_type": "stream",
     "text": [
      "Validation Round: 1\n",
      "One or more series is 90% or more NaN in this test split\n",
      "Model Number: 1 of 11 with model Ensemble for Validation 1\n"
     ]
    },
    {
     "name": "stderr",
     "output_type": "stream",
     "text": [
      "c:\\users\\ilici\\appdata\\local\\programs\\python\\python39\\lib\\site-packages\\scipy\\interpolate\\polyint.py:545: RuntimeWarning:\n",
      "\n",
      "overflow encountered in multiply\n",
      "\n",
      "c:\\users\\ilici\\appdata\\local\\programs\\python\\python39\\lib\\site-packages\\scipy\\interpolate\\polyint.py:546: RuntimeWarning:\n",
      "\n",
      "overflow encountered in reduce\n",
      "\n",
      "c:\\users\\ilici\\appdata\\local\\programs\\python\\python39\\lib\\site-packages\\scipy\\interpolate\\polyint.py:643: RuntimeWarning:\n",
      "\n",
      "invalid value encountered in true_divide\n",
      "\n",
      "c:\\users\\ilici\\appdata\\local\\programs\\python\\python39\\lib\\site-packages\\sklearn\\preprocessing\\_data.py:3237: RuntimeWarning:\n",
      "\n",
      "divide by zero encountered in log\n",
      "\n",
      "c:\\users\\ilici\\appdata\\local\\programs\\python\\python39\\lib\\site-packages\\sklearn\\preprocessing\\_data.py:3237: RuntimeWarning:\n",
      "\n",
      "divide by zero encountered in log\n",
      "\n",
      "c:\\users\\ilici\\appdata\\local\\programs\\python\\python39\\lib\\site-packages\\scipy\\interpolate\\polyint.py:545: RuntimeWarning:\n",
      "\n",
      "overflow encountered in multiply\n",
      "\n",
      "c:\\users\\ilici\\appdata\\local\\programs\\python\\python39\\lib\\site-packages\\scipy\\interpolate\\polyint.py:546: RuntimeWarning:\n",
      "\n",
      "overflow encountered in reduce\n",
      "\n"
     ]
    },
    {
     "name": "stdout",
     "output_type": "stream",
     "text": [
      "Model 1 of model Ensemble with avg smape nan: \n",
      "Model Number: 2 of 11 with model GLS for Validation 1\n"
     ]
    },
    {
     "name": "stderr",
     "output_type": "stream",
     "text": [
      "c:\\users\\ilici\\appdata\\local\\programs\\python\\python39\\lib\\site-packages\\scipy\\interpolate\\polyint.py:643: RuntimeWarning:\n",
      "\n",
      "invalid value encountered in true_divide\n",
      "\n",
      "c:\\users\\ilici\\appdata\\local\\programs\\python\\python39\\lib\\site-packages\\sklearn\\preprocessing\\_data.py:3237: RuntimeWarning:\n",
      "\n",
      "divide by zero encountered in log\n",
      "\n"
     ]
    },
    {
     "name": "stdout",
     "output_type": "stream",
     "text": [
      "Model 2 of model GLS with avg smape nan: \n",
      "Model Number: 3 of 11 with model Ensemble for Validation 1\n"
     ]
    },
    {
     "name": "stderr",
     "output_type": "stream",
     "text": [
      "c:\\users\\ilici\\appdata\\local\\programs\\python\\python39\\lib\\site-packages\\scipy\\interpolate\\polyint.py:545: RuntimeWarning:\n",
      "\n",
      "overflow encountered in multiply\n",
      "\n",
      "c:\\users\\ilici\\appdata\\local\\programs\\python\\python39\\lib\\site-packages\\scipy\\interpolate\\polyint.py:546: RuntimeWarning:\n",
      "\n",
      "overflow encountered in reduce\n",
      "\n",
      "c:\\users\\ilici\\appdata\\local\\programs\\python\\python39\\lib\\site-packages\\scipy\\interpolate\\polyint.py:643: RuntimeWarning:\n",
      "\n",
      "invalid value encountered in true_divide\n",
      "\n",
      "c:\\users\\ilici\\appdata\\local\\programs\\python\\python39\\lib\\site-packages\\sklearn\\preprocessing\\_data.py:3237: RuntimeWarning:\n",
      "\n",
      "divide by zero encountered in log\n",
      "\n",
      "c:\\users\\ilici\\appdata\\local\\programs\\python\\python39\\lib\\site-packages\\sklearn\\preprocessing\\_data.py:3237: RuntimeWarning:\n",
      "\n",
      "divide by zero encountered in log\n",
      "\n",
      "c:\\users\\ilici\\appdata\\local\\programs\\python\\python39\\lib\\site-packages\\scipy\\interpolate\\polyint.py:545: RuntimeWarning:\n",
      "\n",
      "overflow encountered in multiply\n",
      "\n",
      "c:\\users\\ilici\\appdata\\local\\programs\\python\\python39\\lib\\site-packages\\scipy\\interpolate\\polyint.py:546: RuntimeWarning:\n",
      "\n",
      "overflow encountered in reduce\n",
      "\n"
     ]
    },
    {
     "name": "stdout",
     "output_type": "stream",
     "text": [
      "Model 3 of model Ensemble with avg smape nan: \n",
      "Model Number: 4 of 11 with model Ensemble for Validation 1\n"
     ]
    },
    {
     "name": "stderr",
     "output_type": "stream",
     "text": [
      "c:\\users\\ilici\\appdata\\local\\programs\\python\\python39\\lib\\site-packages\\scipy\\interpolate\\polyint.py:643: RuntimeWarning:\n",
      "\n",
      "invalid value encountered in true_divide\n",
      "\n",
      "c:\\users\\ilici\\appdata\\local\\programs\\python\\python39\\lib\\site-packages\\sklearn\\preprocessing\\_data.py:3237: RuntimeWarning:\n",
      "\n",
      "divide by zero encountered in log\n",
      "\n"
     ]
    },
    {
     "name": "stdout",
     "output_type": "stream",
     "text": [
      "Model 4 of model Ensemble with avg smape nan: \n",
      "Model Number: 5 of 11 with model AverageValueNaive for Validation 1\n"
     ]
    },
    {
     "name": "stderr",
     "output_type": "stream",
     "text": [
      "c:\\users\\ilici\\appdata\\local\\programs\\python\\python39\\lib\\site-packages\\sklearn\\preprocessing\\_data.py:3237: RuntimeWarning:\n",
      "\n",
      "divide by zero encountered in log\n",
      "\n",
      "c:\\users\\ilici\\appdata\\local\\programs\\python\\python39\\lib\\site-packages\\sklearn\\preprocessing\\_data.py:3237: RuntimeWarning:\n",
      "\n",
      "divide by zero encountered in log\n",
      "\n"
     ]
    },
    {
     "name": "stdout",
     "output_type": "stream",
     "text": [
      "Model 5 of model AverageValueNaive with avg smape nan: \n",
      "Model Number: 6 of 11 with model AverageValueNaive for Validation 1\n",
      "Model 6 of model AverageValueNaive with avg smape nan: \n",
      "Model Number: 7 of 11 with model AverageValueNaive for Validation 1\n",
      "Model 7 of model AverageValueNaive with avg smape nan: \n",
      "Model Number: 8 of 11 with model LastValueNaive for Validation 1\n",
      "Model 8 of model LastValueNaive with avg smape nan: \n",
      "Model Number: 9 of 11 with model LastValueNaive for Validation 1\n",
      "Model 9 of model LastValueNaive with avg smape nan: \n",
      "Model Number: 10 of 11 with model AverageValueNaive for Validation 1\n",
      "SinTrend failed with RuntimeError('Optimal parameters not found: Number of calls to function has reached maxfev = 10000.') for Tipo Dia with 0\n",
      "Model 10 of model AverageValueNaive with avg smape nan: \n",
      "Model Number: 11 of 11 with model ZeroesNaive for Validation 1\n",
      "Model 11 of model ZeroesNaive with avg smape nan: \n",
      "Validation Round: 2\n",
      "One or more series is 90% or more NaN in this test split\n"
     ]
    },
    {
     "name": "stderr",
     "output_type": "stream",
     "text": [
      "c:\\users\\ilici\\appdata\\local\\programs\\python\\python39\\lib\\site-packages\\sklearn\\preprocessing\\_data.py:3237: RuntimeWarning:\n",
      "\n",
      "divide by zero encountered in log\n",
      "\n"
     ]
    },
    {
     "name": "stdout",
     "output_type": "stream",
     "text": [
      "Model Number: 1 of 11 with model Ensemble for Validation 2\n"
     ]
    },
    {
     "name": "stderr",
     "output_type": "stream",
     "text": [
      "c:\\users\\ilici\\appdata\\local\\programs\\python\\python39\\lib\\site-packages\\scipy\\interpolate\\polyint.py:545: RuntimeWarning:\n",
      "\n",
      "overflow encountered in multiply\n",
      "\n",
      "c:\\users\\ilici\\appdata\\local\\programs\\python\\python39\\lib\\site-packages\\scipy\\interpolate\\polyint.py:546: RuntimeWarning:\n",
      "\n",
      "overflow encountered in reduce\n",
      "\n",
      "c:\\users\\ilici\\appdata\\local\\programs\\python\\python39\\lib\\site-packages\\scipy\\interpolate\\polyint.py:643: RuntimeWarning:\n",
      "\n",
      "invalid value encountered in true_divide\n",
      "\n",
      "c:\\users\\ilici\\appdata\\local\\programs\\python\\python39\\lib\\site-packages\\sklearn\\preprocessing\\_data.py:3237: RuntimeWarning:\n",
      "\n",
      "divide by zero encountered in log\n",
      "\n",
      "c:\\users\\ilici\\appdata\\local\\programs\\python\\python39\\lib\\site-packages\\sklearn\\preprocessing\\_data.py:3237: RuntimeWarning:\n",
      "\n",
      "divide by zero encountered in log\n",
      "\n",
      "c:\\users\\ilici\\appdata\\local\\programs\\python\\python39\\lib\\site-packages\\scipy\\interpolate\\polyint.py:545: RuntimeWarning:\n",
      "\n",
      "overflow encountered in multiply\n",
      "\n",
      "c:\\users\\ilici\\appdata\\local\\programs\\python\\python39\\lib\\site-packages\\scipy\\interpolate\\polyint.py:546: RuntimeWarning:\n",
      "\n",
      "overflow encountered in reduce\n",
      "\n"
     ]
    },
    {
     "name": "stdout",
     "output_type": "stream",
     "text": [
      "Model 1 of model Ensemble with avg smape nan: \n",
      "Model Number: 2 of 11 with model GLS for Validation 2\n"
     ]
    },
    {
     "name": "stderr",
     "output_type": "stream",
     "text": [
      "c:\\users\\ilici\\appdata\\local\\programs\\python\\python39\\lib\\site-packages\\scipy\\interpolate\\polyint.py:643: RuntimeWarning:\n",
      "\n",
      "invalid value encountered in true_divide\n",
      "\n",
      "c:\\users\\ilici\\appdata\\local\\programs\\python\\python39\\lib\\site-packages\\sklearn\\preprocessing\\_data.py:3237: RuntimeWarning:\n",
      "\n",
      "divide by zero encountered in log\n",
      "\n"
     ]
    },
    {
     "name": "stdout",
     "output_type": "stream",
     "text": [
      "Model 2 of model GLS with avg smape nan: \n",
      "Model Number: 3 of 11 with model Ensemble for Validation 2\n"
     ]
    },
    {
     "name": "stderr",
     "output_type": "stream",
     "text": [
      "c:\\users\\ilici\\appdata\\local\\programs\\python\\python39\\lib\\site-packages\\scipy\\interpolate\\polyint.py:545: RuntimeWarning:\n",
      "\n",
      "overflow encountered in multiply\n",
      "\n",
      "c:\\users\\ilici\\appdata\\local\\programs\\python\\python39\\lib\\site-packages\\scipy\\interpolate\\polyint.py:546: RuntimeWarning:\n",
      "\n",
      "overflow encountered in reduce\n",
      "\n",
      "c:\\users\\ilici\\appdata\\local\\programs\\python\\python39\\lib\\site-packages\\scipy\\interpolate\\polyint.py:643: RuntimeWarning:\n",
      "\n",
      "invalid value encountered in true_divide\n",
      "\n",
      "c:\\users\\ilici\\appdata\\local\\programs\\python\\python39\\lib\\site-packages\\sklearn\\preprocessing\\_data.py:3237: RuntimeWarning:\n",
      "\n",
      "divide by zero encountered in log\n",
      "\n",
      "c:\\users\\ilici\\appdata\\local\\programs\\python\\python39\\lib\\site-packages\\sklearn\\preprocessing\\_data.py:3237: RuntimeWarning:\n",
      "\n",
      "divide by zero encountered in log\n",
      "\n",
      "c:\\users\\ilici\\appdata\\local\\programs\\python\\python39\\lib\\site-packages\\scipy\\interpolate\\polyint.py:545: RuntimeWarning:\n",
      "\n",
      "overflow encountered in multiply\n",
      "\n",
      "c:\\users\\ilici\\appdata\\local\\programs\\python\\python39\\lib\\site-packages\\scipy\\interpolate\\polyint.py:546: RuntimeWarning:\n",
      "\n",
      "overflow encountered in reduce\n",
      "\n"
     ]
    },
    {
     "name": "stdout",
     "output_type": "stream",
     "text": [
      "Model 3 of model Ensemble with avg smape nan: \n",
      "Model Number: 4 of 11 with model Ensemble for Validation 2\n"
     ]
    },
    {
     "name": "stderr",
     "output_type": "stream",
     "text": [
      "c:\\users\\ilici\\appdata\\local\\programs\\python\\python39\\lib\\site-packages\\scipy\\interpolate\\polyint.py:643: RuntimeWarning:\n",
      "\n",
      "invalid value encountered in true_divide\n",
      "\n",
      "c:\\users\\ilici\\appdata\\local\\programs\\python\\python39\\lib\\site-packages\\sklearn\\preprocessing\\_data.py:3237: RuntimeWarning:\n",
      "\n",
      "divide by zero encountered in log\n",
      "\n"
     ]
    },
    {
     "name": "stdout",
     "output_type": "stream",
     "text": [
      "Model 4 of model Ensemble with avg smape nan: \n",
      "Model Number: 5 of 11 with model AverageValueNaive for Validation 2\n",
      "Model 5 of model AverageValueNaive with avg smape nan: \n",
      "Model Number: 6 of 11 with model AverageValueNaive for Validation 2\n"
     ]
    },
    {
     "name": "stderr",
     "output_type": "stream",
     "text": [
      "c:\\users\\ilici\\appdata\\local\\programs\\python\\python39\\lib\\site-packages\\sklearn\\preprocessing\\_data.py:3237: RuntimeWarning:\n",
      "\n",
      "divide by zero encountered in log\n",
      "\n",
      "c:\\users\\ilici\\appdata\\local\\programs\\python\\python39\\lib\\site-packages\\sklearn\\preprocessing\\_data.py:3237: RuntimeWarning:\n",
      "\n",
      "divide by zero encountered in log\n",
      "\n"
     ]
    },
    {
     "name": "stdout",
     "output_type": "stream",
     "text": [
      "Model 6 of model AverageValueNaive with avg smape nan: \n",
      "Model Number: 7 of 11 with model AverageValueNaive for Validation 2\n",
      "Model 7 of model AverageValueNaive with avg smape nan: \n",
      "Model Number: 8 of 11 with model LastValueNaive for Validation 2\n",
      "Model 8 of model LastValueNaive with avg smape nan: \n",
      "Model Number: 9 of 11 with model LastValueNaive for Validation 2\n",
      "Model 9 of model LastValueNaive with avg smape nan: \n",
      "Model Number: 10 of 11 with model AverageValueNaive for Validation 2\n",
      "SinTrend failed with RuntimeError('Optimal parameters not found: Number of calls to function has reached maxfev = 10000.') for Tipo Dia with 0\n",
      "Model 10 of model AverageValueNaive with avg smape nan: \n",
      "Model Number: 11 of 11 with model ZeroesNaive for Validation 2\n",
      "Model 11 of model ZeroesNaive with avg smape nan: \n"
     ]
    },
    {
     "name": "stderr",
     "output_type": "stream",
     "text": [
      "c:\\users\\ilici\\appdata\\local\\programs\\python\\python39\\lib\\site-packages\\sklearn\\preprocessing\\_data.py:3237: RuntimeWarning:\n",
      "\n",
      "divide by zero encountered in log\n",
      "\n"
     ]
    },
    {
     "data": {
      "text/plain": [
       "Initiated AutoTS object with best model: \n",
       "Ensemble\n",
       "{}\n",
       "{'model_name': 'BestN', 'model_count': 3, 'model_metric': 'best_score', 'models': {'add2ee3154f0d67fabdf65da2c2829b6': {'Model': 'GLS', 'ModelParameters': '{}', 'TransformationParameters': '{\"fillna\": \"barycentric\", \"transformations\": {\"0\": \"DatepartRegression\", \"1\": \"PowerTransformer\"}, \"transformation_params\": {\"0\": {\"regression_model\": {\"model\": \"RandomForest\", \"model_params\": {}}, \"datepart_method\": \"recurring\"}, \"1\": {}}}'}, 'dd107a62cb142002de84c814d077c403': {'Model': 'AverageValueNaive', 'ModelParameters': '{\"method\": \"Weighted_Mean\"}', 'TransformationParameters': '{\"fillna\": \"fake_date\", \"transformations\": {\"0\": \"StandardScaler\", \"1\": \"PowerTransformer\", \"2\": \"SinTrend\", \"3\": \"Slice\", \"4\": \"Slice\"}, \"transformation_params\": {\"0\": {}, \"1\": {}, \"2\": {}, \"3\": {\"method\": 0.8}, \"4\": {\"method\": 0.5}}}'}, '5725f3e3e279310004c27942b638a7b0': {'Model': 'AverageValueNaive', 'ModelParameters': '{\"method\": \"Weighted_Mean\"}', 'TransformationParameters': '{\"fillna\": \"linear\", \"transformations\": {\"0\": \"StandardScaler\", \"1\": \"bkfilter\", \"2\": \"Slice\", \"3\": \"Slice\"}, \"transformation_params\": {\"0\": {}, \"1\": {}, \"2\": {\"method\": 0.8}, \"3\": {\"method\": 0.5}}}'}}}"
      ]
     },
     "execution_count": 28,
     "metadata": {},
     "output_type": "execute_result"
    }
   ],
   "source": [
    "model = AutoTS(model_list= \"superfast\", forecast_length=24, verbose=1, frequency=\"H\",\n",
    "    ensemble= \"simple\",\n",
    "    transformer_list=\"all\",\n",
    "    drop_most_recent=1,\n",
    "    max_generations=2,\n",
    "    num_validations=2,\n",
    "    validation_method=\"backwards\")\n",
    "model.fit(train)"
   ]
  },
  {
   "cell_type": "code",
   "execution_count": 32,
   "metadata": {
    "colab": {
     "base_uri": "https://localhost:8080/",
     "height": 788
    },
    "executionInfo": {
     "elapsed": 11861,
     "status": "ok",
     "timestamp": 1632072553609,
     "user": {
      "displayName": "Axel Ilicic",
      "photoUrl": "https://lh3.googleusercontent.com/a-/AOh14GhNtGq_FUazZvxgoyeY-OtOQpRTr-L-HY307XH3_0k=s64",
      "userId": "13005703852540572389"
     },
     "user_tz": 180
    },
    "id": "Fb70cFWuYdwn",
    "outputId": "c3059eee-57a4-4ae1-c946-9886d4194e36"
   },
   "outputs": [
    {
     "name": "stderr",
     "output_type": "stream",
     "text": [
      "c:\\users\\ilici\\appdata\\local\\programs\\python\\python39\\lib\\site-packages\\scipy\\interpolate\\polyint.py:545: RuntimeWarning:\n",
      "\n",
      "overflow encountered in multiply\n",
      "\n",
      "c:\\users\\ilici\\appdata\\local\\programs\\python\\python39\\lib\\site-packages\\scipy\\interpolate\\polyint.py:546: RuntimeWarning:\n",
      "\n",
      "overflow encountered in reduce\n",
      "\n",
      "c:\\users\\ilici\\appdata\\local\\programs\\python\\python39\\lib\\site-packages\\scipy\\interpolate\\polyint.py:643: RuntimeWarning:\n",
      "\n",
      "invalid value encountered in true_divide\n",
      "\n",
      "c:\\users\\ilici\\appdata\\local\\programs\\python\\python39\\lib\\site-packages\\sklearn\\preprocessing\\_data.py:3237: RuntimeWarning:\n",
      "\n",
      "divide by zero encountered in log\n",
      "\n",
      "c:\\users\\ilici\\appdata\\local\\programs\\python\\python39\\lib\\site-packages\\sklearn\\preprocessing\\_data.py:3237: RuntimeWarning:\n",
      "\n",
      "divide by zero encountered in log\n",
      "\n"
     ]
    },
    {
     "data": {
      "text/html": [
       "<div>\n",
       "<style scoped>\n",
       "    .dataframe tbody tr th:only-of-type {\n",
       "        vertical-align: middle;\n",
       "    }\n",
       "\n",
       "    .dataframe tbody tr th {\n",
       "        vertical-align: top;\n",
       "    }\n",
       "\n",
       "    .dataframe thead th {\n",
       "        text-align: right;\n",
       "    }\n",
       "</style>\n",
       "<table border=\"1\" class=\"dataframe\">\n",
       "  <thead>\n",
       "    <tr style=\"text-align: right;\">\n",
       "      <th></th>\n",
       "      <th>Hora</th>\n",
       "      <th>Tipo Dia</th>\n",
       "      <th>Energia BSAS</th>\n",
       "      <th>Clima BSAS</th>\n",
       "    </tr>\n",
       "  </thead>\n",
       "  <tbody>\n",
       "    <tr>\n",
       "      <th>2021-07-24 23:00:00</th>\n",
       "      <td>15.644419</td>\n",
       "      <td>7.0</td>\n",
       "      <td>1878.277829</td>\n",
       "      <td>12.545430</td>\n",
       "    </tr>\n",
       "    <tr>\n",
       "      <th>2021-07-25 00:00:00</th>\n",
       "      <td>7.339153</td>\n",
       "      <td>7.0</td>\n",
       "      <td>1834.142691</td>\n",
       "      <td>12.643960</td>\n",
       "    </tr>\n",
       "    <tr>\n",
       "      <th>2021-07-25 01:00:00</th>\n",
       "      <td>6.694399</td>\n",
       "      <td>7.0</td>\n",
       "      <td>1823.108240</td>\n",
       "      <td>12.644315</td>\n",
       "    </tr>\n",
       "    <tr>\n",
       "      <th>2021-07-25 02:00:00</th>\n",
       "      <td>6.115424</td>\n",
       "      <td>7.0</td>\n",
       "      <td>1811.717974</td>\n",
       "      <td>12.644726</td>\n",
       "    </tr>\n",
       "    <tr>\n",
       "      <th>2021-07-25 03:00:00</th>\n",
       "      <td>5.641679</td>\n",
       "      <td>7.0</td>\n",
       "      <td>1800.782205</td>\n",
       "      <td>12.645196</td>\n",
       "    </tr>\n",
       "    <tr>\n",
       "      <th>2021-07-25 04:00:00</th>\n",
       "      <td>5.305445</td>\n",
       "      <td>7.0</td>\n",
       "      <td>1791.028531</td>\n",
       "      <td>12.645722</td>\n",
       "    </tr>\n",
       "    <tr>\n",
       "      <th>2021-07-25 05:00:00</th>\n",
       "      <td>5.129632</td>\n",
       "      <td>7.0</td>\n",
       "      <td>1783.034189</td>\n",
       "      <td>12.646306</td>\n",
       "    </tr>\n",
       "    <tr>\n",
       "      <th>2021-07-25 06:00:00</th>\n",
       "      <td>5.126220</td>\n",
       "      <td>7.0</td>\n",
       "      <td>1777.216488</td>\n",
       "      <td>12.646948</td>\n",
       "    </tr>\n",
       "    <tr>\n",
       "      <th>2021-07-25 07:00:00</th>\n",
       "      <td>5.295442</td>\n",
       "      <td>7.0</td>\n",
       "      <td>1773.874594</td>\n",
       "      <td>12.647647</td>\n",
       "    </tr>\n",
       "    <tr>\n",
       "      <th>2021-07-25 08:00:00</th>\n",
       "      <td>5.625767</td>\n",
       "      <td>7.0</td>\n",
       "      <td>1773.180192</td>\n",
       "      <td>12.648403</td>\n",
       "    </tr>\n",
       "    <tr>\n",
       "      <th>2021-07-25 09:00:00</th>\n",
       "      <td>6.094686</td>\n",
       "      <td>7.0</td>\n",
       "      <td>1775.168940</td>\n",
       "      <td>12.649216</td>\n",
       "    </tr>\n",
       "    <tr>\n",
       "      <th>2021-07-25 10:00:00</th>\n",
       "      <td>6.670249</td>\n",
       "      <td>7.0</td>\n",
       "      <td>1779.738700</td>\n",
       "      <td>12.650087</td>\n",
       "    </tr>\n",
       "    <tr>\n",
       "      <th>2021-07-25 11:00:00</th>\n",
       "      <td>7.313237</td>\n",
       "      <td>7.0</td>\n",
       "      <td>1786.654609</td>\n",
       "      <td>12.651015</td>\n",
       "    </tr>\n",
       "    <tr>\n",
       "      <th>2021-07-25 12:00:00</th>\n",
       "      <td>7.979836</td>\n",
       "      <td>7.0</td>\n",
       "      <td>1795.560690</td>\n",
       "      <td>12.652001</td>\n",
       "    </tr>\n",
       "    <tr>\n",
       "      <th>2021-07-25 13:00:00</th>\n",
       "      <td>8.624619</td>\n",
       "      <td>7.0</td>\n",
       "      <td>1805.969714</td>\n",
       "      <td>12.653043</td>\n",
       "    </tr>\n",
       "    <tr>\n",
       "      <th>2021-07-25 14:00:00</th>\n",
       "      <td>9.203643</td>\n",
       "      <td>7.0</td>\n",
       "      <td>1817.222908</td>\n",
       "      <td>12.654143</td>\n",
       "    </tr>\n",
       "    <tr>\n",
       "      <th>2021-07-25 15:00:00</th>\n",
       "      <td>9.677445</td>\n",
       "      <td>7.0</td>\n",
       "      <td>1828.544714</td>\n",
       "      <td>12.655300</td>\n",
       "    </tr>\n",
       "    <tr>\n",
       "      <th>2021-07-25 16:00:00</th>\n",
       "      <td>10.013731</td>\n",
       "      <td>7.0</td>\n",
       "      <td>1839.109114</td>\n",
       "      <td>12.656515</td>\n",
       "    </tr>\n",
       "    <tr>\n",
       "      <th>2021-07-25 17:00:00</th>\n",
       "      <td>10.189583</td>\n",
       "      <td>7.0</td>\n",
       "      <td>1848.113437</td>\n",
       "      <td>12.657786</td>\n",
       "    </tr>\n",
       "    <tr>\n",
       "      <th>2021-07-25 18:00:00</th>\n",
       "      <td>10.193015</td>\n",
       "      <td>7.0</td>\n",
       "      <td>1854.853958</td>\n",
       "      <td>12.659114</td>\n",
       "    </tr>\n",
       "    <tr>\n",
       "      <th>2021-07-25 19:00:00</th>\n",
       "      <td>10.023794</td>\n",
       "      <td>7.0</td>\n",
       "      <td>1858.793902</td>\n",
       "      <td>12.660500</td>\n",
       "    </tr>\n",
       "    <tr>\n",
       "      <th>2021-07-25 20:00:00</th>\n",
       "      <td>9.693453</td>\n",
       "      <td>7.0</td>\n",
       "      <td>1859.615999</td>\n",
       "      <td>12.661942</td>\n",
       "    </tr>\n",
       "    <tr>\n",
       "      <th>2021-07-25 21:00:00</th>\n",
       "      <td>9.224506</td>\n",
       "      <td>7.0</td>\n",
       "      <td>1857.253742</td>\n",
       "      <td>12.663442</td>\n",
       "    </tr>\n",
       "    <tr>\n",
       "      <th>2021-07-25 22:00:00</th>\n",
       "      <td>8.648914</td>\n",
       "      <td>7.0</td>\n",
       "      <td>1851.897955</td>\n",
       "      <td>12.664998</td>\n",
       "    </tr>\n",
       "  </tbody>\n",
       "</table>\n",
       "</div>"
      ],
      "text/plain": [
       "                          Hora  Tipo Dia  Energia BSAS  Clima BSAS\n",
       "2021-07-24 23:00:00  15.644419       7.0   1878.277829   12.545430\n",
       "2021-07-25 00:00:00   7.339153       7.0   1834.142691   12.643960\n",
       "2021-07-25 01:00:00   6.694399       7.0   1823.108240   12.644315\n",
       "2021-07-25 02:00:00   6.115424       7.0   1811.717974   12.644726\n",
       "2021-07-25 03:00:00   5.641679       7.0   1800.782205   12.645196\n",
       "2021-07-25 04:00:00   5.305445       7.0   1791.028531   12.645722\n",
       "2021-07-25 05:00:00   5.129632       7.0   1783.034189   12.646306\n",
       "2021-07-25 06:00:00   5.126220       7.0   1777.216488   12.646948\n",
       "2021-07-25 07:00:00   5.295442       7.0   1773.874594   12.647647\n",
       "2021-07-25 08:00:00   5.625767       7.0   1773.180192   12.648403\n",
       "2021-07-25 09:00:00   6.094686       7.0   1775.168940   12.649216\n",
       "2021-07-25 10:00:00   6.670249       7.0   1779.738700   12.650087\n",
       "2021-07-25 11:00:00   7.313237       7.0   1786.654609   12.651015\n",
       "2021-07-25 12:00:00   7.979836       7.0   1795.560690   12.652001\n",
       "2021-07-25 13:00:00   8.624619       7.0   1805.969714   12.653043\n",
       "2021-07-25 14:00:00   9.203643       7.0   1817.222908   12.654143\n",
       "2021-07-25 15:00:00   9.677445       7.0   1828.544714   12.655300\n",
       "2021-07-25 16:00:00  10.013731       7.0   1839.109114   12.656515\n",
       "2021-07-25 17:00:00  10.189583       7.0   1848.113437   12.657786\n",
       "2021-07-25 18:00:00  10.193015       7.0   1854.853958   12.659114\n",
       "2021-07-25 19:00:00  10.023794       7.0   1858.793902   12.660500\n",
       "2021-07-25 20:00:00   9.693453       7.0   1859.615999   12.661942\n",
       "2021-07-25 21:00:00   9.224506       7.0   1857.253742   12.663442\n",
       "2021-07-25 22:00:00   8.648914       7.0   1851.897955   12.664998"
      ]
     },
     "execution_count": 32,
     "metadata": {},
     "output_type": "execute_result"
    }
   ],
   "source": [
    "prediction = model.predict()\n",
    "forecasts_df = prediction.forecast\n",
    "\n",
    "# accuracy of all tried model results\n",
    "model_results = model.results()\n",
    "# and aggregated from cross validation\n",
    "validation_results = model.results(\"Validation\")\n",
    "forecasts_df.head(24)"
   ]
  },
  {
   "cell_type": "code",
   "execution_count": 98,
   "metadata": {
    "executionInfo": {
     "elapsed": 1135,
     "status": "ok",
     "timestamp": 1632072610897,
     "user": {
      "displayName": "Axel Ilicic",
      "photoUrl": "https://lh3.googleusercontent.com/a-/AOh14GhNtGq_FUazZvxgoyeY-OtOQpRTr-L-HY307XH3_0k=s64",
      "userId": "13005703852540572389"
     },
     "user_tz": 180
    },
    "id": "LXnsmf_UGzdE"
   },
   "outputs": [],
   "source": [
    "forecasts_df.to_excel(\"forecast.xlsx\")"
   ]
  },
  {
   "cell_type": "code",
   "execution_count": 33,
   "metadata": {},
   "outputs": [
    {
     "data": {
      "text/html": [
       "<div>\n",
       "<style scoped>\n",
       "    .dataframe tbody tr th:only-of-type {\n",
       "        vertical-align: middle;\n",
       "    }\n",
       "\n",
       "    .dataframe tbody tr th {\n",
       "        vertical-align: top;\n",
       "    }\n",
       "\n",
       "    .dataframe thead th {\n",
       "        text-align: right;\n",
       "    }\n",
       "</style>\n",
       "<table border=\"1\" class=\"dataframe\">\n",
       "  <thead>\n",
       "    <tr style=\"text-align: right;\">\n",
       "      <th></th>\n",
       "      <th>ID</th>\n",
       "      <th>Model</th>\n",
       "      <th>ModelParameters</th>\n",
       "      <th>TransformationParameters</th>\n",
       "      <th>TransformationRuntime</th>\n",
       "      <th>FitRuntime</th>\n",
       "      <th>PredictRuntime</th>\n",
       "      <th>TotalRuntime</th>\n",
       "      <th>Ensemble</th>\n",
       "      <th>Exceptions</th>\n",
       "      <th>...</th>\n",
       "      <th>spl</th>\n",
       "      <th>contour</th>\n",
       "      <th>smape_weighted</th>\n",
       "      <th>mae_weighted</th>\n",
       "      <th>rmse_weighted</th>\n",
       "      <th>containment_weighted</th>\n",
       "      <th>spl_weighted</th>\n",
       "      <th>contour_weighted</th>\n",
       "      <th>TotalRuntimeSeconds</th>\n",
       "      <th>Score</th>\n",
       "    </tr>\n",
       "  </thead>\n",
       "  <tbody>\n",
       "    <tr>\n",
       "      <th>73</th>\n",
       "      <td>8d78fc1eee48308fc180e4c52ec9dae0</td>\n",
       "      <td>AverageValueNaive</td>\n",
       "      <td>{\"method\": \"Median\"}</td>\n",
       "      <td>{\"fillna\": \"linear\", \"transformations\": {\"0\": ...</td>\n",
       "      <td>0 days 00:00:00.042940</td>\n",
       "      <td>0 days 00:00:00.001028</td>\n",
       "      <td>0 days 00:00:00.000997</td>\n",
       "      <td>0 days 00:00:00.050915</td>\n",
       "      <td>0</td>\n",
       "      <td>NaN</td>\n",
       "      <td>...</td>\n",
       "      <td>NaN</td>\n",
       "      <td>1.000000</td>\n",
       "      <td>0.000000</td>\n",
       "      <td>0.000000e+00</td>\n",
       "      <td>0.000000e+00</td>\n",
       "      <td>0.000000</td>\n",
       "      <td>0.000000e+00</td>\n",
       "      <td>1.000000</td>\n",
       "      <td>1</td>\n",
       "      <td>1.854430e+00</td>\n",
       "    </tr>\n",
       "    <tr>\n",
       "      <th>76</th>\n",
       "      <td>7bd385ec0a1577366cc7fd738b6ea038</td>\n",
       "      <td>AverageValueNaive</td>\n",
       "      <td>{\"method\": \"Exp_Weighted_Mean\"}</td>\n",
       "      <td>{\"fillna\": \"linear\", \"transformations\": {\"0\": ...</td>\n",
       "      <td>0 days 00:00:07.561651</td>\n",
       "      <td>0 days 00:00:00.004401</td>\n",
       "      <td>0 days 00:00:00.000998</td>\n",
       "      <td>0 days 00:00:07.573035</td>\n",
       "      <td>0</td>\n",
       "      <td>NaN</td>\n",
       "      <td>...</td>\n",
       "      <td>NaN</td>\n",
       "      <td>1.000000</td>\n",
       "      <td>0.000000</td>\n",
       "      <td>0.000000e+00</td>\n",
       "      <td>0.000000e+00</td>\n",
       "      <td>0.000000</td>\n",
       "      <td>0.000000e+00</td>\n",
       "      <td>1.000000</td>\n",
       "      <td>8</td>\n",
       "      <td>1.854430e+00</td>\n",
       "    </tr>\n",
       "    <tr>\n",
       "      <th>84</th>\n",
       "      <td>8d78fc1eee48308fc180e4c52ec9dae0</td>\n",
       "      <td>AverageValueNaive</td>\n",
       "      <td>{\"method\": \"Median\"}</td>\n",
       "      <td>{\"fillna\": \"linear\", \"transformations\": {\"0\": ...</td>\n",
       "      <td>0 days 00:00:00.038225</td>\n",
       "      <td>0 days 00:00:00</td>\n",
       "      <td>0 days 00:00:00.000997</td>\n",
       "      <td>0 days 00:00:00.046204</td>\n",
       "      <td>0</td>\n",
       "      <td>NaN</td>\n",
       "      <td>...</td>\n",
       "      <td>NaN</td>\n",
       "      <td>1.000000</td>\n",
       "      <td>0.000000</td>\n",
       "      <td>0.000000e+00</td>\n",
       "      <td>0.000000e+00</td>\n",
       "      <td>0.000000</td>\n",
       "      <td>0.000000e+00</td>\n",
       "      <td>1.000000</td>\n",
       "      <td>1</td>\n",
       "      <td>1.854430e+00</td>\n",
       "    </tr>\n",
       "    <tr>\n",
       "      <th>87</th>\n",
       "      <td>7bd385ec0a1577366cc7fd738b6ea038</td>\n",
       "      <td>AverageValueNaive</td>\n",
       "      <td>{\"method\": \"Exp_Weighted_Mean\"}</td>\n",
       "      <td>{\"fillna\": \"linear\", \"transformations\": {\"0\": ...</td>\n",
       "      <td>0 days 00:00:06.078080</td>\n",
       "      <td>0 days 00:00:00.002742</td>\n",
       "      <td>0 days 00:00:00.000996</td>\n",
       "      <td>0 days 00:00:06.087804</td>\n",
       "      <td>0</td>\n",
       "      <td>NaN</td>\n",
       "      <td>...</td>\n",
       "      <td>NaN</td>\n",
       "      <td>0.793478</td>\n",
       "      <td>0.000000</td>\n",
       "      <td>0.000000e+00</td>\n",
       "      <td>0.000000e+00</td>\n",
       "      <td>0.000000</td>\n",
       "      <td>0.000000e+00</td>\n",
       "      <td>0.793478</td>\n",
       "      <td>7</td>\n",
       "      <td>2.237410e+00</td>\n",
       "    </tr>\n",
       "    <tr>\n",
       "      <th>79</th>\n",
       "      <td>add2ee3154f0d67fabdf65da2c2829b6</td>\n",
       "      <td>GLS</td>\n",
       "      <td>{}</td>\n",
       "      <td>{\"fillna\": \"barycentric\", \"transformations\": {...</td>\n",
       "      <td>0 days 00:00:47.736724</td>\n",
       "      <td>0 days 00:00:00.003052</td>\n",
       "      <td>0 days 00:00:00.104230</td>\n",
       "      <td>0 days 00:00:47.944294</td>\n",
       "      <td>0</td>\n",
       "      <td>NaN</td>\n",
       "      <td>...</td>\n",
       "      <td>NaN</td>\n",
       "      <td>0.500000</td>\n",
       "      <td>0.000000</td>\n",
       "      <td>0.000000e+00</td>\n",
       "      <td>0.000000e+00</td>\n",
       "      <td>0.000000</td>\n",
       "      <td>0.000000e+00</td>\n",
       "      <td>0.500000</td>\n",
       "      <td>48</td>\n",
       "      <td>2.781644e+00</td>\n",
       "    </tr>\n",
       "    <tr>\n",
       "      <th>...</th>\n",
       "      <td>...</td>\n",
       "      <td>...</td>\n",
       "      <td>...</td>\n",
       "      <td>...</td>\n",
       "      <td>...</td>\n",
       "      <td>...</td>\n",
       "      <td>...</td>\n",
       "      <td>...</td>\n",
       "      <td>...</td>\n",
       "      <td>...</td>\n",
       "      <td>...</td>\n",
       "      <td>...</td>\n",
       "      <td>...</td>\n",
       "      <td>...</td>\n",
       "      <td>...</td>\n",
       "      <td>...</td>\n",
       "      <td>...</td>\n",
       "      <td>...</td>\n",
       "      <td>...</td>\n",
       "      <td>...</td>\n",
       "      <td>...</td>\n",
       "    </tr>\n",
       "    <tr>\n",
       "      <th>33</th>\n",
       "      <td>a09fb9aface51a31fbbb11737736d754</td>\n",
       "      <td>LastValueNaive</td>\n",
       "      <td>{}</td>\n",
       "      <td>{\"fillna\": \"zero\", \"transformations\": {\"0\": \"Q...</td>\n",
       "      <td>0 days 00:00:00.015958</td>\n",
       "      <td>0 days 00:00:00.001995</td>\n",
       "      <td>0 days 00:00:00.000997</td>\n",
       "      <td>0 days 00:00:00.024869</td>\n",
       "      <td>0</td>\n",
       "      <td>NaN</td>\n",
       "      <td>...</td>\n",
       "      <td>1.512618e+01</td>\n",
       "      <td>0.195652</td>\n",
       "      <td>197.826087</td>\n",
       "      <td>4.777027e+02</td>\n",
       "      <td>4.793504e+02</td>\n",
       "      <td>0.010417</td>\n",
       "      <td>1.512618e+01</td>\n",
       "      <td>0.195652</td>\n",
       "      <td>1</td>\n",
       "      <td>2.805393e+02</td>\n",
       "    </tr>\n",
       "    <tr>\n",
       "      <th>23</th>\n",
       "      <td>558631de832dcf9f741f6bdfa3f9b6f9</td>\n",
       "      <td>LastValueNaive</td>\n",
       "      <td>{}</td>\n",
       "      <td>{\"fillna\": \"spline\", \"transformations\": {\"0\": ...</td>\n",
       "      <td>0 days 00:00:13.700468</td>\n",
       "      <td>0 days 00:00:00.000994</td>\n",
       "      <td>0 days 00:00:00.000966</td>\n",
       "      <td>0 days 00:00:13.710422</td>\n",
       "      <td>0</td>\n",
       "      <td>NaN</td>\n",
       "      <td>...</td>\n",
       "      <td>8.496051e+01</td>\n",
       "      <td>0.228261</td>\n",
       "      <td>149.107892</td>\n",
       "      <td>3.802871e+03</td>\n",
       "      <td>3.803481e+03</td>\n",
       "      <td>0.000000</td>\n",
       "      <td>8.496051e+01</td>\n",
       "      <td>0.228261</td>\n",
       "      <td>14</td>\n",
       "      <td>9.899308e+02</td>\n",
       "    </tr>\n",
       "    <tr>\n",
       "      <th>18</th>\n",
       "      <td>52309c117ba5cd6d329cd8b032f88f6e</td>\n",
       "      <td>SeasonalNaive</td>\n",
       "      <td>{\"method\": \"LastValue\", \"lag_1\": 2, \"lag_2\": 60}</td>\n",
       "      <td>{\"fillna\": \"spline\", \"transformations\": {\"0\": ...</td>\n",
       "      <td>0 days 00:00:02.302725</td>\n",
       "      <td>0 days 00:00:00</td>\n",
       "      <td>0 days 00:00:00.106105</td>\n",
       "      <td>0 days 00:00:02.414003</td>\n",
       "      <td>0</td>\n",
       "      <td>NaN</td>\n",
       "      <td>...</td>\n",
       "      <td>3.826965e+08</td>\n",
       "      <td>0.500000</td>\n",
       "      <td>148.940517</td>\n",
       "      <td>3.680932e+10</td>\n",
       "      <td>3.693055e+10</td>\n",
       "      <td>0.239583</td>\n",
       "      <td>3.826965e+08</td>\n",
       "      <td>0.500000</td>\n",
       "      <td>3</td>\n",
       "      <td>7.199422e+09</td>\n",
       "    </tr>\n",
       "    <tr>\n",
       "      <th>42</th>\n",
       "      <td>32606a56920f232ee1b88af2036ed715</td>\n",
       "      <td>LastValueNaive</td>\n",
       "      <td>{}</td>\n",
       "      <td>{\"fillna\": \"cubic\", \"transformations\": {\"0\": \"...</td>\n",
       "      <td>0 days 00:00:00.157194</td>\n",
       "      <td>0 days 00:00:00.004919</td>\n",
       "      <td>0 days 00:00:00.002457</td>\n",
       "      <td>0 days 00:00:00.172135</td>\n",
       "      <td>0</td>\n",
       "      <td>NaN</td>\n",
       "      <td>...</td>\n",
       "      <td>2.051024e+49</td>\n",
       "      <td>0.500000</td>\n",
       "      <td>66.826196</td>\n",
       "      <td>9.210172e+02</td>\n",
       "      <td>1.330000e+03</td>\n",
       "      <td>0.114583</td>\n",
       "      <td>2.051024e+49</td>\n",
       "      <td>0.500000</td>\n",
       "      <td>1</td>\n",
       "      <td>5.713523e+49</td>\n",
       "    </tr>\n",
       "    <tr>\n",
       "      <th>31</th>\n",
       "      <td>7231e3df8629e1a6cd35132e17d10132</td>\n",
       "      <td>GLS</td>\n",
       "      <td>{}</td>\n",
       "      <td>{\"fillna\": \"median\", \"transformations\": {\"0\": ...</td>\n",
       "      <td>0 days 00:00:00</td>\n",
       "      <td>0 days 00:00:00.116544</td>\n",
       "      <td>0 days 00:00:00</td>\n",
       "      <td>0 days 00:00:00.116544</td>\n",
       "      <td>0</td>\n",
       "      <td>ValueError('array must not contain infs or NaNs')</td>\n",
       "      <td>...</td>\n",
       "      <td>NaN</td>\n",
       "      <td>NaN</td>\n",
       "      <td>NaN</td>\n",
       "      <td>NaN</td>\n",
       "      <td>NaN</td>\n",
       "      <td>NaN</td>\n",
       "      <td>NaN</td>\n",
       "      <td>NaN</td>\n",
       "      <td>1</td>\n",
       "      <td>NaN</td>\n",
       "    </tr>\n",
       "  </tbody>\n",
       "</table>\n",
       "<p>89 rows × 27 columns</p>\n",
       "</div>"
      ],
      "text/plain": [
       "                                  ID              Model  \\\n",
       "73  8d78fc1eee48308fc180e4c52ec9dae0  AverageValueNaive   \n",
       "76  7bd385ec0a1577366cc7fd738b6ea038  AverageValueNaive   \n",
       "84  8d78fc1eee48308fc180e4c52ec9dae0  AverageValueNaive   \n",
       "87  7bd385ec0a1577366cc7fd738b6ea038  AverageValueNaive   \n",
       "79  add2ee3154f0d67fabdf65da2c2829b6                GLS   \n",
       "..                               ...                ...   \n",
       "33  a09fb9aface51a31fbbb11737736d754     LastValueNaive   \n",
       "23  558631de832dcf9f741f6bdfa3f9b6f9     LastValueNaive   \n",
       "18  52309c117ba5cd6d329cd8b032f88f6e      SeasonalNaive   \n",
       "42  32606a56920f232ee1b88af2036ed715     LastValueNaive   \n",
       "31  7231e3df8629e1a6cd35132e17d10132                GLS   \n",
       "\n",
       "                                     ModelParameters  \\\n",
       "73                              {\"method\": \"Median\"}   \n",
       "76                   {\"method\": \"Exp_Weighted_Mean\"}   \n",
       "84                              {\"method\": \"Median\"}   \n",
       "87                   {\"method\": \"Exp_Weighted_Mean\"}   \n",
       "79                                                {}   \n",
       "..                                               ...   \n",
       "33                                                {}   \n",
       "23                                                {}   \n",
       "18  {\"method\": \"LastValue\", \"lag_1\": 2, \"lag_2\": 60}   \n",
       "42                                                {}   \n",
       "31                                                {}   \n",
       "\n",
       "                             TransformationParameters  TransformationRuntime  \\\n",
       "73  {\"fillna\": \"linear\", \"transformations\": {\"0\": ... 0 days 00:00:00.042940   \n",
       "76  {\"fillna\": \"linear\", \"transformations\": {\"0\": ... 0 days 00:00:07.561651   \n",
       "84  {\"fillna\": \"linear\", \"transformations\": {\"0\": ... 0 days 00:00:00.038225   \n",
       "87  {\"fillna\": \"linear\", \"transformations\": {\"0\": ... 0 days 00:00:06.078080   \n",
       "79  {\"fillna\": \"barycentric\", \"transformations\": {... 0 days 00:00:47.736724   \n",
       "..                                                ...                    ...   \n",
       "33  {\"fillna\": \"zero\", \"transformations\": {\"0\": \"Q... 0 days 00:00:00.015958   \n",
       "23  {\"fillna\": \"spline\", \"transformations\": {\"0\": ... 0 days 00:00:13.700468   \n",
       "18  {\"fillna\": \"spline\", \"transformations\": {\"0\": ... 0 days 00:00:02.302725   \n",
       "42  {\"fillna\": \"cubic\", \"transformations\": {\"0\": \"... 0 days 00:00:00.157194   \n",
       "31  {\"fillna\": \"median\", \"transformations\": {\"0\": ...        0 days 00:00:00   \n",
       "\n",
       "               FitRuntime         PredictRuntime           TotalRuntime  \\\n",
       "73 0 days 00:00:00.001028 0 days 00:00:00.000997 0 days 00:00:00.050915   \n",
       "76 0 days 00:00:00.004401 0 days 00:00:00.000998 0 days 00:00:07.573035   \n",
       "84        0 days 00:00:00 0 days 00:00:00.000997 0 days 00:00:00.046204   \n",
       "87 0 days 00:00:00.002742 0 days 00:00:00.000996 0 days 00:00:06.087804   \n",
       "79 0 days 00:00:00.003052 0 days 00:00:00.104230 0 days 00:00:47.944294   \n",
       "..                    ...                    ...                    ...   \n",
       "33 0 days 00:00:00.001995 0 days 00:00:00.000997 0 days 00:00:00.024869   \n",
       "23 0 days 00:00:00.000994 0 days 00:00:00.000966 0 days 00:00:13.710422   \n",
       "18        0 days 00:00:00 0 days 00:00:00.106105 0 days 00:00:02.414003   \n",
       "42 0 days 00:00:00.004919 0 days 00:00:00.002457 0 days 00:00:00.172135   \n",
       "31 0 days 00:00:00.116544        0 days 00:00:00 0 days 00:00:00.116544   \n",
       "\n",
       "    Ensemble                                         Exceptions  ...  \\\n",
       "73         0                                                NaN  ...   \n",
       "76         0                                                NaN  ...   \n",
       "84         0                                                NaN  ...   \n",
       "87         0                                                NaN  ...   \n",
       "79         0                                                NaN  ...   \n",
       "..       ...                                                ...  ...   \n",
       "33         0                                                NaN  ...   \n",
       "23         0                                                NaN  ...   \n",
       "18         0                                                NaN  ...   \n",
       "42         0                                                NaN  ...   \n",
       "31         0  ValueError('array must not contain infs or NaNs')  ...   \n",
       "\n",
       "             spl   contour  smape_weighted  mae_weighted  rmse_weighted  \\\n",
       "73           NaN  1.000000        0.000000  0.000000e+00   0.000000e+00   \n",
       "76           NaN  1.000000        0.000000  0.000000e+00   0.000000e+00   \n",
       "84           NaN  1.000000        0.000000  0.000000e+00   0.000000e+00   \n",
       "87           NaN  0.793478        0.000000  0.000000e+00   0.000000e+00   \n",
       "79           NaN  0.500000        0.000000  0.000000e+00   0.000000e+00   \n",
       "..           ...       ...             ...           ...            ...   \n",
       "33  1.512618e+01  0.195652      197.826087  4.777027e+02   4.793504e+02   \n",
       "23  8.496051e+01  0.228261      149.107892  3.802871e+03   3.803481e+03   \n",
       "18  3.826965e+08  0.500000      148.940517  3.680932e+10   3.693055e+10   \n",
       "42  2.051024e+49  0.500000       66.826196  9.210172e+02   1.330000e+03   \n",
       "31           NaN       NaN             NaN           NaN            NaN   \n",
       "\n",
       "    containment_weighted  spl_weighted  contour_weighted  TotalRuntimeSeconds  \\\n",
       "73              0.000000  0.000000e+00          1.000000                    1   \n",
       "76              0.000000  0.000000e+00          1.000000                    8   \n",
       "84              0.000000  0.000000e+00          1.000000                    1   \n",
       "87              0.000000  0.000000e+00          0.793478                    7   \n",
       "79              0.000000  0.000000e+00          0.500000                   48   \n",
       "..                   ...           ...               ...                  ...   \n",
       "33              0.010417  1.512618e+01          0.195652                    1   \n",
       "23              0.000000  8.496051e+01          0.228261                   14   \n",
       "18              0.239583  3.826965e+08          0.500000                    3   \n",
       "42              0.114583  2.051024e+49          0.500000                    1   \n",
       "31                   NaN           NaN               NaN                    1   \n",
       "\n",
       "           Score  \n",
       "73  1.854430e+00  \n",
       "76  1.854430e+00  \n",
       "84  1.854430e+00  \n",
       "87  2.237410e+00  \n",
       "79  2.781644e+00  \n",
       "..           ...  \n",
       "33  2.805393e+02  \n",
       "23  9.899308e+02  \n",
       "18  7.199422e+09  \n",
       "42  5.713523e+49  \n",
       "31           NaN  \n",
       "\n",
       "[89 rows x 27 columns]"
      ]
     },
     "execution_count": 33,
     "metadata": {},
     "output_type": "execute_result"
    }
   ],
   "source": [
    "validation_results.sort_values(\"Score\")"
   ]
  },
  {
   "cell_type": "code",
   "execution_count": 34,
   "metadata": {},
   "outputs": [
    {
     "data": {
      "application/vnd.plotly.v1+json": {
       "config": {
        "plotlyServerURL": "https://plot.ly"
       },
       "data": [
        {
         "name": "Consumo",
         "type": "scatter",
         "x": [
          "2021-07-24T23:00:00",
          "2021-07-25T00:00:00",
          "2021-07-25T01:00:00",
          "2021-07-25T02:00:00",
          "2021-07-25T03:00:00",
          "2021-07-25T04:00:00",
          "2021-07-25T05:00:00",
          "2021-07-25T06:00:00",
          "2021-07-25T07:00:00",
          "2021-07-25T08:00:00",
          "2021-07-25T09:00:00",
          "2021-07-25T10:00:00",
          "2021-07-25T11:00:00",
          "2021-07-25T12:00:00",
          "2021-07-25T13:00:00",
          "2021-07-25T14:00:00",
          "2021-07-25T15:00:00",
          "2021-07-25T16:00:00",
          "2021-07-25T17:00:00",
          "2021-07-25T18:00:00",
          "2021-07-25T19:00:00",
          "2021-07-25T20:00:00",
          "2021-07-25T21:00:00",
          "2021-07-25T22:00:00"
         ],
         "y": [
          2148.515,
          2044.916,
          1958.858,
          1873.602,
          1790.519,
          1761.849,
          1794.685,
          1848.861,
          1907.843,
          1897.028,
          2008.307,
          1995.086,
          2000.317,
          1889.117,
          1796.65,
          1754.873,
          1755.026,
          1757.693,
          1799.475,
          1993.628,
          2179.763,
          2185,
          2128.403,
          2061.354
         ]
        },
        {
         "name": "Forecast",
         "type": "scatter",
         "x": [
          "2021-07-24T23:00:00",
          "2021-07-25T00:00:00",
          "2021-07-25T01:00:00",
          "2021-07-25T02:00:00",
          "2021-07-25T03:00:00",
          "2021-07-25T04:00:00",
          "2021-07-25T05:00:00",
          "2021-07-25T06:00:00",
          "2021-07-25T07:00:00",
          "2021-07-25T08:00:00",
          "2021-07-25T09:00:00",
          "2021-07-25T10:00:00",
          "2021-07-25T11:00:00",
          "2021-07-25T12:00:00",
          "2021-07-25T13:00:00",
          "2021-07-25T14:00:00",
          "2021-07-25T15:00:00",
          "2021-07-25T16:00:00",
          "2021-07-25T17:00:00",
          "2021-07-25T18:00:00",
          "2021-07-25T19:00:00",
          "2021-07-25T20:00:00",
          "2021-07-25T21:00:00",
          "2021-07-25T22:00:00"
         ],
         "y": [
          1878.277828518303,
          1834.1426909379607,
          1823.1082404850679,
          1811.7179735707914,
          1800.7822049441663,
          1791.0285305424525,
          1783.0341891738124,
          1777.2164880560206,
          1773.8745939716248,
          1773.1801921451577,
          1775.1689399394556,
          1779.7387002316336,
          1786.6546089541444,
          1795.5606903467844,
          1805.9697139268462,
          1817.22290796531,
          1828.5447139920163,
          1839.1091138295324,
          1848.113437310719,
          1854.853958048456,
          1858.7939018493737,
          1859.6159987485598,
          1857.2537417427354,
          1851.8979546420226
         ]
        }
       ],
       "layout": {
        "autosize": true,
        "template": {
         "data": {
          "bar": [
           {
            "error_x": {
             "color": "#2a3f5f"
            },
            "error_y": {
             "color": "#2a3f5f"
            },
            "marker": {
             "line": {
              "color": "#E5ECF6",
              "width": 0.5
             }
            },
            "type": "bar"
           }
          ],
          "barpolar": [
           {
            "marker": {
             "line": {
              "color": "#E5ECF6",
              "width": 0.5
             }
            },
            "type": "barpolar"
           }
          ],
          "carpet": [
           {
            "aaxis": {
             "endlinecolor": "#2a3f5f",
             "gridcolor": "white",
             "linecolor": "white",
             "minorgridcolor": "white",
             "startlinecolor": "#2a3f5f"
            },
            "baxis": {
             "endlinecolor": "#2a3f5f",
             "gridcolor": "white",
             "linecolor": "white",
             "minorgridcolor": "white",
             "startlinecolor": "#2a3f5f"
            },
            "type": "carpet"
           }
          ],
          "choropleth": [
           {
            "colorbar": {
             "outlinewidth": 0,
             "ticks": ""
            },
            "type": "choropleth"
           }
          ],
          "contour": [
           {
            "colorbar": {
             "outlinewidth": 0,
             "ticks": ""
            },
            "colorscale": [
             [
              0,
              "#0d0887"
             ],
             [
              0.1111111111111111,
              "#46039f"
             ],
             [
              0.2222222222222222,
              "#7201a8"
             ],
             [
              0.3333333333333333,
              "#9c179e"
             ],
             [
              0.4444444444444444,
              "#bd3786"
             ],
             [
              0.5555555555555556,
              "#d8576b"
             ],
             [
              0.6666666666666666,
              "#ed7953"
             ],
             [
              0.7777777777777778,
              "#fb9f3a"
             ],
             [
              0.8888888888888888,
              "#fdca26"
             ],
             [
              1,
              "#f0f921"
             ]
            ],
            "type": "contour"
           }
          ],
          "contourcarpet": [
           {
            "colorbar": {
             "outlinewidth": 0,
             "ticks": ""
            },
            "type": "contourcarpet"
           }
          ],
          "heatmap": [
           {
            "colorbar": {
             "outlinewidth": 0,
             "ticks": ""
            },
            "colorscale": [
             [
              0,
              "#0d0887"
             ],
             [
              0.1111111111111111,
              "#46039f"
             ],
             [
              0.2222222222222222,
              "#7201a8"
             ],
             [
              0.3333333333333333,
              "#9c179e"
             ],
             [
              0.4444444444444444,
              "#bd3786"
             ],
             [
              0.5555555555555556,
              "#d8576b"
             ],
             [
              0.6666666666666666,
              "#ed7953"
             ],
             [
              0.7777777777777778,
              "#fb9f3a"
             ],
             [
              0.8888888888888888,
              "#fdca26"
             ],
             [
              1,
              "#f0f921"
             ]
            ],
            "type": "heatmap"
           }
          ],
          "heatmapgl": [
           {
            "colorbar": {
             "outlinewidth": 0,
             "ticks": ""
            },
            "colorscale": [
             [
              0,
              "#0d0887"
             ],
             [
              0.1111111111111111,
              "#46039f"
             ],
             [
              0.2222222222222222,
              "#7201a8"
             ],
             [
              0.3333333333333333,
              "#9c179e"
             ],
             [
              0.4444444444444444,
              "#bd3786"
             ],
             [
              0.5555555555555556,
              "#d8576b"
             ],
             [
              0.6666666666666666,
              "#ed7953"
             ],
             [
              0.7777777777777778,
              "#fb9f3a"
             ],
             [
              0.8888888888888888,
              "#fdca26"
             ],
             [
              1,
              "#f0f921"
             ]
            ],
            "type": "heatmapgl"
           }
          ],
          "histogram": [
           {
            "marker": {
             "colorbar": {
              "outlinewidth": 0,
              "ticks": ""
             }
            },
            "type": "histogram"
           }
          ],
          "histogram2d": [
           {
            "colorbar": {
             "outlinewidth": 0,
             "ticks": ""
            },
            "colorscale": [
             [
              0,
              "#0d0887"
             ],
             [
              0.1111111111111111,
              "#46039f"
             ],
             [
              0.2222222222222222,
              "#7201a8"
             ],
             [
              0.3333333333333333,
              "#9c179e"
             ],
             [
              0.4444444444444444,
              "#bd3786"
             ],
             [
              0.5555555555555556,
              "#d8576b"
             ],
             [
              0.6666666666666666,
              "#ed7953"
             ],
             [
              0.7777777777777778,
              "#fb9f3a"
             ],
             [
              0.8888888888888888,
              "#fdca26"
             ],
             [
              1,
              "#f0f921"
             ]
            ],
            "type": "histogram2d"
           }
          ],
          "histogram2dcontour": [
           {
            "colorbar": {
             "outlinewidth": 0,
             "ticks": ""
            },
            "colorscale": [
             [
              0,
              "#0d0887"
             ],
             [
              0.1111111111111111,
              "#46039f"
             ],
             [
              0.2222222222222222,
              "#7201a8"
             ],
             [
              0.3333333333333333,
              "#9c179e"
             ],
             [
              0.4444444444444444,
              "#bd3786"
             ],
             [
              0.5555555555555556,
              "#d8576b"
             ],
             [
              0.6666666666666666,
              "#ed7953"
             ],
             [
              0.7777777777777778,
              "#fb9f3a"
             ],
             [
              0.8888888888888888,
              "#fdca26"
             ],
             [
              1,
              "#f0f921"
             ]
            ],
            "type": "histogram2dcontour"
           }
          ],
          "mesh3d": [
           {
            "colorbar": {
             "outlinewidth": 0,
             "ticks": ""
            },
            "type": "mesh3d"
           }
          ],
          "parcoords": [
           {
            "line": {
             "colorbar": {
              "outlinewidth": 0,
              "ticks": ""
             }
            },
            "type": "parcoords"
           }
          ],
          "pie": [
           {
            "automargin": true,
            "type": "pie"
           }
          ],
          "scatter": [
           {
            "marker": {
             "colorbar": {
              "outlinewidth": 0,
              "ticks": ""
             }
            },
            "type": "scatter"
           }
          ],
          "scatter3d": [
           {
            "line": {
             "colorbar": {
              "outlinewidth": 0,
              "ticks": ""
             }
            },
            "marker": {
             "colorbar": {
              "outlinewidth": 0,
              "ticks": ""
             }
            },
            "type": "scatter3d"
           }
          ],
          "scattercarpet": [
           {
            "marker": {
             "colorbar": {
              "outlinewidth": 0,
              "ticks": ""
             }
            },
            "type": "scattercarpet"
           }
          ],
          "scattergeo": [
           {
            "marker": {
             "colorbar": {
              "outlinewidth": 0,
              "ticks": ""
             }
            },
            "type": "scattergeo"
           }
          ],
          "scattergl": [
           {
            "marker": {
             "colorbar": {
              "outlinewidth": 0,
              "ticks": ""
             }
            },
            "type": "scattergl"
           }
          ],
          "scattermapbox": [
           {
            "marker": {
             "colorbar": {
              "outlinewidth": 0,
              "ticks": ""
             }
            },
            "type": "scattermapbox"
           }
          ],
          "scatterpolar": [
           {
            "marker": {
             "colorbar": {
              "outlinewidth": 0,
              "ticks": ""
             }
            },
            "type": "scatterpolar"
           }
          ],
          "scatterpolargl": [
           {
            "marker": {
             "colorbar": {
              "outlinewidth": 0,
              "ticks": ""
             }
            },
            "type": "scatterpolargl"
           }
          ],
          "scatterternary": [
           {
            "marker": {
             "colorbar": {
              "outlinewidth": 0,
              "ticks": ""
             }
            },
            "type": "scatterternary"
           }
          ],
          "surface": [
           {
            "colorbar": {
             "outlinewidth": 0,
             "ticks": ""
            },
            "colorscale": [
             [
              0,
              "#0d0887"
             ],
             [
              0.1111111111111111,
              "#46039f"
             ],
             [
              0.2222222222222222,
              "#7201a8"
             ],
             [
              0.3333333333333333,
              "#9c179e"
             ],
             [
              0.4444444444444444,
              "#bd3786"
             ],
             [
              0.5555555555555556,
              "#d8576b"
             ],
             [
              0.6666666666666666,
              "#ed7953"
             ],
             [
              0.7777777777777778,
              "#fb9f3a"
             ],
             [
              0.8888888888888888,
              "#fdca26"
             ],
             [
              1,
              "#f0f921"
             ]
            ],
            "type": "surface"
           }
          ],
          "table": [
           {
            "cells": {
             "fill": {
              "color": "#EBF0F8"
             },
             "line": {
              "color": "white"
             }
            },
            "header": {
             "fill": {
              "color": "#C8D4E3"
             },
             "line": {
              "color": "white"
             }
            },
            "type": "table"
           }
          ]
         },
         "layout": {
          "annotationdefaults": {
           "arrowcolor": "#2a3f5f",
           "arrowhead": 0,
           "arrowwidth": 1
          },
          "autotypenumbers": "strict",
          "coloraxis": {
           "colorbar": {
            "outlinewidth": 0,
            "ticks": ""
           }
          },
          "colorscale": {
           "diverging": [
            [
             0,
             "#8e0152"
            ],
            [
             0.1,
             "#c51b7d"
            ],
            [
             0.2,
             "#de77ae"
            ],
            [
             0.3,
             "#f1b6da"
            ],
            [
             0.4,
             "#fde0ef"
            ],
            [
             0.5,
             "#f7f7f7"
            ],
            [
             0.6,
             "#e6f5d0"
            ],
            [
             0.7,
             "#b8e186"
            ],
            [
             0.8,
             "#7fbc41"
            ],
            [
             0.9,
             "#4d9221"
            ],
            [
             1,
             "#276419"
            ]
           ],
           "sequential": [
            [
             0,
             "#0d0887"
            ],
            [
             0.1111111111111111,
             "#46039f"
            ],
            [
             0.2222222222222222,
             "#7201a8"
            ],
            [
             0.3333333333333333,
             "#9c179e"
            ],
            [
             0.4444444444444444,
             "#bd3786"
            ],
            [
             0.5555555555555556,
             "#d8576b"
            ],
            [
             0.6666666666666666,
             "#ed7953"
            ],
            [
             0.7777777777777778,
             "#fb9f3a"
            ],
            [
             0.8888888888888888,
             "#fdca26"
            ],
            [
             1,
             "#f0f921"
            ]
           ],
           "sequentialminus": [
            [
             0,
             "#0d0887"
            ],
            [
             0.1111111111111111,
             "#46039f"
            ],
            [
             0.2222222222222222,
             "#7201a8"
            ],
            [
             0.3333333333333333,
             "#9c179e"
            ],
            [
             0.4444444444444444,
             "#bd3786"
            ],
            [
             0.5555555555555556,
             "#d8576b"
            ],
            [
             0.6666666666666666,
             "#ed7953"
            ],
            [
             0.7777777777777778,
             "#fb9f3a"
            ],
            [
             0.8888888888888888,
             "#fdca26"
            ],
            [
             1,
             "#f0f921"
            ]
           ]
          },
          "colorway": [
           "#636efa",
           "#EF553B",
           "#00cc96",
           "#ab63fa",
           "#FFA15A",
           "#19d3f3",
           "#FF6692",
           "#B6E880",
           "#FF97FF",
           "#FECB52"
          ],
          "font": {
           "color": "#2a3f5f"
          },
          "geo": {
           "bgcolor": "white",
           "lakecolor": "white",
           "landcolor": "#E5ECF6",
           "showlakes": true,
           "showland": true,
           "subunitcolor": "white"
          },
          "hoverlabel": {
           "align": "left"
          },
          "hovermode": "closest",
          "mapbox": {
           "style": "light"
          },
          "paper_bgcolor": "white",
          "plot_bgcolor": "#E5ECF6",
          "polar": {
           "angularaxis": {
            "gridcolor": "white",
            "linecolor": "white",
            "ticks": ""
           },
           "bgcolor": "#E5ECF6",
           "radialaxis": {
            "gridcolor": "white",
            "linecolor": "white",
            "ticks": ""
           }
          },
          "scene": {
           "xaxis": {
            "backgroundcolor": "#E5ECF6",
            "gridcolor": "white",
            "gridwidth": 2,
            "linecolor": "white",
            "showbackground": true,
            "ticks": "",
            "zerolinecolor": "white"
           },
           "yaxis": {
            "backgroundcolor": "#E5ECF6",
            "gridcolor": "white",
            "gridwidth": 2,
            "linecolor": "white",
            "showbackground": true,
            "ticks": "",
            "zerolinecolor": "white"
           },
           "zaxis": {
            "backgroundcolor": "#E5ECF6",
            "gridcolor": "white",
            "gridwidth": 2,
            "linecolor": "white",
            "showbackground": true,
            "ticks": "",
            "zerolinecolor": "white"
           }
          },
          "shapedefaults": {
           "line": {
            "color": "#2a3f5f"
           }
          },
          "ternary": {
           "aaxis": {
            "gridcolor": "white",
            "linecolor": "white",
            "ticks": ""
           },
           "baxis": {
            "gridcolor": "white",
            "linecolor": "white",
            "ticks": ""
           },
           "bgcolor": "#E5ECF6",
           "caxis": {
            "gridcolor": "white",
            "linecolor": "white",
            "ticks": ""
           }
          },
          "title": {
           "x": 0.05
          },
          "xaxis": {
           "automargin": true,
           "gridcolor": "white",
           "linecolor": "white",
           "ticks": "",
           "title": {
            "standoff": 15
           },
           "zerolinecolor": "white",
           "zerolinewidth": 2
          },
          "yaxis": {
           "automargin": true,
           "gridcolor": "white",
           "linecolor": "white",
           "ticks": "",
           "title": {
            "standoff": 15
           },
           "zerolinecolor": "white",
           "zerolinewidth": 2
          }
         }
        },
        "xaxis": {
         "autorange": true,
         "range": [
          "2021-07-24 23:00",
          "2021-07-25 22:00"
         ],
         "type": "date"
        },
        "yaxis": {
         "autorange": true,
         "range": [
          1730.9770555555556,
          2208.8959444444445
         ],
         "type": "linear"
        }
       }
      },
      "image/png": "[encoded data removed]",
      "text/html": [
       "<div>                            <div id=\"d6487e47-92dd-4ad1-afc4-338295388931\" class=\"plotly-graph-div\" style=\"height:525px; width:100%;\"></div>            <script type=\"text/javascript\">                require([\"plotly\"], function(Plotly) {                    window.PLOTLYENV=window.PLOTLYENV || {};                                    if (document.getElementById(\"d6487e47-92dd-4ad1-afc4-338295388931\")) {                    Plotly.newPlot(                        \"d6487e47-92dd-4ad1-afc4-338295388931\",                        [{\"name\": \"Consumo\", \"type\": \"scatter\", \"x\": [\"2021-07-24T23:00:00\", \"2021-07-25T00:00:00\", \"2021-07-25T01:00:00\", \"2021-07-25T02:00:00\", \"2021-07-25T03:00:00\", \"2021-07-25T04:00:00\", \"2021-07-25T05:00:00\", \"2021-07-25T06:00:00\", \"2021-07-25T07:00:00\", \"2021-07-25T08:00:00\", \"2021-07-25T09:00:00\", \"2021-07-25T10:00:00\", \"2021-07-25T11:00:00\", \"2021-07-25T12:00:00\", \"2021-07-25T13:00:00\", \"2021-07-25T14:00:00\", \"2021-07-25T15:00:00\", \"2021-07-25T16:00:00\", \"2021-07-25T17:00:00\", \"2021-07-25T18:00:00\", \"2021-07-25T19:00:00\", \"2021-07-25T20:00:00\", \"2021-07-25T21:00:00\", \"2021-07-25T22:00:00\"], \"y\": [2148.515, 2044.916, 1958.858, 1873.602, 1790.519, 1761.849, 1794.685, 1848.861, 1907.843, 1897.028, 2008.307, 1995.086, 2000.317, 1889.117, 1796.65, 1754.873, 1755.026, 1757.693, 1799.475, 1993.628, 2179.763, 2185.0, 2128.403, 2061.354]}, {\"name\": \"Forecast\", \"type\": \"scatter\", \"x\": [\"2021-07-24T23:00:00\", \"2021-07-25T00:00:00\", \"2021-07-25T01:00:00\", \"2021-07-25T02:00:00\", \"2021-07-25T03:00:00\", \"2021-07-25T04:00:00\", \"2021-07-25T05:00:00\", \"2021-07-25T06:00:00\", \"2021-07-25T07:00:00\", \"2021-07-25T08:00:00\", \"2021-07-25T09:00:00\", \"2021-07-25T10:00:00\", \"2021-07-25T11:00:00\", \"2021-07-25T12:00:00\", \"2021-07-25T13:00:00\", \"2021-07-25T14:00:00\", \"2021-07-25T15:00:00\", \"2021-07-25T16:00:00\", \"2021-07-25T17:00:00\", \"2021-07-25T18:00:00\", \"2021-07-25T19:00:00\", \"2021-07-25T20:00:00\", \"2021-07-25T21:00:00\", \"2021-07-25T22:00:00\"], \"y\": [1878.277828518303, 1834.1426909379607, 1823.1082404850679, 1811.7179735707914, 1800.7822049441663, 1791.0285305424525, 1783.0341891738124, 1777.2164880560206, 1773.8745939716248, 1773.1801921451577, 1775.1689399394556, 1779.7387002316336, 1786.6546089541444, 1795.5606903467844, 1805.9697139268462, 1817.22290796531, 1828.5447139920163, 1839.1091138295324, 1848.113437310719, 1854.853958048456, 1858.7939018493737, 1859.6159987485598, 1857.2537417427354, 1851.8979546420226]}],                        {\"template\": {\"data\": {\"bar\": [{\"error_x\": {\"color\": \"#2a3f5f\"}, \"error_y\": {\"color\": \"#2a3f5f\"}, \"marker\": {\"line\": {\"color\": \"#E5ECF6\", \"width\": 0.5}}, \"type\": \"bar\"}], \"barpolar\": [{\"marker\": {\"line\": {\"color\": \"#E5ECF6\", \"width\": 0.5}}, \"type\": \"barpolar\"}], \"carpet\": [{\"aaxis\": {\"endlinecolor\": \"#2a3f5f\", \"gridcolor\": \"white\", \"linecolor\": \"white\", \"minorgridcolor\": \"white\", \"startlinecolor\": \"#2a3f5f\"}, \"baxis\": {\"endlinecolor\": \"#2a3f5f\", \"gridcolor\": \"white\", \"linecolor\": \"white\", \"minorgridcolor\": \"white\", \"startlinecolor\": \"#2a3f5f\"}, \"type\": \"carpet\"}], \"choropleth\": [{\"colorbar\": {\"outlinewidth\": 0, \"ticks\": \"\"}, \"type\": \"choropleth\"}], \"contour\": [{\"colorbar\": {\"outlinewidth\": 0, \"ticks\": \"\"}, \"colorscale\": [[0.0, \"#0d0887\"], [0.1111111111111111, \"#46039f\"], [0.2222222222222222, \"#7201a8\"], [0.3333333333333333, \"#9c179e\"], [0.4444444444444444, \"#bd3786\"], [0.5555555555555556, \"#d8576b\"], [0.6666666666666666, \"#ed7953\"], [0.7777777777777778, \"#fb9f3a\"], [0.8888888888888888, \"#fdca26\"], [1.0, \"#f0f921\"]], \"type\": \"contour\"}], \"contourcarpet\": [{\"colorbar\": {\"outlinewidth\": 0, \"ticks\": \"\"}, \"type\": \"contourcarpet\"}], \"heatmap\": [{\"colorbar\": {\"outlinewidth\": 0, \"ticks\": \"\"}, \"colorscale\": [[0.0, \"#0d0887\"], [0.1111111111111111, \"#46039f\"], [0.2222222222222222, \"#7201a8\"], [0.3333333333333333, \"#9c179e\"], [0.4444444444444444, \"#bd3786\"], [0.5555555555555556, \"#d8576b\"], [0.6666666666666666, \"#ed7953\"], [0.7777777777777778, \"#fb9f3a\"], [0.8888888888888888, \"#fdca26\"], [1.0, \"#f0f921\"]], \"type\": \"heatmap\"}], \"heatmapgl\": [{\"colorbar\": {\"outlinewidth\": 0, \"ticks\": \"\"}, \"colorscale\": [[0.0, \"#0d0887\"], [0.1111111111111111, \"#46039f\"], [0.2222222222222222, \"#7201a8\"], [0.3333333333333333, \"#9c179e\"], [0.4444444444444444, \"#bd3786\"], [0.5555555555555556, \"#d8576b\"], [0.6666666666666666, \"#ed7953\"], [0.7777777777777778, \"#fb9f3a\"], [0.8888888888888888, \"#fdca26\"], [1.0, \"#f0f921\"]], \"type\": \"heatmapgl\"}], \"histogram\": [{\"marker\": {\"colorbar\": {\"outlinewidth\": 0, \"ticks\": \"\"}}, \"type\": \"histogram\"}], \"histogram2d\": [{\"colorbar\": {\"outlinewidth\": 0, \"ticks\": \"\"}, \"colorscale\": [[0.0, \"#0d0887\"], [0.1111111111111111, \"#46039f\"], [0.2222222222222222, \"#7201a8\"], [0.3333333333333333, \"#9c179e\"], [0.4444444444444444, \"#bd3786\"], [0.5555555555555556, \"#d8576b\"], [0.6666666666666666, \"#ed7953\"], [0.7777777777777778, \"#fb9f3a\"], [0.8888888888888888, \"#fdca26\"], [1.0, \"#f0f921\"]], \"type\": \"histogram2d\"}], \"histogram2dcontour\": [{\"colorbar\": {\"outlinewidth\": 0, \"ticks\": \"\"}, \"colorscale\": [[0.0, \"#0d0887\"], [0.1111111111111111, \"#46039f\"], [0.2222222222222222, \"#7201a8\"], [0.3333333333333333, \"#9c179e\"], [0.4444444444444444, \"#bd3786\"], [0.5555555555555556, \"#d8576b\"], [0.6666666666666666, \"#ed7953\"], [0.7777777777777778, \"#fb9f3a\"], [0.8888888888888888, \"#fdca26\"], [1.0, \"#f0f921\"]], \"type\": \"histogram2dcontour\"}], \"mesh3d\": [{\"colorbar\": {\"outlinewidth\": 0, \"ticks\": \"\"}, \"type\": \"mesh3d\"}], \"parcoords\": [{\"line\": {\"colorbar\": {\"outlinewidth\": 0, \"ticks\": \"\"}}, \"type\": \"parcoords\"}], \"pie\": [{\"automargin\": true, \"type\": \"pie\"}], \"scatter\": [{\"marker\": {\"colorbar\": {\"outlinewidth\": 0, \"ticks\": \"\"}}, \"type\": \"scatter\"}], \"scatter3d\": [{\"line\": {\"colorbar\": {\"outlinewidth\": 0, \"ticks\": \"\"}}, \"marker\": {\"colorbar\": {\"outlinewidth\": 0, \"ticks\": \"\"}}, \"type\": \"scatter3d\"}], \"scattercarpet\": [{\"marker\": {\"colorbar\": {\"outlinewidth\": 0, \"ticks\": \"\"}}, \"type\": \"scattercarpet\"}], \"scattergeo\": [{\"marker\": {\"colorbar\": {\"outlinewidth\": 0, \"ticks\": \"\"}}, \"type\": \"scattergeo\"}], \"scattergl\": [{\"marker\": {\"colorbar\": {\"outlinewidth\": 0, \"ticks\": \"\"}}, \"type\": \"scattergl\"}], \"scattermapbox\": [{\"marker\": {\"colorbar\": {\"outlinewidth\": 0, \"ticks\": \"\"}}, \"type\": \"scattermapbox\"}], \"scatterpolar\": [{\"marker\": {\"colorbar\": {\"outlinewidth\": 0, \"ticks\": \"\"}}, \"type\": \"scatterpolar\"}], \"scatterpolargl\": [{\"marker\": {\"colorbar\": {\"outlinewidth\": 0, \"ticks\": \"\"}}, \"type\": \"scatterpolargl\"}], \"scatterternary\": [{\"marker\": {\"colorbar\": {\"outlinewidth\": 0, \"ticks\": \"\"}}, \"type\": \"scatterternary\"}], \"surface\": [{\"colorbar\": {\"outlinewidth\": 0, \"ticks\": \"\"}, \"colorscale\": [[0.0, \"#0d0887\"], [0.1111111111111111, \"#46039f\"], [0.2222222222222222, \"#7201a8\"], [0.3333333333333333, \"#9c179e\"], [0.4444444444444444, \"#bd3786\"], [0.5555555555555556, \"#d8576b\"], [0.6666666666666666, \"#ed7953\"], [0.7777777777777778, \"#fb9f3a\"], [0.8888888888888888, \"#fdca26\"], [1.0, \"#f0f921\"]], \"type\": \"surface\"}], \"table\": [{\"cells\": {\"fill\": {\"color\": \"#EBF0F8\"}, \"line\": {\"color\": \"white\"}}, \"header\": {\"fill\": {\"color\": \"#C8D4E3\"}, \"line\": {\"color\": \"white\"}}, \"type\": \"table\"}]}, \"layout\": {\"annotationdefaults\": {\"arrowcolor\": \"#2a3f5f\", \"arrowhead\": 0, \"arrowwidth\": 1}, \"autotypenumbers\": \"strict\", \"coloraxis\": {\"colorbar\": {\"outlinewidth\": 0, \"ticks\": \"\"}}, \"colorscale\": {\"diverging\": [[0, \"#8e0152\"], [0.1, \"#c51b7d\"], [0.2, \"#de77ae\"], [0.3, \"#f1b6da\"], [0.4, \"#fde0ef\"], [0.5, \"#f7f7f7\"], [0.6, \"#e6f5d0\"], [0.7, \"#b8e186\"], [0.8, \"#7fbc41\"], [0.9, \"#4d9221\"], [1, \"#276419\"]], \"sequential\": [[0.0, \"#0d0887\"], [0.1111111111111111, \"#46039f\"], [0.2222222222222222, \"#7201a8\"], [0.3333333333333333, \"#9c179e\"], [0.4444444444444444, \"#bd3786\"], [0.5555555555555556, \"#d8576b\"], [0.6666666666666666, \"#ed7953\"], [0.7777777777777778, \"#fb9f3a\"], [0.8888888888888888, \"#fdca26\"], [1.0, \"#f0f921\"]], \"sequentialminus\": [[0.0, \"#0d0887\"], [0.1111111111111111, \"#46039f\"], [0.2222222222222222, \"#7201a8\"], [0.3333333333333333, \"#9c179e\"], [0.4444444444444444, \"#bd3786\"], [0.5555555555555556, \"#d8576b\"], [0.6666666666666666, \"#ed7953\"], [0.7777777777777778, \"#fb9f3a\"], [0.8888888888888888, \"#fdca26\"], [1.0, \"#f0f921\"]]}, \"colorway\": [\"#636efa\", \"#EF553B\", \"#00cc96\", \"#ab63fa\", \"#FFA15A\", \"#19d3f3\", \"#FF6692\", \"#B6E880\", \"#FF97FF\", \"#FECB52\"], \"font\": {\"color\": \"#2a3f5f\"}, \"geo\": {\"bgcolor\": \"white\", \"lakecolor\": \"white\", \"landcolor\": \"#E5ECF6\", \"showlakes\": true, \"showland\": true, \"subunitcolor\": \"white\"}, \"hoverlabel\": {\"align\": \"left\"}, \"hovermode\": \"closest\", \"mapbox\": {\"style\": \"light\"}, \"paper_bgcolor\": \"white\", \"plot_bgcolor\": \"#E5ECF6\", \"polar\": {\"angularaxis\": {\"gridcolor\": \"white\", \"linecolor\": \"white\", \"ticks\": \"\"}, \"bgcolor\": \"#E5ECF6\", \"radialaxis\": {\"gridcolor\": \"white\", \"linecolor\": \"white\", \"ticks\": \"\"}}, \"scene\": {\"xaxis\": {\"backgroundcolor\": \"#E5ECF6\", \"gridcolor\": \"white\", \"gridwidth\": 2, \"linecolor\": \"white\", \"showbackground\": true, \"ticks\": \"\", \"zerolinecolor\": \"white\"}, \"yaxis\": {\"backgroundcolor\": \"#E5ECF6\", \"gridcolor\": \"white\", \"gridwidth\": 2, \"linecolor\": \"white\", \"showbackground\": true, \"ticks\": \"\", \"zerolinecolor\": \"white\"}, \"zaxis\": {\"backgroundcolor\": \"#E5ECF6\", \"gridcolor\": \"white\", \"gridwidth\": 2, \"linecolor\": \"white\", \"showbackground\": true, \"ticks\": \"\", \"zerolinecolor\": \"white\"}}, \"shapedefaults\": {\"line\": {\"color\": \"#2a3f5f\"}}, \"ternary\": {\"aaxis\": {\"gridcolor\": \"white\", \"linecolor\": \"white\", \"ticks\": \"\"}, \"baxis\": {\"gridcolor\": \"white\", \"linecolor\": \"white\", \"ticks\": \"\"}, \"bgcolor\": \"#E5ECF6\", \"caxis\": {\"gridcolor\": \"white\", \"linecolor\": \"white\", \"ticks\": \"\"}}, \"title\": {\"x\": 0.05}, \"xaxis\": {\"automargin\": true, \"gridcolor\": \"white\", \"linecolor\": \"white\", \"ticks\": \"\", \"title\": {\"standoff\": 15}, \"zerolinecolor\": \"white\", \"zerolinewidth\": 2}, \"yaxis\": {\"automargin\": true, \"gridcolor\": \"white\", \"linecolor\": \"white\", \"ticks\": \"\", \"title\": {\"standoff\": 15}, \"zerolinecolor\": \"white\", \"zerolinewidth\": 2}}}},                        {\"responsive\": true}                    ).then(function(){\n",
       "                            \n",
       "var gd = document.getElementById('d6487e47-92dd-4ad1-afc4-338295388931');\n",
       "var x = new MutationObserver(function (mutations, observer) {{\n",
       "        var display = window.getComputedStyle(gd).display;\n",
       "        if (!display || display === 'none') {{\n",
       "            console.log([gd, 'removed!']);\n",
       "            Plotly.purge(gd);\n",
       "            observer.disconnect();\n",
       "        }}\n",
       "}});\n",
       "\n",
       "// Listen for the removal of the full notebook cells\n",
       "var notebookContainer = gd.closest('#notebook-container');\n",
       "if (notebookContainer) {{\n",
       "    x.observe(notebookContainer, {childList: true});\n",
       "}}\n",
       "\n",
       "// Listen for the clearing of the current output cell\n",
       "var outputEl = gd.closest('.output');\n",
       "if (outputEl) {{\n",
       "    x.observe(outputEl, {childList: true});\n",
       "}}\n",
       "\n",
       "                        })                };                });            </script>        </div>"
      ]
     },
     "metadata": {},
     "output_type": "display_data"
    }
   ],
   "source": [
    "import plotly.graph_objects as go\n",
    "fig = go.Figure()\n",
    "# Create and style traces\n",
    "fig.add_trace(go.Scatter(x=forecasts_df.index, y=test[\"Energia BSAS\"], name='Consumo'))\n",
    "fig.add_trace(go.Scatter(x=forecasts_df.index, y=forecasts_df[\"Energia BSAS\"], name = 'Forecast'))\n",
    "fig.show()"
   ]
  }
 ],
 "metadata": {
  "accelerator": "TPU",
  "colab": {
   "authorship_tag": "ABX9TyOZFCrG/6Uq2iB0dLewPiGV",
   "collapsed_sections": [],
   "name": "auutuo.ipynb",
   "provenance": []
  },
  "kernelspec": {
   "display_name": "Python 3",
   "language": "python",
   "name": "python3"
  },
  "language_info": {
   "codemirror_mode": {
    "name": "ipython",
    "version": 3
   },
   "file_extension": ".py",
   "mimetype": "text/x-python",
   "name": "python",
   "nbconvert_exporter": "python",
   "pygments_lexer": "ipython3",
   "version": "3.9.6"
  }
 },
 "nbformat": 4,
 "nbformat_minor": 4
}
