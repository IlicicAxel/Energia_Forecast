{
 "cells": [
  {
   "cell_type": "code",
   "execution_count": 433,
   "metadata": {},
   "outputs": [],
   "source": [
    "import sklearn.datasets\n",
    "import sklearn.metrics\n",
    "import pandas as pd\n",
    "import autosklearn.regression\n",
    "import matplotlib.pyplot as plt\n",
    "import numpy as np\n",
    "from sklearn.model_selection import train_test_split\n",
    "import openpyxl"
   ]
  },
  {
   "cell_type": "code",
   "execution_count": 799,
   "metadata": {},
   "outputs": [
    {
     "data": {
      "text/html": [
       "<div>\n",
       "<style scoped>\n",
       "    .dataframe tbody tr th:only-of-type {\n",
       "        vertical-align: middle;\n",
       "    }\n",
       "\n",
       "    .dataframe tbody tr th {\n",
       "        vertical-align: top;\n",
       "    }\n",
       "\n",
       "    .dataframe thead th {\n",
       "        text-align: right;\n",
       "    }\n",
       "</style>\n",
       "<table border=\"1\" class=\"dataframe\">\n",
       "  <thead>\n",
       "    <tr style=\"text-align: right;\">\n",
       "      <th></th>\n",
       "      <th>Hora</th>\n",
       "      <th>Clima PBA</th>\n",
       "      <th>lag PBA</th>\n",
       "      <th>Laboral</th>\n",
       "      <th>Semi Laboral</th>\n",
       "      <th>Feriado o domingo</th>\n",
       "      <th>Enero</th>\n",
       "      <th>Febrero</th>\n",
       "      <th>Marzo</th>\n",
       "      <th>Abril</th>\n",
       "      <th>Mayo</th>\n",
       "      <th>Junio</th>\n",
       "      <th>Julio</th>\n",
       "      <th>Agosto</th>\n",
       "      <th>Septiembre</th>\n",
       "      <th>Octubre</th>\n",
       "      <th>Noviembre</th>\n",
       "      <th>Diciembre</th>\n",
       "    </tr>\n",
       "  </thead>\n",
       "  <tbody>\n",
       "    <tr>\n",
       "      <th>0</th>\n",
       "      <td>0</td>\n",
       "      <td>14.0</td>\n",
       "      <td>1544.9</td>\n",
       "      <td>0</td>\n",
       "      <td>0</td>\n",
       "      <td>1</td>\n",
       "      <td>1</td>\n",
       "      <td>0</td>\n",
       "      <td>0</td>\n",
       "      <td>0</td>\n",
       "      <td>0</td>\n",
       "      <td>0</td>\n",
       "      <td>0</td>\n",
       "      <td>0</td>\n",
       "      <td>0</td>\n",
       "      <td>0</td>\n",
       "      <td>0</td>\n",
       "      <td>0</td>\n",
       "    </tr>\n",
       "    <tr>\n",
       "      <th>1</th>\n",
       "      <td>1</td>\n",
       "      <td>13.2</td>\n",
       "      <td>1425.9</td>\n",
       "      <td>0</td>\n",
       "      <td>0</td>\n",
       "      <td>1</td>\n",
       "      <td>1</td>\n",
       "      <td>0</td>\n",
       "      <td>0</td>\n",
       "      <td>0</td>\n",
       "      <td>0</td>\n",
       "      <td>0</td>\n",
       "      <td>0</td>\n",
       "      <td>0</td>\n",
       "      <td>0</td>\n",
       "      <td>0</td>\n",
       "      <td>0</td>\n",
       "      <td>0</td>\n",
       "    </tr>\n",
       "    <tr>\n",
       "      <th>2</th>\n",
       "      <td>2</td>\n",
       "      <td>12.1</td>\n",
       "      <td>1387.8</td>\n",
       "      <td>0</td>\n",
       "      <td>0</td>\n",
       "      <td>1</td>\n",
       "      <td>1</td>\n",
       "      <td>0</td>\n",
       "      <td>0</td>\n",
       "      <td>0</td>\n",
       "      <td>0</td>\n",
       "      <td>0</td>\n",
       "      <td>0</td>\n",
       "      <td>0</td>\n",
       "      <td>0</td>\n",
       "      <td>0</td>\n",
       "      <td>0</td>\n",
       "      <td>0</td>\n",
       "    </tr>\n",
       "    <tr>\n",
       "      <th>3</th>\n",
       "      <td>3</td>\n",
       "      <td>11.2</td>\n",
       "      <td>1327.7</td>\n",
       "      <td>0</td>\n",
       "      <td>0</td>\n",
       "      <td>1</td>\n",
       "      <td>1</td>\n",
       "      <td>0</td>\n",
       "      <td>0</td>\n",
       "      <td>0</td>\n",
       "      <td>0</td>\n",
       "      <td>0</td>\n",
       "      <td>0</td>\n",
       "      <td>0</td>\n",
       "      <td>0</td>\n",
       "      <td>0</td>\n",
       "      <td>0</td>\n",
       "      <td>0</td>\n",
       "    </tr>\n",
       "    <tr>\n",
       "      <th>4</th>\n",
       "      <td>4</td>\n",
       "      <td>10.4</td>\n",
       "      <td>1268.6</td>\n",
       "      <td>0</td>\n",
       "      <td>0</td>\n",
       "      <td>1</td>\n",
       "      <td>1</td>\n",
       "      <td>0</td>\n",
       "      <td>0</td>\n",
       "      <td>0</td>\n",
       "      <td>0</td>\n",
       "      <td>0</td>\n",
       "      <td>0</td>\n",
       "      <td>0</td>\n",
       "      <td>0</td>\n",
       "      <td>0</td>\n",
       "      <td>0</td>\n",
       "      <td>0</td>\n",
       "    </tr>\n",
       "  </tbody>\n",
       "</table>\n",
       "</div>"
      ],
      "text/plain": [
       "   Hora  Clima PBA  lag PBA  Laboral  Semi Laboral  Feriado o domingo  Enero  \\\n",
       "0     0       14.0   1544.9        0             0                  1      1   \n",
       "1     1       13.2   1425.9        0             0                  1      1   \n",
       "2     2       12.1   1387.8        0             0                  1      1   \n",
       "3     3       11.2   1327.7        0             0                  1      1   \n",
       "4     4       10.4   1268.6        0             0                  1      1   \n",
       "\n",
       "   Febrero  Marzo  Abril  Mayo  Junio  Julio  Agosto  Septiembre  Octubre  \\\n",
       "0        0      0      0     0      0      0       0           0        0   \n",
       "1        0      0      0     0      0      0       0           0        0   \n",
       "2        0      0      0     0      0      0       0           0        0   \n",
       "3        0      0      0     0      0      0       0           0        0   \n",
       "4        0      0      0     0      0      0       0           0        0   \n",
       "\n",
       "   Noviembre  Diciembre  \n",
       "0          0          0  \n",
       "1          0          0  \n",
       "2          0          0  \n",
       "3          0          0  \n",
       "4          0          0  "
      ]
     },
     "execution_count": 799,
     "metadata": {},
     "output_type": "execute_result"
    }
   ],
   "source": [
    "data = pd.read_excel('BASEi.xlsx', index_col=0)\n",
    "df_dummies = pd.get_dummies(data['Mes'])\n",
    "df_dummies.columns = ['Enero', 'Febrero', 'Marzo', 'Abril', 'Mayo', 'Junio', 'Julio', 'Agosto', 'Septiembre', 'Octubre', 'Noviembre', 'Diciembre']\n",
    "data = data.join(df_dummies)\n",
    "#Split data into train and test the X is all the columns minus 'Energia GBA' which is the target\n",
    "X = data.drop(['Energia GBA', 'Energia PBA','Clima GBA', 'lag GBA', 'Año', 'Mes'], axis=1)\n",
    "y = data['Energia PBA']\n",
    "X_train, X_test, y_train, y_test = train_test_split(X, y, test_size=0.2)\n",
    "X.head()"
   ]
  },
  {
   "cell_type": "code",
   "execution_count": 802,
   "metadata": {},
   "outputs": [
    {
     "data": {
      "text/plain": [
       "AutoSklearnRegressor(per_run_time_limit=360,\n",
       "                     tmp_folder='autosklearn_regression_tmp')"
      ]
     },
     "execution_count": 802,
     "metadata": {},
     "output_type": "execute_result"
    }
   ],
   "source": [
    "automl = autosklearn.regression.AutoSklearnRegressor(\n",
    "    time_left_for_this_task=3600,\n",
    "    tmp_folder='autosklearn_regression_tmp')\n",
    "#exclude =  {'regressor': [\"gradient_boosting\"]}\n",
    "#, include = {'regressor': [\"extra_trees\", \"k_nearest_neighbors\"]}, exclude=None\n",
    "automl.fit(X_train, y_train, dataset_name='Energia')"
   ]
  },
  {
   "cell_type": "code",
   "execution_count": 803,
   "metadata": {},
   "outputs": [
    {
     "name": "stdout",
     "output_type": "stream",
     "text": [
      "          rank  ensemble_weight               type      cost   duration\n",
      "model_id                                                               \n",
      "152          1             0.46                mlp  0.178332  46.764348\n",
      "23           2             0.28  gradient_boosting  0.183894   4.161529\n",
      "159          3             0.04                mlp  0.184897  17.156340\n",
      "104          4             0.12                sgd  0.189496   2.812820\n",
      "162          5             0.08                mlp  0.190712  32.512675\n",
      "153          6             0.02                mlp  0.221111  12.692651\n"
     ]
    }
   ],
   "source": [
    "print(automl.leaderboard())"
   ]
  },
  {
   "cell_type": "code",
   "execution_count": 804,
   "metadata": {},
   "outputs": [
    {
     "name": "stdout",
     "output_type": "stream",
     "text": [
      "Mean absolute error: 71.14\n"
     ]
    }
   ],
   "source": [
    "#Predict the test set\n",
    "predictions = automl.predict(X_test)\n",
    "#Print the mean absolute error\n",
    "print(\"Mean absolute error: %.2f\" % sklearn.metrics.mean_absolute_error(y_test, predictions))"
   ]
  },
  {
   "cell_type": "code",
   "execution_count": 805,
   "metadata": {},
   "outputs": [],
   "source": [
    "#Import xlsx\n",
    "data_oct = pd.read_excel('oct.xlsx', index_col=0)\n",
    "#Split data into train and test the X is all the columns minus 'Energia GBA' which is the target\n",
    "X_oct = data_oct.drop(['Energia GBA', 'Energia PBA', 'Clima GBA', 'lag GBA', 'Tipo Dia', 'Año', 'Mes'], axis=1)\n",
    "y_oct = data_oct['Energia PBA']"
   ]
  },
  {
   "cell_type": "code",
   "execution_count": 806,
   "metadata": {},
   "outputs": [
    {
     "name": "stdout",
     "output_type": "stream",
     "text": [
      "RMSE: 145.85\n",
      "MSE: 21272.89\n",
      "MAE: 127.21\n"
     ]
    }
   ],
   "source": [
    "#Predict the test set\n",
    "predictions = automl.predict(X_oct)\n",
    "#Print the mean absolute error\n",
    "\n",
    "print(\"RMSE: %.2f\" % sklearn.metrics.mean_squared_error(y_oct, predictions, squared = False))\n",
    "print(\"MSE: %.2f\" % sklearn.metrics.mean_squared_error(y_oct, predictions))\n",
    "print(\"MAE: %.2f\" % sklearn.metrics.mean_absolute_error(y_oct, predictions))\n",
    "predictions = pd.DataFrame(predictions)\n",
    "#Export predictions\n",
    "predictions.to_csv('predictions.csv')"
   ]
  }
 ],
 "metadata": {
  "environment": {
   "kernel": "python3",
   "name": "common-cpu.m84",
   "type": "gcloud",
   "uri": "gcr.io/deeplearning-platform-release/base-cpu:m84"
  },
  "interpreter": {
   "hash": "916dbcbb3f70747c44a77c7bcd40155683ae19c65e1c03b4aa3499c5328201f1"
  },
  "kernelspec": {
   "display_name": "Python 3",
   "language": "python",
   "name": "python3"
  },
  "language_info": {
   "codemirror_mode": {
    "name": "ipython",
    "version": 3
   },
   "file_extension": ".py",
   "mimetype": "text/x-python",
   "name": "python",
   "nbconvert_exporter": "python",
   "pygments_lexer": "ipython3",
   "version": "3.7.12"
  }
 },
 "nbformat": 4,
 "nbformat_minor": 4
}
