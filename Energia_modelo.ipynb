{
 "cells": [
  {
   "cell_type": "code",
   "execution_count": null,
   "metadata": {
    "colab": {
     "base_uri": "https://localhost:8080/",
     "height": 287
    },
    "executionInfo": {
     "elapsed": 5206,
     "status": "ok",
     "timestamp": 1632074917479,
     "user": {
      "displayName": "Axel Ilicic",
      "photoUrl": "https://lh3.googleusercontent.com/a-/AOh14GhNtGq_FUazZvxgoyeY-OtOQpRTr-L-HY307XH3_0k=s64",
      "userId": "13005703852540572389"
     },
     "user_tz": 180
    },
    "id": "zxwKCpKePgsN",
    "outputId": "d1539398-4958-49b6-99d0-98b45c721ead"
   },
   "outputs": [],
   "source": [
    "from autots import AutoTS\n",
    "import pandas as pd\n",
    "import matplotlib.pyplot as plt\n",
    "\n",
    "long=False\n",
    "df = pd.read_csv(\"BASEo.csv\", index_col=0, parse_dates=True, dayfirst=True)\n",
    "df = df.iloc[:,:4]\n",
    "df['Año'] = pd. DatetimeIndex(df.index).year\n",
    "df['Mes'] = pd. DatetimeIndex(df.index).month\n",
    "df.tail()"
   ]
  },
  {
   "cell_type": "code",
   "execution_count": null,
   "metadata": {
    "colab": {
     "base_uri": "https://localhost:8080/",
     "height": 234
    },
    "executionInfo": {
     "elapsed": 211,
     "status": "ok",
     "timestamp": 1632074920959,
     "user": {
      "displayName": "Axel Ilicic",
      "photoUrl": "https://lh3.googleusercontent.com/a-/AOh14GhNtGq_FUazZvxgoyeY-OtOQpRTr-L-HY307XH3_0k=s64",
      "userId": "13005703852540572389"
     },
     "user_tz": 180
    },
    "id": "-nGcJeBU6YYW",
    "outputId": "65be1853-ba95-4ee1-8cce-a619e8d2af2d"
   },
   "outputs": [],
   "source": [
    "train = df.loc[(df['Tipo Dia'] == 7)]\n",
    "train = train[:-24]\n",
    "test = df.iloc[-24:]\n",
    "train = train.iloc[:,:4]\n",
    "train.head()"
   ]
  },
  {
   "cell_type": "code",
   "execution_count": null,
   "metadata": {},
   "outputs": [],
   "source": [
    "regr_train, regr_fcst = create_lagged_regressor(\n",
    "    train['Clima GBA'],\n",
    "    forecast_length=24,\n",
    "    backfill='bfill',\n",
    "    fill_na='ffill',\n",
    "    frequency=\"H\"\n",
    ")\n",
    "\n",
    "# remove the first forecast_length rows (because those are lost in regressor)\n",
    "train = train.iloc[24:]\n",
    "regr_train = regr_train.iloc[24:]"
   ]
  },
  {
   "cell_type": "code",
   "execution_count": null,
   "metadata": {
    "colab": {
     "base_uri": "https://localhost:8080/"
    },
    "id": "wHOunRFCVyF3",
    "outputId": "748bc64b-1330-40ef-d6b2-b3c7fe562e73",
    "tags": []
   },
   "outputs": [],
   "source": [
    "model = AutoTS(model_list= \"default\", forecast_length=24, verbose=1, frequency=\"H\",\n",
    "    ensemble= \"simple\",\n",
    "    transformer_list=\"all\",\n",
    "    max_generations=2,\n",
    "    num_validations=2,\n",
    "    validation_method=\"seasonal 168\")\n",
    "model.fit(train, future_regressor=regr_train)"
   ]
  },
  {
   "cell_type": "code",
   "execution_count": null,
   "metadata": {
    "colab": {
     "base_uri": "https://localhost:8080/",
     "height": 788
    },
    "executionInfo": {
     "elapsed": 11861,
     "status": "ok",
     "timestamp": 1632072553609,
     "user": {
      "displayName": "Axel Ilicic",
      "photoUrl": "https://lh3.googleusercontent.com/a-/AOh14GhNtGq_FUazZvxgoyeY-OtOQpRTr-L-HY307XH3_0k=s64",
      "userId": "13005703852540572389"
     },
     "user_tz": 180
    },
    "id": "Fb70cFWuYdwn",
    "outputId": "c3059eee-57a4-4ae1-c946-9886d4194e36"
   },
   "outputs": [],
   "source": [
    "prediction = model.predict()\n",
    "forecasts_df = prediction.forecast\n",
    "\n",
    "# accuracy of all tried model results\n",
    "model_results = model.results()\n",
    "# and aggregated from cross validation\n",
    "validation_results = model.results(\"Validation\")\n",
    "forecasts_df.head(24)"
   ]
  },
  {
   "cell_type": "code",
   "execution_count": null,
   "metadata": {
    "executionInfo": {
     "elapsed": 1135,
     "status": "ok",
     "timestamp": 1632072610897,
     "user": {
      "displayName": "Axel Ilicic",
      "photoUrl": "https://lh3.googleusercontent.com/a-/AOh14GhNtGq_FUazZvxgoyeY-OtOQpRTr-L-HY307XH3_0k=s64",
      "userId": "13005703852540572389"
     },
     "user_tz": 180
    },
    "id": "LXnsmf_UGzdE"
   },
   "outputs": [],
   "source": [
    "forecasts_df.to_excel(\"forecast.xlsx\")"
   ]
  },
  {
   "cell_type": "code",
   "execution_count": null,
   "metadata": {},
   "outputs": [],
   "source": [
    "validation_results.sort_values(\"Score\")"
   ]
  },
  {
   "cell_type": "code",
   "execution_count": null,
   "metadata": {},
   "outputs": [],
   "source": [
    "import plotly.graph_objects as go\n",
    "fig = go.Figure()\n",
    "# Create and style traces\n",
    "fig.add_trace(go.Scatter(x=forecasts_df.index, y=test[\"Energia BSAS\"], name='Consumo'))\n",
    "fig.add_trace(go.Scatter(x=forecasts_df.index, y=forecasts_df[\"Energia BSAS\"], name = 'Forecast'))\n",
    "fig.show()"
   ]
  },
  {
   "cell_type": "code",
   "execution_count": null,
   "metadata": {},
   "outputs": [],
   "source": [
    "example_filename = \"modelos.csv\"\n",
    "model.export_template(example_filename, models='best',\n",
    "\t\t\t\t\t  n=3, max_per_model_class=3)"
   ]
  }
 ],
 "metadata": {
  "accelerator": "TPU",
  "colab": {
   "authorship_tag": "ABX9TyOZFCrG/6Uq2iB0dLewPiGV",
   "collapsed_sections": [],
   "name": "auutuo.ipynb",
   "provenance": []
  },
  "kernelspec": {
   "display_name": "Python 3",
   "language": "python",
   "name": "python3"
  },
  "language_info": {
   "codemirror_mode": {
    "name": "ipython",
    "version": 3
   },
   "file_extension": ".py",
   "mimetype": "text/x-python",
   "name": "python",
   "nbconvert_exporter": "python",
   "pygments_lexer": "ipython3",
   "version": "3.9.6"
  }
 },
 "nbformat": 4,
 "nbformat_minor": 4
}
