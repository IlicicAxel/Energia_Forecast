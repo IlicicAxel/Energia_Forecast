{
 "cells": [
  {
   "cell_type": "code",
   "execution_count": 141,
   "metadata": {},
   "outputs": [],
   "source": [
    "import sklearn.datasets\n",
    "import sklearn.metrics\n",
    "import pandas as pd\n",
    "import autosklearn.regression\n",
    "import matplotlib.pyplot as plt\n",
    "import numpy as np\n",
    "from sklearn.model_selection import train_test_split\n",
    "import openpyxl"
   ]
  },
  {
   "cell_type": "code",
   "execution_count": 151,
   "metadata": {},
   "outputs": [],
   "source": [
    "#Import BASEo .csv with pandas\n",
    "data = pd.read_csv('BASEi.csv', index_col=0)\n",
    "#Split data into train and test the X is all the columns minus 'Energia GBA' which is the target\n",
    "X = data.drop(['Energia GBA', 'Clima PBA'], axis=1)\n",
    "y = data['Energia GBA']\n",
    "X_train, X_test, y_train, y_test = train_test_split(X, y, test_size=0.3)\n"
   ]
  },
  {
   "cell_type": "code",
   "execution_count": null,
   "metadata": {},
   "outputs": [],
   "source": [
    "automl = autosklearn.regression.AutoSklearnRegressor(\n",
    "    time_left_for_this_task=1800,\n",
    "    per_run_time_limit=300,\n",
    "    tmp_folder='autosklearn_regression_example_tmp' )\n",
    "#exclude =  {'regressor': [\"gradient_boosting\"]}\n",
    "#, include = {'regressor': [\"extra_trees\", \"k_nearest_neighbors\"]}, exclude=None\n",
    "automl.fit(X_train, y_train, dataset_name='Energia')"
   ]
  },
  {
   "cell_type": "code",
   "execution_count": 135,
   "metadata": {},
   "outputs": [
    {
     "name": "stdout",
     "output_type": "stream",
     "text": [
      "          rank  ensemble_weight               type      cost   duration\n",
      "model_id                                                               \n",
      "355          1             0.10  gradient_boosting  0.048428  27.208896\n",
      "160          2             0.12  gradient_boosting  0.048625  20.847840\n",
      "396          3             0.02  gradient_boosting  0.048728  12.183606\n",
      "303          4             0.08  gradient_boosting  0.049294  38.412038\n",
      "271          5             0.06  gradient_boosting  0.049311  19.197459\n",
      "192          6             0.04  gradient_boosting  0.049784  30.982189\n",
      "286          7             0.02  gradient_boosting  0.049842  14.449529\n",
      "270          8             0.16  gradient_boosting  0.050113  13.846631\n",
      "93           9             0.12  gradient_boosting  0.050266  13.965696\n",
      "332         10             0.04  gradient_boosting  0.050277  24.496376\n",
      "110         11             0.06  gradient_boosting  0.050329  15.453459\n",
      "106         12             0.02  gradient_boosting  0.050831   7.838307\n",
      "268         13             0.08  gradient_boosting  0.050873   9.392038\n",
      "98          14             0.08  gradient_boosting  0.050980   6.592194\n"
     ]
    }
   ],
   "source": [
    "print(automl.leaderboard())"
   ]
  },
  {
   "cell_type": "code",
   "execution_count": 136,
   "metadata": {},
   "outputs": [
    {
     "name": "stdout",
     "output_type": "stream",
     "text": [
      "Mean absolute error: 191.66\n"
     ]
    }
   ],
   "source": [
    "#Predict the test set\n",
    "predictions = automl.predict(X_test)\n",
    "#Print the mean absolute error\n",
    "print(\"Mean absolute error: %.2f\" % sklearn.metrics.mean_absolute_error(y_test, predictions))"
   ]
  },
  {
   "cell_type": "code",
   "execution_count": 147,
   "metadata": {},
   "outputs": [],
   "source": [
    "#Import xlsx\n",
    "data = pd.read_excel('sep.xlsx', index_col=0)\n",
    "#Split data into train and test the X is all the columns minus 'Energia GBA' which is the target\n",
    "X_sep = data.drop(['Energia GBA', 'Clima PBA'], axis=1)\n",
    "y_sep = data['Energia GBA']"
   ]
  },
  {
   "cell_type": "code",
   "execution_count": 148,
   "metadata": {},
   "outputs": [
    {
     "name": "stdout",
     "output_type": "stream",
     "text": [
      "Mean absolute error: 141.31\n"
     ]
    }
   ],
   "source": [
    "#Predict the test set\n",
    "predictions = automl.predict(X_sep)\n",
    "#Print the mean absolute error\n",
    "print(\"Mean absolute error: %.2f\" % sklearn.metrics.mean_absolute_error(y_sep, predictions))\n",
    "\n",
    "predictions = pd.DataFrame(predictions)\n",
    "#Export predictions\n",
    "predictions.to_csv('predictions.csv')"
   ]
  },
  {
   "cell_type": "code",
   "execution_count": 149,
   "metadata": {},
   "outputs": [
    {
     "data": {
      "text/html": [
       "<div>\n",
       "<style scoped>\n",
       "    .dataframe tbody tr th:only-of-type {\n",
       "        vertical-align: middle;\n",
       "    }\n",
       "\n",
       "    .dataframe tbody tr th {\n",
       "        vertical-align: top;\n",
       "    }\n",
       "\n",
       "    .dataframe thead th {\n",
       "        text-align: right;\n",
       "    }\n",
       "</style>\n",
       "<table border=\"1\" class=\"dataframe\">\n",
       "  <thead>\n",
       "    <tr style=\"text-align: right;\">\n",
       "      <th></th>\n",
       "      <th>Hora</th>\n",
       "      <th>Tipo Dia</th>\n",
       "      <th>Energia PBA</th>\n",
       "      <th>Clima GBA</th>\n",
       "      <th>Año</th>\n",
       "      <th>Mes</th>\n",
       "    </tr>\n",
       "    <tr>\n",
       "      <th>Fecha</th>\n",
       "      <th></th>\n",
       "      <th></th>\n",
       "      <th></th>\n",
       "      <th></th>\n",
       "      <th></th>\n",
       "      <th></th>\n",
       "    </tr>\n",
       "  </thead>\n",
       "  <tbody>\n",
       "    <tr>\n",
       "      <th>2021-10-01 19:00:00</th>\n",
       "      <td>19</td>\n",
       "      <td>6</td>\n",
       "      <td>1789.6</td>\n",
       "      <td>15.533333</td>\n",
       "      <td>2021</td>\n",
       "      <td>10</td>\n",
       "    </tr>\n",
       "    <tr>\n",
       "      <th>2021-10-01 20:00:00</th>\n",
       "      <td>20</td>\n",
       "      <td>6</td>\n",
       "      <td>1979.0</td>\n",
       "      <td>13.966667</td>\n",
       "      <td>2021</td>\n",
       "      <td>10</td>\n",
       "    </tr>\n",
       "    <tr>\n",
       "      <th>2021-10-01 21:00:00</th>\n",
       "      <td>21</td>\n",
       "      <td>6</td>\n",
       "      <td>2037.5</td>\n",
       "      <td>12.400000</td>\n",
       "      <td>2021</td>\n",
       "      <td>10</td>\n",
       "    </tr>\n",
       "    <tr>\n",
       "      <th>2021-10-01 22:00:00</th>\n",
       "      <td>22</td>\n",
       "      <td>6</td>\n",
       "      <td>2026.0</td>\n",
       "      <td>11.766667</td>\n",
       "      <td>2021</td>\n",
       "      <td>10</td>\n",
       "    </tr>\n",
       "    <tr>\n",
       "      <th>2021-10-01 23:00:00</th>\n",
       "      <td>23</td>\n",
       "      <td>6</td>\n",
       "      <td>1936.7</td>\n",
       "      <td>11.133333</td>\n",
       "      <td>2021</td>\n",
       "      <td>10</td>\n",
       "    </tr>\n",
       "  </tbody>\n",
       "</table>\n",
       "</div>"
      ],
      "text/plain": [
       "                     Hora  Tipo Dia  Energia PBA  Clima GBA   Año  Mes\n",
       "Fecha                                                                 \n",
       "2021-10-01 19:00:00    19         6       1789.6  15.533333  2021   10\n",
       "2021-10-01 20:00:00    20         6       1979.0  13.966667  2021   10\n",
       "2021-10-01 21:00:00    21         6       2037.5  12.400000  2021   10\n",
       "2021-10-01 22:00:00    22         6       2026.0  11.766667  2021   10\n",
       "2021-10-01 23:00:00    23         6       1936.7  11.133333  2021   10"
      ]
     },
     "execution_count": 149,
     "metadata": {},
     "output_type": "execute_result"
    }
   ],
   "source": [
    "\n",
    "#Import xlsx\n",
    "data = pd.read_excel('oct.xlsx', index_col=0)\n",
    "#Split data into train and test the X is all the columns minus 'Energia GBA' which is the target\n",
    "X_oct = data.drop(['Energia GBA', 'Clima PBA'], axis=1)\n",
    "X_OCT = X_oct[:24]\n",
    "y_oct = data['Energia GBA']\n",
    "y_OCT = y_oct[:24]\n",
    "X_OCT.tail()"
   ]
  },
  {
   "cell_type": "code",
   "execution_count": 150,
   "metadata": {},
   "outputs": [
    {
     "name": "stdout",
     "output_type": "stream",
     "text": [
      "Mean absolute error: 365.99\n"
     ]
    }
   ],
   "source": [
    "#Predict the test set\n",
    "predictions = automl.predict(X_OCT)\n",
    "#Print the mean absolute error\n",
    "print(\"Mean absolute error: %.2f\" % sklearn.metrics.mean_absolute_error(y_OCT, predictions))\n",
    "\n",
    "predictions = pd.DataFrame(predictions)\n",
    "#Export predictions\n",
    "predictions.to_csv('predictions.csv')"
   ]
  }
 ],
 "metadata": {
  "environment": {
   "kernel": "python3",
   "name": "common-cpu.m84",
   "type": "gcloud",
   "uri": "gcr.io/deeplearning-platform-release/base-cpu:m84"
  },
  "interpreter": {
   "hash": "916dbcbb3f70747c44a77c7bcd40155683ae19c65e1c03b4aa3499c5328201f1"
  },
  "kernelspec": {
   "display_name": "Python 3",
   "language": "python",
   "name": "python3"
  },
  "language_info": {
   "codemirror_mode": {
    "name": "ipython",
    "version": 3
   },
   "file_extension": ".py",
   "mimetype": "text/x-python",
   "name": "python",
   "nbconvert_exporter": "python",
   "pygments_lexer": "ipython3",
   "version": "3.7.12"
  }
 },
 "nbformat": 4,
 "nbformat_minor": 4
}
