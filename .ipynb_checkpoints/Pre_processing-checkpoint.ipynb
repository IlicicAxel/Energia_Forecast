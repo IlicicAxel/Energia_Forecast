{
 "cells": [
  {
   "cell_type": "code",
   "execution_count": null,
   "id": "163976e6-f992-474d-8e3d-5d433b8dfc45",
   "metadata": {
    "tags": []
   },
   "outputs": [],
   "source": [
    "#Importar librerias\n",
    "import pandas as pd\n",
    "import seaborn as sns\n",
    "import numpy as np\n",
    "import matplotlib.pyplot as plt"
   ]
  },
  {
   "cell_type": "code",
   "execution_count": null,
   "id": "051aacbd-28b5-4c92-bc3c-7013fe99d0de",
   "metadata": {},
   "outputs": [],
   "source": [
    "df = pd.read_csv(\"BASE.csv\", header = 0, parse_dates = [0], index_col = 0, dayfirst=True)\n",
    "df"
   ]
  },
  {
   "cell_type": "code",
   "execution_count": null,
   "id": "dea884cf-d14d-4561-8277-775fb729a794",
   "metadata": {
    "tags": []
   },
   "outputs": [],
   "source": [
    "df.describe()"
   ]
  },
  {
   "cell_type": "code",
   "execution_count": null,
   "id": "ceb60684-450b-4643-84f4-0244b47d9197",
   "metadata": {
    "tags": []
   },
   "outputs": [],
   "source": [
    "#Graficos de boxplot\n",
    "for column in df.columns[2:]:\n",
    "    plt.figure()\n",
    "    sns.boxplot(data=df[column], palette=\"Set2\").set_title(column)"
   ]
  },
  {
   "cell_type": "code",
   "execution_count": null,
   "id": "299be5b5-d32a-438d-bf55-166b2a0cdee2",
   "metadata": {
    "tags": []
   },
   "outputs": [],
   "source": [
    "#Calculo del rango intercuartil\n",
    "Q1 = df.quantile(0.25)\n",
    "Q3 = df.quantile(0.75)\n",
    "IQR = Q3 - Q1\n",
    "print(IQR)"
   ]
  },
  {
   "cell_type": "code",
   "execution_count": null,
   "id": "31bb5f00-9e1a-4892-8f77-1b02b9cf2493",
   "metadata": {
    "tags": []
   },
   "outputs": [],
   "source": [
    "#Reemplazar outliers con NaN utilizando el IQR\n",
    "\n",
    "df = df.mask((df < (Q1 - 1.5 * IQR)) | (df > (Q3 + 1.5 * IQR)), np.nan)\n",
    "df.info()"
   ]
  },
  {
   "cell_type": "code",
   "execution_count": null,
   "id": "cb0cdbdf-d755-4728-855f-4f41831a5b8f",
   "metadata": {
    "tags": []
   },
   "outputs": [],
   "source": [
    "#Interpolar linealmente los valores NaN\n",
    "df = df.interpolate(method=\"linear\", limit_direction ='both')\n",
    "df.info()"
   ]
  },
  {
   "cell_type": "code",
   "execution_count": null,
   "id": "adca3bfb-d21d-408d-b8fd-449b1e189dfd",
   "metadata": {},
   "outputs": [],
   "source": [
    "#Graficos de boxplot para comprobar que removi los outliers\n",
    "for column in df.columns[2:]:\n",
    "    plt.figure()\n",
    "    sns.boxplot(data=df[column], palette=\"Set2\").set_title(column)"
   ]
  },
  {
   "cell_type": "code",
   "execution_count": null,
   "id": "fb13fcb5-29ae-446d-bbc4-71f076cb441b",
   "metadata": {
    "tags": []
   },
   "outputs": [],
   "source": [
    "#Exportar csv sin outliers\n",
    "df.to_csv(\"BASEo.csv\")"
   ]
  }
 ],
 "metadata": {
  "kernelspec": {
   "display_name": "Python 3",
   "language": "python",
   "name": "python3"
  },
  "language_info": {
   "codemirror_mode": {
    "name": "ipython",
    "version": 3
   },
   "file_extension": ".py",
   "mimetype": "text/x-python",
   "name": "python",
   "nbconvert_exporter": "python",
   "pygments_lexer": "ipython3",
   "version": "3.9.6"
  }
 },
 "nbformat": 4,
 "nbformat_minor": 5
}
